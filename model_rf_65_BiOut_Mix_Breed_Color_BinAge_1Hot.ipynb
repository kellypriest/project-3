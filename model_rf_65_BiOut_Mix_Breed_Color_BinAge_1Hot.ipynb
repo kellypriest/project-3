{
 "cells": [
  {
   "cell_type": "markdown",
   "metadata": {},
   "source": [
    "#### Note: Latest May 20 (1.30pm) - OneHot Encoding\n"
   ]
  },
  {
   "cell_type": "markdown",
   "metadata": {},
   "source": [
    "## Reading in data and taking a quick look at some charts"
   ]
  },
  {
   "cell_type": "code",
   "execution_count": 1,
   "metadata": {},
   "outputs": [],
   "source": [
    "import pandas as pd\n",
    "import numpy as np\n",
    "from matplotlib import pyplot as plt"
   ]
  },
  {
   "cell_type": "code",
   "execution_count": 2,
   "metadata": {},
   "outputs": [],
   "source": [
    "# Read in csv\n",
    "df = pd.read_csv(\"Austin_Animal_Center_Outcomes.csv\")"
   ]
  },
  {
   "cell_type": "code",
   "execution_count": 3,
   "metadata": {},
   "outputs": [
    {
     "data": {
      "text/plain": [
       "<matplotlib.axes._subplots.AxesSubplot at 0x234d6e53e88>"
      ]
     },
     "execution_count": 3,
     "metadata": {},
     "output_type": "execute_result"
    },
    {
     "data": {
      "image/png": "[encoded data removed]",
      "text/plain": [
       "<Figure size 432x288 with 1 Axes>"
      ]
     },
     "metadata": {
      "needs_background": "light"
     },
     "output_type": "display_data"
    }
   ],
   "source": [
    "# Take a quick peak at charts\n",
    "\n",
    "# Top Breeds\n",
    "# df['Breed'].value_counts().head(20).plot.bar()\n",
    "\n",
    "# Top Outcome_Types\n",
    "# df['Breed'].value_counts().head(20).plot.bar()\n",
    "\n",
    "# Sex split?\n",
    "# df['Sex'].value_counts().head(20).plot.bar()\n",
    "\n",
    "# Fixed?\n",
    "df['Fixed'].value_counts().head(20).plot.bar()\n",
    "\n",
    "# Age chart\n",
    "# bins= [0,24,72,120]\n",
    "# plt.hist(df.Age_month, bins=bins, edgecolor=\"k\")\n",
    "# plt.xticks(bins)\n",
    "# plt.show()"
   ]
  },
  {
   "cell_type": "code",
   "execution_count": 4,
   "metadata": {},
   "outputs": [
    {
     "data": {
      "text/html": [
       "<div>\n",
       "<style scoped>\n",
       "    .dataframe tbody tr th:only-of-type {\n",
       "        vertical-align: middle;\n",
       "    }\n",
       "\n",
       "    .dataframe tbody tr th {\n",
       "        vertical-align: top;\n",
       "    }\n",
       "\n",
       "    .dataframe thead th {\n",
       "        text-align: right;\n",
       "    }\n",
       "</style>\n",
       "<table border=\"1\" class=\"dataframe\">\n",
       "  <thead>\n",
       "    <tr style=\"text-align: right;\">\n",
       "      <th></th>\n",
       "      <th>Animal_ID</th>\n",
       "      <th>Name</th>\n",
       "      <th>DateTime</th>\n",
       "      <th>MonthYear</th>\n",
       "      <th>Date_of_Birth</th>\n",
       "      <th>Outcome_Type</th>\n",
       "      <th>Outcome_Subtype</th>\n",
       "      <th>Fixed</th>\n",
       "      <th>Sex</th>\n",
       "      <th>Age_numeric</th>\n",
       "      <th>Age_time</th>\n",
       "      <th>Age_month</th>\n",
       "      <th>Breed</th>\n",
       "      <th>Color</th>\n",
       "    </tr>\n",
       "  </thead>\n",
       "  <tbody>\n",
       "    <tr>\n",
       "      <th>250</th>\n",
       "      <td>A809527</td>\n",
       "      <td>*Cricket</td>\n",
       "      <td>12/11/2019 16:17</td>\n",
       "      <td>12/11/2019 16:17</td>\n",
       "      <td>10/18/2019</td>\n",
       "      <td>Adoption</td>\n",
       "      <td>Foster</td>\n",
       "      <td>Spayed</td>\n",
       "      <td>Female</td>\n",
       "      <td>1</td>\n",
       "      <td>month</td>\n",
       "      <td>1.0</td>\n",
       "      <td>Labrador Retriever Mix</td>\n",
       "      <td>Black/White</td>\n",
       "    </tr>\n",
       "    <tr>\n",
       "      <th>251</th>\n",
       "      <td>A797472</td>\n",
       "      <td>NaN</td>\n",
       "      <td>06/13/2019 06:59:00 PM</td>\n",
       "      <td>06/13/2019 06:59:00 PM</td>\n",
       "      <td>04/24/2019</td>\n",
       "      <td>Transfer</td>\n",
       "      <td>Partner</td>\n",
       "      <td>Intact</td>\n",
       "      <td>Female</td>\n",
       "      <td>1</td>\n",
       "      <td>month</td>\n",
       "      <td>1.0</td>\n",
       "      <td>Chihuahua Longhair Mix</td>\n",
       "      <td>Black/Tan</td>\n",
       "    </tr>\n",
       "    <tr>\n",
       "      <th>252</th>\n",
       "      <td>A742456</td>\n",
       "      <td>*Arrow</td>\n",
       "      <td>02/14/2017 06:27:00 PM</td>\n",
       "      <td>02/14/2017 06:27:00 PM</td>\n",
       "      <td>12/22/2016</td>\n",
       "      <td>Adoption</td>\n",
       "      <td>Foster</td>\n",
       "      <td>Spayed</td>\n",
       "      <td>Female</td>\n",
       "      <td>1</td>\n",
       "      <td>month</td>\n",
       "      <td>1.0</td>\n",
       "      <td>Pit Bull Mix</td>\n",
       "      <td>Brown/Black</td>\n",
       "    </tr>\n",
       "    <tr>\n",
       "      <th>253</th>\n",
       "      <td>A721330</td>\n",
       "      <td>*Glen</td>\n",
       "      <td>3/5/2016 17:40</td>\n",
       "      <td>3/5/2016 17:40</td>\n",
       "      <td>1/9/2016</td>\n",
       "      <td>Adoption</td>\n",
       "      <td>Foster</td>\n",
       "      <td>Neutered</td>\n",
       "      <td>Male</td>\n",
       "      <td>1</td>\n",
       "      <td>month</td>\n",
       "      <td>1.0</td>\n",
       "      <td>German Shepherd Mix</td>\n",
       "      <td>Tan</td>\n",
       "    </tr>\n",
       "    <tr>\n",
       "      <th>254</th>\n",
       "      <td>A697339</td>\n",
       "      <td>NaN</td>\n",
       "      <td>02/23/2015 06:36:00 PM</td>\n",
       "      <td>02/23/2015 06:36:00 PM</td>\n",
       "      <td>12/30/2014</td>\n",
       "      <td>Adoption</td>\n",
       "      <td>NaN</td>\n",
       "      <td>Spayed</td>\n",
       "      <td>Female</td>\n",
       "      <td>1</td>\n",
       "      <td>month</td>\n",
       "      <td>1.0</td>\n",
       "      <td>German Shepherd/Pit Bull</td>\n",
       "      <td>Brown</td>\n",
       "    </tr>\n",
       "    <tr>\n",
       "      <th>255</th>\n",
       "      <td>A695918</td>\n",
       "      <td>Clementine</td>\n",
       "      <td>01/29/2015 05:59:00 PM</td>\n",
       "      <td>01/29/2015 05:59:00 PM</td>\n",
       "      <td>11/30/2014</td>\n",
       "      <td>Adoption</td>\n",
       "      <td>NaN</td>\n",
       "      <td>Spayed</td>\n",
       "      <td>Female</td>\n",
       "      <td>1</td>\n",
       "      <td>month</td>\n",
       "      <td>1.0</td>\n",
       "      <td>Dachshund/Chihuahua Shorthair</td>\n",
       "      <td>Black/White</td>\n",
       "    </tr>\n",
       "    <tr>\n",
       "      <th>256</th>\n",
       "      <td>A809888</td>\n",
       "      <td>NaN</td>\n",
       "      <td>12/4/2019 12:05</td>\n",
       "      <td>12/4/2019 12:05</td>\n",
       "      <td>10/19/2019</td>\n",
       "      <td>Transfer</td>\n",
       "      <td>Partner</td>\n",
       "      <td>Intact</td>\n",
       "      <td>Female</td>\n",
       "      <td>1</td>\n",
       "      <td>month</td>\n",
       "      <td>1.0</td>\n",
       "      <td>Labrador Retriever/German Shepherd</td>\n",
       "      <td>Brown/White</td>\n",
       "    </tr>\n",
       "    <tr>\n",
       "      <th>257</th>\n",
       "      <td>A774855</td>\n",
       "      <td>NaN</td>\n",
       "      <td>7/10/2018 19:10</td>\n",
       "      <td>7/10/2018 19:10</td>\n",
       "      <td>05/21/2018</td>\n",
       "      <td>Transfer</td>\n",
       "      <td>Partner</td>\n",
       "      <td>Intact</td>\n",
       "      <td>Male</td>\n",
       "      <td>1</td>\n",
       "      <td>month</td>\n",
       "      <td>1.0</td>\n",
       "      <td>Australian Kelpie Mix</td>\n",
       "      <td>Brown/White</td>\n",
       "    </tr>\n",
       "    <tr>\n",
       "      <th>258</th>\n",
       "      <td>A750857</td>\n",
       "      <td>*Cinder</td>\n",
       "      <td>07/28/2017 10:37:00 PM</td>\n",
       "      <td>07/28/2017 10:37:00 PM</td>\n",
       "      <td>6/1/2017</td>\n",
       "      <td>Adoption</td>\n",
       "      <td>Foster</td>\n",
       "      <td>Spayed</td>\n",
       "      <td>Female</td>\n",
       "      <td>1</td>\n",
       "      <td>month</td>\n",
       "      <td>1.0</td>\n",
       "      <td>Great Pyrenees/American Bulldog</td>\n",
       "      <td>Black/White</td>\n",
       "    </tr>\n",
       "    <tr>\n",
       "      <th>259</th>\n",
       "      <td>A762939</td>\n",
       "      <td>NaN</td>\n",
       "      <td>11/30/2017 12:00:00 AM</td>\n",
       "      <td>11/30/2017 12:00:00 AM</td>\n",
       "      <td>09/30/2017</td>\n",
       "      <td>Transfer</td>\n",
       "      <td>Partner</td>\n",
       "      <td>Intact</td>\n",
       "      <td>Female</td>\n",
       "      <td>1</td>\n",
       "      <td>month</td>\n",
       "      <td>1.0</td>\n",
       "      <td>Pit Bull Mix</td>\n",
       "      <td>Brown/White</td>\n",
       "    </tr>\n",
       "    <tr>\n",
       "      <th>260</th>\n",
       "      <td>A706606</td>\n",
       "      <td>Boyd</td>\n",
       "      <td>07/23/2015 02:09:00 PM</td>\n",
       "      <td>07/23/2015 02:09:00 PM</td>\n",
       "      <td>05/27/2015</td>\n",
       "      <td>Adoption</td>\n",
       "      <td>NaN</td>\n",
       "      <td>Intact</td>\n",
       "      <td>Male</td>\n",
       "      <td>1</td>\n",
       "      <td>month</td>\n",
       "      <td>1.0</td>\n",
       "      <td>Australian Shepherd Mix</td>\n",
       "      <td>Buff/White</td>\n",
       "    </tr>\n",
       "  </tbody>\n",
       "</table>\n",
       "</div>"
      ],
      "text/plain": [
       "    Animal_ID        Name                DateTime               MonthYear  \\\n",
       "250   A809527    *Cricket        12/11/2019 16:17        12/11/2019 16:17   \n",
       "251   A797472         NaN  06/13/2019 06:59:00 PM  06/13/2019 06:59:00 PM   \n",
       "252   A742456      *Arrow  02/14/2017 06:27:00 PM  02/14/2017 06:27:00 PM   \n",
       "253   A721330       *Glen          3/5/2016 17:40          3/5/2016 17:40   \n",
       "254   A697339         NaN  02/23/2015 06:36:00 PM  02/23/2015 06:36:00 PM   \n",
       "255   A695918  Clementine  01/29/2015 05:59:00 PM  01/29/2015 05:59:00 PM   \n",
       "256   A809888         NaN         12/4/2019 12:05         12/4/2019 12:05   \n",
       "257   A774855         NaN         7/10/2018 19:10         7/10/2018 19:10   \n",
       "258   A750857     *Cinder  07/28/2017 10:37:00 PM  07/28/2017 10:37:00 PM   \n",
       "259   A762939         NaN  11/30/2017 12:00:00 AM  11/30/2017 12:00:00 AM   \n",
       "260   A706606        Boyd  07/23/2015 02:09:00 PM  07/23/2015 02:09:00 PM   \n",
       "\n",
       "    Date_of_Birth Outcome_Type Outcome_Subtype     Fixed     Sex  Age_numeric  \\\n",
       "250    10/18/2019     Adoption          Foster    Spayed  Female            1   \n",
       "251    04/24/2019     Transfer         Partner    Intact  Female            1   \n",
       "252    12/22/2016     Adoption          Foster    Spayed  Female            1   \n",
       "253      1/9/2016     Adoption          Foster  Neutered    Male            1   \n",
       "254    12/30/2014     Adoption             NaN    Spayed  Female            1   \n",
       "255    11/30/2014     Adoption             NaN    Spayed  Female            1   \n",
       "256    10/19/2019     Transfer         Partner    Intact  Female            1   \n",
       "257    05/21/2018     Transfer         Partner    Intact    Male            1   \n",
       "258      6/1/2017     Adoption          Foster    Spayed  Female            1   \n",
       "259    09/30/2017     Transfer         Partner    Intact  Female            1   \n",
       "260    05/27/2015     Adoption             NaN    Intact    Male            1   \n",
       "\n",
       "    Age_time  Age_month                               Breed        Color  \n",
       "250    month        1.0              Labrador Retriever Mix  Black/White  \n",
       "251    month        1.0              Chihuahua Longhair Mix    Black/Tan  \n",
       "252    month        1.0                        Pit Bull Mix  Brown/Black  \n",
       "253    month        1.0                 German Shepherd Mix          Tan  \n",
       "254    month        1.0            German Shepherd/Pit Bull        Brown  \n",
       "255    month        1.0       Dachshund/Chihuahua Shorthair  Black/White  \n",
       "256    month        1.0  Labrador Retriever/German Shepherd  Brown/White  \n",
       "257    month        1.0               Australian Kelpie Mix  Brown/White  \n",
       "258    month        1.0     Great Pyrenees/American Bulldog  Black/White  \n",
       "259    month        1.0                        Pit Bull Mix  Brown/White  \n",
       "260    month        1.0             Australian Shepherd Mix   Buff/White  "
      ]
     },
     "execution_count": 4,
     "metadata": {},
     "output_type": "execute_result"
    }
   ],
   "source": [
    "df.loc[250:260, :]"
   ]
  },
  {
   "cell_type": "code",
   "execution_count": 5,
   "metadata": {},
   "outputs": [
    {
     "data": {
      "text/plain": [
       "(66804, 14)"
      ]
     },
     "execution_count": 5,
     "metadata": {},
     "output_type": "execute_result"
    }
   ],
   "source": [
    "df.shape"
   ]
  },
  {
   "cell_type": "markdown",
   "metadata": {},
   "source": [
    "## Cleaning\n",
    "1. Drop unnessary columns\n",
    "2. Drop rows where \"Outcome_Type\" is null\n",
    "3. Drop rows where \"Outcome_Type\" is Return_To_Owner"
   ]
  },
  {
   "cell_type": "code",
   "execution_count": 6,
   "metadata": {},
   "outputs": [
    {
     "data": {
      "text/plain": [
       "Animal_ID          0.000000\n",
       "Name               0.169496\n",
       "DateTime           0.000000\n",
       "MonthYear          0.000000\n",
       "Date_of_Birth      0.000000\n",
       "Outcome_Type       0.000000\n",
       "Outcome_Subtype    0.688567\n",
       "Fixed              0.000015\n",
       "Sex                0.005673\n",
       "Age_numeric        0.000000\n",
       "Age_time           0.000000\n",
       "Age_month          0.000000\n",
       "Breed              0.000000\n",
       "Color              0.000000\n",
       "dtype: float64"
      ]
     },
     "execution_count": 6,
     "metadata": {},
     "output_type": "execute_result"
    }
   ],
   "source": [
    "# Quick check for missing values\n",
    "df.apply(lambda x: sum(x.isnull()/len(df)))"
   ]
  },
  {
   "cell_type": "code",
   "execution_count": 12,
   "metadata": {},
   "outputs": [],
   "source": [
    "# Drop unnessary columns\n",
    "df2 = df.drop(columns=['Animal_ID', 'Name', 'DateTime', 'MonthYear', 'Date_of_Birth', 'Outcome_Subtype', \n",
    "                       'Age_numeric', 'Age_time' , 'Fixed'])"
   ]
  },
  {
   "cell_type": "code",
   "execution_count": 13,
   "metadata": {},
   "outputs": [
    {
     "data": {
      "text/plain": [
       "(66804, 5)"
      ]
     },
     "execution_count": 13,
     "metadata": {},
     "output_type": "execute_result"
    }
   ],
   "source": [
    "df2.shape\n",
    "# df2.head()"
   ]
  },
  {
   "cell_type": "code",
   "execution_count": 15,
   "metadata": {},
   "outputs": [],
   "source": [
    "# Drop rows where Outcome_Type is null\n",
    "\n",
    "df2 = df2.loc[df2.Outcome_Type.notna(), [\"Outcome_Type\", \"Sex\", \"Age_month\", \"Breed\" ,\"Color\"]]"
   ]
  },
  {
   "cell_type": "code",
   "execution_count": 16,
   "metadata": {},
   "outputs": [
    {
     "data": {
      "text/plain": [
       "(66804, 5)"
      ]
     },
     "execution_count": 16,
     "metadata": {},
     "output_type": "execute_result"
    }
   ],
   "source": [
    "# Check for more nulls\n",
    "df2.head()\n",
    "df2.apply(lambda x: sum(x.isnull()/len(df2)))\n",
    "df2.shape"
   ]
  },
  {
   "cell_type": "code",
   "execution_count": 17,
   "metadata": {},
   "outputs": [],
   "source": [
    "# Have to fix the following columns \"Sex\"\n",
    "df2 = df2.dropna(axis=0, subset=[\"Sex\"])"
   ]
  },
  {
   "cell_type": "code",
   "execution_count": 18,
   "metadata": {},
   "outputs": [
    {
     "data": {
      "text/plain": [
       "(66425, 5)"
      ]
     },
     "execution_count": 18,
     "metadata": {},
     "output_type": "execute_result"
    }
   ],
   "source": [
    "# Verify that nulls from \"Fixed\" and \"Sex\" have been dropped\n",
    "df2.apply(lambda x: sum(x.isnull()/len(df2)))\n",
    "df2.shape"
   ]
  },
  {
   "cell_type": "code",
   "execution_count": 20,
   "metadata": {},
   "outputs": [],
   "source": [
    "# # df2.groupby('Outcome_Type').count()\n",
    "# df2.groupby('Color').count().sort_values('Outcome_Type', ascending=False)"
   ]
  },
  {
   "cell_type": "code",
   "execution_count": 21,
   "metadata": {},
   "outputs": [],
   "source": [
    "# Drop all rows 'Return to Owner' ???  Assuming that chip is checked at intake\n",
    "\n",
    "df3 = df2.drop(df2[df2.Outcome_Type == \"Return to Owner\"].index)"
   ]
  },
  {
   "cell_type": "code",
   "execution_count": 22,
   "metadata": {},
   "outputs": [
    {
     "data": {
      "text/plain": [
       "(48025, 5)"
      ]
     },
     "execution_count": 22,
     "metadata": {},
     "output_type": "execute_result"
    }
   ],
   "source": [
    "# Verify shape\n",
    "df3.shape"
   ]
  },
  {
   "cell_type": "code",
   "execution_count": 23,
   "metadata": {},
   "outputs": [
    {
     "data": {
      "text/html": [
       "<div>\n",
       "<style scoped>\n",
       "    .dataframe tbody tr th:only-of-type {\n",
       "        vertical-align: middle;\n",
       "    }\n",
       "\n",
       "    .dataframe tbody tr th {\n",
       "        vertical-align: top;\n",
       "    }\n",
       "\n",
       "    .dataframe thead th {\n",
       "        text-align: right;\n",
       "    }\n",
       "</style>\n",
       "<table border=\"1\" class=\"dataframe\">\n",
       "  <thead>\n",
       "    <tr style=\"text-align: right;\">\n",
       "      <th></th>\n",
       "      <th>Sex</th>\n",
       "      <th>Age_month</th>\n",
       "      <th>Breed</th>\n",
       "      <th>Color</th>\n",
       "    </tr>\n",
       "    <tr>\n",
       "      <th>Outcome_Type</th>\n",
       "      <th></th>\n",
       "      <th></th>\n",
       "      <th></th>\n",
       "      <th></th>\n",
       "    </tr>\n",
       "  </thead>\n",
       "  <tbody>\n",
       "    <tr>\n",
       "      <th>Adoption</th>\n",
       "      <td>31395</td>\n",
       "      <td>31395</td>\n",
       "      <td>31395</td>\n",
       "      <td>31395</td>\n",
       "    </tr>\n",
       "    <tr>\n",
       "      <th>Died</th>\n",
       "      <td>209</td>\n",
       "      <td>209</td>\n",
       "      <td>209</td>\n",
       "      <td>209</td>\n",
       "    </tr>\n",
       "    <tr>\n",
       "      <th>Disposal</th>\n",
       "      <td>22</td>\n",
       "      <td>22</td>\n",
       "      <td>22</td>\n",
       "      <td>22</td>\n",
       "    </tr>\n",
       "    <tr>\n",
       "      <th>Euthanasia</th>\n",
       "      <td>1694</td>\n",
       "      <td>1694</td>\n",
       "      <td>1694</td>\n",
       "      <td>1694</td>\n",
       "    </tr>\n",
       "    <tr>\n",
       "      <th>Missing</th>\n",
       "      <td>29</td>\n",
       "      <td>29</td>\n",
       "      <td>29</td>\n",
       "      <td>29</td>\n",
       "    </tr>\n",
       "    <tr>\n",
       "      <th>Rto-Adopt</th>\n",
       "      <td>498</td>\n",
       "      <td>498</td>\n",
       "      <td>498</td>\n",
       "      <td>498</td>\n",
       "    </tr>\n",
       "    <tr>\n",
       "      <th>Transfer</th>\n",
       "      <td>14178</td>\n",
       "      <td>14178</td>\n",
       "      <td>14178</td>\n",
       "      <td>14178</td>\n",
       "    </tr>\n",
       "  </tbody>\n",
       "</table>\n",
       "</div>"
      ],
      "text/plain": [
       "                Sex  Age_month  Breed  Color\n",
       "Outcome_Type                                \n",
       "Adoption      31395      31395  31395  31395\n",
       "Died            209        209    209    209\n",
       "Disposal         22         22     22     22\n",
       "Euthanasia     1694       1694   1694   1694\n",
       "Missing          29         29     29     29\n",
       "Rto-Adopt       498        498    498    498\n",
       "Transfer      14178      14178  14178  14178"
      ]
     },
     "execution_count": 23,
     "metadata": {},
     "output_type": "execute_result"
    }
   ],
   "source": [
    "# Verify group by counts (Return to Owner should be gone)\n",
    "df3.groupby('Outcome_Type').count()"
   ]
  },
  {
   "cell_type": "code",
   "execution_count": 24,
   "metadata": {},
   "outputs": [
    {
     "data": {
      "text/plain": [
       "Outcome_Type    0.0\n",
       "Sex             0.0\n",
       "Age_month       0.0\n",
       "Breed           0.0\n",
       "Color           0.0\n",
       "dtype: float64"
      ]
     },
     "execution_count": 24,
     "metadata": {},
     "output_type": "execute_result"
    }
   ],
   "source": [
    "# Anymore missing values before we move on?  If zero, then we are good.\n",
    "df3.apply(lambda x: sum(x.isnull()/len(df3)))"
   ]
  },
  {
   "cell_type": "markdown",
   "metadata": {},
   "source": [
    "## Add new features?\n",
    "1. New feature? - Mixed/Pure Breed? - COMPLETED!! \n",
    "2. Split breeds - COMPLETED!!\n",
    "3. Color -  We have 333 unique color combinations. Hot encoding \"Color\" will create additional X features if we didn't do anything.  This would be unlikely to create a good performing model.\n",
    "    *  Option 1 - We take any values occurring fewer than 300 times and places them into the “other” label. We use this to create a new feature called “Top_colors”.  Doing this would reduce 333 unique colors to 30 unique values - COMPLETED!\n",
    "    *  Option 2 - Split to primary color vs secondary color? - COMPLETED!\n",
    "4. Creating age groups - COMPLETED!!\n",
    "5. Breeds - Hot encoding \"Breed\" will create additional 1,380 new features if we didn't do anything.  \n",
    "6. New feature? - Single color/Multi color?"
   ]
  },
  {
   "cell_type": "markdown",
   "metadata": {},
   "source": [
    "#### Creating a Mix/Pure Breed column - As of May 20 9pm, MIX doesn't do anything cause assuming all breeds are mixed\n",
    "1. Create new MIX column\n",
    "2. Split breed into breed_primary and breed_second\n"
   ]
  },
  {
   "cell_type": "code",
   "execution_count": null,
   "metadata": {},
   "outputs": [],
   "source": [
    "# How many unique breed combinations before split? - 2010, that's a lot!\n",
    "# Solution1:  Create MIX column to identify PURE BREED vs MIX BREED\n",
    "# Solution2:  After cleaning the name (taking MIX out), then split into primary and secondary breed columns  \n",
    "# len(df3.Breed.value_counts())"
   ]
  },
  {
   "cell_type": "markdown",
   "metadata": {},
   "source": [
    "#### solution1 - Creating a MIX column\n",
    "* Yes value is Mixed\n",
    "* No\n",
    "value is Pure"
   ]
  },
  {
   "cell_type": "code",
   "execution_count": null,
   "metadata": {},
   "outputs": [],
   "source": [
    "# Make a copy and add new column called Mix, set to 0\n",
    "# df4 = df3.copy()\n",
    "# df4[\"Mix\"]='No'\n",
    "# df4.head()"
   ]
  },
  {
   "cell_type": "code",
   "execution_count": null,
   "metadata": {},
   "outputs": [],
   "source": [
    "# df4.loc[200:210, :]"
   ]
  },
  {
   "cell_type": "code",
   "execution_count": null,
   "metadata": {},
   "outputs": [],
   "source": [
    "# # Find rows containing word \"Mix\" and set to 1 (for True)\n",
    "# df4.loc[df4[\"Breed\"].str.contains(\"Mix\"), \"Mix\"] = \"Yes\""
   ]
  },
  {
   "cell_type": "code",
   "execution_count": null,
   "metadata": {},
   "outputs": [],
   "source": [
    "# # Verify - any row with the word \"Mix\" in Breed column should be a 1 in the new Mix column\n",
    "# df4.loc[200:210, :]"
   ]
  },
  {
   "cell_type": "code",
   "execution_count": null,
   "metadata": {},
   "outputs": [],
   "source": [
    "# # Rename the breed WITHOUT the word MIX\n",
    "# df4.loc[df4['Breed'].str.contains('Mix'), 'Breed'] = df4.loc[df4['Breed'].str.contains('Mix'), 'Breed'].str.replace(' Mix', '')"
   ]
  },
  {
   "cell_type": "code",
   "execution_count": null,
   "metadata": {},
   "outputs": [],
   "source": [
    "# # Verify that the word 'Mix' is no longer part of the description if Mix is equal to 1\n",
    "# df4.loc[200:210, :]"
   ]
  },
  {
   "cell_type": "markdown",
   "metadata": {},
   "source": [
    "#### Solution2 - Split breed column into primary and secondary!  "
   ]
  },
  {
   "cell_type": "code",
   "execution_count": 25,
   "metadata": {},
   "outputs": [],
   "source": [
    "df3[['Breed_primary','Breed_second']] = df3.Breed.str.split(\"/\", n=1, expand=True) "
   ]
  },
  {
   "cell_type": "code",
   "execution_count": 26,
   "metadata": {},
   "outputs": [
    {
     "data": {
      "text/html": [
       "<div>\n",
       "<style scoped>\n",
       "    .dataframe tbody tr th:only-of-type {\n",
       "        vertical-align: middle;\n",
       "    }\n",
       "\n",
       "    .dataframe tbody tr th {\n",
       "        vertical-align: top;\n",
       "    }\n",
       "\n",
       "    .dataframe thead th {\n",
       "        text-align: right;\n",
       "    }\n",
       "</style>\n",
       "<table border=\"1\" class=\"dataframe\">\n",
       "  <thead>\n",
       "    <tr style=\"text-align: right;\">\n",
       "      <th></th>\n",
       "      <th>Outcome_Type</th>\n",
       "      <th>Sex</th>\n",
       "      <th>Age_month</th>\n",
       "      <th>Breed</th>\n",
       "      <th>Color</th>\n",
       "      <th>Breed_primary</th>\n",
       "      <th>Breed_second</th>\n",
       "    </tr>\n",
       "  </thead>\n",
       "  <tbody>\n",
       "    <tr>\n",
       "      <th>200</th>\n",
       "      <td>Transfer</td>\n",
       "      <td>Female</td>\n",
       "      <td>0.2</td>\n",
       "      <td>Dachshund</td>\n",
       "      <td>Tan</td>\n",
       "      <td>Dachshund</td>\n",
       "      <td>None</td>\n",
       "    </tr>\n",
       "    <tr>\n",
       "      <th>201</th>\n",
       "      <td>Transfer</td>\n",
       "      <td>Male</td>\n",
       "      <td>0.2</td>\n",
       "      <td>Dachshund</td>\n",
       "      <td>Tan</td>\n",
       "      <td>Dachshund</td>\n",
       "      <td>None</td>\n",
       "    </tr>\n",
       "    <tr>\n",
       "      <th>205</th>\n",
       "      <td>Transfer</td>\n",
       "      <td>Female</td>\n",
       "      <td>0.2</td>\n",
       "      <td>German Shepherd/Rottweiler</td>\n",
       "      <td>Brown/Black</td>\n",
       "      <td>German Shepherd</td>\n",
       "      <td>Rottweiler</td>\n",
       "    </tr>\n",
       "    <tr>\n",
       "      <th>206</th>\n",
       "      <td>Transfer</td>\n",
       "      <td>Female</td>\n",
       "      <td>0.2</td>\n",
       "      <td>Labrador Retriever/Pit Bull</td>\n",
       "      <td>Brown Brindle</td>\n",
       "      <td>Labrador Retriever</td>\n",
       "      <td>Pit Bull</td>\n",
       "    </tr>\n",
       "    <tr>\n",
       "      <th>208</th>\n",
       "      <td>Transfer</td>\n",
       "      <td>Female</td>\n",
       "      <td>0.2</td>\n",
       "      <td>Rat Terrier Mix</td>\n",
       "      <td>White</td>\n",
       "      <td>Rat Terrier Mix</td>\n",
       "      <td>None</td>\n",
       "    </tr>\n",
       "    <tr>\n",
       "      <th>209</th>\n",
       "      <td>Transfer</td>\n",
       "      <td>Female</td>\n",
       "      <td>0.2</td>\n",
       "      <td>Labrador Retriever/Pit Bull</td>\n",
       "      <td>Brown Brindle/White</td>\n",
       "      <td>Labrador Retriever</td>\n",
       "      <td>Pit Bull</td>\n",
       "    </tr>\n",
       "    <tr>\n",
       "      <th>210</th>\n",
       "      <td>Transfer</td>\n",
       "      <td>Male</td>\n",
       "      <td>0.2</td>\n",
       "      <td>Rat Terrier Mix</td>\n",
       "      <td>White</td>\n",
       "      <td>Rat Terrier Mix</td>\n",
       "      <td>None</td>\n",
       "    </tr>\n",
       "    <tr>\n",
       "      <th>213</th>\n",
       "      <td>Transfer</td>\n",
       "      <td>Male</td>\n",
       "      <td>0.2</td>\n",
       "      <td>Dachshund</td>\n",
       "      <td>Tan</td>\n",
       "      <td>Dachshund</td>\n",
       "      <td>None</td>\n",
       "    </tr>\n",
       "    <tr>\n",
       "      <th>215</th>\n",
       "      <td>Transfer</td>\n",
       "      <td>Female</td>\n",
       "      <td>0.2</td>\n",
       "      <td>Dachshund</td>\n",
       "      <td>Tan</td>\n",
       "      <td>Dachshund</td>\n",
       "      <td>None</td>\n",
       "    </tr>\n",
       "    <tr>\n",
       "      <th>216</th>\n",
       "      <td>Transfer</td>\n",
       "      <td>Female</td>\n",
       "      <td>0.2</td>\n",
       "      <td>Dachshund</td>\n",
       "      <td>Tan</td>\n",
       "      <td>Dachshund</td>\n",
       "      <td>None</td>\n",
       "    </tr>\n",
       "    <tr>\n",
       "      <th>218</th>\n",
       "      <td>Died</td>\n",
       "      <td>Male</td>\n",
       "      <td>0.2</td>\n",
       "      <td>Chihuahua Shorthair Mix</td>\n",
       "      <td>Black</td>\n",
       "      <td>Chihuahua Shorthair Mix</td>\n",
       "      <td>None</td>\n",
       "    </tr>\n",
       "    <tr>\n",
       "      <th>219</th>\n",
       "      <td>Adoption</td>\n",
       "      <td>Female</td>\n",
       "      <td>1.0</td>\n",
       "      <td>Boxer Mix</td>\n",
       "      <td>Red/White</td>\n",
       "      <td>Boxer Mix</td>\n",
       "      <td>None</td>\n",
       "    </tr>\n",
       "    <tr>\n",
       "      <th>220</th>\n",
       "      <td>Transfer</td>\n",
       "      <td>Female</td>\n",
       "      <td>1.0</td>\n",
       "      <td>Pit Bull Mix</td>\n",
       "      <td>Brown/White</td>\n",
       "      <td>Pit Bull Mix</td>\n",
       "      <td>None</td>\n",
       "    </tr>\n",
       "    <tr>\n",
       "      <th>221</th>\n",
       "      <td>Transfer</td>\n",
       "      <td>Female</td>\n",
       "      <td>1.0</td>\n",
       "      <td>Flat Coat Retriever/Pit Bull</td>\n",
       "      <td>Buff</td>\n",
       "      <td>Flat Coat Retriever</td>\n",
       "      <td>Pit Bull</td>\n",
       "    </tr>\n",
       "    <tr>\n",
       "      <th>222</th>\n",
       "      <td>Transfer</td>\n",
       "      <td>Female</td>\n",
       "      <td>1.0</td>\n",
       "      <td>Labrador Retriever Mix</td>\n",
       "      <td>Black</td>\n",
       "      <td>Labrador Retriever Mix</td>\n",
       "      <td>None</td>\n",
       "    </tr>\n",
       "    <tr>\n",
       "      <th>223</th>\n",
       "      <td>Transfer</td>\n",
       "      <td>Female</td>\n",
       "      <td>1.0</td>\n",
       "      <td>Chihuahua Shorthair Mix</td>\n",
       "      <td>Brown</td>\n",
       "      <td>Chihuahua Shorthair Mix</td>\n",
       "      <td>None</td>\n",
       "    </tr>\n",
       "    <tr>\n",
       "      <th>224</th>\n",
       "      <td>Adoption</td>\n",
       "      <td>Female</td>\n",
       "      <td>1.0</td>\n",
       "      <td>Chihuahua Shorthair Mix</td>\n",
       "      <td>Brown</td>\n",
       "      <td>Chihuahua Shorthair Mix</td>\n",
       "      <td>None</td>\n",
       "    </tr>\n",
       "    <tr>\n",
       "      <th>225</th>\n",
       "      <td>Adoption</td>\n",
       "      <td>Female</td>\n",
       "      <td>1.0</td>\n",
       "      <td>Australian Shepherd Mix</td>\n",
       "      <td>Blue Merle</td>\n",
       "      <td>Australian Shepherd Mix</td>\n",
       "      <td>None</td>\n",
       "    </tr>\n",
       "    <tr>\n",
       "      <th>226</th>\n",
       "      <td>Transfer</td>\n",
       "      <td>Female</td>\n",
       "      <td>1.0</td>\n",
       "      <td>Pit Bull Mix</td>\n",
       "      <td>White/Gray</td>\n",
       "      <td>Pit Bull Mix</td>\n",
       "      <td>None</td>\n",
       "    </tr>\n",
       "    <tr>\n",
       "      <th>227</th>\n",
       "      <td>Transfer</td>\n",
       "      <td>Male</td>\n",
       "      <td>1.0</td>\n",
       "      <td>German Shepherd/Cardigan Welsh Corgi</td>\n",
       "      <td>Tricolor</td>\n",
       "      <td>German Shepherd</td>\n",
       "      <td>Cardigan Welsh Corgi</td>\n",
       "    </tr>\n",
       "    <tr>\n",
       "      <th>229</th>\n",
       "      <td>Adoption</td>\n",
       "      <td>Female</td>\n",
       "      <td>1.0</td>\n",
       "      <td>Labrador Retriever/Blue Lacy</td>\n",
       "      <td>Tricolor</td>\n",
       "      <td>Labrador Retriever</td>\n",
       "      <td>Blue Lacy</td>\n",
       "    </tr>\n",
       "    <tr>\n",
       "      <th>230</th>\n",
       "      <td>Transfer</td>\n",
       "      <td>Female</td>\n",
       "      <td>1.0</td>\n",
       "      <td>American Staffordshire Terrier Mix</td>\n",
       "      <td>Sable/White</td>\n",
       "      <td>American Staffordshire Terrier Mix</td>\n",
       "      <td>None</td>\n",
       "    </tr>\n",
       "  </tbody>\n",
       "</table>\n",
       "</div>"
      ],
      "text/plain": [
       "    Outcome_Type     Sex  Age_month                                 Breed  \\\n",
       "200     Transfer  Female        0.2                             Dachshund   \n",
       "201     Transfer    Male        0.2                             Dachshund   \n",
       "205     Transfer  Female        0.2            German Shepherd/Rottweiler   \n",
       "206     Transfer  Female        0.2           Labrador Retriever/Pit Bull   \n",
       "208     Transfer  Female        0.2                       Rat Terrier Mix   \n",
       "209     Transfer  Female        0.2           Labrador Retriever/Pit Bull   \n",
       "210     Transfer    Male        0.2                       Rat Terrier Mix   \n",
       "213     Transfer    Male        0.2                             Dachshund   \n",
       "215     Transfer  Female        0.2                             Dachshund   \n",
       "216     Transfer  Female        0.2                             Dachshund   \n",
       "218         Died    Male        0.2               Chihuahua Shorthair Mix   \n",
       "219     Adoption  Female        1.0                             Boxer Mix   \n",
       "220     Transfer  Female        1.0                          Pit Bull Mix   \n",
       "221     Transfer  Female        1.0          Flat Coat Retriever/Pit Bull   \n",
       "222     Transfer  Female        1.0                Labrador Retriever Mix   \n",
       "223     Transfer  Female        1.0               Chihuahua Shorthair Mix   \n",
       "224     Adoption  Female        1.0               Chihuahua Shorthair Mix   \n",
       "225     Adoption  Female        1.0               Australian Shepherd Mix   \n",
       "226     Transfer  Female        1.0                          Pit Bull Mix   \n",
       "227     Transfer    Male        1.0  German Shepherd/Cardigan Welsh Corgi   \n",
       "229     Adoption  Female        1.0          Labrador Retriever/Blue Lacy   \n",
       "230     Transfer  Female        1.0    American Staffordshire Terrier Mix   \n",
       "\n",
       "                   Color                       Breed_primary  \\\n",
       "200                  Tan                           Dachshund   \n",
       "201                  Tan                           Dachshund   \n",
       "205          Brown/Black                     German Shepherd   \n",
       "206        Brown Brindle                  Labrador Retriever   \n",
       "208                White                     Rat Terrier Mix   \n",
       "209  Brown Brindle/White                  Labrador Retriever   \n",
       "210                White                     Rat Terrier Mix   \n",
       "213                  Tan                           Dachshund   \n",
       "215                  Tan                           Dachshund   \n",
       "216                  Tan                           Dachshund   \n",
       "218                Black             Chihuahua Shorthair Mix   \n",
       "219            Red/White                           Boxer Mix   \n",
       "220          Brown/White                        Pit Bull Mix   \n",
       "221                 Buff                 Flat Coat Retriever   \n",
       "222                Black              Labrador Retriever Mix   \n",
       "223                Brown             Chihuahua Shorthair Mix   \n",
       "224                Brown             Chihuahua Shorthair Mix   \n",
       "225           Blue Merle             Australian Shepherd Mix   \n",
       "226           White/Gray                        Pit Bull Mix   \n",
       "227             Tricolor                     German Shepherd   \n",
       "229             Tricolor                  Labrador Retriever   \n",
       "230          Sable/White  American Staffordshire Terrier Mix   \n",
       "\n",
       "             Breed_second  \n",
       "200                  None  \n",
       "201                  None  \n",
       "205            Rottweiler  \n",
       "206              Pit Bull  \n",
       "208                  None  \n",
       "209              Pit Bull  \n",
       "210                  None  \n",
       "213                  None  \n",
       "215                  None  \n",
       "216                  None  \n",
       "218                  None  \n",
       "219                  None  \n",
       "220                  None  \n",
       "221              Pit Bull  \n",
       "222                  None  \n",
       "223                  None  \n",
       "224                  None  \n",
       "225                  None  \n",
       "226                  None  \n",
       "227  Cardigan Welsh Corgi  \n",
       "229             Blue Lacy  \n",
       "230                  None  "
      ]
     },
     "execution_count": 26,
     "metadata": {},
     "output_type": "execute_result"
    }
   ],
   "source": [
    "df3.head()\n",
    "df3.loc[200:230, :]"
   ]
  },
  {
   "cell_type": "code",
   "execution_count": 28,
   "metadata": {},
   "outputs": [
    {
     "data": {
      "text/plain": [
       "163"
      ]
     },
     "execution_count": 28,
     "metadata": {},
     "output_type": "execute_result"
    }
   ],
   "source": [
    "# How many unique breed combinations before split?\n",
    "# Breed column - 1854\n",
    "\n",
    "# How many unique breed combinations AFTER split?\n",
    "# Breed_primary - 198\n",
    "# Breed_second - 163\n",
    "\n",
    "len(df3.Breed_second.value_counts())"
   ]
  },
  {
   "cell_type": "code",
   "execution_count": 30,
   "metadata": {},
   "outputs": [
    {
     "data": {
      "text/plain": [
       "Pit Bull Mix                 5440\n",
       "Labrador Retriever Mix       4937\n",
       "Chihuahua Shorthair Mix      4653\n",
       "German Shepherd Mix          2094\n",
       "Labrador Retriever           2084\n",
       "Chihuahua Shorthair          1344\n",
       "Australian Cattle Dog Mix    1132\n",
       "German Shepherd              1019\n",
       "Pit Bull                     1015\n",
       "Dachshund Mix                 774\n",
       "Name: Breed_primary, dtype: int64"
      ]
     },
     "execution_count": 30,
     "metadata": {},
     "output_type": "execute_result"
    }
   ],
   "source": [
    "breed_top10primary = [x for x in df3.Breed_primary.value_counts().sort_values(ascending=False).head(15).index]\n",
    "breed_top10primary\n",
    "\n",
    "df3.Breed_primary.value_counts().sort_values(ascending=False).head(10)"
   ]
  },
  {
   "cell_type": "code",
   "execution_count": 31,
   "metadata": {},
   "outputs": [
    {
     "data": {
      "text/plain": [
       "Labrador Retriever       1147\n",
       "Chihuahua Shorthair       691\n",
       "Pit Bull                  544\n",
       "German Shepherd           471\n",
       "Dachshund                 461\n",
       "Australian Cattle Dog     369\n",
       "Beagle                    299\n",
       "Border Collie             262\n",
       "Miniature Poodle          256\n",
       "Boxer                     235\n",
       "Name: Breed_second, dtype: int64"
      ]
     },
     "execution_count": 31,
     "metadata": {},
     "output_type": "execute_result"
    }
   ],
   "source": [
    "breed_top10second = [x for x in df3.Breed_second.value_counts().sort_values(ascending=False).tail(10).index]\n",
    "breed_top10second\n",
    "\n",
    "df3.Breed_second.value_counts().sort_values(ascending=False).head(10)"
   ]
  },
  {
   "cell_type": "markdown",
   "metadata": {},
   "source": [
    "# QUESTION!  Should you not use breed_second?"
   ]
  },
  {
   "cell_type": "markdown",
   "metadata": {},
   "source": [
    "#### Handling Color - Option 1 (Selecting Top_Colors) - DID NOT DO HERE.  CODE IS COMMENTED OUT!\n",
    "* How does option1 effect RF/LogReg models?\n"
   ]
  },
  {
   "cell_type": "code",
   "execution_count": 33,
   "metadata": {},
   "outputs": [
    {
     "data": {
      "text/plain": [
       "333"
      ]
     },
     "execution_count": 33,
     "metadata": {},
     "output_type": "execute_result"
    }
   ],
   "source": [
    "# How many unique color combinations?  - 333\n",
    "color_counts = df3['Color'].value_counts()\n",
    "len(color_counts)\n",
    "# print(df3['Color'].nunique())\n",
    "\n",
    "# # Handling \"Color\" Option 1\n",
    "# color_others = set(color_counts[color_counts < 300].index)\n",
    "# df4['Top_colors'] = df4['Color'].replace(list(color_others), 'Others')\n",
    "# print(df4['Top_colors'].nunique())"
   ]
  },
  {
   "cell_type": "code",
   "execution_count": 34,
   "metadata": {},
   "outputs": [
    {
     "data": {
      "text/html": [
       "<div>\n",
       "<style scoped>\n",
       "    .dataframe tbody tr th:only-of-type {\n",
       "        vertical-align: middle;\n",
       "    }\n",
       "\n",
       "    .dataframe tbody tr th {\n",
       "        vertical-align: top;\n",
       "    }\n",
       "\n",
       "    .dataframe thead th {\n",
       "        text-align: right;\n",
       "    }\n",
       "</style>\n",
       "<table border=\"1\" class=\"dataframe\">\n",
       "  <thead>\n",
       "    <tr style=\"text-align: right;\">\n",
       "      <th></th>\n",
       "      <th>Outcome_Type</th>\n",
       "      <th>Sex</th>\n",
       "      <th>Age_month</th>\n",
       "      <th>Breed</th>\n",
       "      <th>Color</th>\n",
       "      <th>Breed_primary</th>\n",
       "      <th>Breed_second</th>\n",
       "    </tr>\n",
       "  </thead>\n",
       "  <tbody>\n",
       "    <tr>\n",
       "      <th>150</th>\n",
       "      <td>Transfer</td>\n",
       "      <td>Male</td>\n",
       "      <td>0.166667</td>\n",
       "      <td>Chihuahua Shorthair Mix</td>\n",
       "      <td>Black/White</td>\n",
       "      <td>Chihuahua Shorthair Mix</td>\n",
       "      <td>None</td>\n",
       "    </tr>\n",
       "    <tr>\n",
       "      <th>151</th>\n",
       "      <td>Transfer</td>\n",
       "      <td>Female</td>\n",
       "      <td>0.166667</td>\n",
       "      <td>American Bulldog Mix</td>\n",
       "      <td>White</td>\n",
       "      <td>American Bulldog Mix</td>\n",
       "      <td>None</td>\n",
       "    </tr>\n",
       "    <tr>\n",
       "      <th>152</th>\n",
       "      <td>Transfer</td>\n",
       "      <td>Female</td>\n",
       "      <td>0.166667</td>\n",
       "      <td>Chihuahua Shorthair Mix</td>\n",
       "      <td>Fawn/Black</td>\n",
       "      <td>Chihuahua Shorthair Mix</td>\n",
       "      <td>None</td>\n",
       "    </tr>\n",
       "    <tr>\n",
       "      <th>153</th>\n",
       "      <td>Transfer</td>\n",
       "      <td>Male</td>\n",
       "      <td>0.166667</td>\n",
       "      <td>Chihuahua Shorthair Mix</td>\n",
       "      <td>Brown/White</td>\n",
       "      <td>Chihuahua Shorthair Mix</td>\n",
       "      <td>None</td>\n",
       "    </tr>\n",
       "    <tr>\n",
       "      <th>154</th>\n",
       "      <td>Transfer</td>\n",
       "      <td>Female</td>\n",
       "      <td>0.166667</td>\n",
       "      <td>Chihuahua Shorthair Mix</td>\n",
       "      <td>Black/White</td>\n",
       "      <td>Chihuahua Shorthair Mix</td>\n",
       "      <td>None</td>\n",
       "    </tr>\n",
       "    <tr>\n",
       "      <th>155</th>\n",
       "      <td>Died</td>\n",
       "      <td>Male</td>\n",
       "      <td>0.166667</td>\n",
       "      <td>Chihuahua Shorthair Mix</td>\n",
       "      <td>Brown</td>\n",
       "      <td>Chihuahua Shorthair Mix</td>\n",
       "      <td>None</td>\n",
       "    </tr>\n",
       "    <tr>\n",
       "      <th>156</th>\n",
       "      <td>Transfer</td>\n",
       "      <td>Female</td>\n",
       "      <td>0.166667</td>\n",
       "      <td>Miniature Poodle Mix</td>\n",
       "      <td>White</td>\n",
       "      <td>Miniature Poodle Mix</td>\n",
       "      <td>None</td>\n",
       "    </tr>\n",
       "    <tr>\n",
       "      <th>157</th>\n",
       "      <td>Transfer</td>\n",
       "      <td>Female</td>\n",
       "      <td>0.166667</td>\n",
       "      <td>Pit Bull Mix</td>\n",
       "      <td>White/Black</td>\n",
       "      <td>Pit Bull Mix</td>\n",
       "      <td>None</td>\n",
       "    </tr>\n",
       "    <tr>\n",
       "      <th>158</th>\n",
       "      <td>Transfer</td>\n",
       "      <td>Female</td>\n",
       "      <td>0.166667</td>\n",
       "      <td>Chihuahua Shorthair Mix</td>\n",
       "      <td>Tricolor</td>\n",
       "      <td>Chihuahua Shorthair Mix</td>\n",
       "      <td>None</td>\n",
       "    </tr>\n",
       "    <tr>\n",
       "      <th>159</th>\n",
       "      <td>Transfer</td>\n",
       "      <td>Female</td>\n",
       "      <td>0.166667</td>\n",
       "      <td>Pit Bull Mix</td>\n",
       "      <td>Sable/White</td>\n",
       "      <td>Pit Bull Mix</td>\n",
       "      <td>None</td>\n",
       "    </tr>\n",
       "    <tr>\n",
       "      <th>160</th>\n",
       "      <td>Transfer</td>\n",
       "      <td>Male</td>\n",
       "      <td>0.166667</td>\n",
       "      <td>Pit Bull Mix</td>\n",
       "      <td>Sable/White</td>\n",
       "      <td>Pit Bull Mix</td>\n",
       "      <td>None</td>\n",
       "    </tr>\n",
       "  </tbody>\n",
       "</table>\n",
       "</div>"
      ],
      "text/plain": [
       "    Outcome_Type     Sex  Age_month                    Breed        Color  \\\n",
       "150     Transfer    Male   0.166667  Chihuahua Shorthair Mix  Black/White   \n",
       "151     Transfer  Female   0.166667     American Bulldog Mix        White   \n",
       "152     Transfer  Female   0.166667  Chihuahua Shorthair Mix   Fawn/Black   \n",
       "153     Transfer    Male   0.166667  Chihuahua Shorthair Mix  Brown/White   \n",
       "154     Transfer  Female   0.166667  Chihuahua Shorthair Mix  Black/White   \n",
       "155         Died    Male   0.166667  Chihuahua Shorthair Mix        Brown   \n",
       "156     Transfer  Female   0.166667     Miniature Poodle Mix        White   \n",
       "157     Transfer  Female   0.166667             Pit Bull Mix  White/Black   \n",
       "158     Transfer  Female   0.166667  Chihuahua Shorthair Mix     Tricolor   \n",
       "159     Transfer  Female   0.166667             Pit Bull Mix  Sable/White   \n",
       "160     Transfer    Male   0.166667             Pit Bull Mix  Sable/White   \n",
       "\n",
       "               Breed_primary Breed_second  \n",
       "150  Chihuahua Shorthair Mix         None  \n",
       "151     American Bulldog Mix         None  \n",
       "152  Chihuahua Shorthair Mix         None  \n",
       "153  Chihuahua Shorthair Mix         None  \n",
       "154  Chihuahua Shorthair Mix         None  \n",
       "155  Chihuahua Shorthair Mix         None  \n",
       "156     Miniature Poodle Mix         None  \n",
       "157             Pit Bull Mix         None  \n",
       "158  Chihuahua Shorthair Mix         None  \n",
       "159             Pit Bull Mix         None  \n",
       "160             Pit Bull Mix         None  "
      ]
     },
     "execution_count": 34,
     "metadata": {},
     "output_type": "execute_result"
    }
   ],
   "source": [
    "# Drop Color column?\n",
    "df3.loc[150:160, :]"
   ]
  },
  {
   "cell_type": "markdown",
   "metadata": {},
   "source": [
    "#### Handling Color - Option 2 (Split and have intaker check all colors that apply)\n",
    "* How does option2 effect RF/LogReg models?"
   ]
  },
  {
   "cell_type": "code",
   "execution_count": 35,
   "metadata": {},
   "outputs": [],
   "source": [
    "# Split Top_color column into color1, color2\n",
    "df3[['Color1','Color2']] = df3.Color.str.split(\"/\", n=1, expand=True) "
   ]
  },
  {
   "cell_type": "code",
   "execution_count": 36,
   "metadata": {},
   "outputs": [
    {
     "data": {
      "text/html": [
       "<div>\n",
       "<style scoped>\n",
       "    .dataframe tbody tr th:only-of-type {\n",
       "        vertical-align: middle;\n",
       "    }\n",
       "\n",
       "    .dataframe tbody tr th {\n",
       "        vertical-align: top;\n",
       "    }\n",
       "\n",
       "    .dataframe thead th {\n",
       "        text-align: right;\n",
       "    }\n",
       "</style>\n",
       "<table border=\"1\" class=\"dataframe\">\n",
       "  <thead>\n",
       "    <tr style=\"text-align: right;\">\n",
       "      <th></th>\n",
       "      <th>Outcome_Type</th>\n",
       "      <th>Sex</th>\n",
       "      <th>Age_month</th>\n",
       "      <th>Breed</th>\n",
       "      <th>Color</th>\n",
       "      <th>Breed_primary</th>\n",
       "      <th>Breed_second</th>\n",
       "      <th>Color1</th>\n",
       "      <th>Color2</th>\n",
       "    </tr>\n",
       "  </thead>\n",
       "  <tbody>\n",
       "    <tr>\n",
       "      <th>150</th>\n",
       "      <td>Transfer</td>\n",
       "      <td>Male</td>\n",
       "      <td>0.166667</td>\n",
       "      <td>Chihuahua Shorthair Mix</td>\n",
       "      <td>Black/White</td>\n",
       "      <td>Chihuahua Shorthair Mix</td>\n",
       "      <td>None</td>\n",
       "      <td>Black</td>\n",
       "      <td>White</td>\n",
       "    </tr>\n",
       "    <tr>\n",
       "      <th>151</th>\n",
       "      <td>Transfer</td>\n",
       "      <td>Female</td>\n",
       "      <td>0.166667</td>\n",
       "      <td>American Bulldog Mix</td>\n",
       "      <td>White</td>\n",
       "      <td>American Bulldog Mix</td>\n",
       "      <td>None</td>\n",
       "      <td>White</td>\n",
       "      <td>None</td>\n",
       "    </tr>\n",
       "    <tr>\n",
       "      <th>152</th>\n",
       "      <td>Transfer</td>\n",
       "      <td>Female</td>\n",
       "      <td>0.166667</td>\n",
       "      <td>Chihuahua Shorthair Mix</td>\n",
       "      <td>Fawn/Black</td>\n",
       "      <td>Chihuahua Shorthair Mix</td>\n",
       "      <td>None</td>\n",
       "      <td>Fawn</td>\n",
       "      <td>Black</td>\n",
       "    </tr>\n",
       "    <tr>\n",
       "      <th>153</th>\n",
       "      <td>Transfer</td>\n",
       "      <td>Male</td>\n",
       "      <td>0.166667</td>\n",
       "      <td>Chihuahua Shorthair Mix</td>\n",
       "      <td>Brown/White</td>\n",
       "      <td>Chihuahua Shorthair Mix</td>\n",
       "      <td>None</td>\n",
       "      <td>Brown</td>\n",
       "      <td>White</td>\n",
       "    </tr>\n",
       "    <tr>\n",
       "      <th>154</th>\n",
       "      <td>Transfer</td>\n",
       "      <td>Female</td>\n",
       "      <td>0.166667</td>\n",
       "      <td>Chihuahua Shorthair Mix</td>\n",
       "      <td>Black/White</td>\n",
       "      <td>Chihuahua Shorthair Mix</td>\n",
       "      <td>None</td>\n",
       "      <td>Black</td>\n",
       "      <td>White</td>\n",
       "    </tr>\n",
       "    <tr>\n",
       "      <th>155</th>\n",
       "      <td>Died</td>\n",
       "      <td>Male</td>\n",
       "      <td>0.166667</td>\n",
       "      <td>Chihuahua Shorthair Mix</td>\n",
       "      <td>Brown</td>\n",
       "      <td>Chihuahua Shorthair Mix</td>\n",
       "      <td>None</td>\n",
       "      <td>Brown</td>\n",
       "      <td>None</td>\n",
       "    </tr>\n",
       "    <tr>\n",
       "      <th>156</th>\n",
       "      <td>Transfer</td>\n",
       "      <td>Female</td>\n",
       "      <td>0.166667</td>\n",
       "      <td>Miniature Poodle Mix</td>\n",
       "      <td>White</td>\n",
       "      <td>Miniature Poodle Mix</td>\n",
       "      <td>None</td>\n",
       "      <td>White</td>\n",
       "      <td>None</td>\n",
       "    </tr>\n",
       "    <tr>\n",
       "      <th>157</th>\n",
       "      <td>Transfer</td>\n",
       "      <td>Female</td>\n",
       "      <td>0.166667</td>\n",
       "      <td>Pit Bull Mix</td>\n",
       "      <td>White/Black</td>\n",
       "      <td>Pit Bull Mix</td>\n",
       "      <td>None</td>\n",
       "      <td>White</td>\n",
       "      <td>Black</td>\n",
       "    </tr>\n",
       "    <tr>\n",
       "      <th>158</th>\n",
       "      <td>Transfer</td>\n",
       "      <td>Female</td>\n",
       "      <td>0.166667</td>\n",
       "      <td>Chihuahua Shorthair Mix</td>\n",
       "      <td>Tricolor</td>\n",
       "      <td>Chihuahua Shorthair Mix</td>\n",
       "      <td>None</td>\n",
       "      <td>Tricolor</td>\n",
       "      <td>None</td>\n",
       "    </tr>\n",
       "    <tr>\n",
       "      <th>159</th>\n",
       "      <td>Transfer</td>\n",
       "      <td>Female</td>\n",
       "      <td>0.166667</td>\n",
       "      <td>Pit Bull Mix</td>\n",
       "      <td>Sable/White</td>\n",
       "      <td>Pit Bull Mix</td>\n",
       "      <td>None</td>\n",
       "      <td>Sable</td>\n",
       "      <td>White</td>\n",
       "    </tr>\n",
       "    <tr>\n",
       "      <th>160</th>\n",
       "      <td>Transfer</td>\n",
       "      <td>Male</td>\n",
       "      <td>0.166667</td>\n",
       "      <td>Pit Bull Mix</td>\n",
       "      <td>Sable/White</td>\n",
       "      <td>Pit Bull Mix</td>\n",
       "      <td>None</td>\n",
       "      <td>Sable</td>\n",
       "      <td>White</td>\n",
       "    </tr>\n",
       "  </tbody>\n",
       "</table>\n",
       "</div>"
      ],
      "text/plain": [
       "    Outcome_Type     Sex  Age_month                    Breed        Color  \\\n",
       "150     Transfer    Male   0.166667  Chihuahua Shorthair Mix  Black/White   \n",
       "151     Transfer  Female   0.166667     American Bulldog Mix        White   \n",
       "152     Transfer  Female   0.166667  Chihuahua Shorthair Mix   Fawn/Black   \n",
       "153     Transfer    Male   0.166667  Chihuahua Shorthair Mix  Brown/White   \n",
       "154     Transfer  Female   0.166667  Chihuahua Shorthair Mix  Black/White   \n",
       "155         Died    Male   0.166667  Chihuahua Shorthair Mix        Brown   \n",
       "156     Transfer  Female   0.166667     Miniature Poodle Mix        White   \n",
       "157     Transfer  Female   0.166667             Pit Bull Mix  White/Black   \n",
       "158     Transfer  Female   0.166667  Chihuahua Shorthair Mix     Tricolor   \n",
       "159     Transfer  Female   0.166667             Pit Bull Mix  Sable/White   \n",
       "160     Transfer    Male   0.166667             Pit Bull Mix  Sable/White   \n",
       "\n",
       "               Breed_primary Breed_second    Color1 Color2  \n",
       "150  Chihuahua Shorthair Mix         None     Black  White  \n",
       "151     American Bulldog Mix         None     White   None  \n",
       "152  Chihuahua Shorthair Mix         None      Fawn  Black  \n",
       "153  Chihuahua Shorthair Mix         None     Brown  White  \n",
       "154  Chihuahua Shorthair Mix         None     Black  White  \n",
       "155  Chihuahua Shorthair Mix         None     Brown   None  \n",
       "156     Miniature Poodle Mix         None     White   None  \n",
       "157             Pit Bull Mix         None     White  Black  \n",
       "158  Chihuahua Shorthair Mix         None  Tricolor   None  \n",
       "159             Pit Bull Mix         None     Sable  White  \n",
       "160             Pit Bull Mix         None     Sable  White  "
      ]
     },
     "execution_count": 36,
     "metadata": {},
     "output_type": "execute_result"
    }
   ],
   "source": [
    "df3.loc[150:160, :]"
   ]
  },
  {
   "cell_type": "code",
   "execution_count": 37,
   "metadata": {},
   "outputs": [
    {
     "data": {
      "text/plain": [
       "34"
      ]
     },
     "execution_count": 37,
     "metadata": {},
     "output_type": "execute_result"
    }
   ],
   "source": [
    "# How many unique colors? - 333 unique color combinations\n",
    "# df4.Color.value_counts().sort_values(ascending=False).head(20)\n",
    "# len(df3.Color.value_counts())\n",
    "\n",
    "# # How many unique colors in COLOR1? - 37\n",
    "# len(df3.Color1.value_counts())\n",
    "\n",
    "# How many unique colors in COLOR2? - 34\n",
    "len(df3.Color2.value_counts())"
   ]
  },
  {
   "cell_type": "code",
   "execution_count": 38,
   "metadata": {},
   "outputs": [
    {
     "data": {
      "text/plain": [
       "Black             12758\n",
       "White              8395\n",
       "Brown              6285\n",
       "Tan                6025\n",
       "Brown Brindle      2242\n",
       "Tricolor           2155\n",
       "Red                2067\n",
       "Blue               1685\n",
       "Chocolate          1192\n",
       "Cream               753\n",
       "Sable               729\n",
       "Fawn                601\n",
       "Gray                504\n",
       "Yellow              494\n",
       "Buff                470\n",
       "Blue Merle          342\n",
       "Black Brindle       275\n",
       "Blue Tick           177\n",
       "Brown Merle         177\n",
       "Gold                150\n",
       "Red Tick            131\n",
       "Red Merle            87\n",
       "Silver               77\n",
       "Yellow Brindle       73\n",
       "Apricot              65\n",
       "Blue Tiger           31\n",
       "Liver                24\n",
       "Brown Tiger          20\n",
       "Black Smoke          18\n",
       "Blue Cream            5\n",
       "Liver Tick            5\n",
       "Orange                4\n",
       "Calico                2\n",
       "Agouti                2\n",
       "Black Tiger           2\n",
       "Blue Smoke            2\n",
       "Ruddy                 1\n",
       "Name: Color1, dtype: int64"
      ]
     },
     "execution_count": 38,
     "metadata": {},
     "output_type": "execute_result"
    }
   ],
   "source": [
    "color_top10Color1 = [x for x in df3.Color1.value_counts().sort_values(ascending=False).head(30).index]\n",
    "color_top10Color1\n",
    "\n",
    "df3.Color1.value_counts().sort_values(ascending=False).head(40)"
   ]
  },
  {
   "cell_type": "code",
   "execution_count": 39,
   "metadata": {},
   "outputs": [
    {
     "data": {
      "text/plain": [
       "White             17434\n",
       "Black              4311\n",
       "Tan                4063\n",
       "Brown              3526\n",
       "Tricolor            701\n",
       "Brown Brindle       480\n",
       "Gray                324\n",
       "Red                 254\n",
       "Cream               249\n",
       "Blue                191\n",
       "Chocolate           116\n",
       "Buff                 97\n",
       "Silver               57\n",
       "Blue Tick            47\n",
       "Fawn                 47\n",
       "Blue Merle           40\n",
       "Red Tick             40\n",
       "Black Brindle        37\n",
       "Red Merle            29\n",
       "Yellow               29\n",
       "Brown Merle          23\n",
       "Orange               22\n",
       "Liver                16\n",
       "Gold                 11\n",
       "Yellow Brindle        8\n",
       "Blue Cream            6\n",
       "Apricot               5\n",
       "Pink                  4\n",
       "Liver Tick            3\n",
       "Black Smoke           3\n",
       "Blue Tiger            2\n",
       "Brown Tiger           2\n",
       "Black Tiger           1\n",
       "Tortie                1\n",
       "Name: Color2, dtype: int64"
      ]
     },
     "execution_count": 39,
     "metadata": {},
     "output_type": "execute_result"
    }
   ],
   "source": [
    "color_top10Color2 = [x for x in df3.Color2.value_counts().sort_values(ascending=False).head(10).index]\n",
    "color_top10Color2\n",
    "\n",
    "df3.Color2.value_counts().sort_values(ascending=False).head(40)"
   ]
  },
  {
   "cell_type": "markdown",
   "metadata": {},
   "source": [
    "# QUESTION!  Should you simplify the color intake?  "
   ]
  },
  {
   "cell_type": "markdown",
   "metadata": {},
   "source": [
    "#### Creating age categories\n",
    "* Baby: <=6months\n",
    "* Young: 7months-24 months\n",
    "* Adult: 2 years-7years\n",
    "* Senior: 7+"
   ]
  },
  {
   "cell_type": "code",
   "execution_count": 40,
   "metadata": {},
   "outputs": [],
   "source": [
    "df3['Pet_age_category'] = pd.cut(x=df3['Age_month'], bins=[0, 6, 24, 84,240], labels=['Baby', 'Young', 'Adult', 'Senior'])"
   ]
  },
  {
   "cell_type": "code",
   "execution_count": 41,
   "metadata": {},
   "outputs": [
    {
     "data": {
      "text/html": [
       "<div>\n",
       "<style scoped>\n",
       "    .dataframe tbody tr th:only-of-type {\n",
       "        vertical-align: middle;\n",
       "    }\n",
       "\n",
       "    .dataframe tbody tr th {\n",
       "        vertical-align: top;\n",
       "    }\n",
       "\n",
       "    .dataframe thead th {\n",
       "        text-align: right;\n",
       "    }\n",
       "</style>\n",
       "<table border=\"1\" class=\"dataframe\">\n",
       "  <thead>\n",
       "    <tr style=\"text-align: right;\">\n",
       "      <th></th>\n",
       "      <th>Outcome_Type</th>\n",
       "      <th>Sex</th>\n",
       "      <th>Age_month</th>\n",
       "      <th>Breed</th>\n",
       "      <th>Color</th>\n",
       "      <th>Breed_primary</th>\n",
       "      <th>Breed_second</th>\n",
       "      <th>Color1</th>\n",
       "      <th>Color2</th>\n",
       "      <th>Pet_age_category</th>\n",
       "    </tr>\n",
       "  </thead>\n",
       "  <tbody>\n",
       "    <tr>\n",
       "      <th>66772</th>\n",
       "      <td>Euthanasia</td>\n",
       "      <td>Male</td>\n",
       "      <td>216.0</td>\n",
       "      <td>Miniature Schnauzer Mix</td>\n",
       "      <td>Gray</td>\n",
       "      <td>Miniature Schnauzer Mix</td>\n",
       "      <td>None</td>\n",
       "      <td>Gray</td>\n",
       "      <td>None</td>\n",
       "      <td>Senior</td>\n",
       "    </tr>\n",
       "    <tr>\n",
       "      <th>66774</th>\n",
       "      <td>Adoption</td>\n",
       "      <td>Male</td>\n",
       "      <td>216.0</td>\n",
       "      <td>Chihuahua Longhair Mix</td>\n",
       "      <td>White/Tan</td>\n",
       "      <td>Chihuahua Longhair Mix</td>\n",
       "      <td>None</td>\n",
       "      <td>White</td>\n",
       "      <td>Tan</td>\n",
       "      <td>Senior</td>\n",
       "    </tr>\n",
       "    <tr>\n",
       "      <th>66786</th>\n",
       "      <td>Euthanasia</td>\n",
       "      <td>Female</td>\n",
       "      <td>228.0</td>\n",
       "      <td>Miniature Poodle</td>\n",
       "      <td>White</td>\n",
       "      <td>Miniature Poodle</td>\n",
       "      <td>None</td>\n",
       "      <td>White</td>\n",
       "      <td>None</td>\n",
       "      <td>Senior</td>\n",
       "    </tr>\n",
       "    <tr>\n",
       "      <th>66787</th>\n",
       "      <td>Transfer</td>\n",
       "      <td>Male</td>\n",
       "      <td>228.0</td>\n",
       "      <td>Chihuahua Shorthair Mix</td>\n",
       "      <td>Brown</td>\n",
       "      <td>Chihuahua Shorthair Mix</td>\n",
       "      <td>None</td>\n",
       "      <td>Brown</td>\n",
       "      <td>None</td>\n",
       "      <td>Senior</td>\n",
       "    </tr>\n",
       "    <tr>\n",
       "      <th>66790</th>\n",
       "      <td>Euthanasia</td>\n",
       "      <td>Female</td>\n",
       "      <td>228.0</td>\n",
       "      <td>Chihuahua Longhair/Miniature Poodle</td>\n",
       "      <td>White</td>\n",
       "      <td>Chihuahua Longhair</td>\n",
       "      <td>Miniature Poodle</td>\n",
       "      <td>White</td>\n",
       "      <td>None</td>\n",
       "      <td>Senior</td>\n",
       "    </tr>\n",
       "  </tbody>\n",
       "</table>\n",
       "</div>"
      ],
      "text/plain": [
       "      Outcome_Type     Sex  Age_month                                Breed  \\\n",
       "66772   Euthanasia    Male      216.0              Miniature Schnauzer Mix   \n",
       "66774     Adoption    Male      216.0               Chihuahua Longhair Mix   \n",
       "66786   Euthanasia  Female      228.0                     Miniature Poodle   \n",
       "66787     Transfer    Male      228.0              Chihuahua Shorthair Mix   \n",
       "66790   Euthanasia  Female      228.0  Chihuahua Longhair/Miniature Poodle   \n",
       "\n",
       "           Color            Breed_primary      Breed_second Color1 Color2  \\\n",
       "66772       Gray  Miniature Schnauzer Mix              None   Gray   None   \n",
       "66774  White/Tan   Chihuahua Longhair Mix              None  White    Tan   \n",
       "66786      White         Miniature Poodle              None  White   None   \n",
       "66787      Brown  Chihuahua Shorthair Mix              None  Brown   None   \n",
       "66790      White       Chihuahua Longhair  Miniature Poodle  White   None   \n",
       "\n",
       "      Pet_age_category  \n",
       "66772           Senior  \n",
       "66774           Senior  \n",
       "66786           Senior  \n",
       "66787           Senior  \n",
       "66790           Senior  "
      ]
     },
     "execution_count": 41,
     "metadata": {},
     "output_type": "execute_result"
    }
   ],
   "source": [
    "df3.loc[50000:50020, :]\n",
    "df3.tail()"
   ]
  },
  {
   "cell_type": "code",
   "execution_count": 42,
   "metadata": {},
   "outputs": [
    {
     "data": {
      "text/plain": [
       "Young     22342\n",
       "Baby      13355\n",
       "Adult      9249\n",
       "Senior     3077\n",
       "Name: Pet_age_category, dtype: int64"
      ]
     },
     "execution_count": 42,
     "metadata": {},
     "output_type": "execute_result"
    }
   ],
   "source": [
    "# What's the breakdown by Pet_age_category after binning??\n",
    "df3.Pet_age_category.value_counts().sort_values(ascending=False).head(10)"
   ]
  },
  {
   "cell_type": "markdown",
   "metadata": {},
   "source": [
    "## Changing to Binary Outcome - Take the dog or Don't take the dog?\n",
    "* Positive Outcome is Adoption - Take in the dog\n",
    "* Negative Outcome is a combination of Transfer, Euthanized and Death categories - Don't take in the dog"
   ]
  },
  {
   "cell_type": "code",
   "execution_count": 44,
   "metadata": {},
   "outputs": [
    {
     "data": {
      "text/html": [
       "<div>\n",
       "<style scoped>\n",
       "    .dataframe tbody tr th:only-of-type {\n",
       "        vertical-align: middle;\n",
       "    }\n",
       "\n",
       "    .dataframe tbody tr th {\n",
       "        vertical-align: top;\n",
       "    }\n",
       "\n",
       "    .dataframe thead th {\n",
       "        text-align: right;\n",
       "    }\n",
       "</style>\n",
       "<table border=\"1\" class=\"dataframe\">\n",
       "  <thead>\n",
       "    <tr style=\"text-align: right;\">\n",
       "      <th></th>\n",
       "      <th>Outcome_Type</th>\n",
       "      <th>Sex</th>\n",
       "      <th>Age_month</th>\n",
       "      <th>Breed</th>\n",
       "      <th>Color</th>\n",
       "      <th>Breed_primary</th>\n",
       "      <th>Breed_second</th>\n",
       "      <th>Color1</th>\n",
       "      <th>Color2</th>\n",
       "      <th>Pet_age_category</th>\n",
       "      <th>Binary_outcome</th>\n",
       "    </tr>\n",
       "  </thead>\n",
       "  <tbody>\n",
       "    <tr>\n",
       "      <th>0</th>\n",
       "      <td>Adoption</td>\n",
       "      <td>Female</td>\n",
       "      <td>1.000000</td>\n",
       "      <td>Border Collie Mix</td>\n",
       "      <td>Chocolate/White</td>\n",
       "      <td>Border Collie Mix</td>\n",
       "      <td>None</td>\n",
       "      <td>Chocolate</td>\n",
       "      <td>White</td>\n",
       "      <td>Baby</td>\n",
       "      <td>Negative</td>\n",
       "    </tr>\n",
       "    <tr>\n",
       "      <th>1</th>\n",
       "      <td>Transfer</td>\n",
       "      <td>Male</td>\n",
       "      <td>0.066667</td>\n",
       "      <td>German Shepherd Mix</td>\n",
       "      <td>Brown</td>\n",
       "      <td>German Shepherd Mix</td>\n",
       "      <td>None</td>\n",
       "      <td>Brown</td>\n",
       "      <td>None</td>\n",
       "      <td>Baby</td>\n",
       "      <td>Negative</td>\n",
       "    </tr>\n",
       "    <tr>\n",
       "      <th>2</th>\n",
       "      <td>Transfer</td>\n",
       "      <td>Male</td>\n",
       "      <td>0.066667</td>\n",
       "      <td>Labrador Retriever Mix</td>\n",
       "      <td>Black/White</td>\n",
       "      <td>Labrador Retriever Mix</td>\n",
       "      <td>None</td>\n",
       "      <td>Black</td>\n",
       "      <td>White</td>\n",
       "      <td>Baby</td>\n",
       "      <td>Negative</td>\n",
       "    </tr>\n",
       "    <tr>\n",
       "      <th>4</th>\n",
       "      <td>Transfer</td>\n",
       "      <td>Female</td>\n",
       "      <td>0.066667</td>\n",
       "      <td>Dachshund Mix</td>\n",
       "      <td>Brown</td>\n",
       "      <td>Dachshund Mix</td>\n",
       "      <td>None</td>\n",
       "      <td>Brown</td>\n",
       "      <td>None</td>\n",
       "      <td>Baby</td>\n",
       "      <td>Negative</td>\n",
       "    </tr>\n",
       "    <tr>\n",
       "      <th>6</th>\n",
       "      <td>Transfer</td>\n",
       "      <td>Female</td>\n",
       "      <td>0.066667</td>\n",
       "      <td>Pit Bull Mix</td>\n",
       "      <td>Chocolate/White</td>\n",
       "      <td>Pit Bull Mix</td>\n",
       "      <td>None</td>\n",
       "      <td>Chocolate</td>\n",
       "      <td>White</td>\n",
       "      <td>Baby</td>\n",
       "      <td>Negative</td>\n",
       "    </tr>\n",
       "  </tbody>\n",
       "</table>\n",
       "</div>"
      ],
      "text/plain": [
       "  Outcome_Type     Sex  Age_month                   Breed            Color  \\\n",
       "0     Adoption  Female   1.000000       Border Collie Mix  Chocolate/White   \n",
       "1     Transfer    Male   0.066667     German Shepherd Mix            Brown   \n",
       "2     Transfer    Male   0.066667  Labrador Retriever Mix      Black/White   \n",
       "4     Transfer  Female   0.066667           Dachshund Mix            Brown   \n",
       "6     Transfer  Female   0.066667            Pit Bull Mix  Chocolate/White   \n",
       "\n",
       "            Breed_primary Breed_second     Color1 Color2 Pet_age_category  \\\n",
       "0       Border Collie Mix         None  Chocolate  White             Baby   \n",
       "1     German Shepherd Mix         None      Brown   None             Baby   \n",
       "2  Labrador Retriever Mix         None      Black  White             Baby   \n",
       "4           Dachshund Mix         None      Brown   None             Baby   \n",
       "6            Pit Bull Mix         None  Chocolate  White             Baby   \n",
       "\n",
       "  Binary_outcome  \n",
       "0       Negative  \n",
       "1       Negative  \n",
       "2       Negative  \n",
       "4       Negative  \n",
       "6       Negative  "
      ]
     },
     "execution_count": 44,
     "metadata": {},
     "output_type": "execute_result"
    }
   ],
   "source": [
    "# Create new BINARY_OUTCOME column and set to 0\n",
    "\n",
    "df3[\"Binary_outcome\"]=\"Negative\"\n",
    "df3.head()"
   ]
  },
  {
   "cell_type": "code",
   "execution_count": 45,
   "metadata": {},
   "outputs": [],
   "source": [
    "# Find rows containing word \"Adoption\" and set to 1 (for Positive Outcome)\n",
    "# All other rows will be 0 (for Negative Outcome)\n",
    "\n",
    "df3.loc[df3[\"Outcome_Type\"].str.contains(\"Adoption\"), \"Binary_outcome\"] = \"Positive\""
   ]
  },
  {
   "cell_type": "code",
   "execution_count": 46,
   "metadata": {},
   "outputs": [
    {
     "data": {
      "text/html": [
       "<div>\n",
       "<style scoped>\n",
       "    .dataframe tbody tr th:only-of-type {\n",
       "        vertical-align: middle;\n",
       "    }\n",
       "\n",
       "    .dataframe tbody tr th {\n",
       "        vertical-align: top;\n",
       "    }\n",
       "\n",
       "    .dataframe thead th {\n",
       "        text-align: right;\n",
       "    }\n",
       "</style>\n",
       "<table border=\"1\" class=\"dataframe\">\n",
       "  <thead>\n",
       "    <tr style=\"text-align: right;\">\n",
       "      <th></th>\n",
       "      <th>Outcome_Type</th>\n",
       "      <th>Sex</th>\n",
       "      <th>Age_month</th>\n",
       "      <th>Breed</th>\n",
       "      <th>Color</th>\n",
       "      <th>Breed_primary</th>\n",
       "      <th>Breed_second</th>\n",
       "      <th>Color1</th>\n",
       "      <th>Color2</th>\n",
       "      <th>Pet_age_category</th>\n",
       "      <th>Binary_outcome</th>\n",
       "    </tr>\n",
       "  </thead>\n",
       "  <tbody>\n",
       "    <tr>\n",
       "      <th>200</th>\n",
       "      <td>Transfer</td>\n",
       "      <td>Female</td>\n",
       "      <td>0.2</td>\n",
       "      <td>Dachshund</td>\n",
       "      <td>Tan</td>\n",
       "      <td>Dachshund</td>\n",
       "      <td>None</td>\n",
       "      <td>Tan</td>\n",
       "      <td>None</td>\n",
       "      <td>Baby</td>\n",
       "      <td>Negative</td>\n",
       "    </tr>\n",
       "    <tr>\n",
       "      <th>201</th>\n",
       "      <td>Transfer</td>\n",
       "      <td>Male</td>\n",
       "      <td>0.2</td>\n",
       "      <td>Dachshund</td>\n",
       "      <td>Tan</td>\n",
       "      <td>Dachshund</td>\n",
       "      <td>None</td>\n",
       "      <td>Tan</td>\n",
       "      <td>None</td>\n",
       "      <td>Baby</td>\n",
       "      <td>Negative</td>\n",
       "    </tr>\n",
       "    <tr>\n",
       "      <th>205</th>\n",
       "      <td>Transfer</td>\n",
       "      <td>Female</td>\n",
       "      <td>0.2</td>\n",
       "      <td>German Shepherd/Rottweiler</td>\n",
       "      <td>Brown/Black</td>\n",
       "      <td>German Shepherd</td>\n",
       "      <td>Rottweiler</td>\n",
       "      <td>Brown</td>\n",
       "      <td>Black</td>\n",
       "      <td>Baby</td>\n",
       "      <td>Negative</td>\n",
       "    </tr>\n",
       "    <tr>\n",
       "      <th>206</th>\n",
       "      <td>Transfer</td>\n",
       "      <td>Female</td>\n",
       "      <td>0.2</td>\n",
       "      <td>Labrador Retriever/Pit Bull</td>\n",
       "      <td>Brown Brindle</td>\n",
       "      <td>Labrador Retriever</td>\n",
       "      <td>Pit Bull</td>\n",
       "      <td>Brown Brindle</td>\n",
       "      <td>None</td>\n",
       "      <td>Baby</td>\n",
       "      <td>Negative</td>\n",
       "    </tr>\n",
       "    <tr>\n",
       "      <th>208</th>\n",
       "      <td>Transfer</td>\n",
       "      <td>Female</td>\n",
       "      <td>0.2</td>\n",
       "      <td>Rat Terrier Mix</td>\n",
       "      <td>White</td>\n",
       "      <td>Rat Terrier Mix</td>\n",
       "      <td>None</td>\n",
       "      <td>White</td>\n",
       "      <td>None</td>\n",
       "      <td>Baby</td>\n",
       "      <td>Negative</td>\n",
       "    </tr>\n",
       "    <tr>\n",
       "      <th>...</th>\n",
       "      <td>...</td>\n",
       "      <td>...</td>\n",
       "      <td>...</td>\n",
       "      <td>...</td>\n",
       "      <td>...</td>\n",
       "      <td>...</td>\n",
       "      <td>...</td>\n",
       "      <td>...</td>\n",
       "      <td>...</td>\n",
       "      <td>...</td>\n",
       "      <td>...</td>\n",
       "    </tr>\n",
       "    <tr>\n",
       "      <th>296</th>\n",
       "      <td>Transfer</td>\n",
       "      <td>Female</td>\n",
       "      <td>1.0</td>\n",
       "      <td>German Shepherd Mix</td>\n",
       "      <td>Brown</td>\n",
       "      <td>German Shepherd Mix</td>\n",
       "      <td>None</td>\n",
       "      <td>Brown</td>\n",
       "      <td>None</td>\n",
       "      <td>Baby</td>\n",
       "      <td>Negative</td>\n",
       "    </tr>\n",
       "    <tr>\n",
       "      <th>297</th>\n",
       "      <td>Transfer</td>\n",
       "      <td>Male</td>\n",
       "      <td>1.0</td>\n",
       "      <td>Australian Cattle Dog Mix</td>\n",
       "      <td>Cream/Brown Merle</td>\n",
       "      <td>Australian Cattle Dog Mix</td>\n",
       "      <td>None</td>\n",
       "      <td>Cream</td>\n",
       "      <td>Brown Merle</td>\n",
       "      <td>Baby</td>\n",
       "      <td>Negative</td>\n",
       "    </tr>\n",
       "    <tr>\n",
       "      <th>298</th>\n",
       "      <td>Adoption</td>\n",
       "      <td>Female</td>\n",
       "      <td>1.0</td>\n",
       "      <td>Labrador Retriever Mix</td>\n",
       "      <td>Tan</td>\n",
       "      <td>Labrador Retriever Mix</td>\n",
       "      <td>None</td>\n",
       "      <td>Tan</td>\n",
       "      <td>None</td>\n",
       "      <td>Baby</td>\n",
       "      <td>Positive</td>\n",
       "    </tr>\n",
       "    <tr>\n",
       "      <th>299</th>\n",
       "      <td>Transfer</td>\n",
       "      <td>Male</td>\n",
       "      <td>1.0</td>\n",
       "      <td>Jack Russell Terrier Mix</td>\n",
       "      <td>Sable</td>\n",
       "      <td>Jack Russell Terrier Mix</td>\n",
       "      <td>None</td>\n",
       "      <td>Sable</td>\n",
       "      <td>None</td>\n",
       "      <td>Baby</td>\n",
       "      <td>Negative</td>\n",
       "    </tr>\n",
       "    <tr>\n",
       "      <th>300</th>\n",
       "      <td>Adoption</td>\n",
       "      <td>Male</td>\n",
       "      <td>1.0</td>\n",
       "      <td>Labrador Retriever/Blue Lacy</td>\n",
       "      <td>Tan/White</td>\n",
       "      <td>Labrador Retriever</td>\n",
       "      <td>Blue Lacy</td>\n",
       "      <td>Tan</td>\n",
       "      <td>White</td>\n",
       "      <td>Baby</td>\n",
       "      <td>Positive</td>\n",
       "    </tr>\n",
       "  </tbody>\n",
       "</table>\n",
       "<p>90 rows × 11 columns</p>\n",
       "</div>"
      ],
      "text/plain": [
       "    Outcome_Type     Sex  Age_month                         Breed  \\\n",
       "200     Transfer  Female        0.2                     Dachshund   \n",
       "201     Transfer    Male        0.2                     Dachshund   \n",
       "205     Transfer  Female        0.2    German Shepherd/Rottweiler   \n",
       "206     Transfer  Female        0.2   Labrador Retriever/Pit Bull   \n",
       "208     Transfer  Female        0.2               Rat Terrier Mix   \n",
       "..           ...     ...        ...                           ...   \n",
       "296     Transfer  Female        1.0           German Shepherd Mix   \n",
       "297     Transfer    Male        1.0     Australian Cattle Dog Mix   \n",
       "298     Adoption  Female        1.0        Labrador Retriever Mix   \n",
       "299     Transfer    Male        1.0      Jack Russell Terrier Mix   \n",
       "300     Adoption    Male        1.0  Labrador Retriever/Blue Lacy   \n",
       "\n",
       "                 Color              Breed_primary Breed_second         Color1  \\\n",
       "200                Tan                  Dachshund         None            Tan   \n",
       "201                Tan                  Dachshund         None            Tan   \n",
       "205        Brown/Black            German Shepherd   Rottweiler          Brown   \n",
       "206      Brown Brindle         Labrador Retriever     Pit Bull  Brown Brindle   \n",
       "208              White            Rat Terrier Mix         None          White   \n",
       "..                 ...                        ...          ...            ...   \n",
       "296              Brown        German Shepherd Mix         None          Brown   \n",
       "297  Cream/Brown Merle  Australian Cattle Dog Mix         None          Cream   \n",
       "298                Tan     Labrador Retriever Mix         None            Tan   \n",
       "299              Sable   Jack Russell Terrier Mix         None          Sable   \n",
       "300          Tan/White         Labrador Retriever    Blue Lacy            Tan   \n",
       "\n",
       "          Color2 Pet_age_category Binary_outcome  \n",
       "200         None             Baby       Negative  \n",
       "201         None             Baby       Negative  \n",
       "205        Black             Baby       Negative  \n",
       "206         None             Baby       Negative  \n",
       "208         None             Baby       Negative  \n",
       "..           ...              ...            ...  \n",
       "296         None             Baby       Negative  \n",
       "297  Brown Merle             Baby       Negative  \n",
       "298         None             Baby       Positive  \n",
       "299         None             Baby       Negative  \n",
       "300        White             Baby       Positive  \n",
       "\n",
       "[90 rows x 11 columns]"
      ]
     },
     "execution_count": 46,
     "metadata": {},
     "output_type": "execute_result"
    }
   ],
   "source": [
    "df3.loc[200:300, :]"
   ]
  },
  {
   "cell_type": "markdown",
   "metadata": {},
   "source": [
    "## Still get_dummies"
   ]
  },
  {
   "cell_type": "code",
   "execution_count": 47,
   "metadata": {},
   "outputs": [
    {
     "data": {
      "text/html": [
       "<div>\n",
       "<style scoped>\n",
       "    .dataframe tbody tr th:only-of-type {\n",
       "        vertical-align: middle;\n",
       "    }\n",
       "\n",
       "    .dataframe tbody tr th {\n",
       "        vertical-align: top;\n",
       "    }\n",
       "\n",
       "    .dataframe thead th {\n",
       "        text-align: right;\n",
       "    }\n",
       "</style>\n",
       "<table border=\"1\" class=\"dataframe\">\n",
       "  <thead>\n",
       "    <tr style=\"text-align: right;\">\n",
       "      <th></th>\n",
       "      <th>Outcome_Type</th>\n",
       "      <th>Sex</th>\n",
       "      <th>Age_month</th>\n",
       "      <th>Breed</th>\n",
       "      <th>Color</th>\n",
       "      <th>Breed_primary</th>\n",
       "      <th>Breed_second</th>\n",
       "      <th>Color1</th>\n",
       "      <th>Color2</th>\n",
       "      <th>Pet_age_category</th>\n",
       "      <th>Binary_outcome</th>\n",
       "    </tr>\n",
       "  </thead>\n",
       "  <tbody>\n",
       "    <tr>\n",
       "      <th>0</th>\n",
       "      <td>Adoption</td>\n",
       "      <td>Female</td>\n",
       "      <td>1.000000</td>\n",
       "      <td>Border Collie Mix</td>\n",
       "      <td>Chocolate/White</td>\n",
       "      <td>Border Collie Mix</td>\n",
       "      <td>None</td>\n",
       "      <td>Chocolate</td>\n",
       "      <td>White</td>\n",
       "      <td>Baby</td>\n",
       "      <td>Positive</td>\n",
       "    </tr>\n",
       "    <tr>\n",
       "      <th>1</th>\n",
       "      <td>Transfer</td>\n",
       "      <td>Male</td>\n",
       "      <td>0.066667</td>\n",
       "      <td>German Shepherd Mix</td>\n",
       "      <td>Brown</td>\n",
       "      <td>German Shepherd Mix</td>\n",
       "      <td>None</td>\n",
       "      <td>Brown</td>\n",
       "      <td>None</td>\n",
       "      <td>Baby</td>\n",
       "      <td>Negative</td>\n",
       "    </tr>\n",
       "    <tr>\n",
       "      <th>2</th>\n",
       "      <td>Transfer</td>\n",
       "      <td>Male</td>\n",
       "      <td>0.066667</td>\n",
       "      <td>Labrador Retriever Mix</td>\n",
       "      <td>Black/White</td>\n",
       "      <td>Labrador Retriever Mix</td>\n",
       "      <td>None</td>\n",
       "      <td>Black</td>\n",
       "      <td>White</td>\n",
       "      <td>Baby</td>\n",
       "      <td>Negative</td>\n",
       "    </tr>\n",
       "    <tr>\n",
       "      <th>4</th>\n",
       "      <td>Transfer</td>\n",
       "      <td>Female</td>\n",
       "      <td>0.066667</td>\n",
       "      <td>Dachshund Mix</td>\n",
       "      <td>Brown</td>\n",
       "      <td>Dachshund Mix</td>\n",
       "      <td>None</td>\n",
       "      <td>Brown</td>\n",
       "      <td>None</td>\n",
       "      <td>Baby</td>\n",
       "      <td>Negative</td>\n",
       "    </tr>\n",
       "    <tr>\n",
       "      <th>6</th>\n",
       "      <td>Transfer</td>\n",
       "      <td>Female</td>\n",
       "      <td>0.066667</td>\n",
       "      <td>Pit Bull Mix</td>\n",
       "      <td>Chocolate/White</td>\n",
       "      <td>Pit Bull Mix</td>\n",
       "      <td>None</td>\n",
       "      <td>Chocolate</td>\n",
       "      <td>White</td>\n",
       "      <td>Baby</td>\n",
       "      <td>Negative</td>\n",
       "    </tr>\n",
       "  </tbody>\n",
       "</table>\n",
       "</div>"
      ],
      "text/plain": [
       "  Outcome_Type     Sex  Age_month                   Breed            Color  \\\n",
       "0     Adoption  Female   1.000000       Border Collie Mix  Chocolate/White   \n",
       "1     Transfer    Male   0.066667     German Shepherd Mix            Brown   \n",
       "2     Transfer    Male   0.066667  Labrador Retriever Mix      Black/White   \n",
       "4     Transfer  Female   0.066667           Dachshund Mix            Brown   \n",
       "6     Transfer  Female   0.066667            Pit Bull Mix  Chocolate/White   \n",
       "\n",
       "            Breed_primary Breed_second     Color1 Color2 Pet_age_category  \\\n",
       "0       Border Collie Mix         None  Chocolate  White             Baby   \n",
       "1     German Shepherd Mix         None      Brown   None             Baby   \n",
       "2  Labrador Retriever Mix         None      Black  White             Baby   \n",
       "4           Dachshund Mix         None      Brown   None             Baby   \n",
       "6            Pit Bull Mix         None  Chocolate  White             Baby   \n",
       "\n",
       "  Binary_outcome  \n",
       "0       Positive  \n",
       "1       Negative  \n",
       "2       Negative  \n",
       "4       Negative  \n",
       "6       Negative  "
      ]
     },
     "execution_count": 47,
     "metadata": {},
     "output_type": "execute_result"
    }
   ],
   "source": [
    "df3.head()"
   ]
  },
  {
   "cell_type": "code",
   "execution_count": 48,
   "metadata": {},
   "outputs": [],
   "source": [
    "# Drop these columns:\n",
    "# Outcome_Type column since we now have Binary_outcome \n",
    "# Age_month since we have Pet_age_category\n",
    "# Breed since we have Breed_primary, Breed_second     - SHOULD BE DROP BREED_SECOND??\n",
    "# Color since we have Color1, Color2\n",
    "df4 = df3.drop(columns=['Outcome_Type','Age_month', 'Breed', 'Color' ])"
   ]
  },
  {
   "cell_type": "markdown",
   "metadata": {},
   "source": [
    "# QUESTION!  \n",
    "1. Should be take out BREED_SECOND? - Dont get_dummy Breed_second\n",
    "2. Should be take out COLOR2?"
   ]
  },
  {
   "cell_type": "code",
   "execution_count": 49,
   "metadata": {},
   "outputs": [
    {
     "data": {
      "text/html": [
       "<div>\n",
       "<style scoped>\n",
       "    .dataframe tbody tr th:only-of-type {\n",
       "        vertical-align: middle;\n",
       "    }\n",
       "\n",
       "    .dataframe tbody tr th {\n",
       "        vertical-align: top;\n",
       "    }\n",
       "\n",
       "    .dataframe thead th {\n",
       "        text-align: right;\n",
       "    }\n",
       "</style>\n",
       "<table border=\"1\" class=\"dataframe\">\n",
       "  <thead>\n",
       "    <tr style=\"text-align: right;\">\n",
       "      <th></th>\n",
       "      <th>Sex</th>\n",
       "      <th>Breed_primary</th>\n",
       "      <th>Breed_second</th>\n",
       "      <th>Color1</th>\n",
       "      <th>Color2</th>\n",
       "      <th>Pet_age_category</th>\n",
       "      <th>Binary_outcome</th>\n",
       "    </tr>\n",
       "  </thead>\n",
       "  <tbody>\n",
       "    <tr>\n",
       "      <th>0</th>\n",
       "      <td>Female</td>\n",
       "      <td>Border Collie Mix</td>\n",
       "      <td>None</td>\n",
       "      <td>Chocolate</td>\n",
       "      <td>White</td>\n",
       "      <td>Baby</td>\n",
       "      <td>Positive</td>\n",
       "    </tr>\n",
       "    <tr>\n",
       "      <th>1</th>\n",
       "      <td>Male</td>\n",
       "      <td>German Shepherd Mix</td>\n",
       "      <td>None</td>\n",
       "      <td>Brown</td>\n",
       "      <td>None</td>\n",
       "      <td>Baby</td>\n",
       "      <td>Negative</td>\n",
       "    </tr>\n",
       "    <tr>\n",
       "      <th>2</th>\n",
       "      <td>Male</td>\n",
       "      <td>Labrador Retriever Mix</td>\n",
       "      <td>None</td>\n",
       "      <td>Black</td>\n",
       "      <td>White</td>\n",
       "      <td>Baby</td>\n",
       "      <td>Negative</td>\n",
       "    </tr>\n",
       "    <tr>\n",
       "      <th>4</th>\n",
       "      <td>Female</td>\n",
       "      <td>Dachshund Mix</td>\n",
       "      <td>None</td>\n",
       "      <td>Brown</td>\n",
       "      <td>None</td>\n",
       "      <td>Baby</td>\n",
       "      <td>Negative</td>\n",
       "    </tr>\n",
       "    <tr>\n",
       "      <th>6</th>\n",
       "      <td>Female</td>\n",
       "      <td>Pit Bull Mix</td>\n",
       "      <td>None</td>\n",
       "      <td>Chocolate</td>\n",
       "      <td>White</td>\n",
       "      <td>Baby</td>\n",
       "      <td>Negative</td>\n",
       "    </tr>\n",
       "  </tbody>\n",
       "</table>\n",
       "</div>"
      ],
      "text/plain": [
       "      Sex           Breed_primary Breed_second     Color1 Color2  \\\n",
       "0  Female       Border Collie Mix         None  Chocolate  White   \n",
       "1    Male     German Shepherd Mix         None      Brown   None   \n",
       "2    Male  Labrador Retriever Mix         None      Black  White   \n",
       "4  Female           Dachshund Mix         None      Brown   None   \n",
       "6  Female            Pit Bull Mix         None  Chocolate  White   \n",
       "\n",
       "  Pet_age_category Binary_outcome  \n",
       "0             Baby       Positive  \n",
       "1             Baby       Negative  \n",
       "2             Baby       Negative  \n",
       "4             Baby       Negative  \n",
       "6             Baby       Negative  "
      ]
     },
     "execution_count": 49,
     "metadata": {},
     "output_type": "execute_result"
    }
   ],
   "source": [
    "df4.head()"
   ]
  },
  {
   "cell_type": "code",
   "execution_count": null,
   "metadata": {},
   "outputs": [],
   "source": [
    "# # import preprocessing from sklearn\n",
    "# from sklearn.preprocessing import LabelEncoder"
   ]
  },
  {
   "cell_type": "code",
   "execution_count": null,
   "metadata": {},
   "outputs": [],
   "source": [
    "# df5.dtypes"
   ]
  },
  {
   "cell_type": "code",
   "execution_count": 79,
   "metadata": {},
   "outputs": [
    {
     "data": {
      "text/html": [
       "<div>\n",
       "<style scoped>\n",
       "    .dataframe tbody tr th:only-of-type {\n",
       "        vertical-align: middle;\n",
       "    }\n",
       "\n",
       "    .dataframe tbody tr th {\n",
       "        vertical-align: top;\n",
       "    }\n",
       "\n",
       "    .dataframe thead th {\n",
       "        text-align: right;\n",
       "    }\n",
       "</style>\n",
       "<table border=\"1\" class=\"dataframe\">\n",
       "  <thead>\n",
       "    <tr style=\"text-align: right;\">\n",
       "      <th></th>\n",
       "      <th>Sex_Female</th>\n",
       "      <th>Sex_Male</th>\n",
       "      <th>Breed_primary_Affenpinscher Mix</th>\n",
       "      <th>Breed_primary_Afghan Hound</th>\n",
       "      <th>Breed_primary_Airedale Terrier</th>\n",
       "      <th>Breed_primary_Airedale Terrier Mix</th>\n",
       "      <th>Breed_primary_Akbash Mix</th>\n",
       "      <th>Breed_primary_Akita</th>\n",
       "      <th>Breed_primary_Akita Mix</th>\n",
       "      <th>Breed_primary_Alaskan Husky</th>\n",
       "      <th>...</th>\n",
       "      <th>Color1_Tricolor</th>\n",
       "      <th>Color1_White</th>\n",
       "      <th>Color1_Yellow</th>\n",
       "      <th>Color1_Yellow Brindle</th>\n",
       "      <th>Pet_age_category_Baby</th>\n",
       "      <th>Pet_age_category_Young</th>\n",
       "      <th>Pet_age_category_Adult</th>\n",
       "      <th>Pet_age_category_Senior</th>\n",
       "      <th>Binary_outcome_Negative</th>\n",
       "      <th>Binary_outcome_Positive</th>\n",
       "    </tr>\n",
       "  </thead>\n",
       "  <tbody>\n",
       "    <tr>\n",
       "      <th>0</th>\n",
       "      <td>1</td>\n",
       "      <td>0</td>\n",
       "      <td>0</td>\n",
       "      <td>0</td>\n",
       "      <td>0</td>\n",
       "      <td>0</td>\n",
       "      <td>0</td>\n",
       "      <td>0</td>\n",
       "      <td>0</td>\n",
       "      <td>0</td>\n",
       "      <td>...</td>\n",
       "      <td>0</td>\n",
       "      <td>0</td>\n",
       "      <td>0</td>\n",
       "      <td>0</td>\n",
       "      <td>1</td>\n",
       "      <td>0</td>\n",
       "      <td>0</td>\n",
       "      <td>0</td>\n",
       "      <td>0</td>\n",
       "      <td>1</td>\n",
       "    </tr>\n",
       "    <tr>\n",
       "      <th>1</th>\n",
       "      <td>0</td>\n",
       "      <td>1</td>\n",
       "      <td>0</td>\n",
       "      <td>0</td>\n",
       "      <td>0</td>\n",
       "      <td>0</td>\n",
       "      <td>0</td>\n",
       "      <td>0</td>\n",
       "      <td>0</td>\n",
       "      <td>0</td>\n",
       "      <td>...</td>\n",
       "      <td>0</td>\n",
       "      <td>0</td>\n",
       "      <td>0</td>\n",
       "      <td>0</td>\n",
       "      <td>1</td>\n",
       "      <td>0</td>\n",
       "      <td>0</td>\n",
       "      <td>0</td>\n",
       "      <td>1</td>\n",
       "      <td>0</td>\n",
       "    </tr>\n",
       "    <tr>\n",
       "      <th>2</th>\n",
       "      <td>0</td>\n",
       "      <td>1</td>\n",
       "      <td>0</td>\n",
       "      <td>0</td>\n",
       "      <td>0</td>\n",
       "      <td>0</td>\n",
       "      <td>0</td>\n",
       "      <td>0</td>\n",
       "      <td>0</td>\n",
       "      <td>0</td>\n",
       "      <td>...</td>\n",
       "      <td>0</td>\n",
       "      <td>0</td>\n",
       "      <td>0</td>\n",
       "      <td>0</td>\n",
       "      <td>1</td>\n",
       "      <td>0</td>\n",
       "      <td>0</td>\n",
       "      <td>0</td>\n",
       "      <td>1</td>\n",
       "      <td>0</td>\n",
       "    </tr>\n",
       "    <tr>\n",
       "      <th>4</th>\n",
       "      <td>1</td>\n",
       "      <td>0</td>\n",
       "      <td>0</td>\n",
       "      <td>0</td>\n",
       "      <td>0</td>\n",
       "      <td>0</td>\n",
       "      <td>0</td>\n",
       "      <td>0</td>\n",
       "      <td>0</td>\n",
       "      <td>0</td>\n",
       "      <td>...</td>\n",
       "      <td>0</td>\n",
       "      <td>0</td>\n",
       "      <td>0</td>\n",
       "      <td>0</td>\n",
       "      <td>1</td>\n",
       "      <td>0</td>\n",
       "      <td>0</td>\n",
       "      <td>0</td>\n",
       "      <td>1</td>\n",
       "      <td>0</td>\n",
       "    </tr>\n",
       "    <tr>\n",
       "      <th>6</th>\n",
       "      <td>1</td>\n",
       "      <td>0</td>\n",
       "      <td>0</td>\n",
       "      <td>0</td>\n",
       "      <td>0</td>\n",
       "      <td>0</td>\n",
       "      <td>0</td>\n",
       "      <td>0</td>\n",
       "      <td>0</td>\n",
       "      <td>0</td>\n",
       "      <td>...</td>\n",
       "      <td>0</td>\n",
       "      <td>0</td>\n",
       "      <td>0</td>\n",
       "      <td>0</td>\n",
       "      <td>1</td>\n",
       "      <td>0</td>\n",
       "      <td>0</td>\n",
       "      <td>0</td>\n",
       "      <td>1</td>\n",
       "      <td>0</td>\n",
       "    </tr>\n",
       "  </tbody>\n",
       "</table>\n",
       "<p>5 rows × 416 columns</p>\n",
       "</div>"
      ],
      "text/plain": [
       "   Sex_Female  Sex_Male  Breed_primary_Affenpinscher Mix  \\\n",
       "0           1         0                                0   \n",
       "1           0         1                                0   \n",
       "2           0         1                                0   \n",
       "4           1         0                                0   \n",
       "6           1         0                                0   \n",
       "\n",
       "   Breed_primary_Afghan Hound  Breed_primary_Airedale Terrier  \\\n",
       "0                           0                               0   \n",
       "1                           0                               0   \n",
       "2                           0                               0   \n",
       "4                           0                               0   \n",
       "6                           0                               0   \n",
       "\n",
       "   Breed_primary_Airedale Terrier Mix  Breed_primary_Akbash Mix  \\\n",
       "0                                   0                         0   \n",
       "1                                   0                         0   \n",
       "2                                   0                         0   \n",
       "4                                   0                         0   \n",
       "6                                   0                         0   \n",
       "\n",
       "   Breed_primary_Akita  Breed_primary_Akita Mix  Breed_primary_Alaskan Husky  \\\n",
       "0                    0                        0                            0   \n",
       "1                    0                        0                            0   \n",
       "2                    0                        0                            0   \n",
       "4                    0                        0                            0   \n",
       "6                    0                        0                            0   \n",
       "\n",
       "   ...  Color1_Tricolor  Color1_White  Color1_Yellow  Color1_Yellow Brindle  \\\n",
       "0  ...                0             0              0                      0   \n",
       "1  ...                0             0              0                      0   \n",
       "2  ...                0             0              0                      0   \n",
       "4  ...                0             0              0                      0   \n",
       "6  ...                0             0              0                      0   \n",
       "\n",
       "   Pet_age_category_Baby  Pet_age_category_Young  Pet_age_category_Adult  \\\n",
       "0                      1                       0                       0   \n",
       "1                      1                       0                       0   \n",
       "2                      1                       0                       0   \n",
       "4                      1                       0                       0   \n",
       "6                      1                       0                       0   \n",
       "\n",
       "   Pet_age_category_Senior  Binary_outcome_Negative  Binary_outcome_Positive  \n",
       "0                        0                        0                        1  \n",
       "1                        0                        1                        0  \n",
       "2                        0                        1                        0  \n",
       "4                        0                        1                        0  \n",
       "6                        0                        1                        0  \n",
       "\n",
       "[5 rows x 416 columns]"
      ]
     },
     "execution_count": 79,
     "metadata": {},
     "output_type": "execute_result"
    }
   ],
   "source": [
    "# V1 - all in\n",
    "# df6 = pd.get_dummies(df5[['Fixed', 'Sex', 'Mix', 'Breed_primary', 'Breed_second', 'Color1', 'Color2', 'Pet_age_category', 'Binary_outcome']])\n",
    "# df6.loc[5120:5130, :]\n",
    "\n",
    "# V2 - took out 'Breed_second'\n",
    "# df6 = pd.get_dummies(df5[['Fixed', 'Sex', 'Mix', 'Breed_primary', 'Color1', 'Color2', 'Pet_age_category', 'Binary_outcome']])\n",
    "# df6.loc[5120:5130, :]\n",
    "\n",
    "# V3 - took out 'Breed_second' AND 'Color2'   \n",
    "df5 = pd.get_dummies(df4[['Sex', 'Breed_primary', 'Color1', 'Pet_age_category', 'Binary_outcome']])\n",
    "df5.head()"
   ]
  },
  {
   "cell_type": "code",
   "execution_count": 54,
   "metadata": {},
   "outputs": [
    {
     "data": {
      "text/plain": [
       "Index(['Sex_Female', 'Sex_Male', 'Breed_primary_Affenpinscher Mix',\n",
       "       'Breed_primary_Afghan Hound', 'Breed_primary_Airedale Terrier',\n",
       "       'Breed_primary_Airedale Terrier Mix', 'Breed_primary_Akbash Mix',\n",
       "       'Breed_primary_Akita', 'Breed_primary_Akita Mix',\n",
       "       'Breed_primary_Alaskan Husky',\n",
       "       ...\n",
       "       'Color1_Tricolor', 'Color1_White', 'Color1_Yellow',\n",
       "       'Color1_Yellow Brindle', 'Pet_age_category_Baby',\n",
       "       'Pet_age_category_Young', 'Pet_age_category_Adult',\n",
       "       'Pet_age_category_Senior', 'Binary_outcome_Negative',\n",
       "       'Binary_outcome_Positive'],\n",
       "      dtype='object', length=416)"
      ]
     },
     "execution_count": 54,
     "metadata": {},
     "output_type": "execute_result"
    }
   ],
   "source": [
    "df5.columns"
   ]
  },
  {
   "cell_type": "code",
   "execution_count": 56,
   "metadata": {},
   "outputs": [],
   "source": [
    "# Define X and y\n",
    "X = df5.drop(['Binary_outcome_Negative', 'Binary_outcome_Positive','Sex_Female', 'Pet_age_category_Senior', 'Color1_Tricolor','Breed_primary_Affenpinscher Mix'], axis=\"columns\")\n",
    "y = df5[['Binary_outcome_Positive']]"
   ]
  },
  {
   "cell_type": "code",
   "execution_count": 57,
   "metadata": {},
   "outputs": [
    {
     "data": {
      "text/plain": [
       "(48025, 410)"
      ]
     },
     "execution_count": 57,
     "metadata": {},
     "output_type": "execute_result"
    }
   ],
   "source": [
    "X.shape"
   ]
  },
  {
   "cell_type": "code",
   "execution_count": 58,
   "metadata": {},
   "outputs": [
    {
     "data": {
      "text/plain": [
       "(48025, 1)"
      ]
     },
     "execution_count": 58,
     "metadata": {},
     "output_type": "execute_result"
    }
   ],
   "source": [
    "y.shape"
   ]
  },
  {
   "cell_type": "markdown",
   "metadata": {},
   "source": [
    "## Random Forest model\n"
   ]
  },
  {
   "cell_type": "code",
   "execution_count": 59,
   "metadata": {},
   "outputs": [],
   "source": [
    "# Split\n",
    "from sklearn.model_selection import train_test_split\n",
    "X_train, X_test, y_train, y_test = train_test_split(X, y, random_state=42)"
   ]
  },
  {
   "cell_type": "code",
   "execution_count": 60,
   "metadata": {},
   "outputs": [
    {
     "name": "stderr",
     "output_type": "stream",
     "text": [
      "C:\\Users\\Lenovo\\Anaconda3\\envs\\pythondata\\lib\\site-packages\\ipykernel_launcher.py:4: DataConversionWarning: A column-vector y was passed when a 1d array was expected. Please change the shape of y to (n_samples,), for example using ravel().\n",
      "  after removing the cwd from sys.path.\n"
     ]
    }
   ],
   "source": [
    "# Import, initialize, fit and predict\n",
    "from sklearn.ensemble import RandomForestClassifier\n",
    "rf_model = RandomForestClassifier(n_estimators = 100, random_state = 10) \n",
    "rf_model.fit(X_train, y_train)\n",
    "predict_y_test = rf_model.predict(X_test)"
   ]
  },
  {
   "cell_type": "code",
   "execution_count": 61,
   "metadata": {},
   "outputs": [
    {
     "name": "stdout",
     "output_type": "stream",
     "text": [
      "Accuracy score:  0.6469559423669526\n"
     ]
    }
   ],
   "source": [
    "# Validate - run accuracy score\n",
    "from sklearn import metrics\n",
    "print(\"Accuracy score: \", metrics.accuracy_score(y_test, predict_y_test))"
   ]
  },
  {
   "cell_type": "code",
   "execution_count": 76,
   "metadata": {},
   "outputs": [
    {
     "name": "stdout",
     "output_type": "stream",
     "text": [
      "Sex_Male                            0.088696\n",
      "Color1_Black                        0.033359\n",
      "Color1_Tan                          0.032554\n",
      "Color1_Brown                        0.030396\n",
      "Pet_age_category_Young              0.025444\n",
      "Pet_age_category_Baby               0.023535\n",
      "Color1_White                        0.020884\n",
      "Color1_Red                          0.019978\n",
      "Pet_age_category_Adult              0.017655\n",
      "Color1_Brown Brindle                0.015820\n",
      "Breed_primary_Shih Tzu Mix          0.015769\n",
      "Color1_Chocolate                    0.012124\n",
      "Color1_Cream                        0.011781\n",
      "Color1_Sable                        0.011218\n",
      "Breed_primary_Shih Tzu              0.010779\n",
      "Color1_Buff                         0.009867\n",
      "Breed_primary_Pit Bull Mix          0.009861\n",
      "Color1_Blue                         0.009843\n",
      "Color1_Fawn                         0.008855\n",
      "Breed_primary_Labrador Retriever    0.007749\n",
      "dtype: float64\n"
     ]
    }
   ],
   "source": [
    "# RF Feature importance?\n",
    "feature_list = list(X.columns)\n",
    "feature_importance = pd.Series(rf_model.feature_importances_, index=feature_list).sort_values(ascending=False) \n",
    "print(feature_importance[0:20])"
   ]
  },
  {
   "cell_type": "code",
   "execution_count": 77,
   "metadata": {},
   "outputs": [
    {
     "name": "stderr",
     "output_type": "stream",
     "text": [
      "C:\\Users\\Lenovo\\Anaconda3\\envs\\pythondata\\lib\\site-packages\\sklearn\\model_selection\\_validation.py:515: DataConversionWarning: A column-vector y was passed when a 1d array was expected. Please change the shape of y to (n_samples,), for example using ravel().\n",
      "  estimator.fit(X_train, y_train, **fit_params)\n",
      "C:\\Users\\Lenovo\\Anaconda3\\envs\\pythondata\\lib\\site-packages\\sklearn\\model_selection\\_validation.py:515: DataConversionWarning: A column-vector y was passed when a 1d array was expected. Please change the shape of y to (n_samples,), for example using ravel().\n",
      "  estimator.fit(X_train, y_train, **fit_params)\n",
      "C:\\Users\\Lenovo\\Anaconda3\\envs\\pythondata\\lib\\site-packages\\sklearn\\model_selection\\_validation.py:515: DataConversionWarning: A column-vector y was passed when a 1d array was expected. Please change the shape of y to (n_samples,), for example using ravel().\n",
      "  estimator.fit(X_train, y_train, **fit_params)\n",
      "C:\\Users\\Lenovo\\Anaconda3\\envs\\pythondata\\lib\\site-packages\\sklearn\\model_selection\\_validation.py:515: DataConversionWarning: A column-vector y was passed when a 1d array was expected. Please change the shape of y to (n_samples,), for example using ravel().\n",
      "  estimator.fit(X_train, y_train, **fit_params)\n",
      "C:\\Users\\Lenovo\\Anaconda3\\envs\\pythondata\\lib\\site-packages\\sklearn\\model_selection\\_validation.py:515: DataConversionWarning: A column-vector y was passed when a 1d array was expected. Please change the shape of y to (n_samples,), for example using ravel().\n",
      "  estimator.fit(X_train, y_train, **fit_params)\n",
      "C:\\Users\\Lenovo\\Anaconda3\\envs\\pythondata\\lib\\site-packages\\sklearn\\model_selection\\_validation.py:515: DataConversionWarning: A column-vector y was passed when a 1d array was expected. Please change the shape of y to (n_samples,), for example using ravel().\n",
      "  estimator.fit(X_train, y_train, **fit_params)\n",
      "C:\\Users\\Lenovo\\Anaconda3\\envs\\pythondata\\lib\\site-packages\\sklearn\\model_selection\\_validation.py:515: DataConversionWarning: A column-vector y was passed when a 1d array was expected. Please change the shape of y to (n_samples,), for example using ravel().\n",
      "  estimator.fit(X_train, y_train, **fit_params)\n",
      "C:\\Users\\Lenovo\\Anaconda3\\envs\\pythondata\\lib\\site-packages\\sklearn\\model_selection\\_validation.py:515: DataConversionWarning: A column-vector y was passed when a 1d array was expected. Please change the shape of y to (n_samples,), for example using ravel().\n",
      "  estimator.fit(X_train, y_train, **fit_params)\n",
      "C:\\Users\\Lenovo\\Anaconda3\\envs\\pythondata\\lib\\site-packages\\sklearn\\model_selection\\_validation.py:515: DataConversionWarning: A column-vector y was passed when a 1d array was expected. Please change the shape of y to (n_samples,), for example using ravel().\n",
      "  estimator.fit(X_train, y_train, **fit_params)\n",
      "C:\\Users\\Lenovo\\Anaconda3\\envs\\pythondata\\lib\\site-packages\\sklearn\\model_selection\\_validation.py:515: DataConversionWarning: A column-vector y was passed when a 1d array was expected. Please change the shape of y to (n_samples,), for example using ravel().\n",
      "  estimator.fit(X_train, y_train, **fit_params)\n"
     ]
    },
    {
     "name": "stdout",
     "output_type": "stream",
     "text": [
      "[0.6491776  0.64688736 0.58151156 0.63460337 0.65042682 0.64598084\n",
      " 0.65035402 0.63223657 0.53685964 0.54623074]\n"
     ]
    }
   ],
   "source": [
    "# Validate with cross validation\n",
    "\n",
    "from sklearn.model_selection import cross_val_score\n",
    "\n",
    "scores = cross_val_score(rf_model, X, y, cv=10, scoring=\"accuracy\")\n",
    "print(scores)"
   ]
  },
  {
   "cell_type": "code",
   "execution_count": 78,
   "metadata": {},
   "outputs": [
    {
     "data": {
      "text/plain": [
       "0.6174268511723419"
      ]
     },
     "execution_count": 78,
     "metadata": {},
     "output_type": "execute_result"
    }
   ],
   "source": [
    "scores.mean()"
   ]
  },
  {
   "cell_type": "markdown",
   "metadata": {},
   "source": [
    "## Logistic Regression"
   ]
  },
  {
   "cell_type": "code",
   "execution_count": 63,
   "metadata": {},
   "outputs": [],
   "source": [
    "from sklearn.model_selection import train_test_split\n",
    "\n",
    "X_train, X_test, y_train, y_test = train_test_split(X, y, random_state=42)"
   ]
  },
  {
   "cell_type": "code",
   "execution_count": 64,
   "metadata": {},
   "outputs": [
    {
     "name": "stderr",
     "output_type": "stream",
     "text": [
      "C:\\Users\\Lenovo\\Anaconda3\\envs\\pythondata\\lib\\site-packages\\sklearn\\utils\\validation.py:760: DataConversionWarning: A column-vector y was passed when a 1d array was expected. Please change the shape of y to (n_samples, ), for example using ravel().\n",
      "  y = column_or_1d(y, warn=True)\n",
      "C:\\Users\\Lenovo\\Anaconda3\\envs\\pythondata\\lib\\site-packages\\sklearn\\linear_model\\_logistic.py:940: ConvergenceWarning: lbfgs failed to converge (status=1):\n",
      "STOP: TOTAL NO. of ITERATIONS REACHED LIMIT.\n",
      "\n",
      "Increase the number of iterations (max_iter) or scale the data as shown in:\n",
      "    https://scikit-learn.org/stable/modules/preprocessing.html\n",
      "Please also refer to the documentation for alternative solver options:\n",
      "    https://scikit-learn.org/stable/modules/linear_model.html#logistic-regression\n",
      "  extra_warning_msg=_LOGISTIC_SOLVER_CONVERGENCE_MSG)\n"
     ]
    },
    {
     "data": {
      "text/plain": [
       "LogisticRegression(C=1.0, class_weight=None, dual=False, fit_intercept=True,\n",
       "                   intercept_scaling=1, l1_ratio=None, max_iter=100,\n",
       "                   multi_class='auto', n_jobs=None, penalty='l2',\n",
       "                   random_state=None, solver='lbfgs', tol=0.0001, verbose=0,\n",
       "                   warm_start=False)"
      ]
     },
     "execution_count": 64,
     "metadata": {},
     "output_type": "execute_result"
    }
   ],
   "source": [
    "from sklearn.linear_model import LogisticRegression\n",
    "logReg = LogisticRegression()\n",
    "logReg.fit(X_train, y_train)"
   ]
  },
  {
   "cell_type": "code",
   "execution_count": 65,
   "metadata": {},
   "outputs": [
    {
     "name": "stdout",
     "output_type": "stream",
     "text": [
      "Training Data Score: 0.6677494586040313\n",
      "Testing Data Score: 0.6669442825018739\n"
     ]
    }
   ],
   "source": [
    "print(f\"Training Data Score: {logReg.score(X_train, y_train)}\")\n",
    "print(f\"Testing Data Score: {logReg.score(X_test, y_test)}\")"
   ]
  },
  {
   "cell_type": "markdown",
   "metadata": {},
   "source": [
    "## Naive Bayes model\n"
   ]
  },
  {
   "cell_type": "code",
   "execution_count": 66,
   "metadata": {},
   "outputs": [],
   "source": [
    "from sklearn.model_selection import train_test_split\n",
    "\n",
    "X_train, X_test, y_train, y_test = train_test_split(X, y, random_state=42)"
   ]
  },
  {
   "cell_type": "code",
   "execution_count": 67,
   "metadata": {},
   "outputs": [
    {
     "name": "stderr",
     "output_type": "stream",
     "text": [
      "C:\\Users\\Lenovo\\Anaconda3\\envs\\pythondata\\lib\\site-packages\\sklearn\\naive_bayes.py:206: DataConversionWarning: A column-vector y was passed when a 1d array was expected. Please change the shape of y to (n_samples, ), for example using ravel().\n",
      "  y = column_or_1d(y, warn=True)\n"
     ]
    }
   ],
   "source": [
    "from sklearn.naive_bayes import GaussianNB\n",
    "\n",
    "#Create a Gaussian Classifier\n",
    "nb_model = GaussianNB()\n",
    "\n",
    "# Train the model using the training sets\n",
    "nb_model.fit(X_train, y_train)\n",
    "\n",
    "#Predict Output\n",
    "y_predicted= nb_model.predict(X_test)\n"
   ]
  },
  {
   "cell_type": "code",
   "execution_count": 68,
   "metadata": {},
   "outputs": [
    {
     "name": "stdout",
     "output_type": "stream",
     "text": [
      "[0 0 1 ... 0 0 0]\n"
     ]
    }
   ],
   "source": [
    "print(y_predicted)"
   ]
  },
  {
   "cell_type": "code",
   "execution_count": 69,
   "metadata": {},
   "outputs": [
    {
     "name": "stdout",
     "output_type": "stream",
     "text": [
      "Accuracy: 0.3667027567252436\n"
     ]
    }
   ],
   "source": [
    "from sklearn import metrics\n",
    "\n",
    "# Model Accuracy, how often is the classifier correct?\n",
    "print(\"Accuracy:\",metrics.accuracy_score(y_test, y_predicted))"
   ]
  },
  {
   "cell_type": "markdown",
   "metadata": {},
   "source": [
    "## SVM\n"
   ]
  },
  {
   "cell_type": "code",
   "execution_count": 71,
   "metadata": {},
   "outputs": [],
   "source": [
    "from sklearn.model_selection import train_test_split\n",
    "X_train, X_test, y_train, y_test = train_test_split(X,y,random_state=42)  \n",
    "\n",
    "target = df5[\"Binary_outcome_Negative\"]\n",
    "target_names = [0, 1]\n"
   ]
  },
  {
   "cell_type": "code",
   "execution_count": 72,
   "metadata": {},
   "outputs": [
    {
     "name": "stderr",
     "output_type": "stream",
     "text": [
      "C:\\Users\\Lenovo\\Anaconda3\\envs\\pythondata\\lib\\site-packages\\sklearn\\utils\\validation.py:760: DataConversionWarning: A column-vector y was passed when a 1d array was expected. Please change the shape of y to (n_samples, ), for example using ravel().\n",
      "  y = column_or_1d(y, warn=True)\n"
     ]
    },
    {
     "data": {
      "text/plain": [
       "SVC(C=1.0, break_ties=False, cache_size=200, class_weight=None, coef0=0.0,\n",
       "    decision_function_shape='ovr', degree=3, gamma='scale', kernel='linear',\n",
       "    max_iter=-1, probability=False, random_state=None, shrinking=True,\n",
       "    tol=0.001, verbose=False)"
      ]
     },
     "execution_count": 72,
     "metadata": {},
     "output_type": "execute_result"
    }
   ],
   "source": [
    "from sklearn.svm import SVC \n",
    "model = SVC(kernel='linear')\n",
    "model.fit(X_train, y_train)"
   ]
  },
  {
   "cell_type": "code",
   "execution_count": 73,
   "metadata": {},
   "outputs": [
    {
     "data": {
      "text/plain": [
       "SVC(C=1.0, break_ties=False, cache_size=200, class_weight=None, coef0=0.0,\n",
       "    decision_function_shape='ovr', degree=3, gamma='auto', kernel='linear',\n",
       "    max_iter=-1, probability=False, random_state=None, shrinking=True,\n",
       "    tol=0.001, verbose=False)"
      ]
     },
     "execution_count": 73,
     "metadata": {},
     "output_type": "execute_result"
    }
   ],
   "source": [
    "SVC(C=1.0, cache_size=200, class_weight=None, coef0=0.0,\n",
    "  decision_function_shape='ovr', degree=3, gamma='auto', kernel='linear',\n",
    "  max_iter=-1, probability=False, random_state=None, shrinking=True,\n",
    "  tol=0.001, verbose=False)"
   ]
  },
  {
   "cell_type": "code",
   "execution_count": 74,
   "metadata": {},
   "outputs": [
    {
     "name": "stdout",
     "output_type": "stream",
     "text": [
      "Test Acc: 0.667\n"
     ]
    }
   ],
   "source": [
    "# Model Accuracy\n",
    "print('Test Acc: %.3f' % model.score(X_test, y_test))"
   ]
  },
  {
   "cell_type": "code",
   "execution_count": 75,
   "metadata": {},
   "outputs": [
    {
     "name": "stdout",
     "output_type": "stream",
     "text": [
      "              precision    recall  f1-score   support\n",
      "\n",
      "           0       0.61      0.08      0.15      4119\n",
      "           1       0.67      0.97      0.79      7888\n",
      "\n",
      "    accuracy                           0.67     12007\n",
      "   macro avg       0.64      0.53      0.47     12007\n",
      "weighted avg       0.65      0.67      0.57     12007\n",
      "\n"
     ]
    }
   ],
   "source": [
    " # Calculate classification report\n",
    "from sklearn.metrics import classification_report\n",
    "predictions = model.predict(X_test)\n",
    "print(classification_report(y_test, predictions))"
   ]
  },
  {
   "cell_type": "code",
   "execution_count": null,
   "metadata": {},
   "outputs": [],
   "source": []
  }
 ],
 "metadata": {
  "kernelspec": {
   "display_name": "Python 3",
   "language": "python",
   "name": "python3"
  },
  "language_info": {
   "codemirror_mode": {
    "name": "ipython",
    "version": 3
   },
   "file_extension": ".py",
   "mimetype": "text/x-python",
   "name": "python",
   "nbconvert_exporter": "python",
   "pygments_lexer": "ipython3",
   "version": "3.7.6"
  }
 },
 "nbformat": 4,
 "nbformat_minor": 2
}
