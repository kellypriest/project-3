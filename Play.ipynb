{
 "cells": [
  {
   "cell_type": "code",
   "execution_count": 1,
   "metadata": {},
   "outputs": [],
   "source": [
    "import pandas as pd\n",
    "import numpy as np\n",
    "from matplotlib import pyplot as plt\n",
    "import pickle\n",
    "from pickle import dump"
   ]
  },
  {
   "cell_type": "code",
   "execution_count": 2,
   "metadata": {},
   "outputs": [
    {
     "data": {
      "text/html": [
       "<div>\n",
       "<style scoped>\n",
       "    .dataframe tbody tr th:only-of-type {\n",
       "        vertical-align: middle;\n",
       "    }\n",
       "\n",
       "    .dataframe tbody tr th {\n",
       "        vertical-align: top;\n",
       "    }\n",
       "\n",
       "    .dataframe thead th {\n",
       "        text-align: right;\n",
       "    }\n",
       "</style>\n",
       "<table border=\"1\" class=\"dataframe\">\n",
       "  <thead>\n",
       "    <tr style=\"text-align: right;\">\n",
       "      <th></th>\n",
       "      <th>PrimaryColor</th>\n",
       "      <th>BreedCategory</th>\n",
       "      <th>IntakeStatus</th>\n",
       "      <th>PetAgeCategory</th>\n",
       "      <th>Sex</th>\n",
       "      <th>TopBreed</th>\n",
       "      <th>BinaryOutcome</th>\n",
       "    </tr>\n",
       "  </thead>\n",
       "  <tbody>\n",
       "    <tr>\n",
       "      <th>0</th>\n",
       "      <td>WHITE</td>\n",
       "      <td>PURE</td>\n",
       "      <td>NORMAL</td>\n",
       "      <td>YOUNG</td>\n",
       "      <td>MALE</td>\n",
       "      <td>PIT BULL TERRIER</td>\n",
       "      <td>DENY</td>\n",
       "    </tr>\n",
       "    <tr>\n",
       "      <th>1</th>\n",
       "      <td>BLACK</td>\n",
       "      <td>MIX</td>\n",
       "      <td>NORMAL</td>\n",
       "      <td>YOUNG</td>\n",
       "      <td>FEMALE</td>\n",
       "      <td>BORDER COLLIE</td>\n",
       "      <td>TAKE</td>\n",
       "    </tr>\n",
       "    <tr>\n",
       "      <th>2</th>\n",
       "      <td>TAN</td>\n",
       "      <td>MIX</td>\n",
       "      <td>NORMAL</td>\n",
       "      <td>YOUNG</td>\n",
       "      <td>MALE</td>\n",
       "      <td>GOLDEN RETRIEVER</td>\n",
       "      <td>TAKE</td>\n",
       "    </tr>\n",
       "    <tr>\n",
       "      <th>3</th>\n",
       "      <td>WHITE</td>\n",
       "      <td>PURE</td>\n",
       "      <td>NORMAL</td>\n",
       "      <td>BABY</td>\n",
       "      <td>FEMALE</td>\n",
       "      <td>LABRADOR RETRIEVER</td>\n",
       "      <td>TAKE</td>\n",
       "    </tr>\n",
       "    <tr>\n",
       "      <th>4</th>\n",
       "      <td>BLACK</td>\n",
       "      <td>PURE</td>\n",
       "      <td>SICK</td>\n",
       "      <td>YOUNG</td>\n",
       "      <td>MALE</td>\n",
       "      <td>PIT BULL TERRIER</td>\n",
       "      <td>DENY</td>\n",
       "    </tr>\n",
       "  </tbody>\n",
       "</table>\n",
       "</div>"
      ],
      "text/plain": [
       "  PrimaryColor BreedCategory IntakeStatus PetAgeCategory     Sex  \\\n",
       "0        WHITE          PURE       NORMAL          YOUNG    MALE   \n",
       "1        BLACK           MIX       NORMAL          YOUNG  FEMALE   \n",
       "2          TAN           MIX       NORMAL          YOUNG    MALE   \n",
       "3        WHITE          PURE       NORMAL           BABY  FEMALE   \n",
       "4        BLACK          PURE         SICK          YOUNG    MALE   \n",
       "\n",
       "             TopBreed BinaryOutcome  \n",
       "0    PIT BULL TERRIER          DENY  \n",
       "1       BORDER COLLIE          TAKE  \n",
       "2    GOLDEN RETRIEVER          TAKE  \n",
       "3  LABRADOR RETRIEVER          TAKE  \n",
       "4    PIT BULL TERRIER          DENY  "
      ]
     },
     "execution_count": 2,
     "metadata": {},
     "output_type": "execute_result"
    }
   ],
   "source": [
    "# Read in csv\n",
    "df = pd.read_csv(\"LouisvilleCleanFinal.csv\").drop(['Unnamed: 0'],axis=1)\n",
    "df.head()"
   ]
  },
  {
   "cell_type": "code",
   "execution_count": 3,
   "metadata": {},
   "outputs": [],
   "source": [
    "# # use when different features need different preprocessing\n",
    "# from sklearn.compose import make_column_transformer\n",
    "# #  encoding of categorical features\n",
    "# from sklearn.preprocessing import OneHotEncoder\n",
    "# ohe = OneHotEncoder(sparse=False)\n",
    "\n",
    "# column_trans = make_column_transformer(\n",
    "#     (OneHotEncoder(), ['PrimaryColor', 'BreedCategory','IntakeStatus', 'PetAgeCategory','Sex', 'TopBreed']),\n",
    "#     remainder='passthrough')\n",
    "\n",
    "# y = ohe.fit_transform(df[['BinaryOutcome']])\n",
    "\n",
    "# from sklearn.ensemble import RandomForestClassifier as rf\n",
    "\n",
    "# clf = rf()\n",
    "# clf.fit(X_train, y_train)\n"
   ]
  },
  {
   "cell_type": "code",
   "execution_count": 4,
   "metadata": {},
   "outputs": [
    {
     "data": {
      "text/plain": [
       "Index(['PrimaryColor', 'BreedCategory', 'IntakeStatus', 'PetAgeCategory',\n",
       "       'Sex', 'TopBreed', 'BinaryOutcome'],\n",
       "      dtype='object')"
      ]
     },
     "execution_count": 4,
     "metadata": {},
     "output_type": "execute_result"
    }
   ],
   "source": [
    "df.columns\n"
   ]
  },
  {
   "cell_type": "code",
   "execution_count": 5,
   "metadata": {},
   "outputs": [
    {
     "data": {
      "text/html": [
       "<div>\n",
       "<style scoped>\n",
       "    .dataframe tbody tr th:only-of-type {\n",
       "        vertical-align: middle;\n",
       "    }\n",
       "\n",
       "    .dataframe tbody tr th {\n",
       "        vertical-align: top;\n",
       "    }\n",
       "\n",
       "    .dataframe thead th {\n",
       "        text-align: right;\n",
       "    }\n",
       "</style>\n",
       "<table border=\"1\" class=\"dataframe\">\n",
       "  <thead>\n",
       "    <tr style=\"text-align: right;\">\n",
       "      <th></th>\n",
       "      <th>BinaryOutcome</th>\n",
       "    </tr>\n",
       "  </thead>\n",
       "  <tbody>\n",
       "    <tr>\n",
       "      <th>0</th>\n",
       "      <td>DENY</td>\n",
       "    </tr>\n",
       "    <tr>\n",
       "      <th>1</th>\n",
       "      <td>TAKE</td>\n",
       "    </tr>\n",
       "    <tr>\n",
       "      <th>2</th>\n",
       "      <td>TAKE</td>\n",
       "    </tr>\n",
       "    <tr>\n",
       "      <th>3</th>\n",
       "      <td>TAKE</td>\n",
       "    </tr>\n",
       "    <tr>\n",
       "      <th>4</th>\n",
       "      <td>DENY</td>\n",
       "    </tr>\n",
       "  </tbody>\n",
       "</table>\n",
       "</div>"
      ],
      "text/plain": [
       "  BinaryOutcome\n",
       "0          DENY\n",
       "1          TAKE\n",
       "2          TAKE\n",
       "3          TAKE\n",
       "4          DENY"
      ]
     },
     "execution_count": 5,
     "metadata": {},
     "output_type": "execute_result"
    }
   ],
   "source": [
    "X = df.drop(['BinaryOutcome'], axis=\"columns\")\n",
    "y = df[['BinaryOutcome']]\n",
    "\n",
    "# intakestatus, PetAgeCategory, Sex\n",
    "X.head()\n",
    "y.head()"
   ]
  },
  {
   "cell_type": "code",
   "execution_count": 6,
   "metadata": {},
   "outputs": [],
   "source": [
    "from sklearn.preprocessing import OneHotEncoder\n",
    "ohe = OneHotEncoder()"
   ]
  },
  {
   "cell_type": "code",
   "execution_count": 7,
   "metadata": {},
   "outputs": [
    {
     "name": "stdout",
     "output_type": "stream",
     "text": [
      "[[1. 0.]\n",
      " [0. 1.]\n",
      " [0. 1.]\n",
      " ...\n",
      " [0. 1.]\n",
      " [0. 1.]\n",
      " [1. 0.]]\n"
     ]
    }
   ],
   "source": [
    "y = ohe.fit_transform(y).toarray()\n",
    "print(y)"
   ]
  },
  {
   "cell_type": "code",
   "execution_count": 8,
   "metadata": {},
   "outputs": [
    {
     "name": "stdout",
     "output_type": "stream",
     "text": [
      "[[0. 0. 0. 0. 0. 0. 0. 0. 0. 0. 1. 0. 0. 1. 0. 0. 1. 0. 0. 0. 0. 0. 0. 1.\n",
      "  0. 1. 0. 0. 0. 0. 0. 0. 0. 0. 0. 0. 0. 0. 0. 0. 0. 0. 0. 1. 0. 0. 0. 0.\n",
      "  0. 0. 0. 0.]\n",
      " [1. 0. 0. 0. 0. 0. 0. 0. 0. 0. 0. 0. 1. 0. 0. 0. 1. 0. 0. 0. 0. 0. 0. 1.\n",
      "  1. 0. 0. 0. 0. 0. 0. 1. 0. 0. 0. 0. 0. 0. 0. 0. 0. 0. 0. 0. 0. 0. 0. 0.\n",
      "  0. 0. 0. 0.]\n",
      " [0. 0. 0. 0. 0. 0. 0. 1. 0. 0. 0. 0. 1. 0. 0. 0. 1. 0. 0. 0. 0. 0. 0. 1.\n",
      "  0. 1. 0. 0. 0. 0. 0. 0. 0. 0. 0. 0. 0. 0. 1. 0. 0. 0. 0. 0. 0. 0. 0. 0.\n",
      "  0. 0. 0. 0.]\n",
      " [0. 0. 0. 0. 0. 0. 0. 0. 0. 0. 1. 0. 0. 1. 0. 0. 1. 0. 0. 0. 0. 1. 0. 0.\n",
      "  1. 0. 0. 0. 0. 0. 0. 0. 0. 0. 0. 0. 0. 0. 0. 0. 1. 0. 0. 0. 0. 0. 0. 0.\n",
      "  0. 0. 0. 0.]\n",
      " [1. 0. 0. 0. 0. 0. 0. 0. 0. 0. 0. 0. 0. 1. 0. 0. 0. 0. 0. 1. 0. 0. 0. 1.\n",
      "  0. 1. 0. 0. 0. 0. 0. 0. 0. 0. 0. 0. 0. 0. 0. 0. 0. 0. 0. 1. 0. 0. 0. 0.\n",
      "  0. 0. 0. 0.]\n",
      " [0. 0. 0. 0. 0. 0. 0. 0. 0. 0. 1. 0. 1. 0. 0. 0. 1. 0. 0. 0. 0. 1. 0. 0.\n",
      "  1. 0. 0. 0. 0. 0. 0. 0. 0. 0. 0. 0. 0. 0. 0. 0. 0. 0. 1. 0. 0. 0. 0. 0.\n",
      "  0. 0. 0. 0.]\n",
      " [0. 0. 0. 1. 0. 0. 0. 0. 0. 0. 0. 0. 0. 1. 0. 0. 0. 1. 0. 0. 0. 0. 1. 0.\n",
      "  1. 0. 0. 0. 0. 0. 0. 0. 0. 0. 0. 0. 0. 0. 0. 0. 0. 0. 0. 1. 0. 0. 0. 0.\n",
      "  0. 0. 0. 0.]\n",
      " [0. 0. 0. 1. 0. 0. 0. 0. 0. 0. 0. 0. 1. 0. 0. 0. 1. 0. 0. 0. 0. 0. 0. 1.\n",
      "  0. 1. 0. 0. 0. 0. 0. 0. 0. 0. 0. 0. 0. 0. 0. 0. 0. 0. 1. 0. 0. 0. 0. 0.\n",
      "  0. 0. 0. 0.]\n",
      " [1. 0. 0. 0. 0. 0. 0. 0. 0. 0. 0. 0. 1. 0. 0. 1. 0. 0. 0. 0. 0. 0. 0. 1.\n",
      "  0. 1. 0. 0. 0. 0. 1. 0. 0. 0. 0. 0. 0. 0. 0. 0. 0. 0. 0. 0. 0. 0. 0. 0.\n",
      "  0. 0. 0. 0.]\n",
      " [0. 0. 1. 0. 0. 0. 0. 0. 0. 0. 0. 0. 1. 0. 0. 0. 1. 0. 0. 0. 1. 0. 0. 0.\n",
      "  1. 0. 0. 0. 0. 0. 0. 0. 0. 0. 0. 0. 0. 0. 0. 0. 0. 0. 1. 0. 0. 0. 0. 0.\n",
      "  0. 0. 0. 0.]]\n"
     ]
    }
   ],
   "source": [
    "X = ohe.fit_transform(X).toarray()\n",
    "\n",
    "print(X[0:10])"
   ]
  },
  {
   "cell_type": "code",
   "execution_count": 9,
   "metadata": {},
   "outputs": [],
   "source": [
    "from sklearn.model_selection import train_test_split\n",
    "\n",
    "X_train, X_test, y_train, y_test = train_test_split(X, y, random_state=42)"
   ]
  },
  {
   "cell_type": "markdown",
   "metadata": {},
   "source": [
    "### NN model\n"
   ]
  },
  {
   "cell_type": "code",
   "execution_count": 10,
   "metadata": {},
   "outputs": [],
   "source": [
    "import tensorflow\n",
    "tensorflow.keras.__version__\n",
    "from tensorflow.keras.models import Sequential\n",
    "from tensorflow.keras.layers import Dense"
   ]
  },
  {
   "cell_type": "code",
   "execution_count": 17,
   "metadata": {},
   "outputs": [],
   "source": [
    "# Create model and add layers\n",
    "model = Sequential()\n",
    "model.add(Dense(units=200, activation='relu', input_dim=52))\n",
    "model.add(Dense(units=100, activation='relu'))\n",
    "model.add(Dense(units=50, activation='relu'))\n",
    "model.add(Dense(units=2, activation='softmax'))"
   ]
  },
  {
   "cell_type": "code",
   "execution_count": 18,
   "metadata": {},
   "outputs": [],
   "source": [
    " # Compile and fit the model\n",
    "model.compile(optimizer='adam',\n",
    "              loss='binary_crossentropy',\n",
    "              metrics=['accuracy'])"
   ]
  },
  {
   "cell_type": "code",
   "execution_count": 19,
   "metadata": {},
   "outputs": [
    {
     "name": "stdout",
     "output_type": "stream",
     "text": [
      "Model: \"sequential_1\"\n",
      "_________________________________________________________________\n",
      "Layer (type)                 Output Shape              Param #   \n",
      "=================================================================\n",
      "dense_4 (Dense)              (None, 200)               10600     \n",
      "_________________________________________________________________\n",
      "dense_5 (Dense)              (None, 100)               20100     \n",
      "_________________________________________________________________\n",
      "dense_6 (Dense)              (None, 50)                5050      \n",
      "_________________________________________________________________\n",
      "dense_7 (Dense)              (None, 2)                 102       \n",
      "=================================================================\n",
      "Total params: 35,852\n",
      "Trainable params: 35,852\n",
      "Non-trainable params: 0\n",
      "_________________________________________________________________\n"
     ]
    }
   ],
   "source": [
    " model.summary()"
   ]
  },
  {
   "cell_type": "code",
   "execution_count": null,
   "metadata": {},
   "outputs": [
    {
     "name": "stdout",
     "output_type": "stream",
     "text": [
      "Train on 31151 samples\n",
      "Epoch 1/60\n",
      "31151/31151 - 3s - loss: 0.5443 - accuracy: 0.7075\n",
      "Epoch 2/60\n",
      "31151/31151 - 2s - loss: 0.5326 - accuracy: 0.7146\n",
      "Epoch 3/60\n",
      "31151/31151 - 2s - loss: 0.5292 - accuracy: 0.7155\n",
      "Epoch 4/60\n",
      "31151/31151 - 2s - loss: 0.5266 - accuracy: 0.7184\n",
      "Epoch 5/60\n",
      "31151/31151 - 2s - loss: 0.5240 - accuracy: 0.7210\n",
      "Epoch 6/60\n",
      "31151/31151 - 3s - loss: 0.5209 - accuracy: 0.7244\n",
      "Epoch 7/60\n",
      "31151/31151 - 3s - loss: 0.5175 - accuracy: 0.7268\n",
      "Epoch 8/60\n",
      "31151/31151 - 2s - loss: 0.5140 - accuracy: 0.7286\n",
      "Epoch 9/60\n",
      "31151/31151 - 2s - loss: 0.5117 - accuracy: 0.7296\n",
      "Epoch 10/60\n",
      "31151/31151 - 2s - loss: 0.5077 - accuracy: 0.7313\n",
      "Epoch 11/60\n",
      "31151/31151 - 2s - loss: 0.5041 - accuracy: 0.7327\n",
      "Epoch 12/60\n",
      "31151/31151 - 2s - loss: 0.5012 - accuracy: 0.7353\n",
      "Epoch 13/60\n",
      "31151/31151 - 2s - loss: 0.4975 - accuracy: 0.7370\n",
      "Epoch 14/60\n",
      "31151/31151 - 2s - loss: 0.4934 - accuracy: 0.7403\n",
      "Epoch 15/60\n",
      "31151/31151 - 2s - loss: 0.4907 - accuracy: 0.7400\n",
      "Epoch 16/60\n",
      "31151/31151 - 2s - loss: 0.4866 - accuracy: 0.7429\n",
      "Epoch 17/60\n",
      "31151/31151 - 3s - loss: 0.4838 - accuracy: 0.7447\n",
      "Epoch 18/60\n",
      "31151/31151 - 3s - loss: 0.4812 - accuracy: 0.7458\n",
      "Epoch 19/60\n",
      "31151/31151 - 3s - loss: 0.4782 - accuracy: 0.7469\n",
      "Epoch 20/60\n",
      "31151/31151 - 2s - loss: 0.4765 - accuracy: 0.7479\n",
      "Epoch 21/60\n",
      "31151/31151 - 2s - loss: 0.4736 - accuracy: 0.7480\n",
      "Epoch 22/60\n",
      "31151/31151 - 2s - loss: 0.4716 - accuracy: 0.7502\n",
      "Epoch 23/60\n",
      "31151/31151 - 3s - loss: 0.4705 - accuracy: 0.7499\n",
      "Epoch 24/60\n",
      "31151/31151 - 3s - loss: 0.4676 - accuracy: 0.7502\n",
      "Epoch 25/60\n",
      "31151/31151 - 2s - loss: 0.4659 - accuracy: 0.7512\n",
      "Epoch 26/60\n",
      "31151/31151 - 2s - loss: 0.4644 - accuracy: 0.7511\n",
      "Epoch 27/60\n",
      "31151/31151 - 2s - loss: 0.4628 - accuracy: 0.7525\n",
      "Epoch 28/60\n",
      "31151/31151 - 2s - loss: 0.4612 - accuracy: 0.7522\n",
      "Epoch 29/60\n",
      "31151/31151 - 2s - loss: 0.4605 - accuracy: 0.7517\n",
      "Epoch 30/60\n",
      "31151/31151 - 2s - loss: 0.4593 - accuracy: 0.7547\n",
      "Epoch 31/60\n",
      "31151/31151 - 2s - loss: 0.4575 - accuracy: 0.7548\n",
      "Epoch 32/60\n",
      "31151/31151 - 2s - loss: 0.4565 - accuracy: 0.7547\n",
      "Epoch 33/60\n",
      "31151/31151 - 2s - loss: 0.4550 - accuracy: 0.7551\n",
      "Epoch 34/60\n",
      "31151/31151 - 2s - loss: 0.4550 - accuracy: 0.7550\n",
      "Epoch 35/60\n",
      "31151/31151 - 2s - loss: 0.4532 - accuracy: 0.7569\n",
      "Epoch 36/60\n",
      "31151/31151 - 2s - loss: 0.4525 - accuracy: 0.7570\n",
      "Epoch 37/60\n",
      "31151/31151 - 2s - loss: 0.4518 - accuracy: 0.7589\n",
      "Epoch 38/60\n",
      "31151/31151 - 3s - loss: 0.4514 - accuracy: 0.7566\n",
      "Epoch 39/60\n",
      "31151/31151 - 2s - loss: 0.4501 - accuracy: 0.7551\n",
      "Epoch 40/60\n",
      "31151/31151 - 2s - loss: 0.4493 - accuracy: 0.7601\n",
      "Epoch 41/60\n",
      "31151/31151 - 3s - loss: 0.4489 - accuracy: 0.7585\n",
      "Epoch 42/60\n",
      "31151/31151 - 3s - loss: 0.4483 - accuracy: 0.7583\n",
      "Epoch 43/60\n",
      "31151/31151 - 3s - loss: 0.4473 - accuracy: 0.7610\n",
      "Epoch 44/60\n",
      "31151/31151 - 3s - loss: 0.4479 - accuracy: 0.7590\n",
      "Epoch 45/60\n",
      "31151/31151 - 2s - loss: 0.4462 - accuracy: 0.7590\n",
      "Epoch 46/60\n",
      "31151/31151 - 2s - loss: 0.4458 - accuracy: 0.7592\n",
      "Epoch 47/60\n",
      "31151/31151 - 2s - loss: 0.4450 - accuracy: 0.7613\n",
      "Epoch 48/60\n",
      "31151/31151 - 2s - loss: 0.4455 - accuracy: 0.7598\n",
      "Epoch 49/60\n",
      "31151/31151 - 2s - loss: 0.4458 - accuracy: 0.7606\n",
      "Epoch 50/60\n"
     ]
    }
   ],
   "source": [
    " model.fit(\n",
    "    X_train,\n",
    "    y_train,\n",
    "    epochs=60,\n",
    "    shuffle=True,\n",
    "    verbose = 2\n",
    ")"
   ]
  },
  {
   "cell_type": "code",
   "execution_count": null,
   "metadata": {},
   "outputs": [],
   "source": []
  },
  {
   "cell_type": "code",
   "execution_count": null,
   "metadata": {},
   "outputs": [],
   "source": []
  },
  {
   "cell_type": "code",
   "execution_count": null,
   "metadata": {},
   "outputs": [],
   "source": [
    "\n",
    "# dump(rf_model, open('rf_modelTESTMarc.pkl', 'wb'))\n",
    "# new_input = [[0, 1, 0, 0, 1, 0]]\n",
    "# with open('rf_modelTESTMarc.pkl', 'rb') as file:  \n",
    "#     model = pickle.load(file)\n",
    "# model.predict(new_input) "
   ]
  },
  {
   "cell_type": "code",
   "execution_count": null,
   "metadata": {},
   "outputs": [],
   "source": [
    "# pd.read_pickle('rf_modelTEST2.pkl')"
   ]
  },
  {
   "cell_type": "code",
   "execution_count": null,
   "metadata": {},
   "outputs": [],
   "source": []
  },
  {
   "cell_type": "code",
   "execution_count": null,
   "metadata": {},
   "outputs": [],
   "source": []
  }
 ],
 "metadata": {
  "kernelspec": {
   "display_name": "Python 3",
   "language": "python",
   "name": "python3"
  },
  "language_info": {
   "codemirror_mode": {
    "name": "ipython",
    "version": 3
   },
   "file_extension": ".py",
   "mimetype": "text/x-python",
   "name": "python",
   "nbconvert_exporter": "python",
   "pygments_lexer": "ipython3",
   "version": "3.7.6"
  }
 },
 "nbformat": 4,
 "nbformat_minor": 2
}
