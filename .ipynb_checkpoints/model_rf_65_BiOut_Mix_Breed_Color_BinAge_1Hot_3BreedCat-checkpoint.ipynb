{
 "cells": [
  {
   "cell_type": "markdown",
   "metadata": {},
   "source": [
    "#### Note: Latest May 20 (1.30pm) - OneHot Encoding (not...still get_dummies)\n",
    "\n"
   ]
  },
  {
   "cell_type": "markdown",
   "metadata": {},
   "source": [
    "## Reading in data and taking a quick look at some charts"
   ]
  },
  {
   "cell_type": "code",
   "execution_count": 1,
   "metadata": {},
   "outputs": [],
   "source": [
    "import pandas as pd\n",
    "import numpy as np\n",
    "from matplotlib import pyplot as plt"
   ]
  },
  {
   "cell_type": "code",
   "execution_count": 2,
   "metadata": {},
   "outputs": [],
   "source": [
    "# Read in csv\n",
    "df = pd.read_csv(\"Austin_Animal_Center_Outcomes.csv\")"
   ]
  },
  {
   "cell_type": "code",
   "execution_count": 3,
   "metadata": {},
   "outputs": [
    {
     "data": {
      "text/plain": [
       "<matplotlib.axes._subplots.AxesSubplot at 0x1f0a8671508>"
      ]
     },
     "execution_count": 3,
     "metadata": {},
     "output_type": "execute_result"
    },
    {
     "data": {
      "image/png": "[encoded data removed]",
      "text/plain": [
       "<Figure size 432x288 with 1 Axes>"
      ]
     },
     "metadata": {
      "needs_background": "light"
     },
     "output_type": "display_data"
    }
   ],
   "source": [
    "# Take a quick peak at charts\n",
    "\n",
    "# Top Breeds\n",
    "# df['Breed'].value_counts().head(20).plot.bar()\n",
    "\n",
    "# Top Outcome_Types\n",
    "# df['Breed'].value_counts().head(20).plot.bar()\n",
    "\n",
    "# Sex split?\n",
    "# df['Sex'].value_counts().head(20).plot.bar()\n",
    "\n",
    "# Fixed?\n",
    "df['Fixed'].value_counts().head(20).plot.bar()\n",
    "\n",
    "# Age chart\n",
    "# bins= [0,24,72,120]\n",
    "# plt.hist(df.Age_month, bins=bins, edgecolor=\"k\")\n",
    "# plt.xticks(bins)\n",
    "# plt.show()"
   ]
  },
  {
   "cell_type": "code",
   "execution_count": 4,
   "metadata": {},
   "outputs": [
    {
     "data": {
      "text/html": [
       "<div>\n",
       "<style scoped>\n",
       "    .dataframe tbody tr th:only-of-type {\n",
       "        vertical-align: middle;\n",
       "    }\n",
       "\n",
       "    .dataframe tbody tr th {\n",
       "        vertical-align: top;\n",
       "    }\n",
       "\n",
       "    .dataframe thead th {\n",
       "        text-align: right;\n",
       "    }\n",
       "</style>\n",
       "<table border=\"1\" class=\"dataframe\">\n",
       "  <thead>\n",
       "    <tr style=\"text-align: right;\">\n",
       "      <th></th>\n",
       "      <th>Animal_ID</th>\n",
       "      <th>Name</th>\n",
       "      <th>DateTime</th>\n",
       "      <th>MonthYear</th>\n",
       "      <th>Date_of_Birth</th>\n",
       "      <th>Outcome_Type</th>\n",
       "      <th>Outcome_Subtype</th>\n",
       "      <th>Fixed</th>\n",
       "      <th>Sex</th>\n",
       "      <th>Age_numeric</th>\n",
       "      <th>Age_time</th>\n",
       "      <th>Age_month</th>\n",
       "      <th>Breed</th>\n",
       "      <th>Color</th>\n",
       "    </tr>\n",
       "  </thead>\n",
       "  <tbody>\n",
       "    <tr>\n",
       "      <th>250</th>\n",
       "      <td>A809527</td>\n",
       "      <td>*Cricket</td>\n",
       "      <td>12/11/2019 16:17</td>\n",
       "      <td>12/11/2019 16:17</td>\n",
       "      <td>10/18/2019</td>\n",
       "      <td>Adoption</td>\n",
       "      <td>Foster</td>\n",
       "      <td>Spayed</td>\n",
       "      <td>Female</td>\n",
       "      <td>1</td>\n",
       "      <td>month</td>\n",
       "      <td>1.0</td>\n",
       "      <td>Labrador Retriever Mix</td>\n",
       "      <td>Black/White</td>\n",
       "    </tr>\n",
       "    <tr>\n",
       "      <th>251</th>\n",
       "      <td>A797472</td>\n",
       "      <td>NaN</td>\n",
       "      <td>06/13/2019 06:59:00 PM</td>\n",
       "      <td>06/13/2019 06:59:00 PM</td>\n",
       "      <td>04/24/2019</td>\n",
       "      <td>Transfer</td>\n",
       "      <td>Partner</td>\n",
       "      <td>Intact</td>\n",
       "      <td>Female</td>\n",
       "      <td>1</td>\n",
       "      <td>month</td>\n",
       "      <td>1.0</td>\n",
       "      <td>Chihuahua Longhair Mix</td>\n",
       "      <td>Black/Tan</td>\n",
       "    </tr>\n",
       "    <tr>\n",
       "      <th>252</th>\n",
       "      <td>A742456</td>\n",
       "      <td>*Arrow</td>\n",
       "      <td>02/14/2017 06:27:00 PM</td>\n",
       "      <td>02/14/2017 06:27:00 PM</td>\n",
       "      <td>12/22/2016</td>\n",
       "      <td>Adoption</td>\n",
       "      <td>Foster</td>\n",
       "      <td>Spayed</td>\n",
       "      <td>Female</td>\n",
       "      <td>1</td>\n",
       "      <td>month</td>\n",
       "      <td>1.0</td>\n",
       "      <td>Pit Bull Mix</td>\n",
       "      <td>Brown/Black</td>\n",
       "    </tr>\n",
       "    <tr>\n",
       "      <th>253</th>\n",
       "      <td>A721330</td>\n",
       "      <td>*Glen</td>\n",
       "      <td>3/5/2016 17:40</td>\n",
       "      <td>3/5/2016 17:40</td>\n",
       "      <td>1/9/2016</td>\n",
       "      <td>Adoption</td>\n",
       "      <td>Foster</td>\n",
       "      <td>Neutered</td>\n",
       "      <td>Male</td>\n",
       "      <td>1</td>\n",
       "      <td>month</td>\n",
       "      <td>1.0</td>\n",
       "      <td>German Shepherd Mix</td>\n",
       "      <td>Tan</td>\n",
       "    </tr>\n",
       "    <tr>\n",
       "      <th>254</th>\n",
       "      <td>A697339</td>\n",
       "      <td>NaN</td>\n",
       "      <td>02/23/2015 06:36:00 PM</td>\n",
       "      <td>02/23/2015 06:36:00 PM</td>\n",
       "      <td>12/30/2014</td>\n",
       "      <td>Adoption</td>\n",
       "      <td>NaN</td>\n",
       "      <td>Spayed</td>\n",
       "      <td>Female</td>\n",
       "      <td>1</td>\n",
       "      <td>month</td>\n",
       "      <td>1.0</td>\n",
       "      <td>German Shepherd/Pit Bull</td>\n",
       "      <td>Brown</td>\n",
       "    </tr>\n",
       "    <tr>\n",
       "      <th>255</th>\n",
       "      <td>A695918</td>\n",
       "      <td>Clementine</td>\n",
       "      <td>01/29/2015 05:59:00 PM</td>\n",
       "      <td>01/29/2015 05:59:00 PM</td>\n",
       "      <td>11/30/2014</td>\n",
       "      <td>Adoption</td>\n",
       "      <td>NaN</td>\n",
       "      <td>Spayed</td>\n",
       "      <td>Female</td>\n",
       "      <td>1</td>\n",
       "      <td>month</td>\n",
       "      <td>1.0</td>\n",
       "      <td>Dachshund/Chihuahua Shorthair</td>\n",
       "      <td>Black/White</td>\n",
       "    </tr>\n",
       "    <tr>\n",
       "      <th>256</th>\n",
       "      <td>A809888</td>\n",
       "      <td>NaN</td>\n",
       "      <td>12/4/2019 12:05</td>\n",
       "      <td>12/4/2019 12:05</td>\n",
       "      <td>10/19/2019</td>\n",
       "      <td>Transfer</td>\n",
       "      <td>Partner</td>\n",
       "      <td>Intact</td>\n",
       "      <td>Female</td>\n",
       "      <td>1</td>\n",
       "      <td>month</td>\n",
       "      <td>1.0</td>\n",
       "      <td>Labrador Retriever/German Shepherd</td>\n",
       "      <td>Brown/White</td>\n",
       "    </tr>\n",
       "    <tr>\n",
       "      <th>257</th>\n",
       "      <td>A774855</td>\n",
       "      <td>NaN</td>\n",
       "      <td>7/10/2018 19:10</td>\n",
       "      <td>7/10/2018 19:10</td>\n",
       "      <td>05/21/2018</td>\n",
       "      <td>Transfer</td>\n",
       "      <td>Partner</td>\n",
       "      <td>Intact</td>\n",
       "      <td>Male</td>\n",
       "      <td>1</td>\n",
       "      <td>month</td>\n",
       "      <td>1.0</td>\n",
       "      <td>Australian Kelpie Mix</td>\n",
       "      <td>Brown/White</td>\n",
       "    </tr>\n",
       "    <tr>\n",
       "      <th>258</th>\n",
       "      <td>A750857</td>\n",
       "      <td>*Cinder</td>\n",
       "      <td>07/28/2017 10:37:00 PM</td>\n",
       "      <td>07/28/2017 10:37:00 PM</td>\n",
       "      <td>6/1/2017</td>\n",
       "      <td>Adoption</td>\n",
       "      <td>Foster</td>\n",
       "      <td>Spayed</td>\n",
       "      <td>Female</td>\n",
       "      <td>1</td>\n",
       "      <td>month</td>\n",
       "      <td>1.0</td>\n",
       "      <td>Great Pyrenees/American Bulldog</td>\n",
       "      <td>Black/White</td>\n",
       "    </tr>\n",
       "    <tr>\n",
       "      <th>259</th>\n",
       "      <td>A762939</td>\n",
       "      <td>NaN</td>\n",
       "      <td>11/30/2017 12:00:00 AM</td>\n",
       "      <td>11/30/2017 12:00:00 AM</td>\n",
       "      <td>09/30/2017</td>\n",
       "      <td>Transfer</td>\n",
       "      <td>Partner</td>\n",
       "      <td>Intact</td>\n",
       "      <td>Female</td>\n",
       "      <td>1</td>\n",
       "      <td>month</td>\n",
       "      <td>1.0</td>\n",
       "      <td>Pit Bull Mix</td>\n",
       "      <td>Brown/White</td>\n",
       "    </tr>\n",
       "    <tr>\n",
       "      <th>260</th>\n",
       "      <td>A706606</td>\n",
       "      <td>Boyd</td>\n",
       "      <td>07/23/2015 02:09:00 PM</td>\n",
       "      <td>07/23/2015 02:09:00 PM</td>\n",
       "      <td>05/27/2015</td>\n",
       "      <td>Adoption</td>\n",
       "      <td>NaN</td>\n",
       "      <td>Intact</td>\n",
       "      <td>Male</td>\n",
       "      <td>1</td>\n",
       "      <td>month</td>\n",
       "      <td>1.0</td>\n",
       "      <td>Australian Shepherd Mix</td>\n",
       "      <td>Buff/White</td>\n",
       "    </tr>\n",
       "  </tbody>\n",
       "</table>\n",
       "</div>"
      ],
      "text/plain": [
       "    Animal_ID        Name                DateTime               MonthYear  \\\n",
       "250   A809527    *Cricket        12/11/2019 16:17        12/11/2019 16:17   \n",
       "251   A797472         NaN  06/13/2019 06:59:00 PM  06/13/2019 06:59:00 PM   \n",
       "252   A742456      *Arrow  02/14/2017 06:27:00 PM  02/14/2017 06:27:00 PM   \n",
       "253   A721330       *Glen          3/5/2016 17:40          3/5/2016 17:40   \n",
       "254   A697339         NaN  02/23/2015 06:36:00 PM  02/23/2015 06:36:00 PM   \n",
       "255   A695918  Clementine  01/29/2015 05:59:00 PM  01/29/2015 05:59:00 PM   \n",
       "256   A809888         NaN         12/4/2019 12:05         12/4/2019 12:05   \n",
       "257   A774855         NaN         7/10/2018 19:10         7/10/2018 19:10   \n",
       "258   A750857     *Cinder  07/28/2017 10:37:00 PM  07/28/2017 10:37:00 PM   \n",
       "259   A762939         NaN  11/30/2017 12:00:00 AM  11/30/2017 12:00:00 AM   \n",
       "260   A706606        Boyd  07/23/2015 02:09:00 PM  07/23/2015 02:09:00 PM   \n",
       "\n",
       "    Date_of_Birth Outcome_Type Outcome_Subtype     Fixed     Sex  Age_numeric  \\\n",
       "250    10/18/2019     Adoption          Foster    Spayed  Female            1   \n",
       "251    04/24/2019     Transfer         Partner    Intact  Female            1   \n",
       "252    12/22/2016     Adoption          Foster    Spayed  Female            1   \n",
       "253      1/9/2016     Adoption          Foster  Neutered    Male            1   \n",
       "254    12/30/2014     Adoption             NaN    Spayed  Female            1   \n",
       "255    11/30/2014     Adoption             NaN    Spayed  Female            1   \n",
       "256    10/19/2019     Transfer         Partner    Intact  Female            1   \n",
       "257    05/21/2018     Transfer         Partner    Intact    Male            1   \n",
       "258      6/1/2017     Adoption          Foster    Spayed  Female            1   \n",
       "259    09/30/2017     Transfer         Partner    Intact  Female            1   \n",
       "260    05/27/2015     Adoption             NaN    Intact    Male            1   \n",
       "\n",
       "    Age_time  Age_month                               Breed        Color  \n",
       "250    month        1.0              Labrador Retriever Mix  Black/White  \n",
       "251    month        1.0              Chihuahua Longhair Mix    Black/Tan  \n",
       "252    month        1.0                        Pit Bull Mix  Brown/Black  \n",
       "253    month        1.0                 German Shepherd Mix          Tan  \n",
       "254    month        1.0            German Shepherd/Pit Bull        Brown  \n",
       "255    month        1.0       Dachshund/Chihuahua Shorthair  Black/White  \n",
       "256    month        1.0  Labrador Retriever/German Shepherd  Brown/White  \n",
       "257    month        1.0               Australian Kelpie Mix  Brown/White  \n",
       "258    month        1.0     Great Pyrenees/American Bulldog  Black/White  \n",
       "259    month        1.0                        Pit Bull Mix  Brown/White  \n",
       "260    month        1.0             Australian Shepherd Mix   Buff/White  "
      ]
     },
     "execution_count": 4,
     "metadata": {},
     "output_type": "execute_result"
    }
   ],
   "source": [
    "df.loc[250:260, :]"
   ]
  },
  {
   "cell_type": "code",
   "execution_count": 5,
   "metadata": {},
   "outputs": [
    {
     "data": {
      "text/plain": [
       "(66804, 14)"
      ]
     },
     "execution_count": 5,
     "metadata": {},
     "output_type": "execute_result"
    }
   ],
   "source": [
    "df.shape"
   ]
  },
  {
   "cell_type": "markdown",
   "metadata": {},
   "source": [
    "## Cleaning\n",
    "1. Drop unnessary columns\n",
    "2. Drop rows where \"Outcome_Type\" is null\n",
    "3. Drop rows where \"Outcome_Type\" is Return_To_Owner"
   ]
  },
  {
   "cell_type": "code",
   "execution_count": 6,
   "metadata": {},
   "outputs": [
    {
     "data": {
      "text/plain": [
       "Animal_ID          0.000000\n",
       "Name               0.169496\n",
       "DateTime           0.000000\n",
       "MonthYear          0.000000\n",
       "Date_of_Birth      0.000000\n",
       "Outcome_Type       0.000000\n",
       "Outcome_Subtype    0.688567\n",
       "Fixed              0.000015\n",
       "Sex                0.005673\n",
       "Age_numeric        0.000000\n",
       "Age_time           0.000000\n",
       "Age_month          0.000000\n",
       "Breed              0.000000\n",
       "Color              0.000000\n",
       "dtype: float64"
      ]
     },
     "execution_count": 6,
     "metadata": {},
     "output_type": "execute_result"
    }
   ],
   "source": [
    "# Quick check for missing values\n",
    "df.apply(lambda x: sum(x.isnull()/len(df)))"
   ]
  },
  {
   "cell_type": "code",
   "execution_count": 7,
   "metadata": {},
   "outputs": [],
   "source": [
    "# Drop unnessary columns\n",
    "df2 = df.drop(columns=['Animal_ID', 'Name', 'DateTime', 'MonthYear', 'Date_of_Birth', 'Outcome_Subtype', \n",
    "                       'Age_numeric', 'Age_time' , 'Fixed'])"
   ]
  },
  {
   "cell_type": "code",
   "execution_count": 8,
   "metadata": {},
   "outputs": [
    {
     "data": {
      "text/plain": [
       "(66804, 5)"
      ]
     },
     "execution_count": 8,
     "metadata": {},
     "output_type": "execute_result"
    }
   ],
   "source": [
    "df2.shape\n",
    "# df2.head()"
   ]
  },
  {
   "cell_type": "code",
   "execution_count": 9,
   "metadata": {},
   "outputs": [],
   "source": [
    "# Drop rows where Outcome_Type is null\n",
    "\n",
    "df2 = df2.loc[df2.Outcome_Type.notna(), [\"Outcome_Type\", \"Sex\", \"Age_month\", \"Breed\" ,\"Color\"]]"
   ]
  },
  {
   "cell_type": "code",
   "execution_count": 10,
   "metadata": {},
   "outputs": [
    {
     "data": {
      "text/plain": [
       "(66804, 5)"
      ]
     },
     "execution_count": 10,
     "metadata": {},
     "output_type": "execute_result"
    }
   ],
   "source": [
    "# Check for more nulls\n",
    "df2.head()\n",
    "df2.apply(lambda x: sum(x.isnull()/len(df2)))\n",
    "df2.shape"
   ]
  },
  {
   "cell_type": "code",
   "execution_count": 11,
   "metadata": {},
   "outputs": [],
   "source": [
    "# Have to fix the following columns \"Sex\"\n",
    "df2 = df2.dropna(axis=0, subset=[\"Sex\"])"
   ]
  },
  {
   "cell_type": "code",
   "execution_count": 12,
   "metadata": {},
   "outputs": [
    {
     "data": {
      "text/plain": [
       "(66425, 5)"
      ]
     },
     "execution_count": 12,
     "metadata": {},
     "output_type": "execute_result"
    }
   ],
   "source": [
    "# Verify that nulls from \"Fixed\" and \"Sex\" have been dropped\n",
    "df2.apply(lambda x: sum(x.isnull()/len(df2)))\n",
    "df2.shape"
   ]
  },
  {
   "cell_type": "code",
   "execution_count": 13,
   "metadata": {},
   "outputs": [],
   "source": [
    "# # df2.groupby('Outcome_Type').count()\n",
    "# df2.groupby('Color').count().sort_values('Outcome_Type', ascending=False)"
   ]
  },
  {
   "cell_type": "code",
   "execution_count": 14,
   "metadata": {},
   "outputs": [],
   "source": [
    "# Drop all rows 'Return to Owner' ???  Assuming that chip is checked at intake\n",
    "\n",
    "df3 = df2.drop(df2[df2.Outcome_Type == \"Return to Owner\"].index)"
   ]
  },
  {
   "cell_type": "code",
   "execution_count": 15,
   "metadata": {},
   "outputs": [
    {
     "data": {
      "text/plain": [
       "(48025, 5)"
      ]
     },
     "execution_count": 15,
     "metadata": {},
     "output_type": "execute_result"
    }
   ],
   "source": [
    "# Verify shape\n",
    "df3.shape"
   ]
  },
  {
   "cell_type": "code",
   "execution_count": 16,
   "metadata": {},
   "outputs": [
    {
     "data": {
      "text/html": [
       "<div>\n",
       "<style scoped>\n",
       "    .dataframe tbody tr th:only-of-type {\n",
       "        vertical-align: middle;\n",
       "    }\n",
       "\n",
       "    .dataframe tbody tr th {\n",
       "        vertical-align: top;\n",
       "    }\n",
       "\n",
       "    .dataframe thead th {\n",
       "        text-align: right;\n",
       "    }\n",
       "</style>\n",
       "<table border=\"1\" class=\"dataframe\">\n",
       "  <thead>\n",
       "    <tr style=\"text-align: right;\">\n",
       "      <th></th>\n",
       "      <th>Sex</th>\n",
       "      <th>Age_month</th>\n",
       "      <th>Breed</th>\n",
       "      <th>Color</th>\n",
       "    </tr>\n",
       "    <tr>\n",
       "      <th>Outcome_Type</th>\n",
       "      <th></th>\n",
       "      <th></th>\n",
       "      <th></th>\n",
       "      <th></th>\n",
       "    </tr>\n",
       "  </thead>\n",
       "  <tbody>\n",
       "    <tr>\n",
       "      <th>Adoption</th>\n",
       "      <td>31395</td>\n",
       "      <td>31395</td>\n",
       "      <td>31395</td>\n",
       "      <td>31395</td>\n",
       "    </tr>\n",
       "    <tr>\n",
       "      <th>Died</th>\n",
       "      <td>209</td>\n",
       "      <td>209</td>\n",
       "      <td>209</td>\n",
       "      <td>209</td>\n",
       "    </tr>\n",
       "    <tr>\n",
       "      <th>Disposal</th>\n",
       "      <td>22</td>\n",
       "      <td>22</td>\n",
       "      <td>22</td>\n",
       "      <td>22</td>\n",
       "    </tr>\n",
       "    <tr>\n",
       "      <th>Euthanasia</th>\n",
       "      <td>1694</td>\n",
       "      <td>1694</td>\n",
       "      <td>1694</td>\n",
       "      <td>1694</td>\n",
       "    </tr>\n",
       "    <tr>\n",
       "      <th>Missing</th>\n",
       "      <td>29</td>\n",
       "      <td>29</td>\n",
       "      <td>29</td>\n",
       "      <td>29</td>\n",
       "    </tr>\n",
       "    <tr>\n",
       "      <th>Rto-Adopt</th>\n",
       "      <td>498</td>\n",
       "      <td>498</td>\n",
       "      <td>498</td>\n",
       "      <td>498</td>\n",
       "    </tr>\n",
       "    <tr>\n",
       "      <th>Transfer</th>\n",
       "      <td>14178</td>\n",
       "      <td>14178</td>\n",
       "      <td>14178</td>\n",
       "      <td>14178</td>\n",
       "    </tr>\n",
       "  </tbody>\n",
       "</table>\n",
       "</div>"
      ],
      "text/plain": [
       "                Sex  Age_month  Breed  Color\n",
       "Outcome_Type                                \n",
       "Adoption      31395      31395  31395  31395\n",
       "Died            209        209    209    209\n",
       "Disposal         22         22     22     22\n",
       "Euthanasia     1694       1694   1694   1694\n",
       "Missing          29         29     29     29\n",
       "Rto-Adopt       498        498    498    498\n",
       "Transfer      14178      14178  14178  14178"
      ]
     },
     "execution_count": 16,
     "metadata": {},
     "output_type": "execute_result"
    }
   ],
   "source": [
    "# Verify group by counts (Return to Owner should be gone)\n",
    "df3.groupby('Outcome_Type').count()"
   ]
  },
  {
   "cell_type": "code",
   "execution_count": 17,
   "metadata": {},
   "outputs": [
    {
     "data": {
      "text/plain": [
       "Outcome_Type    0.0\n",
       "Sex             0.0\n",
       "Age_month       0.0\n",
       "Breed           0.0\n",
       "Color           0.0\n",
       "dtype: float64"
      ]
     },
     "execution_count": 17,
     "metadata": {},
     "output_type": "execute_result"
    }
   ],
   "source": [
    "# Anymore missing values before we move on?  If zero, then we are good.\n",
    "df3.apply(lambda x: sum(x.isnull()/len(df3)))"
   ]
  },
  {
   "cell_type": "code",
   "execution_count": 31,
   "metadata": {},
   "outputs": [
    {
     "data": {
      "text/plain": [
       "(48025, 5)"
      ]
     },
     "execution_count": 31,
     "metadata": {},
     "output_type": "execute_result"
    }
   ],
   "source": [
    "df3.shape"
   ]
  },
  {
   "cell_type": "markdown",
   "metadata": {},
   "source": [
    "## Add new features?\n",
    "1. New feature? - Mixed/Pure Breed? - COMPLETED!! \n",
    "2. Split breeds - COMPLETED!!\n",
    "3. Color -  We have 333 unique color combinations. Hot encoding \"Color\" will create additional X features if we didn't do anything.  This would be unlikely to create a good performing model.\n",
    "    *  Option 1 - We take any values occurring fewer than 300 times and places them into the “other” label. We use this to create a new feature called “Top_colors”.  Doing this would reduce 333 unique colors to 30 unique values - COMPLETED!\n",
    "    *  Option 2 - Split to primary color vs secondary color? - COMPLETED!\n",
    "4. Creating age groups - COMPLETED!!\n",
    "5. Breeds - Hot encoding \"Breed\" will create additional 1,380 new features if we didn't do anything.  \n",
    "6. New feature? - Single color/Multi color?"
   ]
  },
  {
   "cell_type": "markdown",
   "metadata": {},
   "source": [
    "#### Creating a Mix/Pure Breed column - As of May 20 9pm, MIX doesn't do anything cause assuming all breeds are mixed\n",
    "1. Create new MIX column\n",
    "2. Split breed into breed_primary and breed_second\n"
   ]
  },
  {
   "cell_type": "code",
   "execution_count": 18,
   "metadata": {},
   "outputs": [],
   "source": [
    "# How many unique breed combinations before split? - 2010, that's a lot!\n",
    "# Solution1:  Create MIX column to identify PURE BREED vs MIX BREED\n",
    "# Solution2:  After cleaning the name (taking MIX out), then split into primary and secondary breed columns  \n",
    "# len(df3.Breed.value_counts())"
   ]
  },
  {
   "cell_type": "markdown",
   "metadata": {},
   "source": [
    "#### solution1 - Creating a MIX column\n",
    "* Yes value is Mixed\n",
    "* No\n",
    "value is Pure"
   ]
  },
  {
   "cell_type": "code",
   "execution_count": 19,
   "metadata": {},
   "outputs": [
    {
     "data": {
      "text/html": [
       "<div>\n",
       "<style scoped>\n",
       "    .dataframe tbody tr th:only-of-type {\n",
       "        vertical-align: middle;\n",
       "    }\n",
       "\n",
       "    .dataframe tbody tr th {\n",
       "        vertical-align: top;\n",
       "    }\n",
       "\n",
       "    .dataframe thead th {\n",
       "        text-align: right;\n",
       "    }\n",
       "</style>\n",
       "<table border=\"1\" class=\"dataframe\">\n",
       "  <thead>\n",
       "    <tr style=\"text-align: right;\">\n",
       "      <th></th>\n",
       "      <th>Outcome_Type</th>\n",
       "      <th>Sex</th>\n",
       "      <th>Age_month</th>\n",
       "      <th>Breed</th>\n",
       "      <th>Color</th>\n",
       "      <th>Mix</th>\n",
       "    </tr>\n",
       "  </thead>\n",
       "  <tbody>\n",
       "    <tr>\n",
       "      <th>0</th>\n",
       "      <td>Adoption</td>\n",
       "      <td>Female</td>\n",
       "      <td>1.000000</td>\n",
       "      <td>Border Collie Mix</td>\n",
       "      <td>Chocolate/White</td>\n",
       "      <td>No</td>\n",
       "    </tr>\n",
       "    <tr>\n",
       "      <th>1</th>\n",
       "      <td>Transfer</td>\n",
       "      <td>Male</td>\n",
       "      <td>0.066667</td>\n",
       "      <td>German Shepherd Mix</td>\n",
       "      <td>Brown</td>\n",
       "      <td>No</td>\n",
       "    </tr>\n",
       "    <tr>\n",
       "      <th>2</th>\n",
       "      <td>Transfer</td>\n",
       "      <td>Male</td>\n",
       "      <td>0.066667</td>\n",
       "      <td>Labrador Retriever Mix</td>\n",
       "      <td>Black/White</td>\n",
       "      <td>No</td>\n",
       "    </tr>\n",
       "    <tr>\n",
       "      <th>4</th>\n",
       "      <td>Transfer</td>\n",
       "      <td>Female</td>\n",
       "      <td>0.066667</td>\n",
       "      <td>Dachshund Mix</td>\n",
       "      <td>Brown</td>\n",
       "      <td>No</td>\n",
       "    </tr>\n",
       "    <tr>\n",
       "      <th>6</th>\n",
       "      <td>Transfer</td>\n",
       "      <td>Female</td>\n",
       "      <td>0.066667</td>\n",
       "      <td>Pit Bull Mix</td>\n",
       "      <td>Chocolate/White</td>\n",
       "      <td>No</td>\n",
       "    </tr>\n",
       "  </tbody>\n",
       "</table>\n",
       "</div>"
      ],
      "text/plain": [
       "  Outcome_Type     Sex  Age_month                   Breed            Color Mix\n",
       "0     Adoption  Female   1.000000       Border Collie Mix  Chocolate/White  No\n",
       "1     Transfer    Male   0.066667     German Shepherd Mix            Brown  No\n",
       "2     Transfer    Male   0.066667  Labrador Retriever Mix      Black/White  No\n",
       "4     Transfer  Female   0.066667           Dachshund Mix            Brown  No\n",
       "6     Transfer  Female   0.066667            Pit Bull Mix  Chocolate/White  No"
      ]
     },
     "execution_count": 19,
     "metadata": {},
     "output_type": "execute_result"
    }
   ],
   "source": [
    "# Make a copy and add new column called Mix, set to 0\n",
    "df4 = df3.copy()\n",
    "df4[\"Mix\"]='No'\n",
    "df4.head()"
   ]
  },
  {
   "cell_type": "code",
   "execution_count": 20,
   "metadata": {},
   "outputs": [
    {
     "data": {
      "text/plain": [
       "(48025, 6)"
      ]
     },
     "execution_count": 20,
     "metadata": {},
     "output_type": "execute_result"
    }
   ],
   "source": [
    "df4.shape"
   ]
  },
  {
   "cell_type": "code",
   "execution_count": 21,
   "metadata": {},
   "outputs": [
    {
     "data": {
      "text/html": [
       "<div>\n",
       "<style scoped>\n",
       "    .dataframe tbody tr th:only-of-type {\n",
       "        vertical-align: middle;\n",
       "    }\n",
       "\n",
       "    .dataframe tbody tr th {\n",
       "        vertical-align: top;\n",
       "    }\n",
       "\n",
       "    .dataframe thead th {\n",
       "        text-align: right;\n",
       "    }\n",
       "</style>\n",
       "<table border=\"1\" class=\"dataframe\">\n",
       "  <thead>\n",
       "    <tr style=\"text-align: right;\">\n",
       "      <th></th>\n",
       "      <th>Outcome_Type</th>\n",
       "      <th>Sex</th>\n",
       "      <th>Age_month</th>\n",
       "      <th>Breed</th>\n",
       "      <th>Color</th>\n",
       "      <th>Mix</th>\n",
       "    </tr>\n",
       "  </thead>\n",
       "  <tbody>\n",
       "    <tr>\n",
       "      <th>200</th>\n",
       "      <td>Transfer</td>\n",
       "      <td>Female</td>\n",
       "      <td>0.2</td>\n",
       "      <td>Dachshund</td>\n",
       "      <td>Tan</td>\n",
       "      <td>No</td>\n",
       "    </tr>\n",
       "    <tr>\n",
       "      <th>201</th>\n",
       "      <td>Transfer</td>\n",
       "      <td>Male</td>\n",
       "      <td>0.2</td>\n",
       "      <td>Dachshund</td>\n",
       "      <td>Tan</td>\n",
       "      <td>No</td>\n",
       "    </tr>\n",
       "    <tr>\n",
       "      <th>205</th>\n",
       "      <td>Transfer</td>\n",
       "      <td>Female</td>\n",
       "      <td>0.2</td>\n",
       "      <td>German Shepherd/Rottweiler</td>\n",
       "      <td>Brown/Black</td>\n",
       "      <td>No</td>\n",
       "    </tr>\n",
       "    <tr>\n",
       "      <th>206</th>\n",
       "      <td>Transfer</td>\n",
       "      <td>Female</td>\n",
       "      <td>0.2</td>\n",
       "      <td>Labrador Retriever/Pit Bull</td>\n",
       "      <td>Brown Brindle</td>\n",
       "      <td>No</td>\n",
       "    </tr>\n",
       "    <tr>\n",
       "      <th>208</th>\n",
       "      <td>Transfer</td>\n",
       "      <td>Female</td>\n",
       "      <td>0.2</td>\n",
       "      <td>Rat Terrier Mix</td>\n",
       "      <td>White</td>\n",
       "      <td>No</td>\n",
       "    </tr>\n",
       "    <tr>\n",
       "      <th>209</th>\n",
       "      <td>Transfer</td>\n",
       "      <td>Female</td>\n",
       "      <td>0.2</td>\n",
       "      <td>Labrador Retriever/Pit Bull</td>\n",
       "      <td>Brown Brindle/White</td>\n",
       "      <td>No</td>\n",
       "    </tr>\n",
       "    <tr>\n",
       "      <th>210</th>\n",
       "      <td>Transfer</td>\n",
       "      <td>Male</td>\n",
       "      <td>0.2</td>\n",
       "      <td>Rat Terrier Mix</td>\n",
       "      <td>White</td>\n",
       "      <td>No</td>\n",
       "    </tr>\n",
       "  </tbody>\n",
       "</table>\n",
       "</div>"
      ],
      "text/plain": [
       "    Outcome_Type     Sex  Age_month                        Breed  \\\n",
       "200     Transfer  Female        0.2                    Dachshund   \n",
       "201     Transfer    Male        0.2                    Dachshund   \n",
       "205     Transfer  Female        0.2   German Shepherd/Rottweiler   \n",
       "206     Transfer  Female        0.2  Labrador Retriever/Pit Bull   \n",
       "208     Transfer  Female        0.2              Rat Terrier Mix   \n",
       "209     Transfer  Female        0.2  Labrador Retriever/Pit Bull   \n",
       "210     Transfer    Male        0.2              Rat Terrier Mix   \n",
       "\n",
       "                   Color Mix  \n",
       "200                  Tan  No  \n",
       "201                  Tan  No  \n",
       "205          Brown/Black  No  \n",
       "206        Brown Brindle  No  \n",
       "208                White  No  \n",
       "209  Brown Brindle/White  No  \n",
       "210                White  No  "
      ]
     },
     "execution_count": 21,
     "metadata": {},
     "output_type": "execute_result"
    }
   ],
   "source": [
    "df4.loc[200:210, :]"
   ]
  },
  {
   "cell_type": "code",
   "execution_count": 22,
   "metadata": {},
   "outputs": [],
   "source": [
    "# Find rows containing word \"Mix\" and set to 1 (for True)\n",
    "df4.loc[df4[\"Breed\"].str.contains(\"Mix\"), \"Mix\"] = \"Yes\""
   ]
  },
  {
   "cell_type": "code",
   "execution_count": 24,
   "metadata": {},
   "outputs": [
    {
     "data": {
      "text/html": [
       "<div>\n",
       "<style scoped>\n",
       "    .dataframe tbody tr th:only-of-type {\n",
       "        vertical-align: middle;\n",
       "    }\n",
       "\n",
       "    .dataframe tbody tr th {\n",
       "        vertical-align: top;\n",
       "    }\n",
       "\n",
       "    .dataframe thead th {\n",
       "        text-align: right;\n",
       "    }\n",
       "</style>\n",
       "<table border=\"1\" class=\"dataframe\">\n",
       "  <thead>\n",
       "    <tr style=\"text-align: right;\">\n",
       "      <th></th>\n",
       "      <th>Outcome_Type</th>\n",
       "      <th>Sex</th>\n",
       "      <th>Age_month</th>\n",
       "      <th>Breed</th>\n",
       "      <th>Color</th>\n",
       "      <th>Mix</th>\n",
       "    </tr>\n",
       "  </thead>\n",
       "  <tbody>\n",
       "    <tr>\n",
       "      <th>180</th>\n",
       "      <td>Rto-Adopt</td>\n",
       "      <td>Male</td>\n",
       "      <td>0.2</td>\n",
       "      <td>Beagle Mix</td>\n",
       "      <td>Tan/White</td>\n",
       "      <td>Yes</td>\n",
       "    </tr>\n",
       "    <tr>\n",
       "      <th>181</th>\n",
       "      <td>Transfer</td>\n",
       "      <td>Male</td>\n",
       "      <td>0.2</td>\n",
       "      <td>Labrador Retriever Mix</td>\n",
       "      <td>Black/White</td>\n",
       "      <td>Yes</td>\n",
       "    </tr>\n",
       "    <tr>\n",
       "      <th>183</th>\n",
       "      <td>Transfer</td>\n",
       "      <td>Female</td>\n",
       "      <td>0.2</td>\n",
       "      <td>Rat Terrier Mix</td>\n",
       "      <td>White</td>\n",
       "      <td>Yes</td>\n",
       "    </tr>\n",
       "    <tr>\n",
       "      <th>186</th>\n",
       "      <td>Transfer</td>\n",
       "      <td>Female</td>\n",
       "      <td>0.2</td>\n",
       "      <td>Chihuahua Longhair Mix</td>\n",
       "      <td>Black/White</td>\n",
       "      <td>Yes</td>\n",
       "    </tr>\n",
       "    <tr>\n",
       "      <th>187</th>\n",
       "      <td>Transfer</td>\n",
       "      <td>Male</td>\n",
       "      <td>0.2</td>\n",
       "      <td>Chihuahua Longhair Mix</td>\n",
       "      <td>Tricolor</td>\n",
       "      <td>Yes</td>\n",
       "    </tr>\n",
       "    <tr>\n",
       "      <th>188</th>\n",
       "      <td>Transfer</td>\n",
       "      <td>Male</td>\n",
       "      <td>0.2</td>\n",
       "      <td>Labrador Retriever/Pit Bull</td>\n",
       "      <td>Tan/Black</td>\n",
       "      <td>No</td>\n",
       "    </tr>\n",
       "    <tr>\n",
       "      <th>189</th>\n",
       "      <td>Transfer</td>\n",
       "      <td>Female</td>\n",
       "      <td>0.2</td>\n",
       "      <td>Labrador Retriever Mix</td>\n",
       "      <td>Black/White</td>\n",
       "      <td>Yes</td>\n",
       "    </tr>\n",
       "    <tr>\n",
       "      <th>190</th>\n",
       "      <td>Transfer</td>\n",
       "      <td>Male</td>\n",
       "      <td>0.2</td>\n",
       "      <td>Dachshund</td>\n",
       "      <td>Tan</td>\n",
       "      <td>No</td>\n",
       "    </tr>\n",
       "  </tbody>\n",
       "</table>\n",
       "</div>"
      ],
      "text/plain": [
       "    Outcome_Type     Sex  Age_month                        Breed        Color  \\\n",
       "180    Rto-Adopt    Male        0.2                   Beagle Mix    Tan/White   \n",
       "181     Transfer    Male        0.2       Labrador Retriever Mix  Black/White   \n",
       "183     Transfer  Female        0.2              Rat Terrier Mix        White   \n",
       "186     Transfer  Female        0.2       Chihuahua Longhair Mix  Black/White   \n",
       "187     Transfer    Male        0.2       Chihuahua Longhair Mix     Tricolor   \n",
       "188     Transfer    Male        0.2  Labrador Retriever/Pit Bull    Tan/Black   \n",
       "189     Transfer  Female        0.2       Labrador Retriever Mix  Black/White   \n",
       "190     Transfer    Male        0.2                    Dachshund          Tan   \n",
       "\n",
       "     Mix  \n",
       "180  Yes  \n",
       "181  Yes  \n",
       "183  Yes  \n",
       "186  Yes  \n",
       "187  Yes  \n",
       "188   No  \n",
       "189  Yes  \n",
       "190   No  "
      ]
     },
     "execution_count": 24,
     "metadata": {},
     "output_type": "execute_result"
    }
   ],
   "source": [
    "df4.loc[180:190, :]"
   ]
  },
  {
   "cell_type": "code",
   "execution_count": 25,
   "metadata": {},
   "outputs": [
    {
     "data": {
      "text/plain": [
       "8480"
      ]
     },
     "execution_count": 25,
     "metadata": {},
     "output_type": "execute_result"
    }
   ],
   "source": [
    "# df4.groupby(['Mix']).count().sort_values(\"Breed\", ascending=False).head(10)\n",
    "df4['Breed'].str.count('\\/').sum()"
   ]
  },
  {
   "cell_type": "code",
   "execution_count": 27,
   "metadata": {},
   "outputs": [
    {
     "data": {
      "text/html": [
       "<div>\n",
       "<style scoped>\n",
       "    .dataframe tbody tr th:only-of-type {\n",
       "        vertical-align: middle;\n",
       "    }\n",
       "\n",
       "    .dataframe tbody tr th {\n",
       "        vertical-align: top;\n",
       "    }\n",
       "\n",
       "    .dataframe thead th {\n",
       "        text-align: right;\n",
       "    }\n",
       "</style>\n",
       "<table border=\"1\" class=\"dataframe\">\n",
       "  <thead>\n",
       "    <tr style=\"text-align: right;\">\n",
       "      <th></th>\n",
       "      <th>Outcome_Type</th>\n",
       "      <th>Sex</th>\n",
       "      <th>Age_month</th>\n",
       "      <th>Breed</th>\n",
       "      <th>Color</th>\n",
       "      <th>Mix</th>\n",
       "    </tr>\n",
       "  </thead>\n",
       "  <tbody>\n",
       "    <tr>\n",
       "      <th>180</th>\n",
       "      <td>Rto-Adopt</td>\n",
       "      <td>Male</td>\n",
       "      <td>0.2</td>\n",
       "      <td>BeagleMix</td>\n",
       "      <td>Tan/White</td>\n",
       "      <td>Yes</td>\n",
       "    </tr>\n",
       "    <tr>\n",
       "      <th>181</th>\n",
       "      <td>Transfer</td>\n",
       "      <td>Male</td>\n",
       "      <td>0.2</td>\n",
       "      <td>LabradorRetrieverMix</td>\n",
       "      <td>Black/White</td>\n",
       "      <td>Yes</td>\n",
       "    </tr>\n",
       "    <tr>\n",
       "      <th>183</th>\n",
       "      <td>Transfer</td>\n",
       "      <td>Female</td>\n",
       "      <td>0.2</td>\n",
       "      <td>RatTerrierMix</td>\n",
       "      <td>White</td>\n",
       "      <td>Yes</td>\n",
       "    </tr>\n",
       "    <tr>\n",
       "      <th>186</th>\n",
       "      <td>Transfer</td>\n",
       "      <td>Female</td>\n",
       "      <td>0.2</td>\n",
       "      <td>ChihuahuaLonghairMix</td>\n",
       "      <td>Black/White</td>\n",
       "      <td>Yes</td>\n",
       "    </tr>\n",
       "    <tr>\n",
       "      <th>187</th>\n",
       "      <td>Transfer</td>\n",
       "      <td>Male</td>\n",
       "      <td>0.2</td>\n",
       "      <td>ChihuahuaLonghairMix</td>\n",
       "      <td>Tricolor</td>\n",
       "      <td>Yes</td>\n",
       "    </tr>\n",
       "    <tr>\n",
       "      <th>188</th>\n",
       "      <td>Transfer</td>\n",
       "      <td>Male</td>\n",
       "      <td>0.2</td>\n",
       "      <td>LabradorRetriever/PitBull</td>\n",
       "      <td>Tan/Black</td>\n",
       "      <td>No</td>\n",
       "    </tr>\n",
       "    <tr>\n",
       "      <th>189</th>\n",
       "      <td>Transfer</td>\n",
       "      <td>Female</td>\n",
       "      <td>0.2</td>\n",
       "      <td>LabradorRetrieverMix</td>\n",
       "      <td>Black/White</td>\n",
       "      <td>Yes</td>\n",
       "    </tr>\n",
       "    <tr>\n",
       "      <th>190</th>\n",
       "      <td>Transfer</td>\n",
       "      <td>Male</td>\n",
       "      <td>0.2</td>\n",
       "      <td>Dachshund</td>\n",
       "      <td>Tan</td>\n",
       "      <td>No</td>\n",
       "    </tr>\n",
       "  </tbody>\n",
       "</table>\n",
       "</div>"
      ],
      "text/plain": [
       "    Outcome_Type     Sex  Age_month                      Breed        Color  \\\n",
       "180    Rto-Adopt    Male        0.2                  BeagleMix    Tan/White   \n",
       "181     Transfer    Male        0.2       LabradorRetrieverMix  Black/White   \n",
       "183     Transfer  Female        0.2              RatTerrierMix        White   \n",
       "186     Transfer  Female        0.2       ChihuahuaLonghairMix  Black/White   \n",
       "187     Transfer    Male        0.2       ChihuahuaLonghairMix     Tricolor   \n",
       "188     Transfer    Male        0.2  LabradorRetriever/PitBull    Tan/Black   \n",
       "189     Transfer  Female        0.2       LabradorRetrieverMix  Black/White   \n",
       "190     Transfer    Male        0.2                  Dachshund          Tan   \n",
       "\n",
       "     Mix  \n",
       "180  Yes  \n",
       "181  Yes  \n",
       "183  Yes  \n",
       "186  Yes  \n",
       "187  Yes  \n",
       "188   No  \n",
       "189  Yes  \n",
       "190   No  "
      ]
     },
     "execution_count": 27,
     "metadata": {},
     "output_type": "execute_result"
    }
   ],
   "source": [
    "# Double checking slashes with isalpha() - About the same number.  Off by 2 \n",
    "# removing white spaces \n",
    "df4[\"Breed\"]= df4[\"Breed\"].str.replace(\" \", \"\") \n",
    "df4.loc[180:190, :]\n"
   ]
  },
  {
   "cell_type": "code",
   "execution_count": 30,
   "metadata": {},
   "outputs": [
    {
     "data": {
      "text/html": [
       "<div>\n",
       "<style scoped>\n",
       "    .dataframe tbody tr th:only-of-type {\n",
       "        vertical-align: middle;\n",
       "    }\n",
       "\n",
       "    .dataframe tbody tr th {\n",
       "        vertical-align: top;\n",
       "    }\n",
       "\n",
       "    .dataframe thead th {\n",
       "        text-align: right;\n",
       "    }\n",
       "</style>\n",
       "<table border=\"1\" class=\"dataframe\">\n",
       "  <thead>\n",
       "    <tr style=\"text-align: right;\">\n",
       "      <th></th>\n",
       "      <th>Outcome_Type</th>\n",
       "      <th>Sex</th>\n",
       "      <th>Age_month</th>\n",
       "      <th>Breed</th>\n",
       "      <th>Color</th>\n",
       "      <th>Mix</th>\n",
       "    </tr>\n",
       "    <tr>\n",
       "      <th>bool_series2</th>\n",
       "      <th></th>\n",
       "      <th></th>\n",
       "      <th></th>\n",
       "      <th></th>\n",
       "      <th></th>\n",
       "      <th></th>\n",
       "    </tr>\n",
       "  </thead>\n",
       "  <tbody>\n",
       "    <tr>\n",
       "      <th>False</th>\n",
       "      <td>8478</td>\n",
       "      <td>8478</td>\n",
       "      <td>8478</td>\n",
       "      <td>8478</td>\n",
       "      <td>8478</td>\n",
       "      <td>8478</td>\n",
       "    </tr>\n",
       "    <tr>\n",
       "      <th>True</th>\n",
       "      <td>39547</td>\n",
       "      <td>39547</td>\n",
       "      <td>39547</td>\n",
       "      <td>39547</td>\n",
       "      <td>39547</td>\n",
       "      <td>39547</td>\n",
       "    </tr>\n",
       "  </tbody>\n",
       "</table>\n",
       "</div>"
      ],
      "text/plain": [
       "              Outcome_Type    Sex  Age_month  Breed  Color    Mix\n",
       "bool_series2                                                     \n",
       "False                 8478   8478       8478   8478   8478   8478\n",
       "True                 39547  39547      39547  39547  39547  39547"
      ]
     },
     "execution_count": 30,
     "metadata": {},
     "output_type": "execute_result"
    }
   ],
   "source": [
    "# creating bool series with new column \n",
    "df4[\"bool_series2\"]= df4[\"Breed\"].str.isalpha()\n",
    "df4.loc[180:190, :]\n",
    "df4.groupby(['bool_series2']).count()"
   ]
  },
  {
   "cell_type": "code",
   "execution_count": 35,
   "metadata": {},
   "outputs": [
    {
     "name": "stdout",
     "output_type": "stream",
     "text": [
      "Pure breed: 5497\n"
     ]
    }
   ],
   "source": [
    "print(f'Pure breed: {48025-34048-8480}')"
   ]
  },
  {
   "cell_type": "code",
   "execution_count": null,
   "metadata": {},
   "outputs": [],
   "source": [
    "# # Verify - any row with the word \"Mix\" in Breed column should be a 1 in the new Mix column\n",
    "# df4.loc[200:210, :]"
   ]
  },
  {
   "cell_type": "code",
   "execution_count": null,
   "metadata": {},
   "outputs": [],
   "source": [
    "# # Rename the breed WITHOUT the word MIX\n",
    "# df4.loc[df4['Breed'].str.contains('Mix'), 'Breed'] = df4.loc[df4['Breed'].str.contains('Mix'), 'Breed'].str.replace(' Mix', '')"
   ]
  },
  {
   "cell_type": "code",
   "execution_count": null,
   "metadata": {},
   "outputs": [],
   "source": [
    "# # Verify that the word 'Mix' is no longer part of the description if Mix is equal to 1\n",
    "# df4.loc[200:210, :]"
   ]
  },
  {
   "cell_type": "markdown",
   "metadata": {},
   "source": [
    "#### Solution2 - Split breed column into primary and secondary!  "
   ]
  },
  {
   "cell_type": "code",
   "execution_count": null,
   "metadata": {},
   "outputs": [],
   "source": [
    "df3[['Breed_primary','Breed_second']] = df3.Breed.str.split(\"/\", n=1, expand=True) "
   ]
  },
  {
   "cell_type": "code",
   "execution_count": null,
   "metadata": {},
   "outputs": [],
   "source": [
    "df3.head()\n",
    "df3.loc[200:230, :]"
   ]
  },
  {
   "cell_type": "code",
   "execution_count": null,
   "metadata": {},
   "outputs": [],
   "source": [
    "# How many unique breed combinations before split?\n",
    "# Breed column - 1854\n",
    "\n",
    "# How many unique breed combinations AFTER split?\n",
    "# Breed_primary - 198\n",
    "# Breed_second - 163\n",
    "\n",
    "len(df3.Breed_second.value_counts())"
   ]
  },
  {
   "cell_type": "code",
   "execution_count": null,
   "metadata": {},
   "outputs": [],
   "source": [
    "breed_top10primary = [x for x in df3.Breed_primary.value_counts().sort_values(ascending=False).head(15).index]\n",
    "breed_top10primary\n",
    "\n",
    "df3.Breed_primary.value_counts().sort_values(ascending=False).head(10)"
   ]
  },
  {
   "cell_type": "code",
   "execution_count": null,
   "metadata": {},
   "outputs": [],
   "source": [
    "breed_top10second = [x for x in df3.Breed_second.value_counts().sort_values(ascending=False).tail(10).index]\n",
    "breed_top10second\n",
    "\n",
    "df3.Breed_second.value_counts().sort_values(ascending=False).head(10)"
   ]
  },
  {
   "cell_type": "markdown",
   "metadata": {},
   "source": [
    "# QUESTION!  Should you not use breed_second?"
   ]
  },
  {
   "cell_type": "markdown",
   "metadata": {},
   "source": [
    "#### Handling Color - Option 1 (Selecting Top_Colors) - DID NOT DO HERE.  CODE IS COMMENTED OUT!\n",
    "* How does option1 effect RF/LogReg models?\n"
   ]
  },
  {
   "cell_type": "code",
   "execution_count": null,
   "metadata": {},
   "outputs": [],
   "source": [
    "# How many unique color combinations?  - 333\n",
    "color_counts = df3['Color'].value_counts()\n",
    "len(color_counts)\n",
    "# print(df3['Color'].nunique())\n",
    "\n",
    "# # Handling \"Color\" Option 1\n",
    "# color_others = set(color_counts[color_counts < 300].index)\n",
    "# df4['Top_colors'] = df4['Color'].replace(list(color_others), 'Others')\n",
    "# print(df4['Top_colors'].nunique())"
   ]
  },
  {
   "cell_type": "code",
   "execution_count": null,
   "metadata": {},
   "outputs": [],
   "source": [
    "# Drop Color column?\n",
    "df3.loc[150:160, :]"
   ]
  },
  {
   "cell_type": "markdown",
   "metadata": {},
   "source": [
    "#### Handling Color - Option 2 (Split and have intaker check all colors that apply)\n",
    "* How does option2 effect RF/LogReg models?"
   ]
  },
  {
   "cell_type": "code",
   "execution_count": null,
   "metadata": {},
   "outputs": [],
   "source": [
    "# Split Top_color column into color1, color2\n",
    "df3[['Color1','Color2']] = df3.Color.str.split(\"/\", n=1, expand=True) "
   ]
  },
  {
   "cell_type": "code",
   "execution_count": null,
   "metadata": {},
   "outputs": [],
   "source": [
    "df3.loc[150:160, :]"
   ]
  },
  {
   "cell_type": "code",
   "execution_count": null,
   "metadata": {},
   "outputs": [],
   "source": [
    "# How many unique colors? - 333 unique color combinations\n",
    "# df4.Color.value_counts().sort_values(ascending=False).head(20)\n",
    "# len(df3.Color.value_counts())\n",
    "\n",
    "# # How many unique colors in COLOR1? - 37\n",
    "# len(df3.Color1.value_counts())\n",
    "\n",
    "# How many unique colors in COLOR2? - 34\n",
    "len(df3.Color2.value_counts())"
   ]
  },
  {
   "cell_type": "code",
   "execution_count": null,
   "metadata": {},
   "outputs": [],
   "source": [
    "color_top10Color1 = [x for x in df3.Color1.value_counts().sort_values(ascending=False).head(30).index]\n",
    "color_top10Color1\n",
    "\n",
    "df3.Color1.value_counts().sort_values(ascending=False).head(40)"
   ]
  },
  {
   "cell_type": "code",
   "execution_count": null,
   "metadata": {},
   "outputs": [],
   "source": [
    "color_top10Color2 = [x for x in df3.Color2.value_counts().sort_values(ascending=False).head(10).index]\n",
    "color_top10Color2\n",
    "\n",
    "df3.Color2.value_counts().sort_values(ascending=False).head(40)"
   ]
  },
  {
   "cell_type": "markdown",
   "metadata": {},
   "source": [
    "# QUESTION!  Should you simplify the color intake?  "
   ]
  },
  {
   "cell_type": "markdown",
   "metadata": {},
   "source": [
    "#### Creating age categories\n",
    "* Baby: <=6months\n",
    "* Young: 7months-24 months\n",
    "* Adult: 2 years-7years\n",
    "* Senior: 7+"
   ]
  },
  {
   "cell_type": "code",
   "execution_count": null,
   "metadata": {},
   "outputs": [],
   "source": [
    "df3['Pet_age_category'] = pd.cut(x=df3['Age_month'], bins=[0, 6, 24, 84,240], labels=['Baby', 'Young', 'Adult', 'Senior'])"
   ]
  },
  {
   "cell_type": "code",
   "execution_count": null,
   "metadata": {},
   "outputs": [],
   "source": [
    "df3.loc[50000:50020, :]\n",
    "df3.tail()"
   ]
  },
  {
   "cell_type": "code",
   "execution_count": null,
   "metadata": {},
   "outputs": [],
   "source": [
    "# What's the breakdown by Pet_age_category after binning??\n",
    "df3.Pet_age_category.value_counts().sort_values(ascending=False).head(10)"
   ]
  },
  {
   "cell_type": "markdown",
   "metadata": {},
   "source": [
    "## Changing to Binary Outcome - Take the dog or Don't take the dog?\n",
    "* Positive Outcome is Adoption - Take in the dog\n",
    "* Negative Outcome is a combination of Transfer, Euthanized and Death categories - Don't take in the dog"
   ]
  },
  {
   "cell_type": "code",
   "execution_count": null,
   "metadata": {},
   "outputs": [],
   "source": [
    "# Create new BINARY_OUTCOME column and set to 0\n",
    "\n",
    "df3[\"Binary_outcome\"]=\"Negative\"\n",
    "df3.head()"
   ]
  },
  {
   "cell_type": "code",
   "execution_count": null,
   "metadata": {},
   "outputs": [],
   "source": [
    "# Find rows containing word \"Adoption\" and set to 1 (for Positive Outcome)\n",
    "# All other rows will be 0 (for Negative Outcome)\n",
    "\n",
    "df3.loc[df3[\"Outcome_Type\"].str.contains(\"Adoption\"), \"Binary_outcome\"] = \"Positive\""
   ]
  },
  {
   "cell_type": "code",
   "execution_count": null,
   "metadata": {},
   "outputs": [],
   "source": [
    "df3.loc[200:300, :]"
   ]
  },
  {
   "cell_type": "markdown",
   "metadata": {},
   "source": [
    "## Still get_dummies"
   ]
  },
  {
   "cell_type": "code",
   "execution_count": null,
   "metadata": {},
   "outputs": [],
   "source": [
    "df3.head()"
   ]
  },
  {
   "cell_type": "code",
   "execution_count": null,
   "metadata": {},
   "outputs": [],
   "source": [
    "# Drop these columns:\n",
    "# Outcome_Type column since we now have Binary_outcome \n",
    "# Age_month since we have Pet_age_category\n",
    "# Breed since we have Breed_primary, Breed_second     - SHOULD BE DROP BREED_SECOND??\n",
    "# Color since we have Color1, Color2\n",
    "df4 = df3.drop(columns=['Outcome_Type','Age_month', 'Breed', 'Color' ])"
   ]
  },
  {
   "cell_type": "markdown",
   "metadata": {},
   "source": [
    "# QUESTION!  \n",
    "1. Should be take out BREED_SECOND? - Dont get_dummy Breed_second\n",
    "2. Should be take out COLOR2?"
   ]
  },
  {
   "cell_type": "code",
   "execution_count": null,
   "metadata": {},
   "outputs": [],
   "source": [
    "df4.head()"
   ]
  },
  {
   "cell_type": "code",
   "execution_count": null,
   "metadata": {},
   "outputs": [],
   "source": [
    "# # import preprocessing from sklearn\n",
    "# from sklearn.preprocessing import LabelEncoder"
   ]
  },
  {
   "cell_type": "code",
   "execution_count": null,
   "metadata": {},
   "outputs": [],
   "source": [
    "# df5.dtypes"
   ]
  },
  {
   "cell_type": "code",
   "execution_count": null,
   "metadata": {},
   "outputs": [],
   "source": [
    "# V1 - all in\n",
    "# df6 = pd.get_dummies(df5[['Fixed', 'Sex', 'Mix', 'Breed_primary', 'Breed_second', 'Color1', 'Color2', 'Pet_age_category', 'Binary_outcome']])\n",
    "# df6.loc[5120:5130, :]\n",
    "\n",
    "# V2 - took out 'Breed_second'\n",
    "# df6 = pd.get_dummies(df5[['Fixed', 'Sex', 'Mix', 'Breed_primary', 'Color1', 'Color2', 'Pet_age_category', 'Binary_outcome']])\n",
    "# df6.loc[5120:5130, :]\n",
    "\n",
    "# V3 - took out 'Breed_second' AND 'Color2'   \n",
    "df5 = pd.get_dummies(df4[['Sex', 'Breed_primary', 'Color1', 'Pet_age_category', 'Binary_outcome']])\n",
    "df5.head()"
   ]
  },
  {
   "cell_type": "code",
   "execution_count": null,
   "metadata": {},
   "outputs": [],
   "source": [
    "df5.columns"
   ]
  },
  {
   "cell_type": "code",
   "execution_count": null,
   "metadata": {},
   "outputs": [],
   "source": [
    "# Define X and y\n",
    "X = df5.drop(['Binary_outcome_Negative', 'Binary_outcome_Positive','Sex_Female', 'Pet_age_category_Senior', 'Color1_Tricolor','Breed_primary_Affenpinscher Mix'], axis=\"columns\")\n",
    "y = df5[['Binary_outcome_Positive']]"
   ]
  },
  {
   "cell_type": "code",
   "execution_count": null,
   "metadata": {},
   "outputs": [],
   "source": [
    "X.shape"
   ]
  },
  {
   "cell_type": "code",
   "execution_count": null,
   "metadata": {},
   "outputs": [],
   "source": [
    "y.shape"
   ]
  },
  {
   "cell_type": "markdown",
   "metadata": {},
   "source": [
    "## Random Forest model\n"
   ]
  },
  {
   "cell_type": "code",
   "execution_count": null,
   "metadata": {},
   "outputs": [],
   "source": [
    "# Split\n",
    "from sklearn.model_selection import train_test_split\n",
    "X_train, X_test, y_train, y_test = train_test_split(X, y, random_state=42)"
   ]
  },
  {
   "cell_type": "code",
   "execution_count": null,
   "metadata": {},
   "outputs": [],
   "source": [
    "# Import, initialize, fit and predict\n",
    "from sklearn.ensemble import RandomForestClassifier\n",
    "rf_model = RandomForestClassifier(n_estimators = 100, random_state = 10) \n",
    "rf_model.fit(X_train, y_train)\n",
    "predict_y_test = rf_model.predict(X_test)"
   ]
  },
  {
   "cell_type": "code",
   "execution_count": null,
   "metadata": {},
   "outputs": [],
   "source": [
    "# Validate - run accuracy score\n",
    "from sklearn import metrics\n",
    "print(\"Accuracy score: \", metrics.accuracy_score(y_test, predict_y_test))"
   ]
  },
  {
   "cell_type": "code",
   "execution_count": null,
   "metadata": {},
   "outputs": [],
   "source": [
    "# RF Feature importance?\n",
    "feature_list = list(X.columns)\n",
    "feature_importance = pd.Series(rf_model.feature_importances_, index=feature_list).sort_values(ascending=False) \n",
    "print(feature_importance[0:20])"
   ]
  },
  {
   "cell_type": "code",
   "execution_count": null,
   "metadata": {},
   "outputs": [],
   "source": [
    "# Validate with cross validation\n",
    "\n",
    "from sklearn.model_selection import cross_val_score\n",
    "\n",
    "scores = cross_val_score(rf_model, X, y, cv=10, scoring=\"accuracy\")\n",
    "print(scores)"
   ]
  },
  {
   "cell_type": "code",
   "execution_count": null,
   "metadata": {},
   "outputs": [],
   "source": [
    "scores.mean()"
   ]
  },
  {
   "cell_type": "markdown",
   "metadata": {},
   "source": [
    "## Logistic Regression"
   ]
  },
  {
   "cell_type": "code",
   "execution_count": null,
   "metadata": {},
   "outputs": [],
   "source": [
    "from sklearn.model_selection import train_test_split\n",
    "\n",
    "X_train, X_test, y_train, y_test = train_test_split(X, y, random_state=42)"
   ]
  },
  {
   "cell_type": "code",
   "execution_count": null,
   "metadata": {},
   "outputs": [],
   "source": [
    "from sklearn.linear_model import LogisticRegression\n",
    "logReg = LogisticRegression()\n",
    "logReg.fit(X_train, y_train)"
   ]
  },
  {
   "cell_type": "code",
   "execution_count": null,
   "metadata": {},
   "outputs": [],
   "source": [
    "print(f\"Training Data Score: {logReg.score(X_train, y_train)}\")\n",
    "print(f\"Testing Data Score: {logReg.score(X_test, y_test)}\")"
   ]
  },
  {
   "cell_type": "markdown",
   "metadata": {},
   "source": [
    "## Naive Bayes model\n"
   ]
  },
  {
   "cell_type": "code",
   "execution_count": null,
   "metadata": {},
   "outputs": [],
   "source": [
    "from sklearn.model_selection import train_test_split\n",
    "\n",
    "X_train, X_test, y_train, y_test = train_test_split(X, y, random_state=42)"
   ]
  },
  {
   "cell_type": "code",
   "execution_count": null,
   "metadata": {},
   "outputs": [],
   "source": [
    "from sklearn.naive_bayes import GaussianNB\n",
    "\n",
    "#Create a Gaussian Classifier\n",
    "nb_model = GaussianNB()\n",
    "\n",
    "# Train the model using the training sets\n",
    "nb_model.fit(X_train, y_train)\n",
    "\n",
    "#Predict Output\n",
    "y_predicted= nb_model.predict(X_test)\n"
   ]
  },
  {
   "cell_type": "code",
   "execution_count": null,
   "metadata": {},
   "outputs": [],
   "source": [
    "print(y_predicted)"
   ]
  },
  {
   "cell_type": "code",
   "execution_count": null,
   "metadata": {},
   "outputs": [],
   "source": [
    "from sklearn import metrics\n",
    "\n",
    "# Model Accuracy, how often is the classifier correct?\n",
    "print(\"Accuracy:\",metrics.accuracy_score(y_test, y_predicted))"
   ]
  },
  {
   "cell_type": "markdown",
   "metadata": {},
   "source": [
    "## SVM\n"
   ]
  },
  {
   "cell_type": "code",
   "execution_count": null,
   "metadata": {},
   "outputs": [],
   "source": [
    "from sklearn.model_selection import train_test_split\n",
    "X_train, X_test, y_train, y_test = train_test_split(X,y,random_state=42)  \n",
    "\n",
    "target = df5[\"Binary_outcome_Negative\"]\n",
    "target_names = [0, 1]\n"
   ]
  },
  {
   "cell_type": "code",
   "execution_count": null,
   "metadata": {},
   "outputs": [],
   "source": [
    "from sklearn.svm import SVC \n",
    "model = SVC(kernel='linear')\n",
    "model.fit(X_train, y_train)"
   ]
  },
  {
   "cell_type": "code",
   "execution_count": null,
   "metadata": {},
   "outputs": [],
   "source": [
    "SVC(C=1.0, cache_size=200, class_weight=None, coef0=0.0,\n",
    "  decision_function_shape='ovr', degree=3, gamma='auto', kernel='linear',\n",
    "  max_iter=-1, probability=False, random_state=None, shrinking=True,\n",
    "  tol=0.001, verbose=False)"
   ]
  },
  {
   "cell_type": "code",
   "execution_count": null,
   "metadata": {},
   "outputs": [],
   "source": [
    "# Model Accuracy\n",
    "print('Test Acc: %.3f' % model.score(X_test, y_test))"
   ]
  },
  {
   "cell_type": "code",
   "execution_count": null,
   "metadata": {},
   "outputs": [],
   "source": [
    " # Calculate classification report\n",
    "from sklearn.metrics import classification_report\n",
    "predictions = model.predict(X_test)\n",
    "print(classification_report(y_test, predictions))"
   ]
  },
  {
   "cell_type": "code",
   "execution_count": null,
   "metadata": {},
   "outputs": [],
   "source": []
  }
 ],
 "metadata": {
  "kernelspec": {
   "display_name": "Python 3",
   "language": "python",
   "name": "python3"
  },
  "language_info": {
   "codemirror_mode": {
    "name": "ipython",
    "version": 3
   },
   "file_extension": ".py",
   "mimetype": "text/x-python",
   "name": "python",
   "nbconvert_exporter": "python",
   "pygments_lexer": "ipython3",
   "version": "3.7.6"
  }
 },
 "nbformat": 4,
 "nbformat_minor": 2
}
