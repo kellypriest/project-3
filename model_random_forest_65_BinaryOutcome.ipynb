{
 "cells": [
  {
   "cell_type": "code",
   "execution_count": 1,
   "metadata": {},
   "outputs": [],
   "source": [
    "import pandas as pd\n",
    "import numpy as np\n",
    "from matplotlib import pyplot as plt"
   ]
  },
  {
   "cell_type": "code",
   "execution_count": 2,
   "metadata": {},
   "outputs": [],
   "source": [
    "# Read in csv\n",
    "df = pd.read_csv(\"Austin_Animal_Center_Outcomes.csv\")"
   ]
  },
  {
   "cell_type": "code",
   "execution_count": 3,
   "metadata": {},
   "outputs": [
    {
     "data": {
      "text/html": [
       "<div>\n",
       "<style scoped>\n",
       "    .dataframe tbody tr th:only-of-type {\n",
       "        vertical-align: middle;\n",
       "    }\n",
       "\n",
       "    .dataframe tbody tr th {\n",
       "        vertical-align: top;\n",
       "    }\n",
       "\n",
       "    .dataframe thead th {\n",
       "        text-align: right;\n",
       "    }\n",
       "</style>\n",
       "<table border=\"1\" class=\"dataframe\">\n",
       "  <thead>\n",
       "    <tr style=\"text-align: right;\">\n",
       "      <th></th>\n",
       "      <th>Animal_ID</th>\n",
       "      <th>Name</th>\n",
       "      <th>DateTime</th>\n",
       "      <th>MonthYear</th>\n",
       "      <th>Date_of_Birth</th>\n",
       "      <th>Outcome_Type</th>\n",
       "      <th>Outcome_Subtype</th>\n",
       "      <th>Fixed</th>\n",
       "      <th>Sex</th>\n",
       "      <th>Age_numeric</th>\n",
       "      <th>Age_time</th>\n",
       "      <th>Age_month</th>\n",
       "      <th>Breed</th>\n",
       "      <th>Color</th>\n",
       "    </tr>\n",
       "  </thead>\n",
       "  <tbody>\n",
       "    <tr>\n",
       "      <th>0</th>\n",
       "      <td>A805930</td>\n",
       "      <td>*Rachel</td>\n",
       "      <td>11/8/2019 18:37</td>\n",
       "      <td>11/8/2019 18:37</td>\n",
       "      <td>9/11/2019</td>\n",
       "      <td>Adoption</td>\n",
       "      <td>Foster</td>\n",
       "      <td>Spayed</td>\n",
       "      <td>Female</td>\n",
       "      <td>1</td>\n",
       "      <td>month</td>\n",
       "      <td>1.000000</td>\n",
       "      <td>Border Collie Mix</td>\n",
       "      <td>Chocolate/White</td>\n",
       "    </tr>\n",
       "    <tr>\n",
       "      <th>1</th>\n",
       "      <td>A705114</td>\n",
       "      <td>NaN</td>\n",
       "      <td>06/13/2015 03:47:00 PM</td>\n",
       "      <td>06/13/2015 03:47:00 PM</td>\n",
       "      <td>6/11/2015</td>\n",
       "      <td>Transfer</td>\n",
       "      <td>Partner</td>\n",
       "      <td>Intact</td>\n",
       "      <td>Male</td>\n",
       "      <td>2</td>\n",
       "      <td>days</td>\n",
       "      <td>0.066667</td>\n",
       "      <td>German Shepherd Mix</td>\n",
       "      <td>Brown</td>\n",
       "    </tr>\n",
       "    <tr>\n",
       "      <th>2</th>\n",
       "      <td>A680143</td>\n",
       "      <td>NaN</td>\n",
       "      <td>05/31/2014 11:21:00 AM</td>\n",
       "      <td>05/31/2014 11:21:00 AM</td>\n",
       "      <td>05/29/2014</td>\n",
       "      <td>Transfer</td>\n",
       "      <td>Partner</td>\n",
       "      <td>Intact</td>\n",
       "      <td>Male</td>\n",
       "      <td>2</td>\n",
       "      <td>days</td>\n",
       "      <td>0.066667</td>\n",
       "      <td>Labrador Retriever Mix</td>\n",
       "      <td>Black/White</td>\n",
       "    </tr>\n",
       "    <tr>\n",
       "      <th>3</th>\n",
       "      <td>A670236</td>\n",
       "      <td>NaN</td>\n",
       "      <td>1/5/2014 15:12</td>\n",
       "      <td>1/5/2014 15:12</td>\n",
       "      <td>1/3/2014</td>\n",
       "      <td>Transfer</td>\n",
       "      <td>Partner</td>\n",
       "      <td>Unknown</td>\n",
       "      <td>NaN</td>\n",
       "      <td>2</td>\n",
       "      <td>days</td>\n",
       "      <td>0.066667</td>\n",
       "      <td>Pit Bull Mix</td>\n",
       "      <td>Blue/White</td>\n",
       "    </tr>\n",
       "    <tr>\n",
       "      <th>4</th>\n",
       "      <td>A811594</td>\n",
       "      <td>NaN</td>\n",
       "      <td>1/6/2020 17:09</td>\n",
       "      <td>1/6/2020 17:09</td>\n",
       "      <td>1/4/2020</td>\n",
       "      <td>Transfer</td>\n",
       "      <td>Partner</td>\n",
       "      <td>Intact</td>\n",
       "      <td>Female</td>\n",
       "      <td>2</td>\n",
       "      <td>days</td>\n",
       "      <td>0.066667</td>\n",
       "      <td>Dachshund Mix</td>\n",
       "      <td>Brown</td>\n",
       "    </tr>\n",
       "  </tbody>\n",
       "</table>\n",
       "</div>"
      ],
      "text/plain": [
       "  Animal_ID     Name                DateTime               MonthYear  \\\n",
       "0   A805930  *Rachel         11/8/2019 18:37         11/8/2019 18:37   \n",
       "1   A705114      NaN  06/13/2015 03:47:00 PM  06/13/2015 03:47:00 PM   \n",
       "2   A680143      NaN  05/31/2014 11:21:00 AM  05/31/2014 11:21:00 AM   \n",
       "3   A670236      NaN          1/5/2014 15:12          1/5/2014 15:12   \n",
       "4   A811594      NaN          1/6/2020 17:09          1/6/2020 17:09   \n",
       "\n",
       "  Date_of_Birth Outcome_Type Outcome_Subtype    Fixed     Sex  Age_numeric  \\\n",
       "0     9/11/2019     Adoption          Foster   Spayed  Female            1   \n",
       "1     6/11/2015     Transfer         Partner   Intact    Male            2   \n",
       "2    05/29/2014     Transfer         Partner   Intact    Male            2   \n",
       "3      1/3/2014     Transfer         Partner  Unknown     NaN            2   \n",
       "4      1/4/2020     Transfer         Partner   Intact  Female            2   \n",
       "\n",
       "  Age_time  Age_month                   Breed            Color  \n",
       "0    month   1.000000       Border Collie Mix  Chocolate/White  \n",
       "1     days   0.066667     German Shepherd Mix            Brown  \n",
       "2     days   0.066667  Labrador Retriever Mix      Black/White  \n",
       "3     days   0.066667            Pit Bull Mix       Blue/White  \n",
       "4     days   0.066667           Dachshund Mix            Brown  "
      ]
     },
     "execution_count": 3,
     "metadata": {},
     "output_type": "execute_result"
    }
   ],
   "source": [
    "df.head()"
   ]
  },
  {
   "cell_type": "code",
   "execution_count": 4,
   "metadata": {},
   "outputs": [
    {
     "data": {
      "text/plain": [
       "(66804, 14)"
      ]
     },
     "execution_count": 4,
     "metadata": {},
     "output_type": "execute_result"
    }
   ],
   "source": [
    "df.shape"
   ]
  },
  {
   "cell_type": "code",
   "execution_count": 5,
   "metadata": {},
   "outputs": [],
   "source": [
    "# Drop unnessary columns\n",
    "df2 = df.drop(columns=['Animal_ID', 'Name', 'DateTime', 'MonthYear', 'Date_of_Birth', 'Outcome_Subtype', \n",
    "                       'Age_numeric', 'Age_time' ])"
   ]
  },
  {
   "cell_type": "code",
   "execution_count": 6,
   "metadata": {},
   "outputs": [
    {
     "data": {
      "text/plain": [
       "(66804, 6)"
      ]
     },
     "execution_count": 6,
     "metadata": {},
     "output_type": "execute_result"
    }
   ],
   "source": [
    "df2.shape\n",
    "# df2.head()"
   ]
  },
  {
   "cell_type": "code",
   "execution_count": 7,
   "metadata": {},
   "outputs": [],
   "source": [
    "# Drop rows where Outcome_Type is null\n",
    "\n",
    "df2 = df2.loc[df2.Outcome_Type.notna(), [\"Outcome_Type\", \"Fixed\", \"Sex\", \"Age_month\", \"Breed\" ,\"Color\"]]"
   ]
  },
  {
   "cell_type": "code",
   "execution_count": 8,
   "metadata": {},
   "outputs": [
    {
     "data": {
      "text/html": [
       "<div>\n",
       "<style scoped>\n",
       "    .dataframe tbody tr th:only-of-type {\n",
       "        vertical-align: middle;\n",
       "    }\n",
       "\n",
       "    .dataframe tbody tr th {\n",
       "        vertical-align: top;\n",
       "    }\n",
       "\n",
       "    .dataframe thead th {\n",
       "        text-align: right;\n",
       "    }\n",
       "</style>\n",
       "<table border=\"1\" class=\"dataframe\">\n",
       "  <thead>\n",
       "    <tr style=\"text-align: right;\">\n",
       "      <th></th>\n",
       "      <th>Outcome_Type</th>\n",
       "      <th>Fixed</th>\n",
       "      <th>Sex</th>\n",
       "      <th>Age_month</th>\n",
       "      <th>Breed</th>\n",
       "      <th>Color</th>\n",
       "    </tr>\n",
       "  </thead>\n",
       "  <tbody>\n",
       "    <tr>\n",
       "      <th>0</th>\n",
       "      <td>Adoption</td>\n",
       "      <td>Spayed</td>\n",
       "      <td>Female</td>\n",
       "      <td>1.000000</td>\n",
       "      <td>Border Collie Mix</td>\n",
       "      <td>Chocolate/White</td>\n",
       "    </tr>\n",
       "    <tr>\n",
       "      <th>1</th>\n",
       "      <td>Transfer</td>\n",
       "      <td>Intact</td>\n",
       "      <td>Male</td>\n",
       "      <td>0.066667</td>\n",
       "      <td>German Shepherd Mix</td>\n",
       "      <td>Brown</td>\n",
       "    </tr>\n",
       "    <tr>\n",
       "      <th>2</th>\n",
       "      <td>Transfer</td>\n",
       "      <td>Intact</td>\n",
       "      <td>Male</td>\n",
       "      <td>0.066667</td>\n",
       "      <td>Labrador Retriever Mix</td>\n",
       "      <td>Black/White</td>\n",
       "    </tr>\n",
       "    <tr>\n",
       "      <th>3</th>\n",
       "      <td>Transfer</td>\n",
       "      <td>Unknown</td>\n",
       "      <td>NaN</td>\n",
       "      <td>0.066667</td>\n",
       "      <td>Pit Bull Mix</td>\n",
       "      <td>Blue/White</td>\n",
       "    </tr>\n",
       "    <tr>\n",
       "      <th>4</th>\n",
       "      <td>Transfer</td>\n",
       "      <td>Intact</td>\n",
       "      <td>Female</td>\n",
       "      <td>0.066667</td>\n",
       "      <td>Dachshund Mix</td>\n",
       "      <td>Brown</td>\n",
       "    </tr>\n",
       "  </tbody>\n",
       "</table>\n",
       "</div>"
      ],
      "text/plain": [
       "  Outcome_Type    Fixed     Sex  Age_month                   Breed  \\\n",
       "0     Adoption   Spayed  Female   1.000000       Border Collie Mix   \n",
       "1     Transfer   Intact    Male   0.066667     German Shepherd Mix   \n",
       "2     Transfer   Intact    Male   0.066667  Labrador Retriever Mix   \n",
       "3     Transfer  Unknown     NaN   0.066667            Pit Bull Mix   \n",
       "4     Transfer   Intact  Female   0.066667           Dachshund Mix   \n",
       "\n",
       "             Color  \n",
       "0  Chocolate/White  \n",
       "1            Brown  \n",
       "2      Black/White  \n",
       "3       Blue/White  \n",
       "4            Brown  "
      ]
     },
     "execution_count": 8,
     "metadata": {},
     "output_type": "execute_result"
    }
   ],
   "source": [
    "df2.head()"
   ]
  },
  {
   "cell_type": "code",
   "execution_count": 9,
   "metadata": {},
   "outputs": [
    {
     "data": {
      "text/html": [
       "<div>\n",
       "<style scoped>\n",
       "    .dataframe tbody tr th:only-of-type {\n",
       "        vertical-align: middle;\n",
       "    }\n",
       "\n",
       "    .dataframe tbody tr th {\n",
       "        vertical-align: top;\n",
       "    }\n",
       "\n",
       "    .dataframe thead th {\n",
       "        text-align: right;\n",
       "    }\n",
       "</style>\n",
       "<table border=\"1\" class=\"dataframe\">\n",
       "  <thead>\n",
       "    <tr style=\"text-align: right;\">\n",
       "      <th></th>\n",
       "      <th>Fixed</th>\n",
       "      <th>Sex</th>\n",
       "      <th>Age_month</th>\n",
       "      <th>Breed</th>\n",
       "      <th>Color</th>\n",
       "    </tr>\n",
       "    <tr>\n",
       "      <th>Outcome_Type</th>\n",
       "      <th></th>\n",
       "      <th></th>\n",
       "      <th></th>\n",
       "      <th></th>\n",
       "      <th></th>\n",
       "    </tr>\n",
       "  </thead>\n",
       "  <tbody>\n",
       "    <tr>\n",
       "      <th>Adoption</th>\n",
       "      <td>31397</td>\n",
       "      <td>31395</td>\n",
       "      <td>31397</td>\n",
       "      <td>31397</td>\n",
       "      <td>31397</td>\n",
       "    </tr>\n",
       "    <tr>\n",
       "      <th>Died</th>\n",
       "      <td>235</td>\n",
       "      <td>209</td>\n",
       "      <td>235</td>\n",
       "      <td>235</td>\n",
       "      <td>235</td>\n",
       "    </tr>\n",
       "    <tr>\n",
       "      <th>Disposal</th>\n",
       "      <td>25</td>\n",
       "      <td>22</td>\n",
       "      <td>25</td>\n",
       "      <td>25</td>\n",
       "      <td>25</td>\n",
       "    </tr>\n",
       "    <tr>\n",
       "      <th>Euthanasia</th>\n",
       "      <td>1731</td>\n",
       "      <td>1694</td>\n",
       "      <td>1731</td>\n",
       "      <td>1731</td>\n",
       "      <td>1731</td>\n",
       "    </tr>\n",
       "    <tr>\n",
       "      <th>Missing</th>\n",
       "      <td>29</td>\n",
       "      <td>29</td>\n",
       "      <td>29</td>\n",
       "      <td>29</td>\n",
       "      <td>29</td>\n",
       "    </tr>\n",
       "    <tr>\n",
       "      <th>Return to Owner</th>\n",
       "      <td>18469</td>\n",
       "      <td>18400</td>\n",
       "      <td>18470</td>\n",
       "      <td>18470</td>\n",
       "      <td>18470</td>\n",
       "    </tr>\n",
       "    <tr>\n",
       "      <th>Rto-Adopt</th>\n",
       "      <td>498</td>\n",
       "      <td>498</td>\n",
       "      <td>498</td>\n",
       "      <td>498</td>\n",
       "      <td>498</td>\n",
       "    </tr>\n",
       "    <tr>\n",
       "      <th>Transfer</th>\n",
       "      <td>14419</td>\n",
       "      <td>14178</td>\n",
       "      <td>14419</td>\n",
       "      <td>14419</td>\n",
       "      <td>14419</td>\n",
       "    </tr>\n",
       "  </tbody>\n",
       "</table>\n",
       "</div>"
      ],
      "text/plain": [
       "                 Fixed    Sex  Age_month  Breed  Color\n",
       "Outcome_Type                                          \n",
       "Adoption         31397  31395      31397  31397  31397\n",
       "Died               235    209        235    235    235\n",
       "Disposal            25     22         25     25     25\n",
       "Euthanasia        1731   1694       1731   1731   1731\n",
       "Missing             29     29         29     29     29\n",
       "Return to Owner  18469  18400      18470  18470  18470\n",
       "Rto-Adopt          498    498        498    498    498\n",
       "Transfer         14419  14178      14419  14419  14419"
      ]
     },
     "execution_count": 9,
     "metadata": {},
     "output_type": "execute_result"
    }
   ],
   "source": [
    "df2.groupby('Outcome_Type').count()"
   ]
  },
  {
   "cell_type": "code",
   "execution_count": 11,
   "metadata": {},
   "outputs": [],
   "source": [
    "# Drop all rows 'Return to Owner' ???  \n",
    "\n",
    "df3 = df2.drop(df2[df2.Outcome_Type == \"Return to Owner\"].index)"
   ]
  },
  {
   "cell_type": "code",
   "execution_count": 12,
   "metadata": {},
   "outputs": [
    {
     "data": {
      "text/plain": [
       "(48334, 6)"
      ]
     },
     "execution_count": 12,
     "metadata": {},
     "output_type": "execute_result"
    }
   ],
   "source": [
    "# Verify shape\n",
    "df3.shape"
   ]
  },
  {
   "cell_type": "code",
   "execution_count": 13,
   "metadata": {},
   "outputs": [
    {
     "data": {
      "text/html": [
       "<div>\n",
       "<style scoped>\n",
       "    .dataframe tbody tr th:only-of-type {\n",
       "        vertical-align: middle;\n",
       "    }\n",
       "\n",
       "    .dataframe tbody tr th {\n",
       "        vertical-align: top;\n",
       "    }\n",
       "\n",
       "    .dataframe thead th {\n",
       "        text-align: right;\n",
       "    }\n",
       "</style>\n",
       "<table border=\"1\" class=\"dataframe\">\n",
       "  <thead>\n",
       "    <tr style=\"text-align: right;\">\n",
       "      <th></th>\n",
       "      <th>Fixed</th>\n",
       "      <th>Sex</th>\n",
       "      <th>Age_month</th>\n",
       "      <th>Breed</th>\n",
       "      <th>Color</th>\n",
       "    </tr>\n",
       "    <tr>\n",
       "      <th>Outcome_Type</th>\n",
       "      <th></th>\n",
       "      <th></th>\n",
       "      <th></th>\n",
       "      <th></th>\n",
       "      <th></th>\n",
       "    </tr>\n",
       "  </thead>\n",
       "  <tbody>\n",
       "    <tr>\n",
       "      <th>Adoption</th>\n",
       "      <td>31397</td>\n",
       "      <td>31395</td>\n",
       "      <td>31397</td>\n",
       "      <td>31397</td>\n",
       "      <td>31397</td>\n",
       "    </tr>\n",
       "    <tr>\n",
       "      <th>Died</th>\n",
       "      <td>235</td>\n",
       "      <td>209</td>\n",
       "      <td>235</td>\n",
       "      <td>235</td>\n",
       "      <td>235</td>\n",
       "    </tr>\n",
       "    <tr>\n",
       "      <th>Disposal</th>\n",
       "      <td>25</td>\n",
       "      <td>22</td>\n",
       "      <td>25</td>\n",
       "      <td>25</td>\n",
       "      <td>25</td>\n",
       "    </tr>\n",
       "    <tr>\n",
       "      <th>Euthanasia</th>\n",
       "      <td>1731</td>\n",
       "      <td>1694</td>\n",
       "      <td>1731</td>\n",
       "      <td>1731</td>\n",
       "      <td>1731</td>\n",
       "    </tr>\n",
       "    <tr>\n",
       "      <th>Missing</th>\n",
       "      <td>29</td>\n",
       "      <td>29</td>\n",
       "      <td>29</td>\n",
       "      <td>29</td>\n",
       "      <td>29</td>\n",
       "    </tr>\n",
       "    <tr>\n",
       "      <th>Rto-Adopt</th>\n",
       "      <td>498</td>\n",
       "      <td>498</td>\n",
       "      <td>498</td>\n",
       "      <td>498</td>\n",
       "      <td>498</td>\n",
       "    </tr>\n",
       "    <tr>\n",
       "      <th>Transfer</th>\n",
       "      <td>14419</td>\n",
       "      <td>14178</td>\n",
       "      <td>14419</td>\n",
       "      <td>14419</td>\n",
       "      <td>14419</td>\n",
       "    </tr>\n",
       "  </tbody>\n",
       "</table>\n",
       "</div>"
      ],
      "text/plain": [
       "              Fixed    Sex  Age_month  Breed  Color\n",
       "Outcome_Type                                       \n",
       "Adoption      31397  31395      31397  31397  31397\n",
       "Died            235    209        235    235    235\n",
       "Disposal         25     22         25     25     25\n",
       "Euthanasia     1731   1694       1731   1731   1731\n",
       "Missing          29     29         29     29     29\n",
       "Rto-Adopt       498    498        498    498    498\n",
       "Transfer      14419  14178      14419  14419  14419"
      ]
     },
     "execution_count": 13,
     "metadata": {},
     "output_type": "execute_result"
    }
   ],
   "source": [
    "# Verify group by counts\n",
    "df3.groupby('Outcome_Type').count()"
   ]
  },
  {
   "cell_type": "code",
   "execution_count": 14,
   "metadata": {},
   "outputs": [
    {
     "data": {
      "text/html": [
       "<div>\n",
       "<style scoped>\n",
       "    .dataframe tbody tr th:only-of-type {\n",
       "        vertical-align: middle;\n",
       "    }\n",
       "\n",
       "    .dataframe tbody tr th {\n",
       "        vertical-align: top;\n",
       "    }\n",
       "\n",
       "    .dataframe thead th {\n",
       "        text-align: right;\n",
       "    }\n",
       "</style>\n",
       "<table border=\"1\" class=\"dataframe\">\n",
       "  <thead>\n",
       "    <tr style=\"text-align: right;\">\n",
       "      <th></th>\n",
       "      <th>Outcome_Type</th>\n",
       "      <th>Fixed</th>\n",
       "      <th>Sex</th>\n",
       "      <th>Age_month</th>\n",
       "      <th>Breed</th>\n",
       "      <th>Color</th>\n",
       "      <th>Binary_outcome</th>\n",
       "    </tr>\n",
       "  </thead>\n",
       "  <tbody>\n",
       "    <tr>\n",
       "      <th>0</th>\n",
       "      <td>Adoption</td>\n",
       "      <td>Spayed</td>\n",
       "      <td>Female</td>\n",
       "      <td>1.000000</td>\n",
       "      <td>Border Collie Mix</td>\n",
       "      <td>Chocolate/White</td>\n",
       "      <td>0</td>\n",
       "    </tr>\n",
       "    <tr>\n",
       "      <th>1</th>\n",
       "      <td>Transfer</td>\n",
       "      <td>Intact</td>\n",
       "      <td>Male</td>\n",
       "      <td>0.066667</td>\n",
       "      <td>German Shepherd Mix</td>\n",
       "      <td>Brown</td>\n",
       "      <td>0</td>\n",
       "    </tr>\n",
       "    <tr>\n",
       "      <th>2</th>\n",
       "      <td>Transfer</td>\n",
       "      <td>Intact</td>\n",
       "      <td>Male</td>\n",
       "      <td>0.066667</td>\n",
       "      <td>Labrador Retriever Mix</td>\n",
       "      <td>Black/White</td>\n",
       "      <td>0</td>\n",
       "    </tr>\n",
       "    <tr>\n",
       "      <th>3</th>\n",
       "      <td>Transfer</td>\n",
       "      <td>Unknown</td>\n",
       "      <td>NaN</td>\n",
       "      <td>0.066667</td>\n",
       "      <td>Pit Bull Mix</td>\n",
       "      <td>Blue/White</td>\n",
       "      <td>0</td>\n",
       "    </tr>\n",
       "    <tr>\n",
       "      <th>4</th>\n",
       "      <td>Transfer</td>\n",
       "      <td>Intact</td>\n",
       "      <td>Female</td>\n",
       "      <td>0.066667</td>\n",
       "      <td>Dachshund Mix</td>\n",
       "      <td>Brown</td>\n",
       "      <td>0</td>\n",
       "    </tr>\n",
       "  </tbody>\n",
       "</table>\n",
       "</div>"
      ],
      "text/plain": [
       "  Outcome_Type    Fixed     Sex  Age_month                   Breed  \\\n",
       "0     Adoption   Spayed  Female   1.000000       Border Collie Mix   \n",
       "1     Transfer   Intact    Male   0.066667     German Shepherd Mix   \n",
       "2     Transfer   Intact    Male   0.066667  Labrador Retriever Mix   \n",
       "3     Transfer  Unknown     NaN   0.066667            Pit Bull Mix   \n",
       "4     Transfer   Intact  Female   0.066667           Dachshund Mix   \n",
       "\n",
       "             Color  Binary_outcome  \n",
       "0  Chocolate/White               0  \n",
       "1            Brown               0  \n",
       "2      Black/White               0  \n",
       "3       Blue/White               0  \n",
       "4            Brown               0  "
      ]
     },
     "execution_count": 14,
     "metadata": {},
     "output_type": "execute_result"
    }
   ],
   "source": [
    "# Create new BINARY_OUTCOME column and set to 0\n",
    "\n",
    "df3[\"Binary_outcome\"]=0\n",
    "df3.head()"
   ]
  },
  {
   "cell_type": "code",
   "execution_count": 15,
   "metadata": {},
   "outputs": [],
   "source": [
    "# Find rows containing word \"Adoption\" and set to 1 (for Positive Outcome)\n",
    "# All other rows will be 0 (for Negative Outcome)\n",
    "\n",
    "df3.loc[df3[\"Outcome_Type\"].str.contains(\"Adoption\"), \"Binary_outcome\"] = 1"
   ]
  },
  {
   "cell_type": "code",
   "execution_count": 18,
   "metadata": {},
   "outputs": [
    {
     "data": {
      "text/html": [
       "<div>\n",
       "<style scoped>\n",
       "    .dataframe tbody tr th:only-of-type {\n",
       "        vertical-align: middle;\n",
       "    }\n",
       "\n",
       "    .dataframe tbody tr th {\n",
       "        vertical-align: top;\n",
       "    }\n",
       "\n",
       "    .dataframe thead th {\n",
       "        text-align: right;\n",
       "    }\n",
       "</style>\n",
       "<table border=\"1\" class=\"dataframe\">\n",
       "  <thead>\n",
       "    <tr style=\"text-align: right;\">\n",
       "      <th></th>\n",
       "      <th>Outcome_Type</th>\n",
       "      <th>Fixed</th>\n",
       "      <th>Sex</th>\n",
       "      <th>Age_month</th>\n",
       "      <th>Breed</th>\n",
       "      <th>Color</th>\n",
       "      <th>Binary_outcome</th>\n",
       "    </tr>\n",
       "  </thead>\n",
       "  <tbody>\n",
       "    <tr>\n",
       "      <th>200</th>\n",
       "      <td>Transfer</td>\n",
       "      <td>Intact</td>\n",
       "      <td>Female</td>\n",
       "      <td>0.2</td>\n",
       "      <td>Dachshund</td>\n",
       "      <td>Tan</td>\n",
       "      <td>0</td>\n",
       "    </tr>\n",
       "    <tr>\n",
       "      <th>201</th>\n",
       "      <td>Transfer</td>\n",
       "      <td>Intact</td>\n",
       "      <td>Male</td>\n",
       "      <td>0.2</td>\n",
       "      <td>Dachshund</td>\n",
       "      <td>Tan</td>\n",
       "      <td>0</td>\n",
       "    </tr>\n",
       "    <tr>\n",
       "      <th>202</th>\n",
       "      <td>Transfer</td>\n",
       "      <td>Unknown</td>\n",
       "      <td>NaN</td>\n",
       "      <td>0.2</td>\n",
       "      <td>Labrador Retriever Mix</td>\n",
       "      <td>Brown</td>\n",
       "      <td>0</td>\n",
       "    </tr>\n",
       "    <tr>\n",
       "      <th>203</th>\n",
       "      <td>Transfer</td>\n",
       "      <td>Unknown</td>\n",
       "      <td>NaN</td>\n",
       "      <td>0.2</td>\n",
       "      <td>Labrador Retriever Mix</td>\n",
       "      <td>White</td>\n",
       "      <td>0</td>\n",
       "    </tr>\n",
       "    <tr>\n",
       "      <th>204</th>\n",
       "      <td>Transfer</td>\n",
       "      <td>Unknown</td>\n",
       "      <td>NaN</td>\n",
       "      <td>0.2</td>\n",
       "      <td>Chihuahua Shorthair/Pit Bull</td>\n",
       "      <td>White</td>\n",
       "      <td>0</td>\n",
       "    </tr>\n",
       "    <tr>\n",
       "      <th>...</th>\n",
       "      <td>...</td>\n",
       "      <td>...</td>\n",
       "      <td>...</td>\n",
       "      <td>...</td>\n",
       "      <td>...</td>\n",
       "      <td>...</td>\n",
       "      <td>...</td>\n",
       "    </tr>\n",
       "    <tr>\n",
       "      <th>296</th>\n",
       "      <td>Transfer</td>\n",
       "      <td>Intact</td>\n",
       "      <td>Female</td>\n",
       "      <td>1.0</td>\n",
       "      <td>German Shepherd Mix</td>\n",
       "      <td>Brown</td>\n",
       "      <td>0</td>\n",
       "    </tr>\n",
       "    <tr>\n",
       "      <th>297</th>\n",
       "      <td>Transfer</td>\n",
       "      <td>Intact</td>\n",
       "      <td>Male</td>\n",
       "      <td>1.0</td>\n",
       "      <td>Australian Cattle Dog Mix</td>\n",
       "      <td>Cream/Brown Merle</td>\n",
       "      <td>0</td>\n",
       "    </tr>\n",
       "    <tr>\n",
       "      <th>298</th>\n",
       "      <td>Adoption</td>\n",
       "      <td>Spayed</td>\n",
       "      <td>Female</td>\n",
       "      <td>1.0</td>\n",
       "      <td>Labrador Retriever Mix</td>\n",
       "      <td>Tan</td>\n",
       "      <td>1</td>\n",
       "    </tr>\n",
       "    <tr>\n",
       "      <th>299</th>\n",
       "      <td>Transfer</td>\n",
       "      <td>Intact</td>\n",
       "      <td>Male</td>\n",
       "      <td>1.0</td>\n",
       "      <td>Jack Russell Terrier Mix</td>\n",
       "      <td>Sable</td>\n",
       "      <td>0</td>\n",
       "    </tr>\n",
       "    <tr>\n",
       "      <th>300</th>\n",
       "      <td>Adoption</td>\n",
       "      <td>Neutered</td>\n",
       "      <td>Male</td>\n",
       "      <td>1.0</td>\n",
       "      <td>Labrador Retriever/Blue Lacy</td>\n",
       "      <td>Tan/White</td>\n",
       "      <td>1</td>\n",
       "    </tr>\n",
       "  </tbody>\n",
       "</table>\n",
       "<p>98 rows × 7 columns</p>\n",
       "</div>"
      ],
      "text/plain": [
       "    Outcome_Type     Fixed     Sex  Age_month                         Breed  \\\n",
       "200     Transfer    Intact  Female        0.2                     Dachshund   \n",
       "201     Transfer    Intact    Male        0.2                     Dachshund   \n",
       "202     Transfer   Unknown     NaN        0.2        Labrador Retriever Mix   \n",
       "203     Transfer   Unknown     NaN        0.2        Labrador Retriever Mix   \n",
       "204     Transfer   Unknown     NaN        0.2  Chihuahua Shorthair/Pit Bull   \n",
       "..           ...       ...     ...        ...                           ...   \n",
       "296     Transfer    Intact  Female        1.0           German Shepherd Mix   \n",
       "297     Transfer    Intact    Male        1.0     Australian Cattle Dog Mix   \n",
       "298     Adoption    Spayed  Female        1.0        Labrador Retriever Mix   \n",
       "299     Transfer    Intact    Male        1.0      Jack Russell Terrier Mix   \n",
       "300     Adoption  Neutered    Male        1.0  Labrador Retriever/Blue Lacy   \n",
       "\n",
       "                 Color  Binary_outcome  \n",
       "200                Tan               0  \n",
       "201                Tan               0  \n",
       "202              Brown               0  \n",
       "203              White               0  \n",
       "204              White               0  \n",
       "..                 ...             ...  \n",
       "296              Brown               0  \n",
       "297  Cream/Brown Merle               0  \n",
       "298                Tan               1  \n",
       "299              Sable               0  \n",
       "300          Tan/White               1  \n",
       "\n",
       "[98 rows x 7 columns]"
      ]
     },
     "execution_count": 18,
     "metadata": {},
     "output_type": "execute_result"
    }
   ],
   "source": [
    "df3.loc[200:300, :]"
   ]
  },
  {
   "cell_type": "markdown",
   "metadata": {},
   "source": [
    "### Perform get_dummies  ( Changing categorical values to numeric values )"
   ]
  },
  {
   "cell_type": "code",
   "execution_count": 19,
   "metadata": {},
   "outputs": [],
   "source": [
    "# Passing get_dummies on all columns except Outcome_rating and Pet_ageMonths\n",
    "df4 = pd.get_dummies(data=df3, columns=['Fixed', 'Sex', 'Breed', 'Color', 'Fixed'])"
   ]
  },
  {
   "cell_type": "code",
   "execution_count": 21,
   "metadata": {},
   "outputs": [
    {
     "data": {
      "text/html": [
       "<div>\n",
       "<style scoped>\n",
       "    .dataframe tbody tr th:only-of-type {\n",
       "        vertical-align: middle;\n",
       "    }\n",
       "\n",
       "    .dataframe tbody tr th {\n",
       "        vertical-align: top;\n",
       "    }\n",
       "\n",
       "    .dataframe thead th {\n",
       "        text-align: right;\n",
       "    }\n",
       "</style>\n",
       "<table border=\"1\" class=\"dataframe\">\n",
       "  <thead>\n",
       "    <tr style=\"text-align: right;\">\n",
       "      <th></th>\n",
       "      <th>Outcome_Type</th>\n",
       "      <th>Age_month</th>\n",
       "      <th>Binary_outcome</th>\n",
       "      <th>Fixed_Intact</th>\n",
       "      <th>Fixed_Neutered</th>\n",
       "      <th>Fixed_Spayed</th>\n",
       "      <th>Fixed_Unknown</th>\n",
       "      <th>Sex_Female</th>\n",
       "      <th>Sex_Male</th>\n",
       "      <th>Breed_Affenpinscher Mix</th>\n",
       "      <th>...</th>\n",
       "      <th>Color_Yellow Brindle/Blue</th>\n",
       "      <th>Color_Yellow Brindle/White</th>\n",
       "      <th>Color_Yellow/Black</th>\n",
       "      <th>Color_Yellow/Cream</th>\n",
       "      <th>Color_Yellow/Tan</th>\n",
       "      <th>Color_Yellow/White</th>\n",
       "      <th>Fixed_Intact</th>\n",
       "      <th>Fixed_Neutered</th>\n",
       "      <th>Fixed_Spayed</th>\n",
       "      <th>Fixed_Unknown</th>\n",
       "    </tr>\n",
       "  </thead>\n",
       "  <tbody>\n",
       "    <tr>\n",
       "      <th>0</th>\n",
       "      <td>Adoption</td>\n",
       "      <td>1.000000</td>\n",
       "      <td>1</td>\n",
       "      <td>0</td>\n",
       "      <td>0</td>\n",
       "      <td>1</td>\n",
       "      <td>0</td>\n",
       "      <td>1</td>\n",
       "      <td>0</td>\n",
       "      <td>0</td>\n",
       "      <td>...</td>\n",
       "      <td>0</td>\n",
       "      <td>0</td>\n",
       "      <td>0</td>\n",
       "      <td>0</td>\n",
       "      <td>0</td>\n",
       "      <td>0</td>\n",
       "      <td>0</td>\n",
       "      <td>0</td>\n",
       "      <td>1</td>\n",
       "      <td>0</td>\n",
       "    </tr>\n",
       "    <tr>\n",
       "      <th>1</th>\n",
       "      <td>Transfer</td>\n",
       "      <td>0.066667</td>\n",
       "      <td>0</td>\n",
       "      <td>1</td>\n",
       "      <td>0</td>\n",
       "      <td>0</td>\n",
       "      <td>0</td>\n",
       "      <td>0</td>\n",
       "      <td>1</td>\n",
       "      <td>0</td>\n",
       "      <td>...</td>\n",
       "      <td>0</td>\n",
       "      <td>0</td>\n",
       "      <td>0</td>\n",
       "      <td>0</td>\n",
       "      <td>0</td>\n",
       "      <td>0</td>\n",
       "      <td>1</td>\n",
       "      <td>0</td>\n",
       "      <td>0</td>\n",
       "      <td>0</td>\n",
       "    </tr>\n",
       "    <tr>\n",
       "      <th>2</th>\n",
       "      <td>Transfer</td>\n",
       "      <td>0.066667</td>\n",
       "      <td>0</td>\n",
       "      <td>1</td>\n",
       "      <td>0</td>\n",
       "      <td>0</td>\n",
       "      <td>0</td>\n",
       "      <td>0</td>\n",
       "      <td>1</td>\n",
       "      <td>0</td>\n",
       "      <td>...</td>\n",
       "      <td>0</td>\n",
       "      <td>0</td>\n",
       "      <td>0</td>\n",
       "      <td>0</td>\n",
       "      <td>0</td>\n",
       "      <td>0</td>\n",
       "      <td>1</td>\n",
       "      <td>0</td>\n",
       "      <td>0</td>\n",
       "      <td>0</td>\n",
       "    </tr>\n",
       "    <tr>\n",
       "      <th>3</th>\n",
       "      <td>Transfer</td>\n",
       "      <td>0.066667</td>\n",
       "      <td>0</td>\n",
       "      <td>0</td>\n",
       "      <td>0</td>\n",
       "      <td>0</td>\n",
       "      <td>1</td>\n",
       "      <td>0</td>\n",
       "      <td>0</td>\n",
       "      <td>0</td>\n",
       "      <td>...</td>\n",
       "      <td>0</td>\n",
       "      <td>0</td>\n",
       "      <td>0</td>\n",
       "      <td>0</td>\n",
       "      <td>0</td>\n",
       "      <td>0</td>\n",
       "      <td>0</td>\n",
       "      <td>0</td>\n",
       "      <td>0</td>\n",
       "      <td>1</td>\n",
       "    </tr>\n",
       "    <tr>\n",
       "      <th>4</th>\n",
       "      <td>Transfer</td>\n",
       "      <td>0.066667</td>\n",
       "      <td>0</td>\n",
       "      <td>1</td>\n",
       "      <td>0</td>\n",
       "      <td>0</td>\n",
       "      <td>0</td>\n",
       "      <td>1</td>\n",
       "      <td>0</td>\n",
       "      <td>0</td>\n",
       "      <td>...</td>\n",
       "      <td>0</td>\n",
       "      <td>0</td>\n",
       "      <td>0</td>\n",
       "      <td>0</td>\n",
       "      <td>0</td>\n",
       "      <td>0</td>\n",
       "      <td>1</td>\n",
       "      <td>0</td>\n",
       "      <td>0</td>\n",
       "      <td>0</td>\n",
       "    </tr>\n",
       "  </tbody>\n",
       "</table>\n",
       "<p>5 rows × 2358 columns</p>\n",
       "</div>"
      ],
      "text/plain": [
       "  Outcome_Type  Age_month  Binary_outcome  Fixed_Intact  Fixed_Neutered  \\\n",
       "0     Adoption   1.000000               1             0               0   \n",
       "1     Transfer   0.066667               0             1               0   \n",
       "2     Transfer   0.066667               0             1               0   \n",
       "3     Transfer   0.066667               0             0               0   \n",
       "4     Transfer   0.066667               0             1               0   \n",
       "\n",
       "   Fixed_Spayed  Fixed_Unknown  Sex_Female  Sex_Male  Breed_Affenpinscher Mix  \\\n",
       "0             1              0           1         0                        0   \n",
       "1             0              0           0         1                        0   \n",
       "2             0              0           0         1                        0   \n",
       "3             0              1           0         0                        0   \n",
       "4             0              0           1         0                        0   \n",
       "\n",
       "   ...  Color_Yellow Brindle/Blue  Color_Yellow Brindle/White  \\\n",
       "0  ...                          0                           0   \n",
       "1  ...                          0                           0   \n",
       "2  ...                          0                           0   \n",
       "3  ...                          0                           0   \n",
       "4  ...                          0                           0   \n",
       "\n",
       "   Color_Yellow/Black  Color_Yellow/Cream  Color_Yellow/Tan  \\\n",
       "0                   0                   0                 0   \n",
       "1                   0                   0                 0   \n",
       "2                   0                   0                 0   \n",
       "3                   0                   0                 0   \n",
       "4                   0                   0                 0   \n",
       "\n",
       "   Color_Yellow/White  Fixed_Intact  Fixed_Neutered  Fixed_Spayed  \\\n",
       "0                   0             0               0             1   \n",
       "1                   0             1               0             0   \n",
       "2                   0             1               0             0   \n",
       "3                   0             0               0             0   \n",
       "4                   0             1               0             0   \n",
       "\n",
       "   Fixed_Unknown  \n",
       "0              0  \n",
       "1              0  \n",
       "2              0  \n",
       "3              1  \n",
       "4              0  \n",
       "\n",
       "[5 rows x 2358 columns]"
      ]
     },
     "execution_count": 21,
     "metadata": {},
     "output_type": "execute_result"
    }
   ],
   "source": [
    "df4.head()"
   ]
  },
  {
   "cell_type": "code",
   "execution_count": 22,
   "metadata": {},
   "outputs": [],
   "source": [
    "# Drop these columns as they are duplicates\n",
    "df4 = df4.drop(columns=['Sex_Female'])"
   ]
  },
  {
   "cell_type": "code",
   "execution_count": 23,
   "metadata": {},
   "outputs": [
    {
     "data": {
      "text/plain": [
       "(48334, 2357)"
      ]
     },
     "execution_count": 23,
     "metadata": {},
     "output_type": "execute_result"
    }
   ],
   "source": [
    "df4.shape"
   ]
  },
  {
   "cell_type": "code",
   "execution_count": 25,
   "metadata": {},
   "outputs": [],
   "source": [
    "# Define X and y\n",
    "X = df4.drop(['Outcome_Type', 'Binary_outcome'], axis=\"columns\")\n",
    "y = df4[['Binary_outcome']]"
   ]
  },
  {
   "cell_type": "code",
   "execution_count": 26,
   "metadata": {},
   "outputs": [
    {
     "data": {
      "text/plain": [
       "(48334, 2355)"
      ]
     },
     "execution_count": 26,
     "metadata": {},
     "output_type": "execute_result"
    }
   ],
   "source": [
    "X.shape"
   ]
  },
  {
   "cell_type": "code",
   "execution_count": 27,
   "metadata": {},
   "outputs": [
    {
     "data": {
      "text/plain": [
       "(48334, 1)"
      ]
     },
     "execution_count": 27,
     "metadata": {},
     "output_type": "execute_result"
    }
   ],
   "source": [
    "y.shape"
   ]
  },
  {
   "cell_type": "markdown",
   "metadata": {},
   "source": [
    "### Random Forest model\n"
   ]
  },
  {
   "cell_type": "code",
   "execution_count": 28,
   "metadata": {},
   "outputs": [],
   "source": [
    "# Split\n",
    "from sklearn.model_selection import train_test_split\n",
    "X_train, X_test, y_train, y_test = train_test_split(X, y, random_state=42)"
   ]
  },
  {
   "cell_type": "code",
   "execution_count": 29,
   "metadata": {},
   "outputs": [
    {
     "name": "stderr",
     "output_type": "stream",
     "text": [
      "C:\\Users\\Lenovo\\Anaconda3\\envs\\pythondata\\lib\\site-packages\\ipykernel_launcher.py:4: DataConversionWarning: A column-vector y was passed when a 1d array was expected. Please change the shape of y to (n_samples,), for example using ravel().\n",
      "  after removing the cwd from sys.path.\n"
     ]
    }
   ],
   "source": [
    "# Import, initialize, fit and predict\n",
    "from sklearn.ensemble import RandomForestClassifier\n",
    "rf_model = RandomForestClassifier(n_estimators = 100, random_state = 10) \n",
    "rf_model.fit(X_train, y_train)\n",
    "predict_y_test = rf_model.predict(X_test)"
   ]
  },
  {
   "cell_type": "code",
   "execution_count": 30,
   "metadata": {},
   "outputs": [
    {
     "name": "stdout",
     "output_type": "stream",
     "text": [
      "Accuracy score:  0.7803707381661702\n"
     ]
    }
   ],
   "source": [
    "# Validate - run accuracy score\n",
    "from sklearn import metrics\n",
    "print(\"Accuracy score: \", metrics.accuracy_score(y_test, predict_y_test))"
   ]
  },
  {
   "cell_type": "code",
   "execution_count": 31,
   "metadata": {},
   "outputs": [
    {
     "name": "stderr",
     "output_type": "stream",
     "text": [
      "C:\\Users\\Lenovo\\Anaconda3\\envs\\pythondata\\lib\\site-packages\\sklearn\\model_selection\\_validation.py:515: DataConversionWarning: A column-vector y was passed when a 1d array was expected. Please change the shape of y to (n_samples,), for example using ravel().\n",
      "  estimator.fit(X_train, y_train, **fit_params)\n",
      "C:\\Users\\Lenovo\\Anaconda3\\envs\\pythondata\\lib\\site-packages\\sklearn\\model_selection\\_validation.py:515: DataConversionWarning: A column-vector y was passed when a 1d array was expected. Please change the shape of y to (n_samples,), for example using ravel().\n",
      "  estimator.fit(X_train, y_train, **fit_params)\n",
      "C:\\Users\\Lenovo\\Anaconda3\\envs\\pythondata\\lib\\site-packages\\sklearn\\model_selection\\_validation.py:515: DataConversionWarning: A column-vector y was passed when a 1d array was expected. Please change the shape of y to (n_samples,), for example using ravel().\n",
      "  estimator.fit(X_train, y_train, **fit_params)\n",
      "C:\\Users\\Lenovo\\Anaconda3\\envs\\pythondata\\lib\\site-packages\\sklearn\\model_selection\\_validation.py:515: DataConversionWarning: A column-vector y was passed when a 1d array was expected. Please change the shape of y to (n_samples,), for example using ravel().\n",
      "  estimator.fit(X_train, y_train, **fit_params)\n",
      "C:\\Users\\Lenovo\\Anaconda3\\envs\\pythondata\\lib\\site-packages\\sklearn\\model_selection\\_validation.py:515: DataConversionWarning: A column-vector y was passed when a 1d array was expected. Please change the shape of y to (n_samples,), for example using ravel().\n",
      "  estimator.fit(X_train, y_train, **fit_params)\n",
      "C:\\Users\\Lenovo\\Anaconda3\\envs\\pythondata\\lib\\site-packages\\sklearn\\model_selection\\_validation.py:515: DataConversionWarning: A column-vector y was passed when a 1d array was expected. Please change the shape of y to (n_samples,), for example using ravel().\n",
      "  estimator.fit(X_train, y_train, **fit_params)\n",
      "C:\\Users\\Lenovo\\Anaconda3\\envs\\pythondata\\lib\\site-packages\\sklearn\\model_selection\\_validation.py:515: DataConversionWarning: A column-vector y was passed when a 1d array was expected. Please change the shape of y to (n_samples,), for example using ravel().\n",
      "  estimator.fit(X_train, y_train, **fit_params)\n",
      "C:\\Users\\Lenovo\\Anaconda3\\envs\\pythondata\\lib\\site-packages\\sklearn\\model_selection\\_validation.py:515: DataConversionWarning: A column-vector y was passed when a 1d array was expected. Please change the shape of y to (n_samples,), for example using ravel().\n",
      "  estimator.fit(X_train, y_train, **fit_params)\n",
      "C:\\Users\\Lenovo\\Anaconda3\\envs\\pythondata\\lib\\site-packages\\sklearn\\model_selection\\_validation.py:515: DataConversionWarning: A column-vector y was passed when a 1d array was expected. Please change the shape of y to (n_samples,), for example using ravel().\n",
      "  estimator.fit(X_train, y_train, **fit_params)\n",
      "C:\\Users\\Lenovo\\Anaconda3\\envs\\pythondata\\lib\\site-packages\\sklearn\\model_selection\\_validation.py:515: DataConversionWarning: A column-vector y was passed when a 1d array was expected. Please change the shape of y to (n_samples,), for example using ravel().\n",
      "  estimator.fit(X_train, y_train, **fit_params)\n"
     ]
    },
    {
     "name": "stdout",
     "output_type": "stream",
     "text": [
      "[0.92635499 0.83202317 0.49731072 0.43442284 0.74881026 0.70722119\n",
      " 0.73349886 0.67246017 0.43140906 0.40906269]\n"
     ]
    }
   ],
   "source": [
    "# Validate with cross validation\n",
    "\n",
    "from sklearn.model_selection import cross_val_score\n",
    "\n",
    "scores = cross_val_score(rf_model, X, y, cv=10, scoring=\"accuracy\")\n",
    "print(scores)"
   ]
  },
  {
   "cell_type": "code",
   "execution_count": 35,
   "metadata": {},
   "outputs": [
    {
     "data": {
      "text/plain": [
       "0.6392573947504918"
      ]
     },
     "execution_count": 35,
     "metadata": {},
     "output_type": "execute_result"
    }
   ],
   "source": [
    "scores.mean()"
   ]
  },
  {
   "cell_type": "markdown",
   "metadata": {},
   "source": [
    "### Logistic Regression"
   ]
  },
  {
   "cell_type": "code",
   "execution_count": 32,
   "metadata": {},
   "outputs": [],
   "source": [
    "from sklearn.model_selection import train_test_split\n",
    "\n",
    "X_train, X_test, y_train, y_test = train_test_split(X, y, random_state=42)"
   ]
  },
  {
   "cell_type": "code",
   "execution_count": 33,
   "metadata": {},
   "outputs": [
    {
     "name": "stderr",
     "output_type": "stream",
     "text": [
      "C:\\Users\\Lenovo\\Anaconda3\\envs\\pythondata\\lib\\site-packages\\sklearn\\utils\\validation.py:760: DataConversionWarning: A column-vector y was passed when a 1d array was expected. Please change the shape of y to (n_samples, ), for example using ravel().\n",
      "  y = column_or_1d(y, warn=True)\n",
      "C:\\Users\\Lenovo\\Anaconda3\\envs\\pythondata\\lib\\site-packages\\sklearn\\linear_model\\_logistic.py:940: ConvergenceWarning: lbfgs failed to converge (status=1):\n",
      "STOP: TOTAL NO. of ITERATIONS REACHED LIMIT.\n",
      "\n",
      "Increase the number of iterations (max_iter) or scale the data as shown in:\n",
      "    https://scikit-learn.org/stable/modules/preprocessing.html\n",
      "Please also refer to the documentation for alternative solver options:\n",
      "    https://scikit-learn.org/stable/modules/linear_model.html#logistic-regression\n",
      "  extra_warning_msg=_LOGISTIC_SOLVER_CONVERGENCE_MSG)\n"
     ]
    },
    {
     "data": {
      "text/plain": [
       "LogisticRegression(C=1.0, class_weight=None, dual=False, fit_intercept=True,\n",
       "                   intercept_scaling=1, l1_ratio=None, max_iter=100,\n",
       "                   multi_class='auto', n_jobs=None, penalty='l2',\n",
       "                   random_state=None, solver='lbfgs', tol=0.0001, verbose=0,\n",
       "                   warm_start=False)"
      ]
     },
     "execution_count": 33,
     "metadata": {},
     "output_type": "execute_result"
    }
   ],
   "source": [
    "from sklearn.linear_model import LogisticRegression\n",
    "logReg = LogisticRegression()\n",
    "logReg.fit(X_train, y_train)"
   ]
  },
  {
   "cell_type": "code",
   "execution_count": 34,
   "metadata": {},
   "outputs": [
    {
     "name": "stdout",
     "output_type": "stream",
     "text": [
      "Training Data Score: 0.8055172413793104\n",
      "Testing Data Score: 0.8104104601125455\n"
     ]
    }
   ],
   "source": [
    "print(f\"Training Data Score: {logReg.score(X_train, y_train)}\")\n",
    "print(f\"Testing Data Score: {logReg.score(X_test, y_test)}\")"
   ]
  },
  {
   "cell_type": "code",
   "execution_count": null,
   "metadata": {},
   "outputs": [],
   "source": []
  }
 ],
 "metadata": {
  "kernelspec": {
   "display_name": "Python 3",
   "language": "python",
   "name": "python3"
  },
  "language_info": {
   "codemirror_mode": {
    "name": "ipython",
    "version": 3
   },
   "file_extension": ".py",
   "mimetype": "text/x-python",
   "name": "python",
   "nbconvert_exporter": "python",
   "pygments_lexer": "ipython3",
   "version": "3.7.6"
  }
 },
 "nbformat": 4,
 "nbformat_minor": 2
}
