{
 "cells": [
  {
   "cell_type": "markdown",
   "metadata": {},
   "source": [
    "## Thought process/logic of selecting models.  Ended selecting Random Forest Classifier\n",
    "    * Supervised Classification problem\n",
    "    * Not much difference between all the models we tested (RF, Logistic Regression, SVM, NN models)\n",
    "    * Chose to do a deeper dive on this model because results were within 1%"
   ]
  },
  {
   "cell_type": "code",
   "execution_count": 1,
   "metadata": {},
   "outputs": [],
   "source": [
    "import pandas as pd\n",
    "import numpy as np\n",
    "from matplotlib import pyplot as plt\n",
    "import pickle\n",
    "from pickle import dump"
   ]
  },
  {
   "cell_type": "code",
   "execution_count": 2,
   "metadata": {},
   "outputs": [
    {
     "data": {
      "text/html": [
       "<div>\n",
       "<style scoped>\n",
       "    .dataframe tbody tr th:only-of-type {\n",
       "        vertical-align: middle;\n",
       "    }\n",
       "\n",
       "    .dataframe tbody tr th {\n",
       "        vertical-align: top;\n",
       "    }\n",
       "\n",
       "    .dataframe thead th {\n",
       "        text-align: right;\n",
       "    }\n",
       "</style>\n",
       "<table border=\"1\" class=\"dataframe\">\n",
       "  <thead>\n",
       "    <tr style=\"text-align: right;\">\n",
       "      <th></th>\n",
       "      <th>PrimaryColor</th>\n",
       "      <th>BreedCategory</th>\n",
       "      <th>IntakeStatus</th>\n",
       "      <th>PetAgeCategory</th>\n",
       "      <th>Sex</th>\n",
       "      <th>TopBreed</th>\n",
       "      <th>BinaryOutcome</th>\n",
       "    </tr>\n",
       "  </thead>\n",
       "  <tbody>\n",
       "    <tr>\n",
       "      <th>0</th>\n",
       "      <td>WHITE</td>\n",
       "      <td>PURE</td>\n",
       "      <td>NORMAL</td>\n",
       "      <td>YOUNG</td>\n",
       "      <td>MALE</td>\n",
       "      <td>PIT BULL TERRIER</td>\n",
       "      <td>DENY</td>\n",
       "    </tr>\n",
       "    <tr>\n",
       "      <th>1</th>\n",
       "      <td>BLACK</td>\n",
       "      <td>MIX</td>\n",
       "      <td>NORMAL</td>\n",
       "      <td>YOUNG</td>\n",
       "      <td>FEMALE</td>\n",
       "      <td>BORDER COLLIE</td>\n",
       "      <td>TAKE</td>\n",
       "    </tr>\n",
       "    <tr>\n",
       "      <th>2</th>\n",
       "      <td>TAN</td>\n",
       "      <td>MIX</td>\n",
       "      <td>NORMAL</td>\n",
       "      <td>YOUNG</td>\n",
       "      <td>MALE</td>\n",
       "      <td>GOLDEN RETRIEVER</td>\n",
       "      <td>TAKE</td>\n",
       "    </tr>\n",
       "    <tr>\n",
       "      <th>3</th>\n",
       "      <td>WHITE</td>\n",
       "      <td>PURE</td>\n",
       "      <td>NORMAL</td>\n",
       "      <td>BABY</td>\n",
       "      <td>FEMALE</td>\n",
       "      <td>LABRADOR RETRIEVER</td>\n",
       "      <td>TAKE</td>\n",
       "    </tr>\n",
       "    <tr>\n",
       "      <th>4</th>\n",
       "      <td>BLACK</td>\n",
       "      <td>PURE</td>\n",
       "      <td>SICK</td>\n",
       "      <td>YOUNG</td>\n",
       "      <td>MALE</td>\n",
       "      <td>PIT BULL TERRIER</td>\n",
       "      <td>DENY</td>\n",
       "    </tr>\n",
       "  </tbody>\n",
       "</table>\n",
       "</div>"
      ],
      "text/plain": [
       "  PrimaryColor BreedCategory IntakeStatus PetAgeCategory     Sex  \\\n",
       "0        WHITE          PURE       NORMAL          YOUNG    MALE   \n",
       "1        BLACK           MIX       NORMAL          YOUNG  FEMALE   \n",
       "2          TAN           MIX       NORMAL          YOUNG    MALE   \n",
       "3        WHITE          PURE       NORMAL           BABY  FEMALE   \n",
       "4        BLACK          PURE         SICK          YOUNG    MALE   \n",
       "\n",
       "             TopBreed BinaryOutcome  \n",
       "0    PIT BULL TERRIER          DENY  \n",
       "1       BORDER COLLIE          TAKE  \n",
       "2    GOLDEN RETRIEVER          TAKE  \n",
       "3  LABRADOR RETRIEVER          TAKE  \n",
       "4    PIT BULL TERRIER          DENY  "
      ]
     },
     "execution_count": 2,
     "metadata": {},
     "output_type": "execute_result"
    }
   ],
   "source": [
    "# Read in cleaned csv\n",
    "df = pd.read_csv(\"Resources/LouisvilleCleanFinal.csv\").drop(['Unnamed: 0'],axis=1)\n",
    "df.head()"
   ]
  },
  {
   "cell_type": "code",
   "execution_count": 3,
   "metadata": {},
   "outputs": [],
   "source": [
    "# Make minor change to Binary Outcome\n",
    "df[\"BinaryOutcome2\"] = 0\n",
    "df.loc[df[\"BinaryOutcome\"].str.contains(\"TAKE\"), \"BinaryOutcome2\"] = 1"
   ]
  },
  {
   "cell_type": "code",
   "execution_count": 4,
   "metadata": {},
   "outputs": [
    {
     "data": {
      "text/html": [
       "<div>\n",
       "<style scoped>\n",
       "    .dataframe tbody tr th:only-of-type {\n",
       "        vertical-align: middle;\n",
       "    }\n",
       "\n",
       "    .dataframe tbody tr th {\n",
       "        vertical-align: top;\n",
       "    }\n",
       "\n",
       "    .dataframe thead th {\n",
       "        text-align: right;\n",
       "    }\n",
       "</style>\n",
       "<table border=\"1\" class=\"dataframe\">\n",
       "  <thead>\n",
       "    <tr style=\"text-align: right;\">\n",
       "      <th></th>\n",
       "      <th>PrimaryColor</th>\n",
       "      <th>BreedCategory</th>\n",
       "      <th>IntakeStatus</th>\n",
       "      <th>PetAgeCategory</th>\n",
       "      <th>Sex</th>\n",
       "      <th>TopBreed</th>\n",
       "      <th>BinaryOutcome</th>\n",
       "      <th>BinaryOutcome2</th>\n",
       "    </tr>\n",
       "  </thead>\n",
       "  <tbody>\n",
       "    <tr>\n",
       "      <th>0</th>\n",
       "      <td>WHITE</td>\n",
       "      <td>PURE</td>\n",
       "      <td>NORMAL</td>\n",
       "      <td>YOUNG</td>\n",
       "      <td>MALE</td>\n",
       "      <td>PIT BULL TERRIER</td>\n",
       "      <td>DENY</td>\n",
       "      <td>0</td>\n",
       "    </tr>\n",
       "    <tr>\n",
       "      <th>1</th>\n",
       "      <td>BLACK</td>\n",
       "      <td>MIX</td>\n",
       "      <td>NORMAL</td>\n",
       "      <td>YOUNG</td>\n",
       "      <td>FEMALE</td>\n",
       "      <td>BORDER COLLIE</td>\n",
       "      <td>TAKE</td>\n",
       "      <td>1</td>\n",
       "    </tr>\n",
       "    <tr>\n",
       "      <th>2</th>\n",
       "      <td>TAN</td>\n",
       "      <td>MIX</td>\n",
       "      <td>NORMAL</td>\n",
       "      <td>YOUNG</td>\n",
       "      <td>MALE</td>\n",
       "      <td>GOLDEN RETRIEVER</td>\n",
       "      <td>TAKE</td>\n",
       "      <td>1</td>\n",
       "    </tr>\n",
       "    <tr>\n",
       "      <th>3</th>\n",
       "      <td>WHITE</td>\n",
       "      <td>PURE</td>\n",
       "      <td>NORMAL</td>\n",
       "      <td>BABY</td>\n",
       "      <td>FEMALE</td>\n",
       "      <td>LABRADOR RETRIEVER</td>\n",
       "      <td>TAKE</td>\n",
       "      <td>1</td>\n",
       "    </tr>\n",
       "    <tr>\n",
       "      <th>4</th>\n",
       "      <td>BLACK</td>\n",
       "      <td>PURE</td>\n",
       "      <td>SICK</td>\n",
       "      <td>YOUNG</td>\n",
       "      <td>MALE</td>\n",
       "      <td>PIT BULL TERRIER</td>\n",
       "      <td>DENY</td>\n",
       "      <td>0</td>\n",
       "    </tr>\n",
       "  </tbody>\n",
       "</table>\n",
       "</div>"
      ],
      "text/plain": [
       "  PrimaryColor BreedCategory IntakeStatus PetAgeCategory     Sex  \\\n",
       "0        WHITE          PURE       NORMAL          YOUNG    MALE   \n",
       "1        BLACK           MIX       NORMAL          YOUNG  FEMALE   \n",
       "2          TAN           MIX       NORMAL          YOUNG    MALE   \n",
       "3        WHITE          PURE       NORMAL           BABY  FEMALE   \n",
       "4        BLACK          PURE         SICK          YOUNG    MALE   \n",
       "\n",
       "             TopBreed BinaryOutcome  BinaryOutcome2  \n",
       "0    PIT BULL TERRIER          DENY               0  \n",
       "1       BORDER COLLIE          TAKE               1  \n",
       "2    GOLDEN RETRIEVER          TAKE               1  \n",
       "3  LABRADOR RETRIEVER          TAKE               1  \n",
       "4    PIT BULL TERRIER          DENY               0  "
      ]
     },
     "execution_count": 4,
     "metadata": {},
     "output_type": "execute_result"
    }
   ],
   "source": [
    "df.head()"
   ]
  },
  {
   "cell_type": "markdown",
   "metadata": {},
   "source": [
    "## Define X / y and OneHot encoding categorical features"
   ]
  },
  {
   "cell_type": "code",
   "execution_count": 5,
   "metadata": {},
   "outputs": [],
   "source": [
    "# Define X and y\n",
    "X = df.drop(['BinaryOutcome','BinaryOutcome2'], axis=\"columns\")\n",
    "y = df[['BinaryOutcome2']]\n"
   ]
  },
  {
   "cell_type": "code",
   "execution_count": 6,
   "metadata": {},
   "outputs": [],
   "source": [
    "from sklearn.preprocessing import OneHotEncoder\n",
    "ohe = OneHotEncoder()\n",
    "X = ohe.fit_transform(X)"
   ]
  },
  {
   "cell_type": "code",
   "execution_count": 7,
   "metadata": {},
   "outputs": [
    {
     "data": {
      "text/plain": [
       "(41535, 52)"
      ]
     },
     "execution_count": 7,
     "metadata": {},
     "output_type": "execute_result"
    }
   ],
   "source": [
    "X.shape"
   ]
  },
  {
   "cell_type": "markdown",
   "metadata": {},
   "source": [
    "## Creating a simple RF model"
   ]
  },
  {
   "cell_type": "code",
   "execution_count": 8,
   "metadata": {},
   "outputs": [
    {
     "name": "stderr",
     "output_type": "stream",
     "text": [
      "/opt/anaconda3/envs/PythonData/lib/python3.7/site-packages/ipykernel_launcher.py:7: DataConversionWarning: A column-vector y was passed when a 1d array was expected. Please change the shape of y to (n_samples,), for example using ravel().\n",
      "  import sys\n"
     ]
    }
   ],
   "source": [
    "from sklearn.model_selection import train_test_split\n",
    "X_train, X_test, y_train, y_test = train_test_split(X, y, random_state=1)\n",
    "\n",
    "# Import, initialize, fit and predict\n",
    "from sklearn.ensemble import RandomForestClassifier\n",
    "rf_model = RandomForestClassifier(n_estimators = 100, oob_score = 'True', n_jobs = -1,random_state =50, max_features = \"auto\", min_samples_leaf = 50)\n",
    "rf_model.fit(X_train, y_train)\n",
    "\n",
    "# Test\n",
    "predict_y_test = rf_model.predict(X_test)"
   ]
  },
  {
   "cell_type": "markdown",
   "metadata": {},
   "source": [
    "## Some techniques used to evaluate between models, features \n",
    "    * Ran accuracy score\n",
    "    * Ran AUC score\n",
    "    * Ran confusion matrix\n",
    "    * Ran tree nodes and height\n",
    "    * Ran features importances\n",
    "    * Ran cross val score"
   ]
  },
  {
   "cell_type": "code",
   "execution_count": 9,
   "metadata": {},
   "outputs": [],
   "source": [
    "from sklearn.metrics import roc_auc_score\n",
    "from sklearn.metrics import classification_report, confusion_matrix"
   ]
  },
  {
   "cell_type": "code",
   "execution_count": 10,
   "metadata": {},
   "outputs": [
    {
     "name": "stdout",
     "output_type": "stream",
     "text": [
      "Accuracy score:  0.7036787365177196\n",
      "AUC score:  0.5801281745190704\n"
     ]
    }
   ],
   "source": [
    "# Validate - run accuracy and AUC score\n",
    "from sklearn import metrics\n",
    "print(\"Accuracy score: \", metrics.accuracy_score(y_test, predict_y_test))\n",
    "print(\"AUC score: \", metrics.roc_auc_score(y_test, predict_y_test))"
   ]
  },
  {
   "cell_type": "code",
   "execution_count": 11,
   "metadata": {},
   "outputs": [
    {
     "name": "stdout",
     "output_type": "stream",
     "text": [
      "=== Confusion Matrix ===\n",
      "[[6509  582]\n",
      " [2495  798]]\n",
      "\n",
      "\n",
      "=== Classification Report ===\n",
      "              precision    recall  f1-score   support\n",
      "\n",
      "           0       0.72      0.92      0.81      7091\n",
      "           1       0.58      0.24      0.34      3293\n",
      "\n",
      "    accuracy                           0.70     10384\n",
      "   macro avg       0.65      0.58      0.58     10384\n",
      "weighted avg       0.68      0.70      0.66     10384\n",
      "\n",
      "\n",
      "\n"
     ]
    }
   ],
   "source": [
    "print(\"=== Confusion Matrix ===\")\n",
    "print(confusion_matrix(y_test, predict_y_test))\n",
    "print('\\n')\n",
    "print(\"=== Classification Report ===\")\n",
    "print(classification_report(y_test, predict_y_test))\n",
    "print('\\n')"
   ]
  },
  {
   "cell_type": "markdown",
   "metadata": {},
   "source": [
    "#### Tree nodes and height"
   ]
  },
  {
   "cell_type": "code",
   "execution_count": 12,
   "metadata": {},
   "outputs": [
    {
     "name": "stdout",
     "output_type": "stream",
     "text": [
      "23,442 tree nodes and 20.0 median tree height\n"
     ]
    },
    {
     "name": "stderr",
     "output_type": "stream",
     "text": [
      "/opt/anaconda3/envs/PythonData/lib/python3.7/site-packages/sklearn/utils/deprecation.py:144: FutureWarning: The sklearn.ensemble.forest module is  deprecated in version 0.22 and will be removed in version 0.24. The corresponding classes / functions should instead be imported from sklearn.ensemble. Anything that cannot be imported from sklearn.ensemble is now part of the private API.\n",
      "  warnings.warn(message, FutureWarning)\n"
     ]
    }
   ],
   "source": [
    "from rfpimp import *\n",
    "print(f\"{rfnnodes(rf_model):,d} tree nodes and {np.median(rfmaxdepths(rf_model))} median tree height\")"
   ]
  },
  {
   "cell_type": "markdown",
   "metadata": {},
   "source": [
    "#### Feature importance\n"
   ]
  },
  {
   "cell_type": "code",
   "execution_count": 13,
   "metadata": {},
   "outputs": [
    {
     "name": "stdout",
     "output_type": "stream",
     "text": [
      "Feature: 0, Score: 0.00945\n",
      "Feature: 1, Score: 0.00437\n",
      "Feature: 2, Score: 0.00296\n",
      "Feature: 3, Score: 0.00358\n",
      "Feature: 4, Score: 0.00000\n",
      "Feature: 5, Score: 0.00073\n",
      "Feature: 6, Score: 0.00000\n",
      "Feature: 7, Score: 0.00219\n",
      "Feature: 8, Score: 0.00000\n",
      "Feature: 9, Score: 0.00474\n",
      "Feature: 10, Score: 0.00595\n",
      "Feature: 11, Score: 0.00078\n",
      "Feature: 12, Score: 0.00569\n",
      "Feature: 13, Score: 0.03223\n",
      "Feature: 14, Score: 0.01846\n",
      "Feature: 15, Score: 0.04504\n",
      "Feature: 16, Score: 0.26251\n",
      "Feature: 17, Score: 0.06745\n",
      "Feature: 18, Score: 0.00305\n",
      "Feature: 19, Score: 0.06522\n",
      "Feature: 20, Score: 0.02210\n",
      "Feature: 21, Score: 0.03512\n",
      "Feature: 22, Score: 0.15653\n",
      "Feature: 23, Score: 0.02212\n",
      "Feature: 24, Score: 0.00545\n",
      "Feature: 25, Score: 0.00508\n",
      "Feature: 26, Score: 0.00004\n",
      "Feature: 27, Score: 0.00024\n",
      "Feature: 28, Score: 0.00005\n",
      "Feature: 29, Score: 0.00035\n",
      "Feature: 30, Score: 0.00816\n",
      "Feature: 31, Score: 0.00097\n",
      "Feature: 32, Score: 0.00190\n",
      "Feature: 33, Score: 0.01022\n",
      "Feature: 34, Score: 0.01132\n",
      "Feature: 35, Score: 0.00005\n",
      "Feature: 36, Score: 0.00196\n",
      "Feature: 37, Score: 0.01321\n",
      "Feature: 38, Score: 0.00007\n",
      "Feature: 39, Score: 0.00423\n",
      "Feature: 40, Score: 0.01059\n",
      "Feature: 41, Score: 0.00036\n",
      "Feature: 42, Score: 0.01779\n",
      "Feature: 43, Score: 0.12072\n",
      "Feature: 44, Score: 0.00116\n",
      "Feature: 45, Score: 0.00281\n",
      "Feature: 46, Score: 0.00252\n",
      "Feature: 47, Score: 0.00298\n",
      "Feature: 48, Score: 0.00065\n",
      "Feature: 49, Score: 0.00608\n",
      "Feature: 50, Score: 0.00020\n",
      "Feature: 51, Score: 0.00058\n"
     ]
    }
   ],
   "source": [
    "# # summarize feature importance\n",
    "\n",
    "importance = rf_model.feature_importances_\n",
    "for i,v in enumerate(importance):\n",
    "    print('Feature: %0d, Score: %.5f' % (i,v))"
   ]
  },
  {
   "cell_type": "markdown",
   "metadata": {},
   "source": [
    "#### Cross val score"
   ]
  },
  {
   "cell_type": "code",
   "execution_count": 14,
   "metadata": {},
   "outputs": [
    {
     "name": "stderr",
     "output_type": "stream",
     "text": [
      "/opt/anaconda3/envs/PythonData/lib/python3.7/site-packages/sklearn/model_selection/_validation.py:515: DataConversionWarning: A column-vector y was passed when a 1d array was expected. Please change the shape of y to (n_samples,), for example using ravel().\n",
      "  estimator.fit(X_train, y_train, **fit_params)\n",
      "/opt/anaconda3/envs/PythonData/lib/python3.7/site-packages/sklearn/model_selection/_validation.py:515: DataConversionWarning: A column-vector y was passed when a 1d array was expected. Please change the shape of y to (n_samples,), for example using ravel().\n",
      "  estimator.fit(X_train, y_train, **fit_params)\n",
      "/opt/anaconda3/envs/PythonData/lib/python3.7/site-packages/sklearn/model_selection/_validation.py:515: DataConversionWarning: A column-vector y was passed when a 1d array was expected. Please change the shape of y to (n_samples,), for example using ravel().\n",
      "  estimator.fit(X_train, y_train, **fit_params)\n",
      "/opt/anaconda3/envs/PythonData/lib/python3.7/site-packages/sklearn/model_selection/_validation.py:515: DataConversionWarning: A column-vector y was passed when a 1d array was expected. Please change the shape of y to (n_samples,), for example using ravel().\n",
      "  estimator.fit(X_train, y_train, **fit_params)\n",
      "/opt/anaconda3/envs/PythonData/lib/python3.7/site-packages/sklearn/model_selection/_validation.py:515: DataConversionWarning: A column-vector y was passed when a 1d array was expected. Please change the shape of y to (n_samples,), for example using ravel().\n",
      "  estimator.fit(X_train, y_train, **fit_params)\n",
      "/opt/anaconda3/envs/PythonData/lib/python3.7/site-packages/sklearn/model_selection/_validation.py:515: DataConversionWarning: A column-vector y was passed when a 1d array was expected. Please change the shape of y to (n_samples,), for example using ravel().\n",
      "  estimator.fit(X_train, y_train, **fit_params)\n",
      "/opt/anaconda3/envs/PythonData/lib/python3.7/site-packages/sklearn/model_selection/_validation.py:515: DataConversionWarning: A column-vector y was passed when a 1d array was expected. Please change the shape of y to (n_samples,), for example using ravel().\n",
      "  estimator.fit(X_train, y_train, **fit_params)\n",
      "/opt/anaconda3/envs/PythonData/lib/python3.7/site-packages/sklearn/model_selection/_validation.py:515: DataConversionWarning: A column-vector y was passed when a 1d array was expected. Please change the shape of y to (n_samples,), for example using ravel().\n",
      "  estimator.fit(X_train, y_train, **fit_params)\n",
      "/opt/anaconda3/envs/PythonData/lib/python3.7/site-packages/sklearn/model_selection/_validation.py:515: DataConversionWarning: A column-vector y was passed when a 1d array was expected. Please change the shape of y to (n_samples,), for example using ravel().\n",
      "  estimator.fit(X_train, y_train, **fit_params)\n",
      "/opt/anaconda3/envs/PythonData/lib/python3.7/site-packages/sklearn/model_selection/_validation.py:515: DataConversionWarning: A column-vector y was passed when a 1d array was expected. Please change the shape of y to (n_samples,), for example using ravel().\n",
      "  estimator.fit(X_train, y_train, **fit_params)\n"
     ]
    }
   ],
   "source": [
    "from sklearn.model_selection import cross_val_score\n",
    "\n",
    "# More efficient use of data (every observation is used for train/test)\n",
    "# But difficult to inspect results with either confusion matrix/roc curve\n",
    "rf_cv_score = cross_val_score(rf_model, X, y, cv=10, scoring='accuracy')\n"
   ]
  },
  {
   "cell_type": "code",
   "execution_count": 15,
   "metadata": {},
   "outputs": [
    {
     "data": {
      "text/plain": [
       "0.702612180856435"
      ]
     },
     "execution_count": 15,
     "metadata": {},
     "output_type": "execute_result"
    }
   ],
   "source": [
    "rf_cv_score.mean()"
   ]
  },
  {
   "cell_type": "markdown",
   "metadata": {},
   "source": [
    "## Hyperparameter tuning the RF model\n"
   ]
  },
  {
   "cell_type": "code",
   "execution_count": 16,
   "metadata": {},
   "outputs": [
    {
     "name": "stdout",
     "output_type": "stream",
     "text": [
      "Fitting 3 folds for each of 10 candidates, totalling 30 fits\n"
     ]
    },
    {
     "name": "stderr",
     "output_type": "stream",
     "text": [
      "[Parallel(n_jobs=-1)]: Using backend LokyBackend with 8 concurrent workers.\n",
      "[Parallel(n_jobs=-1)]: Done  30 out of  30 | elapsed:   22.1s finished\n",
      "/opt/anaconda3/envs/PythonData/lib/python3.7/site-packages/sklearn/model_selection/_search.py:739: DataConversionWarning: A column-vector y was passed when a 1d array was expected. Please change the shape of y to (n_samples,), for example using ravel().\n",
      "  self.best_estimator_.fit(X, y, **fit_params)\n"
     ]
    },
    {
     "data": {
      "text/plain": [
       "RandomizedSearchCV(cv=3, error_score=nan,\n",
       "                   estimator=RandomForestClassifier(bootstrap=True,\n",
       "                                                    ccp_alpha=0.0,\n",
       "                                                    class_weight=None,\n",
       "                                                    criterion='gini',\n",
       "                                                    max_depth=None,\n",
       "                                                    max_features='auto',\n",
       "                                                    max_leaf_nodes=None,\n",
       "                                                    max_samples=None,\n",
       "                                                    min_impurity_decrease=0.0,\n",
       "                                                    min_impurity_split=None,\n",
       "                                                    min_samples_leaf=1,\n",
       "                                                    min_samples_split=2,\n",
       "                                                    min_weight_fraction_leaf=0.0,\n",
       "                                                    n_estimators=100,\n",
       "                                                    n_jobs...\n",
       "                                                           11, 12, 12, 12, 12, ...],\n",
       "                                        'min_samples_split': [2, 5, 10],\n",
       "                                        'n_estimators': array([ 10,  13,  17,  21,  25,  29,  33,  37,  41,  44,  48,  52,  56,\n",
       "        60,  64,  68,  72,  75,  79,  83,  87,  91,  95,  99, 103, 106,\n",
       "       110, 114, 118, 122, 126, 130, 134, 137, 141, 145, 149, 153, 157,\n",
       "       161, 165, 168, 172, 176, 180, 184, 188, 192, 196, 200])},\n",
       "                   pre_dispatch='2*n_jobs', random_state=1, refit=True,\n",
       "                   return_train_score=False, scoring='roc_auc', verbose=1)"
      ]
     },
     "execution_count": 16,
     "metadata": {},
     "output_type": "execute_result"
    }
   ],
   "source": [
    "from sklearn.model_selection import RandomizedSearchCV\n",
    "\n",
    "# Hyperparameter grid\n",
    "param_grid = {\n",
    "    'n_estimators': np.linspace(10, 200).astype(int),\n",
    "    'max_depth': [None] + list(np.linspace(3, 20).astype(int)),\n",
    "    'max_features': ['auto', 'sqrt', None] + list(np.arange(0.5, 1, 0.1)),\n",
    "    'max_leaf_nodes': [None] + list(np.linspace(10, 50, 500).astype(int)),\n",
    "    'min_samples_split': [2, 5, 10],\n",
    "    'bootstrap': [True, False]\n",
    "}\n",
    "\n",
    "# Estimator for use in random search\n",
    "rf_model_hyper = RandomForestClassifier(random_state = 1)\n",
    "\n",
    "# Create the random search model\n",
    "rs = RandomizedSearchCV(rf_model_hyper, param_grid, n_jobs = -1, \n",
    "                        scoring = 'roc_auc', cv = 3, \n",
    "                        n_iter = 10, verbose = 1, random_state=1)\n",
    "\n",
    "# Fit \n",
    "rs.fit(X_train, y_train)"
   ]
  },
  {
   "cell_type": "code",
   "execution_count": 17,
   "metadata": {},
   "outputs": [
    {
     "data": {
      "text/plain": [
       "{'n_estimators': 106,\n",
       " 'min_samples_split': 2,\n",
       " 'max_leaf_nodes': 46,\n",
       " 'max_features': 0.8999999999999999,\n",
       " 'max_depth': 15,\n",
       " 'bootstrap': True}"
      ]
     },
     "execution_count": 17,
     "metadata": {},
     "output_type": "execute_result"
    }
   ],
   "source": [
    "# Print best parameters found\n",
    "rs.best_params_\n"
   ]
  },
  {
   "cell_type": "code",
   "execution_count": 18,
   "metadata": {},
   "outputs": [
    {
     "data": {
      "text/plain": [
       "RandomForestClassifier(bootstrap=True, ccp_alpha=0.0, class_weight=None,\n",
       "                       criterion='gini', max_depth=15,\n",
       "                       max_features=0.8999999999999999, max_leaf_nodes=46,\n",
       "                       max_samples=None, min_impurity_decrease=0.0,\n",
       "                       min_impurity_split=None, min_samples_leaf=1,\n",
       "                       min_samples_split=2, min_weight_fraction_leaf=0.0,\n",
       "                       n_estimators=106, n_jobs=None, oob_score=False,\n",
       "                       random_state=1, verbose=0, warm_start=False)"
      ]
     },
     "execution_count": 18,
     "metadata": {},
     "output_type": "execute_result"
    }
   ],
   "source": [
    "# With hyper tuning\n",
    "best_model = rs.best_estimator_\n",
    "best_model"
   ]
  },
  {
   "cell_type": "code",
   "execution_count": 19,
   "metadata": {},
   "outputs": [],
   "source": [
    "# Re-test\n",
    "hypertuning_rf_predictions_y = best_model.predict(X_test)"
   ]
  },
  {
   "cell_type": "code",
   "execution_count": 20,
   "metadata": {},
   "outputs": [
    {
     "name": "stdout",
     "output_type": "stream",
     "text": [
      "Accuracy score Hypertuned model:  0.7103235747303543\n",
      "AUC score Hypertuned model:  0.6200447070817646\n"
     ]
    }
   ],
   "source": [
    "# Results after hypertuning\n",
    "from sklearn import metrics\n",
    "print(\"Accuracy score Hypertuned model: \", metrics.accuracy_score(y_test, hypertuning_rf_predictions_y))\n",
    "print(\"AUC score Hypertuned model: \", metrics.roc_auc_score(y_test, hypertuning_rf_predictions_y))"
   ]
  },
  {
   "cell_type": "markdown",
   "metadata": {},
   "source": [
    "#### Accuracy didn't improve much. AUC improved from .58 to .62"
   ]
  },
  {
   "cell_type": "markdown",
   "metadata": {},
   "source": [
    "## Saving the model\n",
    "\n"
   ]
  },
  {
   "cell_type": "code",
   "execution_count": 21,
   "metadata": {},
   "outputs": [],
   "source": [
    "# dump(best_model, open('rf_modelOneHot2.pkl', 'wb'))\n"
   ]
  },
  {
   "cell_type": "code",
   "execution_count": null,
   "metadata": {},
   "outputs": [],
   "source": []
  }
 ],
 "metadata": {
  "kernelspec": {
   "display_name": "Python 3",
   "language": "python",
   "name": "python3"
  },
  "language_info": {
   "codemirror_mode": {
    "name": "ipython",
    "version": 3
   },
   "file_extension": ".py",
   "mimetype": "text/x-python",
   "name": "python",
   "nbconvert_exporter": "python",
   "pygments_lexer": "ipython3",
   "version": "3.7.5"
  }
 },
 "nbformat": 4,
 "nbformat_minor": 2
}
