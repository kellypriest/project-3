{
 "cells": [
  {
   "cell_type": "code",
   "execution_count": 1,
   "metadata": {},
   "outputs": [],
   "source": [
    "import pandas as pd\n",
    "import numpy as np\n",
    "from matplotlib import pyplot as plt\n",
    "import pickle\n",
    "from pickle import dump"
   ]
  },
  {
   "cell_type": "code",
   "execution_count": 2,
   "metadata": {},
   "outputs": [
    {
     "data": {
      "text/html": [
       "<div>\n",
       "<style scoped>\n",
       "    .dataframe tbody tr th:only-of-type {\n",
       "        vertical-align: middle;\n",
       "    }\n",
       "\n",
       "    .dataframe tbody tr th {\n",
       "        vertical-align: top;\n",
       "    }\n",
       "\n",
       "    .dataframe thead th {\n",
       "        text-align: right;\n",
       "    }\n",
       "</style>\n",
       "<table border=\"1\" class=\"dataframe\">\n",
       "  <thead>\n",
       "    <tr style=\"text-align: right;\">\n",
       "      <th></th>\n",
       "      <th>PrimaryColor</th>\n",
       "      <th>BreedCategory</th>\n",
       "      <th>IntakeStatus</th>\n",
       "      <th>PetAgeCategory</th>\n",
       "      <th>Sex</th>\n",
       "      <th>TopBreed</th>\n",
       "      <th>BinaryOutcome</th>\n",
       "    </tr>\n",
       "  </thead>\n",
       "  <tbody>\n",
       "    <tr>\n",
       "      <th>0</th>\n",
       "      <td>WHITE</td>\n",
       "      <td>PURE</td>\n",
       "      <td>NORMAL</td>\n",
       "      <td>YOUNG</td>\n",
       "      <td>MALE</td>\n",
       "      <td>PIT BULL TERRIER</td>\n",
       "      <td>DENY</td>\n",
       "    </tr>\n",
       "    <tr>\n",
       "      <th>1</th>\n",
       "      <td>BLACK</td>\n",
       "      <td>MIX</td>\n",
       "      <td>NORMAL</td>\n",
       "      <td>YOUNG</td>\n",
       "      <td>FEMALE</td>\n",
       "      <td>BORDER COLLIE</td>\n",
       "      <td>TAKE</td>\n",
       "    </tr>\n",
       "    <tr>\n",
       "      <th>2</th>\n",
       "      <td>TAN</td>\n",
       "      <td>MIX</td>\n",
       "      <td>NORMAL</td>\n",
       "      <td>YOUNG</td>\n",
       "      <td>MALE</td>\n",
       "      <td>GOLDEN RETRIEVER</td>\n",
       "      <td>TAKE</td>\n",
       "    </tr>\n",
       "    <tr>\n",
       "      <th>3</th>\n",
       "      <td>WHITE</td>\n",
       "      <td>PURE</td>\n",
       "      <td>NORMAL</td>\n",
       "      <td>BABY</td>\n",
       "      <td>FEMALE</td>\n",
       "      <td>LABRADOR RETRIEVER</td>\n",
       "      <td>TAKE</td>\n",
       "    </tr>\n",
       "    <tr>\n",
       "      <th>4</th>\n",
       "      <td>BLACK</td>\n",
       "      <td>PURE</td>\n",
       "      <td>SICK</td>\n",
       "      <td>YOUNG</td>\n",
       "      <td>MALE</td>\n",
       "      <td>PIT BULL TERRIER</td>\n",
       "      <td>DENY</td>\n",
       "    </tr>\n",
       "  </tbody>\n",
       "</table>\n",
       "</div>"
      ],
      "text/plain": [
       "  PrimaryColor BreedCategory IntakeStatus PetAgeCategory     Sex  \\\n",
       "0        WHITE          PURE       NORMAL          YOUNG    MALE   \n",
       "1        BLACK           MIX       NORMAL          YOUNG  FEMALE   \n",
       "2          TAN           MIX       NORMAL          YOUNG    MALE   \n",
       "3        WHITE          PURE       NORMAL           BABY  FEMALE   \n",
       "4        BLACK          PURE         SICK          YOUNG    MALE   \n",
       "\n",
       "             TopBreed BinaryOutcome  \n",
       "0    PIT BULL TERRIER          DENY  \n",
       "1       BORDER COLLIE          TAKE  \n",
       "2    GOLDEN RETRIEVER          TAKE  \n",
       "3  LABRADOR RETRIEVER          TAKE  \n",
       "4    PIT BULL TERRIER          DENY  "
      ]
     },
     "execution_count": 2,
     "metadata": {},
     "output_type": "execute_result"
    }
   ],
   "source": [
    "# Read in csv\n",
    "df = pd.read_csv(\"LouisvilleCleanFinal.csv\").drop(['Unnamed: 0'],axis=1)\n",
    "df.head()"
   ]
  },
  {
   "cell_type": "code",
   "execution_count": 14,
   "metadata": {},
   "outputs": [
    {
     "name": "stdout",
     "output_type": "stream",
     "text": [
      "0.3162393162393162\n"
     ]
    }
   ],
   "source": [
    "df.groupby(df['BinaryOutcome']).count()\n",
    "print(13135/(13135+28400))"
   ]
  },
  {
   "cell_type": "code",
   "execution_count": 4,
   "metadata": {},
   "outputs": [],
   "source": [
    "df[\"BinaryOutcome2\"] = 0\n",
    "df.loc[df[\"BinaryOutcome\"].str.contains(\"TAKE\"), \"BinaryOutcome2\"] = 1"
   ]
  },
  {
   "cell_type": "code",
   "execution_count": 5,
   "metadata": {},
   "outputs": [
    {
     "data": {
      "text/html": [
       "<div>\n",
       "<style scoped>\n",
       "    .dataframe tbody tr th:only-of-type {\n",
       "        vertical-align: middle;\n",
       "    }\n",
       "\n",
       "    .dataframe tbody tr th {\n",
       "        vertical-align: top;\n",
       "    }\n",
       "\n",
       "    .dataframe thead th {\n",
       "        text-align: right;\n",
       "    }\n",
       "</style>\n",
       "<table border=\"1\" class=\"dataframe\">\n",
       "  <thead>\n",
       "    <tr style=\"text-align: right;\">\n",
       "      <th></th>\n",
       "      <th>PrimaryColor</th>\n",
       "      <th>BreedCategory</th>\n",
       "      <th>IntakeStatus</th>\n",
       "      <th>PetAgeCategory</th>\n",
       "      <th>Sex</th>\n",
       "      <th>TopBreed</th>\n",
       "      <th>BinaryOutcome</th>\n",
       "      <th>BinaryOutcome2</th>\n",
       "    </tr>\n",
       "  </thead>\n",
       "  <tbody>\n",
       "    <tr>\n",
       "      <th>0</th>\n",
       "      <td>WHITE</td>\n",
       "      <td>PURE</td>\n",
       "      <td>NORMAL</td>\n",
       "      <td>YOUNG</td>\n",
       "      <td>MALE</td>\n",
       "      <td>PIT BULL TERRIER</td>\n",
       "      <td>DENY</td>\n",
       "      <td>0</td>\n",
       "    </tr>\n",
       "    <tr>\n",
       "      <th>1</th>\n",
       "      <td>BLACK</td>\n",
       "      <td>MIX</td>\n",
       "      <td>NORMAL</td>\n",
       "      <td>YOUNG</td>\n",
       "      <td>FEMALE</td>\n",
       "      <td>BORDER COLLIE</td>\n",
       "      <td>TAKE</td>\n",
       "      <td>1</td>\n",
       "    </tr>\n",
       "    <tr>\n",
       "      <th>2</th>\n",
       "      <td>TAN</td>\n",
       "      <td>MIX</td>\n",
       "      <td>NORMAL</td>\n",
       "      <td>YOUNG</td>\n",
       "      <td>MALE</td>\n",
       "      <td>GOLDEN RETRIEVER</td>\n",
       "      <td>TAKE</td>\n",
       "      <td>1</td>\n",
       "    </tr>\n",
       "    <tr>\n",
       "      <th>3</th>\n",
       "      <td>WHITE</td>\n",
       "      <td>PURE</td>\n",
       "      <td>NORMAL</td>\n",
       "      <td>BABY</td>\n",
       "      <td>FEMALE</td>\n",
       "      <td>LABRADOR RETRIEVER</td>\n",
       "      <td>TAKE</td>\n",
       "      <td>1</td>\n",
       "    </tr>\n",
       "    <tr>\n",
       "      <th>4</th>\n",
       "      <td>BLACK</td>\n",
       "      <td>PURE</td>\n",
       "      <td>SICK</td>\n",
       "      <td>YOUNG</td>\n",
       "      <td>MALE</td>\n",
       "      <td>PIT BULL TERRIER</td>\n",
       "      <td>DENY</td>\n",
       "      <td>0</td>\n",
       "    </tr>\n",
       "  </tbody>\n",
       "</table>\n",
       "</div>"
      ],
      "text/plain": [
       "  PrimaryColor BreedCategory IntakeStatus PetAgeCategory     Sex  \\\n",
       "0        WHITE          PURE       NORMAL          YOUNG    MALE   \n",
       "1        BLACK           MIX       NORMAL          YOUNG  FEMALE   \n",
       "2          TAN           MIX       NORMAL          YOUNG    MALE   \n",
       "3        WHITE          PURE       NORMAL           BABY  FEMALE   \n",
       "4        BLACK          PURE         SICK          YOUNG    MALE   \n",
       "\n",
       "             TopBreed BinaryOutcome  BinaryOutcome2  \n",
       "0    PIT BULL TERRIER          DENY               0  \n",
       "1       BORDER COLLIE          TAKE               1  \n",
       "2    GOLDEN RETRIEVER          TAKE               1  \n",
       "3  LABRADOR RETRIEVER          TAKE               1  \n",
       "4    PIT BULL TERRIER          DENY               0  "
      ]
     },
     "execution_count": 5,
     "metadata": {},
     "output_type": "execute_result"
    }
   ],
   "source": [
    "df.head()"
   ]
  },
  {
   "cell_type": "code",
   "execution_count": 6,
   "metadata": {},
   "outputs": [],
   "source": [
    "# Define X and y\n",
    "X = df.drop(['BinaryOutcome','BinaryOutcome2'], axis=\"columns\")\n",
    "y = df[['BinaryOutcome2']]\n"
   ]
  },
  {
   "cell_type": "code",
   "execution_count": 7,
   "metadata": {},
   "outputs": [],
   "source": [
    "from sklearn.preprocessing import OneHotEncoder\n",
    "ohe = OneHotEncoder()\n",
    "X = ohe.fit_transform(X)"
   ]
  },
  {
   "cell_type": "code",
   "execution_count": 8,
   "metadata": {},
   "outputs": [
    {
     "data": {
      "text/plain": [
       "(41535, 1)"
      ]
     },
     "execution_count": 8,
     "metadata": {},
     "output_type": "execute_result"
    }
   ],
   "source": [
    "y.shape"
   ]
  },
  {
   "cell_type": "code",
   "execution_count": 9,
   "metadata": {},
   "outputs": [
    {
     "name": "stderr",
     "output_type": "stream",
     "text": [
      "C:\\Users\\Lenovo\\Anaconda3\\envs\\pythondata\\lib\\site-packages\\ipykernel_launcher.py:7: DataConversionWarning: A column-vector y was passed when a 1d array was expected. Please change the shape of y to (n_samples,), for example using ravel().\n",
      "  import sys\n"
     ]
    }
   ],
   "source": [
    "from sklearn.model_selection import train_test_split\n",
    "X_train, X_test, y_train, y_test = train_test_split(X, y, random_state=42)\n",
    "\n",
    "# Import, initialize, fit and predict\n",
    "from sklearn.ensemble import RandomForestClassifier\n",
    "rf_model = RandomForestClassifier(n_estimators = 100, oob_score = 'True', n_jobs = -1,random_state =50, max_features = \"auto\", min_samples_leaf = 50)\n",
    "rf_model.fit(X_train, y_train)\n",
    "\n",
    "# Test\n",
    "predict_y_test = rf_model.predict(X_test)\n"
   ]
  },
  {
   "cell_type": "markdown",
   "metadata": {},
   "source": [
    "#### Evaluating"
   ]
  },
  {
   "cell_type": "code",
   "execution_count": 10,
   "metadata": {},
   "outputs": [],
   "source": [
    "from sklearn.metrics import roc_auc_score\n",
    "from sklearn.metrics import classification_report, confusion_matrix"
   ]
  },
  {
   "cell_type": "code",
   "execution_count": 11,
   "metadata": {},
   "outputs": [
    {
     "name": "stdout",
     "output_type": "stream",
     "text": [
      "Accuracy score:  0.7048343605546995\n",
      "AUC score:  0.5834387757272487\n"
     ]
    }
   ],
   "source": [
    "# Validate - run accuracy and AUC score\n",
    "from sklearn import metrics\n",
    "print(\"Accuracy score: \", metrics.accuracy_score(y_test, predict_y_test))\n",
    "print(\"AUC score: \", metrics.roc_auc_score(y_test, predict_y_test))"
   ]
  },
  {
   "cell_type": "code",
   "execution_count": 12,
   "metadata": {},
   "outputs": [
    {
     "name": "stdout",
     "output_type": "stream",
     "text": [
      "=== Confusion Matrix ===\n",
      "[[6492  595]\n",
      " [2470  827]]\n",
      "\n",
      "\n",
      "=== Classification Report ===\n",
      "              precision    recall  f1-score   support\n",
      "\n",
      "           0       0.72      0.92      0.81      7087\n",
      "           1       0.58      0.25      0.35      3297\n",
      "\n",
      "    accuracy                           0.70     10384\n",
      "   macro avg       0.65      0.58      0.58     10384\n",
      "weighted avg       0.68      0.70      0.66     10384\n",
      "\n",
      "\n",
      "\n"
     ]
    }
   ],
   "source": [
    "print(\"=== Confusion Matrix ===\")\n",
    "print(confusion_matrix(y_test, predict_y_test))\n",
    "print('\\n')\n",
    "print(\"=== Classification Report ===\")\n",
    "print(classification_report(y_test, predict_y_test))\n",
    "print('\\n')"
   ]
  },
  {
   "cell_type": "markdown",
   "metadata": {},
   "source": [
    "#### Tree nodes and height"
   ]
  },
  {
   "cell_type": "code",
   "execution_count": 13,
   "metadata": {},
   "outputs": [
    {
     "name": "stdout",
     "output_type": "stream",
     "text": [
      "24,046 tree nodes and 20.0 median tree height\n"
     ]
    },
    {
     "name": "stderr",
     "output_type": "stream",
     "text": [
      "C:\\Users\\Lenovo\\Anaconda3\\envs\\pythondata\\lib\\site-packages\\sklearn\\utils\\deprecation.py:144: FutureWarning: The sklearn.ensemble.forest module is  deprecated in version 0.22 and will be removed in version 0.24. The corresponding classes / functions should instead be imported from sklearn.ensemble. Anything that cannot be imported from sklearn.ensemble is now part of the private API.\n",
      "  warnings.warn(message, FutureWarning)\n"
     ]
    }
   ],
   "source": [
    "from rfpimp import *\n",
    "print(f\"{rfnnodes(rf_model):,d} tree nodes and {np.median(rfmaxdepths(rf_model))} median tree height\")"
   ]
  },
  {
   "cell_type": "markdown",
   "metadata": {},
   "source": [
    "#### Feature importance\n"
   ]
  },
  {
   "cell_type": "code",
   "execution_count": null,
   "metadata": {},
   "outputs": [],
   "source": [
    "# importance = rf_model.feature_importances_\n",
    "# # summarize feature importance\n",
    "#recall_score(y_true, y_pred, average=None, zero_division=1)"
   ]
  },
  {
   "cell_type": "markdown",
   "metadata": {},
   "source": [
    "#### Cross val score"
   ]
  },
  {
   "cell_type": "code",
   "execution_count": null,
   "metadata": {},
   "outputs": [],
   "source": [
    "from sklearn.model_selection import cross_val_score\n",
    "\n",
    "# More efficient use of data (every observation is used for train/test)\n",
    "# But difficult to inspect results with either confusion matrix/roc curve\n",
    "rf_cv_score = cross_val_score(rf_model, X, y, cv=10, scoring='accuracy')\n"
   ]
  },
  {
   "cell_type": "code",
   "execution_count": null,
   "metadata": {},
   "outputs": [],
   "source": [
    "print(\"=== All Accuracy Scores ===\")\n",
    "print(rf_cv_score)\n",
    "print('\\n')\n",
    "print(\"=== Mean Accuracy Score ===\")\n",
    "print(\"Mean Accuracy Score - Random Forest: \", rf_cv_score.mean())"
   ]
  },
  {
   "cell_type": "code",
   "execution_count": null,
   "metadata": {},
   "outputs": [],
   "source": [
    "\n",
    "\n",
    "roc_auc_score(y_test, predict_y_test)\n"
   ]
  },
  {
   "cell_type": "markdown",
   "metadata": {},
   "source": [
    "### Saving the model\n",
    "\n"
   ]
  },
  {
   "cell_type": "code",
   "execution_count": null,
   "metadata": {},
   "outputs": [],
   "source": [
    "\n",
    "# dump(rf_model, open('rf_modelTESTMarc.pkl', 'wb'))\n",
    "# new_input = [[0, 1, 0, 0, 1, 0]]\n",
    "# with open('rf_modelTESTMarc.pkl', 'rb') as file:  \n",
    "#     model = pickle.load(file)\n",
    "# model.predict(new_input) "
   ]
  },
  {
   "cell_type": "code",
   "execution_count": null,
   "metadata": {},
   "outputs": [],
   "source": [
    "# pd.read_pickle('rf_modelTEST2.pkl')"
   ]
  },
  {
   "cell_type": "code",
   "execution_count": null,
   "metadata": {},
   "outputs": [],
   "source": [
    "# # To run SVM model\n",
    "# # Need to create 0/1 for BinaryOucome\n",
    "# df[\"BinaryOutcome2\"] = 0\n",
    "# df.loc[df[\"BinaryOutcome\"].str.contains(\"TAKE\"), \"BinaryOutcome2\"] = 1\n",
    "\n",
    "# # Define X and y\n",
    "# X = df.drop(['BinaryOutcome','BinaryOutcome2'], axis=\"columns\")\n",
    "# y = df['BinaryOutcome2']\n",
    "\n",
    "# # One Hot encode X\n",
    "# from sklearn.preprocessing import OneHotEncoder\n",
    "# ohe = OneHotEncoder()\n",
    "# X = ohe.fit_transform(X).toarray()\n",
    "\n",
    "\n",
    "# # Split\n",
    "# from sklearn.model_selection import train_test_split\n",
    "# X_train, X_test, y_train, y_test = train_test_split(X ,y, random_state=20) \n",
    "\n",
    "# # Train\n",
    "# from sklearn.svm import SVC \n",
    "# svm_model = SVC(kernel='rbf')\n",
    "# svm_model.fit(X_train, y_train)\n",
    "\n",
    "# # Model Accuracy\n",
    "# print('Test Acc: %.4f' % svm_model.score(X_test, y_test))\n",
    "\n",
    "# # Save \n",
    "# pickle.dump(svm_model, open(\"SVMmodelonehot.pkl\",\"wb\"))"
   ]
  }
 ],
 "metadata": {
  "kernelspec": {
   "display_name": "Python 3",
   "language": "python",
   "name": "python3"
  },
  "language_info": {
   "codemirror_mode": {
    "name": "ipython",
    "version": 3
   },
   "file_extension": ".py",
   "mimetype": "text/x-python",
   "name": "python",
   "nbconvert_exporter": "python",
   "pygments_lexer": "ipython3",
   "version": "3.7.6"
  }
 },
 "nbformat": 4,
 "nbformat_minor": 2
}
