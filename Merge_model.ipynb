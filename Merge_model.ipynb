{
 "cells": [
  {
   "cell_type": "code",
   "execution_count": 1,
   "metadata": {},
   "outputs": [],
   "source": [
    "import pandas as pd\n",
    "import numpy as np\n",
    "from matplotlib import pyplot as plt\n",
    "import datetime as dt"
   ]
  },
  {
   "cell_type": "code",
   "execution_count": 2,
   "metadata": {},
   "outputs": [
    {
     "data": {
      "text/html": [
       "<div>\n",
       "<style scoped>\n",
       "    .dataframe tbody tr th:only-of-type {\n",
       "        vertical-align: middle;\n",
       "    }\n",
       "\n",
       "    .dataframe tbody tr th {\n",
       "        vertical-align: top;\n",
       "    }\n",
       "\n",
       "    .dataframe thead th {\n",
       "        text-align: right;\n",
       "    }\n",
       "</style>\n",
       "<table border=\"1\" class=\"dataframe\">\n",
       "  <thead>\n",
       "    <tr style=\"text-align: right;\">\n",
       "      <th></th>\n",
       "      <th>Unnamed: 0</th>\n",
       "      <th>PrimaryColor</th>\n",
       "      <th>PrimaryBreed</th>\n",
       "      <th>IntakeInternalStatus</th>\n",
       "      <th>IntakeAsilomarStatus</th>\n",
       "      <th>ReproductiveStatusAtIntake</th>\n",
       "      <th>OutcomeType</th>\n",
       "      <th>AgeInMonths</th>\n",
       "      <th>DurationInShelter</th>\n",
       "      <th>BreedCategory</th>\n",
       "      <th>Pet_age_category</th>\n",
       "      <th>Binary_outcome</th>\n",
       "      <th>Sex</th>\n",
       "    </tr>\n",
       "  </thead>\n",
       "  <tbody>\n",
       "    <tr>\n",
       "      <th>0</th>\n",
       "      <td>4</td>\n",
       "      <td>WHITE</td>\n",
       "      <td>PIT BULL TERRIER</td>\n",
       "      <td>NORMAL</td>\n",
       "      <td>HEALTHY</td>\n",
       "      <td>FERTILE</td>\n",
       "      <td>EUTH</td>\n",
       "      <td>12.17</td>\n",
       "      <td>29.0</td>\n",
       "      <td>Pure</td>\n",
       "      <td>Young</td>\n",
       "      <td>Deny</td>\n",
       "      <td>Male</td>\n",
       "    </tr>\n",
       "    <tr>\n",
       "      <th>1</th>\n",
       "      <td>51</td>\n",
       "      <td>BLACK</td>\n",
       "      <td>BORDER COLLIE</td>\n",
       "      <td>NORMAL</td>\n",
       "      <td>HEALTHY</td>\n",
       "      <td>ALTERED</td>\n",
       "      <td>ADOPTION</td>\n",
       "      <td>10.17</td>\n",
       "      <td>108.0</td>\n",
       "      <td>Mix</td>\n",
       "      <td>Young</td>\n",
       "      <td>Take</td>\n",
       "      <td>Female</td>\n",
       "    </tr>\n",
       "    <tr>\n",
       "      <th>2</th>\n",
       "      <td>69</td>\n",
       "      <td>TAN</td>\n",
       "      <td>GOLDEN RETRIEVER</td>\n",
       "      <td>NORMAL</td>\n",
       "      <td>HEALTHY</td>\n",
       "      <td>ALTERED</td>\n",
       "      <td>ADOPTION</td>\n",
       "      <td>23.43</td>\n",
       "      <td>56.0</td>\n",
       "      <td>Mix</td>\n",
       "      <td>Young</td>\n",
       "      <td>Take</td>\n",
       "      <td>Male</td>\n",
       "    </tr>\n",
       "    <tr>\n",
       "      <th>3</th>\n",
       "      <td>99</td>\n",
       "      <td>WHITE</td>\n",
       "      <td>LABRADOR RETRIEVER</td>\n",
       "      <td>NORMAL</td>\n",
       "      <td>HEALTHY</td>\n",
       "      <td>ALTERED</td>\n",
       "      <td>ADOPTION</td>\n",
       "      <td>0.17</td>\n",
       "      <td>183.0</td>\n",
       "      <td>Pure</td>\n",
       "      <td>Baby</td>\n",
       "      <td>Take</td>\n",
       "      <td>Female</td>\n",
       "    </tr>\n",
       "    <tr>\n",
       "      <th>4</th>\n",
       "      <td>103</td>\n",
       "      <td>BLACK</td>\n",
       "      <td>PIT BULL TERRIER</td>\n",
       "      <td>SICK</td>\n",
       "      <td>HEALTHY</td>\n",
       "      <td>FERTILE</td>\n",
       "      <td>EUTH</td>\n",
       "      <td>11.90</td>\n",
       "      <td>0.0</td>\n",
       "      <td>Pure</td>\n",
       "      <td>Young</td>\n",
       "      <td>Deny</td>\n",
       "      <td>Male</td>\n",
       "    </tr>\n",
       "  </tbody>\n",
       "</table>\n",
       "</div>"
      ],
      "text/plain": [
       "   Unnamed: 0 PrimaryColor        PrimaryBreed IntakeInternalStatus  \\\n",
       "0           4        WHITE    PIT BULL TERRIER               NORMAL   \n",
       "1          51        BLACK       BORDER COLLIE               NORMAL   \n",
       "2          69          TAN    GOLDEN RETRIEVER               NORMAL   \n",
       "3          99        WHITE  LABRADOR RETRIEVER               NORMAL   \n",
       "4         103        BLACK    PIT BULL TERRIER                 SICK   \n",
       "\n",
       "  IntakeAsilomarStatus ReproductiveStatusAtIntake OutcomeType  AgeInMonths  \\\n",
       "0              HEALTHY                    FERTILE        EUTH        12.17   \n",
       "1              HEALTHY                    ALTERED    ADOPTION        10.17   \n",
       "2              HEALTHY                    ALTERED    ADOPTION        23.43   \n",
       "3              HEALTHY                    ALTERED    ADOPTION         0.17   \n",
       "4              HEALTHY                    FERTILE        EUTH        11.90   \n",
       "\n",
       "   DurationInShelter BreedCategory Pet_age_category Binary_outcome     Sex  \n",
       "0               29.0          Pure            Young           Deny    Male  \n",
       "1              108.0           Mix            Young           Take  Female  \n",
       "2               56.0           Mix            Young           Take    Male  \n",
       "3              183.0          Pure             Baby           Take  Female  \n",
       "4                0.0          Pure            Young           Deny    Male  "
      ]
     },
     "execution_count": 2,
     "metadata": {},
     "output_type": "execute_result"
    }
   ],
   "source": [
    "# Read in csv\n",
    "dfLouis = pd.read_csv(\"LouisvilleClean.csv\")\n",
    "dfLouis.head()"
   ]
  },
  {
   "cell_type": "code",
   "execution_count": 3,
   "metadata": {},
   "outputs": [
    {
     "data": {
      "text/plain": [
       "Index(['Unnamed: 0', 'PrimaryColor', 'PrimaryBreed', 'IntakeInternalStatus',\n",
       "       'IntakeAsilomarStatus', 'ReproductiveStatusAtIntake', 'OutcomeType',\n",
       "       'AgeInMonths', 'DurationInShelter', 'BreedCategory', 'Pet_age_category',\n",
       "       'Binary_outcome', 'Sex'],\n",
       "      dtype='object')"
      ]
     },
     "execution_count": 3,
     "metadata": {},
     "output_type": "execute_result"
    }
   ],
   "source": [
    "dfLouis.columns"
   ]
  },
  {
   "cell_type": "code",
   "execution_count": 4,
   "metadata": {},
   "outputs": [],
   "source": [
    "# Drop unnecessary columns\n",
    "dfLouis2 = dfLouis.drop(columns=['Unnamed: 0',\n",
    "                       'IntakeInternalStatus', \n",
    "                       'IntakeAsilomarStatus', \n",
    "                       'ReproductiveStatusAtIntake',\n",
    "                      'OutcomeType',\n",
    "                       'AgeInMonths',\n",
    "                        'DurationInShelter'])"
   ]
  },
  {
   "cell_type": "code",
   "execution_count": 5,
   "metadata": {},
   "outputs": [
    {
     "data": {
      "text/html": [
       "<div>\n",
       "<style scoped>\n",
       "    .dataframe tbody tr th:only-of-type {\n",
       "        vertical-align: middle;\n",
       "    }\n",
       "\n",
       "    .dataframe tbody tr th {\n",
       "        vertical-align: top;\n",
       "    }\n",
       "\n",
       "    .dataframe thead th {\n",
       "        text-align: right;\n",
       "    }\n",
       "</style>\n",
       "<table border=\"1\" class=\"dataframe\">\n",
       "  <thead>\n",
       "    <tr style=\"text-align: right;\">\n",
       "      <th></th>\n",
       "      <th>PrimaryColor</th>\n",
       "      <th>PrimaryBreed</th>\n",
       "      <th>BreedCategory</th>\n",
       "      <th>Pet_age_category</th>\n",
       "      <th>Binary_outcome</th>\n",
       "      <th>Sex</th>\n",
       "    </tr>\n",
       "  </thead>\n",
       "  <tbody>\n",
       "    <tr>\n",
       "      <th>0</th>\n",
       "      <td>WHITE</td>\n",
       "      <td>PIT BULL TERRIER</td>\n",
       "      <td>Pure</td>\n",
       "      <td>Young</td>\n",
       "      <td>Deny</td>\n",
       "      <td>Male</td>\n",
       "    </tr>\n",
       "    <tr>\n",
       "      <th>1</th>\n",
       "      <td>BLACK</td>\n",
       "      <td>BORDER COLLIE</td>\n",
       "      <td>Mix</td>\n",
       "      <td>Young</td>\n",
       "      <td>Take</td>\n",
       "      <td>Female</td>\n",
       "    </tr>\n",
       "    <tr>\n",
       "      <th>2</th>\n",
       "      <td>TAN</td>\n",
       "      <td>GOLDEN RETRIEVER</td>\n",
       "      <td>Mix</td>\n",
       "      <td>Young</td>\n",
       "      <td>Take</td>\n",
       "      <td>Male</td>\n",
       "    </tr>\n",
       "    <tr>\n",
       "      <th>3</th>\n",
       "      <td>WHITE</td>\n",
       "      <td>LABRADOR RETRIEVER</td>\n",
       "      <td>Pure</td>\n",
       "      <td>Baby</td>\n",
       "      <td>Take</td>\n",
       "      <td>Female</td>\n",
       "    </tr>\n",
       "    <tr>\n",
       "      <th>4</th>\n",
       "      <td>BLACK</td>\n",
       "      <td>PIT BULL TERRIER</td>\n",
       "      <td>Pure</td>\n",
       "      <td>Young</td>\n",
       "      <td>Deny</td>\n",
       "      <td>Male</td>\n",
       "    </tr>\n",
       "  </tbody>\n",
       "</table>\n",
       "</div>"
      ],
      "text/plain": [
       "  PrimaryColor        PrimaryBreed BreedCategory Pet_age_category  \\\n",
       "0        WHITE    PIT BULL TERRIER          Pure            Young   \n",
       "1        BLACK       BORDER COLLIE           Mix            Young   \n",
       "2          TAN    GOLDEN RETRIEVER           Mix            Young   \n",
       "3        WHITE  LABRADOR RETRIEVER          Pure             Baby   \n",
       "4        BLACK    PIT BULL TERRIER          Pure            Young   \n",
       "\n",
       "  Binary_outcome     Sex  \n",
       "0           Deny    Male  \n",
       "1           Take  Female  \n",
       "2           Take    Male  \n",
       "3           Take  Female  \n",
       "4           Deny    Male  "
      ]
     },
     "execution_count": 5,
     "metadata": {},
     "output_type": "execute_result"
    }
   ],
   "source": [
    "dfLouis2.head()"
   ]
  },
  {
   "cell_type": "code",
   "execution_count": 6,
   "metadata": {},
   "outputs": [
    {
     "data": {
      "text/html": [
       "<div>\n",
       "<style scoped>\n",
       "    .dataframe tbody tr th:only-of-type {\n",
       "        vertical-align: middle;\n",
       "    }\n",
       "\n",
       "    .dataframe tbody tr th {\n",
       "        vertical-align: top;\n",
       "    }\n",
       "\n",
       "    .dataframe thead th {\n",
       "        text-align: right;\n",
       "    }\n",
       "</style>\n",
       "<table border=\"1\" class=\"dataframe\">\n",
       "  <thead>\n",
       "    <tr style=\"text-align: right;\">\n",
       "      <th></th>\n",
       "      <th>Unnamed: 0</th>\n",
       "      <th>OutcomeType</th>\n",
       "      <th>Sex</th>\n",
       "      <th>AgeMonth</th>\n",
       "      <th>Breed</th>\n",
       "      <th>Color</th>\n",
       "      <th>BreedCategory</th>\n",
       "      <th>PrimaryBreed</th>\n",
       "      <th>SecondaryBreed</th>\n",
       "      <th>PrimaryColor</th>\n",
       "      <th>SecondColor</th>\n",
       "      <th>Pet_age_category</th>\n",
       "      <th>Binary_outcome</th>\n",
       "    </tr>\n",
       "  </thead>\n",
       "  <tbody>\n",
       "    <tr>\n",
       "      <th>0</th>\n",
       "      <td>0</td>\n",
       "      <td>Adoption</td>\n",
       "      <td>Female</td>\n",
       "      <td>1.000000</td>\n",
       "      <td>Border Collie Mix</td>\n",
       "      <td>Chocolate/White</td>\n",
       "      <td>Mix</td>\n",
       "      <td>Border Collie Mix</td>\n",
       "      <td>NaN</td>\n",
       "      <td>Chocolate</td>\n",
       "      <td>White</td>\n",
       "      <td>Baby</td>\n",
       "      <td>Take</td>\n",
       "    </tr>\n",
       "    <tr>\n",
       "      <th>1</th>\n",
       "      <td>1</td>\n",
       "      <td>Transfer</td>\n",
       "      <td>Male</td>\n",
       "      <td>0.066667</td>\n",
       "      <td>German Shepherd Mix</td>\n",
       "      <td>Brown</td>\n",
       "      <td>Mix</td>\n",
       "      <td>German Shepherd Mix</td>\n",
       "      <td>NaN</td>\n",
       "      <td>Brown</td>\n",
       "      <td>NaN</td>\n",
       "      <td>Baby</td>\n",
       "      <td>Deny</td>\n",
       "    </tr>\n",
       "    <tr>\n",
       "      <th>2</th>\n",
       "      <td>2</td>\n",
       "      <td>Transfer</td>\n",
       "      <td>Male</td>\n",
       "      <td>0.066667</td>\n",
       "      <td>Labrador Retriever Mix</td>\n",
       "      <td>Black/White</td>\n",
       "      <td>Mix</td>\n",
       "      <td>Labrador Retriever Mix</td>\n",
       "      <td>NaN</td>\n",
       "      <td>Black</td>\n",
       "      <td>White</td>\n",
       "      <td>Baby</td>\n",
       "      <td>Deny</td>\n",
       "    </tr>\n",
       "    <tr>\n",
       "      <th>3</th>\n",
       "      <td>4</td>\n",
       "      <td>Transfer</td>\n",
       "      <td>Female</td>\n",
       "      <td>0.066667</td>\n",
       "      <td>Dachshund Mix</td>\n",
       "      <td>Brown</td>\n",
       "      <td>Mix</td>\n",
       "      <td>Dachshund Mix</td>\n",
       "      <td>NaN</td>\n",
       "      <td>Brown</td>\n",
       "      <td>NaN</td>\n",
       "      <td>Baby</td>\n",
       "      <td>Deny</td>\n",
       "    </tr>\n",
       "    <tr>\n",
       "      <th>4</th>\n",
       "      <td>6</td>\n",
       "      <td>Transfer</td>\n",
       "      <td>Female</td>\n",
       "      <td>0.066667</td>\n",
       "      <td>Pit Bull Mix</td>\n",
       "      <td>Chocolate/White</td>\n",
       "      <td>Mix</td>\n",
       "      <td>Pit Bull Mix</td>\n",
       "      <td>NaN</td>\n",
       "      <td>Chocolate</td>\n",
       "      <td>White</td>\n",
       "      <td>Baby</td>\n",
       "      <td>Deny</td>\n",
       "    </tr>\n",
       "  </tbody>\n",
       "</table>\n",
       "</div>"
      ],
      "text/plain": [
       "   Unnamed: 0 OutcomeType     Sex  AgeMonth                   Breed  \\\n",
       "0           0    Adoption  Female  1.000000       Border Collie Mix   \n",
       "1           1    Transfer    Male  0.066667     German Shepherd Mix   \n",
       "2           2    Transfer    Male  0.066667  Labrador Retriever Mix   \n",
       "3           4    Transfer  Female  0.066667           Dachshund Mix   \n",
       "4           6    Transfer  Female  0.066667            Pit Bull Mix   \n",
       "\n",
       "             Color BreedCategory            PrimaryBreed SecondaryBreed  \\\n",
       "0  Chocolate/White           Mix       Border Collie Mix            NaN   \n",
       "1            Brown           Mix     German Shepherd Mix            NaN   \n",
       "2      Black/White           Mix  Labrador Retriever Mix            NaN   \n",
       "3            Brown           Mix           Dachshund Mix            NaN   \n",
       "4  Chocolate/White           Mix            Pit Bull Mix            NaN   \n",
       "\n",
       "  PrimaryColor SecondColor Pet_age_category Binary_outcome  \n",
       "0    Chocolate       White             Baby           Take  \n",
       "1        Brown         NaN             Baby           Deny  \n",
       "2        Black       White             Baby           Deny  \n",
       "3        Brown         NaN             Baby           Deny  \n",
       "4    Chocolate       White             Baby           Deny  "
      ]
     },
     "execution_count": 6,
     "metadata": {},
     "output_type": "execute_result"
    }
   ],
   "source": [
    "# Read in csv\n",
    "dfAustin = pd.read_csv(\"AustinClean.csv\")\n",
    "dfAustin.head()"
   ]
  },
  {
   "cell_type": "code",
   "execution_count": 7,
   "metadata": {},
   "outputs": [],
   "source": [
    "dfAustin2 = dfAustin.drop(columns=['Unnamed: 0',\n",
    "                       'OutcomeType', \n",
    "                       'AgeMonth', \n",
    "                       'Breed',\n",
    "                       'Color',\n",
    "                       'SecondaryBreed',\n",
    "                        'SecondColor'])"
   ]
  },
  {
   "cell_type": "code",
   "execution_count": 8,
   "metadata": {},
   "outputs": [
    {
     "data": {
      "text/plain": [
       "Index(['Sex', 'BreedCategory', 'PrimaryBreed', 'PrimaryColor',\n",
       "       'Pet_age_category', 'Binary_outcome'],\n",
       "      dtype='object')"
      ]
     },
     "execution_count": 8,
     "metadata": {},
     "output_type": "execute_result"
    }
   ],
   "source": [
    "dfAustin2.columns"
   ]
  },
  {
   "cell_type": "code",
   "execution_count": 9,
   "metadata": {},
   "outputs": [
    {
     "data": {
      "text/plain": [
       "PrimaryColor           0\n",
       "PrimaryBreed           0\n",
       "BreedCategory          0\n",
       "Pet_age_category    1287\n",
       "Binary_outcome         0\n",
       "Sex                    0\n",
       "dtype: int64"
      ]
     },
     "execution_count": 9,
     "metadata": {},
     "output_type": "execute_result"
    }
   ],
   "source": [
    "dfLouis2.isna().sum()"
   ]
  },
  {
   "cell_type": "code",
   "execution_count": 10,
   "metadata": {},
   "outputs": [],
   "source": [
    "dfLouis2 = dfLouis2.dropna(axis=0, subset=[\"Pet_age_category\"])"
   ]
  },
  {
   "cell_type": "code",
   "execution_count": 11,
   "metadata": {},
   "outputs": [
    {
     "data": {
      "text/plain": [
       "PrimaryColor        0\n",
       "PrimaryBreed        0\n",
       "BreedCategory       0\n",
       "Pet_age_category    0\n",
       "Binary_outcome      0\n",
       "Sex                 0\n",
       "dtype: int64"
      ]
     },
     "execution_count": 11,
     "metadata": {},
     "output_type": "execute_result"
    }
   ],
   "source": [
    "dfLouis2.isna().sum()"
   ]
  },
  {
   "cell_type": "code",
   "execution_count": 12,
   "metadata": {},
   "outputs": [],
   "source": [
    "dfAustin2 = dfAustin2[['PrimaryColor', 'PrimaryBreed', 'BreedCategory', 'Pet_age_category', 'Binary_outcome', 'Sex']]"
   ]
  },
  {
   "cell_type": "code",
   "execution_count": 13,
   "metadata": {},
   "outputs": [
    {
     "data": {
      "text/plain": [
       "(48025, 6)"
      ]
     },
     "execution_count": 13,
     "metadata": {},
     "output_type": "execute_result"
    }
   ],
   "source": [
    "dfAustin2.head()\n",
    "dfAustin2.shape"
   ]
  },
  {
   "cell_type": "code",
   "execution_count": 14,
   "metadata": {},
   "outputs": [
    {
     "data": {
      "text/plain": [
       "PrimaryColor        0\n",
       "PrimaryBreed        0\n",
       "BreedCategory       0\n",
       "Pet_age_category    2\n",
       "Binary_outcome      0\n",
       "Sex                 0\n",
       "dtype: int64"
      ]
     },
     "execution_count": 14,
     "metadata": {},
     "output_type": "execute_result"
    }
   ],
   "source": [
    "dfAustin2.isna().sum()"
   ]
  },
  {
   "cell_type": "code",
   "execution_count": 15,
   "metadata": {},
   "outputs": [],
   "source": [
    "dfAustin2 = dfAustin2.dropna(axis=0, subset=[\"Pet_age_category\"])"
   ]
  },
  {
   "cell_type": "code",
   "execution_count": 16,
   "metadata": {},
   "outputs": [
    {
     "data": {
      "text/plain": [
       "PrimaryColor        0\n",
       "PrimaryBreed        0\n",
       "BreedCategory       0\n",
       "Pet_age_category    0\n",
       "Binary_outcome      0\n",
       "Sex                 0\n",
       "dtype: int64"
      ]
     },
     "execution_count": 16,
     "metadata": {},
     "output_type": "execute_result"
    }
   ],
   "source": [
    "dfAustin2.isna().sum()"
   ]
  },
  {
   "cell_type": "markdown",
   "metadata": {},
   "source": [
    "### Merge dataframes"
   ]
  },
  {
   "cell_type": "code",
   "execution_count": 17,
   "metadata": {},
   "outputs": [],
   "source": [
    "df = pd.concat([dfLouis2, dfAustin2], axis=0)"
   ]
  },
  {
   "cell_type": "code",
   "execution_count": 18,
   "metadata": {},
   "outputs": [
    {
     "data": {
      "text/html": [
       "<div>\n",
       "<style scoped>\n",
       "    .dataframe tbody tr th:only-of-type {\n",
       "        vertical-align: middle;\n",
       "    }\n",
       "\n",
       "    .dataframe tbody tr th {\n",
       "        vertical-align: top;\n",
       "    }\n",
       "\n",
       "    .dataframe thead th {\n",
       "        text-align: right;\n",
       "    }\n",
       "</style>\n",
       "<table border=\"1\" class=\"dataframe\">\n",
       "  <thead>\n",
       "    <tr style=\"text-align: right;\">\n",
       "      <th></th>\n",
       "      <th>PrimaryColor</th>\n",
       "      <th>PrimaryBreed</th>\n",
       "      <th>BreedCategory</th>\n",
       "      <th>Pet_age_category</th>\n",
       "      <th>Binary_outcome</th>\n",
       "      <th>Sex</th>\n",
       "    </tr>\n",
       "  </thead>\n",
       "  <tbody>\n",
       "    <tr>\n",
       "      <th>0</th>\n",
       "      <td>WHITE</td>\n",
       "      <td>PIT BULL TERRIER</td>\n",
       "      <td>Pure</td>\n",
       "      <td>Young</td>\n",
       "      <td>Deny</td>\n",
       "      <td>Male</td>\n",
       "    </tr>\n",
       "    <tr>\n",
       "      <th>1</th>\n",
       "      <td>BLACK</td>\n",
       "      <td>BORDER COLLIE</td>\n",
       "      <td>Mix</td>\n",
       "      <td>Young</td>\n",
       "      <td>Take</td>\n",
       "      <td>Female</td>\n",
       "    </tr>\n",
       "    <tr>\n",
       "      <th>2</th>\n",
       "      <td>TAN</td>\n",
       "      <td>GOLDEN RETRIEVER</td>\n",
       "      <td>Mix</td>\n",
       "      <td>Young</td>\n",
       "      <td>Take</td>\n",
       "      <td>Male</td>\n",
       "    </tr>\n",
       "    <tr>\n",
       "      <th>3</th>\n",
       "      <td>WHITE</td>\n",
       "      <td>LABRADOR RETRIEVER</td>\n",
       "      <td>Pure</td>\n",
       "      <td>Baby</td>\n",
       "      <td>Take</td>\n",
       "      <td>Female</td>\n",
       "    </tr>\n",
       "    <tr>\n",
       "      <th>4</th>\n",
       "      <td>BLACK</td>\n",
       "      <td>PIT BULL TERRIER</td>\n",
       "      <td>Pure</td>\n",
       "      <td>Young</td>\n",
       "      <td>Deny</td>\n",
       "      <td>Male</td>\n",
       "    </tr>\n",
       "  </tbody>\n",
       "</table>\n",
       "</div>"
      ],
      "text/plain": [
       "  PrimaryColor        PrimaryBreed BreedCategory Pet_age_category  \\\n",
       "0        WHITE    PIT BULL TERRIER          Pure            Young   \n",
       "1        BLACK       BORDER COLLIE           Mix            Young   \n",
       "2          TAN    GOLDEN RETRIEVER           Mix            Young   \n",
       "3        WHITE  LABRADOR RETRIEVER          Pure             Baby   \n",
       "4        BLACK    PIT BULL TERRIER          Pure            Young   \n",
       "\n",
       "  Binary_outcome     Sex  \n",
       "0           Deny    Male  \n",
       "1           Take  Female  \n",
       "2           Take    Male  \n",
       "3           Take  Female  \n",
       "4           Deny    Male  "
      ]
     },
     "execution_count": 18,
     "metadata": {},
     "output_type": "execute_result"
    }
   ],
   "source": [
    "df.head()"
   ]
  },
  {
   "cell_type": "code",
   "execution_count": 19,
   "metadata": {},
   "outputs": [
    {
     "data": {
      "text/html": [
       "<div>\n",
       "<style scoped>\n",
       "    .dataframe tbody tr th:only-of-type {\n",
       "        vertical-align: middle;\n",
       "    }\n",
       "\n",
       "    .dataframe tbody tr th {\n",
       "        vertical-align: top;\n",
       "    }\n",
       "\n",
       "    .dataframe thead th {\n",
       "        text-align: right;\n",
       "    }\n",
       "</style>\n",
       "<table border=\"1\" class=\"dataframe\">\n",
       "  <thead>\n",
       "    <tr style=\"text-align: right;\">\n",
       "      <th></th>\n",
       "      <th>BreedCategory</th>\n",
       "      <th>Pet_age_category</th>\n",
       "      <th>Binary_outcome</th>\n",
       "      <th>Sex</th>\n",
       "    </tr>\n",
       "  </thead>\n",
       "  <tbody>\n",
       "    <tr>\n",
       "      <th>0</th>\n",
       "      <td>Pure</td>\n",
       "      <td>Young</td>\n",
       "      <td>Deny</td>\n",
       "      <td>Male</td>\n",
       "    </tr>\n",
       "    <tr>\n",
       "      <th>1</th>\n",
       "      <td>Mix</td>\n",
       "      <td>Young</td>\n",
       "      <td>Take</td>\n",
       "      <td>Female</td>\n",
       "    </tr>\n",
       "    <tr>\n",
       "      <th>2</th>\n",
       "      <td>Mix</td>\n",
       "      <td>Young</td>\n",
       "      <td>Take</td>\n",
       "      <td>Male</td>\n",
       "    </tr>\n",
       "    <tr>\n",
       "      <th>3</th>\n",
       "      <td>Pure</td>\n",
       "      <td>Baby</td>\n",
       "      <td>Take</td>\n",
       "      <td>Female</td>\n",
       "    </tr>\n",
       "    <tr>\n",
       "      <th>4</th>\n",
       "      <td>Pure</td>\n",
       "      <td>Young</td>\n",
       "      <td>Deny</td>\n",
       "      <td>Male</td>\n",
       "    </tr>\n",
       "  </tbody>\n",
       "</table>\n",
       "</div>"
      ],
      "text/plain": [
       "  BreedCategory Pet_age_category Binary_outcome     Sex\n",
       "0          Pure            Young           Deny    Male\n",
       "1           Mix            Young           Take  Female\n",
       "2           Mix            Young           Take    Male\n",
       "3          Pure             Baby           Take  Female\n",
       "4          Pure            Young           Deny    Male"
      ]
     },
     "execution_count": 19,
     "metadata": {},
     "output_type": "execute_result"
    }
   ],
   "source": [
    "# v2 - drop PrimaryColor\n",
    "df = df.drop(columns=['PrimaryColor','PrimaryBreed'])\n",
    "df.head()"
   ]
  },
  {
   "cell_type": "code",
   "execution_count": 20,
   "metadata": {},
   "outputs": [],
   "source": [
    "df2 = pd.get_dummies(df[['BreedCategory','Pet_age_category', 'Binary_outcome', \"Sex\"]], drop_first=True)"
   ]
  },
  {
   "cell_type": "code",
   "execution_count": 21,
   "metadata": {},
   "outputs": [
    {
     "data": {
      "text/plain": [
       "Index(['BreedCategory_Pure', 'BreedCategory_Two', 'Pet_age_category_Baby',\n",
       "       'Pet_age_category_Senior', 'Pet_age_category_Young',\n",
       "       'Binary_outcome_Take', 'Sex_Male'],\n",
       "      dtype='object')"
      ]
     },
     "execution_count": 21,
     "metadata": {},
     "output_type": "execute_result"
    }
   ],
   "source": [
    "df2.columns"
   ]
  },
  {
   "cell_type": "code",
   "execution_count": 22,
   "metadata": {},
   "outputs": [],
   "source": [
    "# Define X and y\n",
    "X = df2.drop(['Binary_outcome_Take'], axis=\"columns\")\n",
    "y = df2[['Binary_outcome_Take']]"
   ]
  },
  {
   "cell_type": "code",
   "execution_count": 23,
   "metadata": {},
   "outputs": [
    {
     "data": {
      "text/plain": [
       "(89558, 6)"
      ]
     },
     "execution_count": 23,
     "metadata": {},
     "output_type": "execute_result"
    }
   ],
   "source": [
    "X.shape"
   ]
  },
  {
   "cell_type": "code",
   "execution_count": 24,
   "metadata": {},
   "outputs": [
    {
     "data": {
      "text/plain": [
       "(89558, 1)"
      ]
     },
     "execution_count": 24,
     "metadata": {},
     "output_type": "execute_result"
    }
   ],
   "source": [
    "y.shape"
   ]
  },
  {
   "cell_type": "markdown",
   "metadata": {},
   "source": [
    "### RF model"
   ]
  },
  {
   "cell_type": "code",
   "execution_count": 25,
   "metadata": {},
   "outputs": [],
   "source": [
    "# Split\n",
    "from sklearn.model_selection import train_test_split\n",
    "X_train, X_test, y_train, y_test = train_test_split(X, y, random_state=42)"
   ]
  },
  {
   "cell_type": "code",
   "execution_count": 26,
   "metadata": {},
   "outputs": [
    {
     "name": "stderr",
     "output_type": "stream",
     "text": [
      "C:\\Users\\Lenovo\\Anaconda3\\envs\\pythondata\\lib\\site-packages\\ipykernel_launcher.py:4: DataConversionWarning: A column-vector y was passed when a 1d array was expected. Please change the shape of y to (n_samples,), for example using ravel().\n",
      "  after removing the cwd from sys.path.\n"
     ]
    }
   ],
   "source": [
    "# Import, initialize, fit and predict\n",
    "from sklearn.ensemble import RandomForestClassifier\n",
    "rf_model = RandomForestClassifier(n_estimators = 100, random_state = 42) \n",
    "rf_model.fit(X_train, y_train)\n",
    "predict_y_test = rf_model.predict(X_test)"
   ]
  },
  {
   "cell_type": "code",
   "execution_count": 27,
   "metadata": {},
   "outputs": [
    {
     "name": "stdout",
     "output_type": "stream",
     "text": [
      "Accuracy score:  0.6184903974988835\n"
     ]
    }
   ],
   "source": [
    "# Validate - run accuracy score\n",
    "from sklearn import metrics\n",
    "print(\"Accuracy score: \", metrics.accuracy_score(y_test, predict_y_test))"
   ]
  },
  {
   "cell_type": "code",
   "execution_count": null,
   "metadata": {},
   "outputs": [],
   "source": []
  }
 ],
 "metadata": {
  "kernelspec": {
   "display_name": "Python 3",
   "language": "python",
   "name": "python3"
  },
  "language_info": {
   "codemirror_mode": {
    "name": "ipython",
    "version": 3
   },
   "file_extension": ".py",
   "mimetype": "text/x-python",
   "name": "python",
   "nbconvert_exporter": "python",
   "pygments_lexer": "ipython3",
   "version": "3.7.6"
  }
 },
 "nbformat": 4,
 "nbformat_minor": 2
}
