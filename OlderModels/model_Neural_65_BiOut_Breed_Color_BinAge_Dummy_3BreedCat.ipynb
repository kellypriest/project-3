{
 "cells": [
  {
   "cell_type": "markdown",
   "metadata": {},
   "source": [
    "#### Note: Latest May 21 (7.30pm) - OneHot Encoding (not...still get_dummies). Creating Kelly's 3 breed categories\n",
    "\n"
   ]
  },
  {
   "cell_type": "markdown",
   "metadata": {},
   "source": [
    "## Reading in data and taking a quick look at some charts"
   ]
  },
  {
   "cell_type": "code",
   "execution_count": 89,
   "metadata": {},
   "outputs": [],
   "source": [
    "import pandas as pd\n",
    "import numpy as np\n",
    "from matplotlib import pyplot as plt\n",
    "import pickle"
   ]
  },
  {
   "cell_type": "code",
   "execution_count": 2,
   "metadata": {},
   "outputs": [],
   "source": [
    "from sklearn.svm import SVC \n",
    "svc = SVC(C=1e-9, kernel='rbf')"
   ]
  },
  {
   "cell_type": "code",
   "execution_count": 3,
   "metadata": {},
   "outputs": [],
   "source": [
    "# Read in csv\n",
    "df = pd.read_csv(\"../Resources/Austin_Animal_Center_Outcomes.csv\")"
   ]
  },
  {
   "cell_type": "code",
   "execution_count": 4,
   "metadata": {},
   "outputs": [
    {
     "data": {
      "text/plain": [
       "<matplotlib.axes._subplots.AxesSubplot at 0x143d4352608>"
      ]
     },
     "execution_count": 4,
     "metadata": {},
     "output_type": "execute_result"
    },
    {
     "data": {
      "image/png": "[encoded data removed]",
      "text/plain": [
       "<Figure size 432x288 with 1 Axes>"
      ]
     },
     "metadata": {
      "needs_background": "light"
     },
     "output_type": "display_data"
    }
   ],
   "source": [
    "# Take a quick peak at charts\n",
    "\n",
    "# Top Breeds\n",
    "# df['Breed'].value_counts().head(20).plot.bar()\n",
    "\n",
    "# Top Outcome_Types\n",
    "# df['Breed'].value_counts().head(20).plot.bar()\n",
    "\n",
    "# Sex split?\n",
    "# df['Sex'].value_counts().head(20).plot.bar()\n",
    "\n",
    "# Fixed?\n",
    "df['Fixed'].value_counts().head(20).plot.bar()\n",
    "\n",
    "# Age chart\n",
    "# bins= [0,24,72,120]\n",
    "# plt.hist(df.Age_month, bins=bins, edgecolor=\"k\")\n",
    "# plt.xticks(bins)\n",
    "# plt.show()"
   ]
  },
  {
   "cell_type": "code",
   "execution_count": 5,
   "metadata": {},
   "outputs": [
    {
     "data": {
      "text/html": [
       "<div>\n",
       "<style scoped>\n",
       "    .dataframe tbody tr th:only-of-type {\n",
       "        vertical-align: middle;\n",
       "    }\n",
       "\n",
       "    .dataframe tbody tr th {\n",
       "        vertical-align: top;\n",
       "    }\n",
       "\n",
       "    .dataframe thead th {\n",
       "        text-align: right;\n",
       "    }\n",
       "</style>\n",
       "<table border=\"1\" class=\"dataframe\">\n",
       "  <thead>\n",
       "    <tr style=\"text-align: right;\">\n",
       "      <th></th>\n",
       "      <th>AnimalID</th>\n",
       "      <th>Name</th>\n",
       "      <th>DateTime</th>\n",
       "      <th>MonthYear</th>\n",
       "      <th>DateofBirth</th>\n",
       "      <th>OutcomeType</th>\n",
       "      <th>OutcomeSubtype</th>\n",
       "      <th>Fixed</th>\n",
       "      <th>Sex</th>\n",
       "      <th>Age_numeric</th>\n",
       "      <th>Age_time</th>\n",
       "      <th>AgeMonth</th>\n",
       "      <th>Breed</th>\n",
       "      <th>Color</th>\n",
       "    </tr>\n",
       "  </thead>\n",
       "  <tbody>\n",
       "    <tr>\n",
       "      <th>250</th>\n",
       "      <td>A809527</td>\n",
       "      <td>*Cricket</td>\n",
       "      <td>12/11/2019 16:17</td>\n",
       "      <td>12/11/2019 16:17</td>\n",
       "      <td>10/18/2019</td>\n",
       "      <td>Adoption</td>\n",
       "      <td>Foster</td>\n",
       "      <td>Spayed</td>\n",
       "      <td>Female</td>\n",
       "      <td>1</td>\n",
       "      <td>month</td>\n",
       "      <td>1.0</td>\n",
       "      <td>Labrador Retriever Mix</td>\n",
       "      <td>Black/White</td>\n",
       "    </tr>\n",
       "    <tr>\n",
       "      <th>251</th>\n",
       "      <td>A797472</td>\n",
       "      <td>NaN</td>\n",
       "      <td>06/13/2019 06:59:00 PM</td>\n",
       "      <td>06/13/2019 06:59:00 PM</td>\n",
       "      <td>04/24/2019</td>\n",
       "      <td>Transfer</td>\n",
       "      <td>Partner</td>\n",
       "      <td>Intact</td>\n",
       "      <td>Female</td>\n",
       "      <td>1</td>\n",
       "      <td>month</td>\n",
       "      <td>1.0</td>\n",
       "      <td>Chihuahua Longhair Mix</td>\n",
       "      <td>Black/Tan</td>\n",
       "    </tr>\n",
       "    <tr>\n",
       "      <th>252</th>\n",
       "      <td>A742456</td>\n",
       "      <td>*Arrow</td>\n",
       "      <td>02/14/2017 06:27:00 PM</td>\n",
       "      <td>02/14/2017 06:27:00 PM</td>\n",
       "      <td>12/22/2016</td>\n",
       "      <td>Adoption</td>\n",
       "      <td>Foster</td>\n",
       "      <td>Spayed</td>\n",
       "      <td>Female</td>\n",
       "      <td>1</td>\n",
       "      <td>month</td>\n",
       "      <td>1.0</td>\n",
       "      <td>Pit Bull Mix</td>\n",
       "      <td>Brown/Black</td>\n",
       "    </tr>\n",
       "    <tr>\n",
       "      <th>253</th>\n",
       "      <td>A721330</td>\n",
       "      <td>*Glen</td>\n",
       "      <td>3/5/2016 17:40</td>\n",
       "      <td>3/5/2016 17:40</td>\n",
       "      <td>1/9/2016</td>\n",
       "      <td>Adoption</td>\n",
       "      <td>Foster</td>\n",
       "      <td>Neutered</td>\n",
       "      <td>Male</td>\n",
       "      <td>1</td>\n",
       "      <td>month</td>\n",
       "      <td>1.0</td>\n",
       "      <td>German Shepherd Mix</td>\n",
       "      <td>Tan</td>\n",
       "    </tr>\n",
       "    <tr>\n",
       "      <th>254</th>\n",
       "      <td>A697339</td>\n",
       "      <td>NaN</td>\n",
       "      <td>02/23/2015 06:36:00 PM</td>\n",
       "      <td>02/23/2015 06:36:00 PM</td>\n",
       "      <td>12/30/2014</td>\n",
       "      <td>Adoption</td>\n",
       "      <td>NaN</td>\n",
       "      <td>Spayed</td>\n",
       "      <td>Female</td>\n",
       "      <td>1</td>\n",
       "      <td>month</td>\n",
       "      <td>1.0</td>\n",
       "      <td>German Shepherd/Pit Bull</td>\n",
       "      <td>Brown</td>\n",
       "    </tr>\n",
       "    <tr>\n",
       "      <th>255</th>\n",
       "      <td>A695918</td>\n",
       "      <td>Clementine</td>\n",
       "      <td>01/29/2015 05:59:00 PM</td>\n",
       "      <td>01/29/2015 05:59:00 PM</td>\n",
       "      <td>11/30/2014</td>\n",
       "      <td>Adoption</td>\n",
       "      <td>NaN</td>\n",
       "      <td>Spayed</td>\n",
       "      <td>Female</td>\n",
       "      <td>1</td>\n",
       "      <td>month</td>\n",
       "      <td>1.0</td>\n",
       "      <td>Dachshund/Chihuahua Shorthair</td>\n",
       "      <td>Black/White</td>\n",
       "    </tr>\n",
       "    <tr>\n",
       "      <th>256</th>\n",
       "      <td>A809888</td>\n",
       "      <td>NaN</td>\n",
       "      <td>12/4/2019 12:05</td>\n",
       "      <td>12/4/2019 12:05</td>\n",
       "      <td>10/19/2019</td>\n",
       "      <td>Transfer</td>\n",
       "      <td>Partner</td>\n",
       "      <td>Intact</td>\n",
       "      <td>Female</td>\n",
       "      <td>1</td>\n",
       "      <td>month</td>\n",
       "      <td>1.0</td>\n",
       "      <td>Labrador Retriever/German Shepherd</td>\n",
       "      <td>Brown/White</td>\n",
       "    </tr>\n",
       "    <tr>\n",
       "      <th>257</th>\n",
       "      <td>A774855</td>\n",
       "      <td>NaN</td>\n",
       "      <td>7/10/2018 19:10</td>\n",
       "      <td>7/10/2018 19:10</td>\n",
       "      <td>05/21/2018</td>\n",
       "      <td>Transfer</td>\n",
       "      <td>Partner</td>\n",
       "      <td>Intact</td>\n",
       "      <td>Male</td>\n",
       "      <td>1</td>\n",
       "      <td>month</td>\n",
       "      <td>1.0</td>\n",
       "      <td>Australian Kelpie Mix</td>\n",
       "      <td>Brown/White</td>\n",
       "    </tr>\n",
       "    <tr>\n",
       "      <th>258</th>\n",
       "      <td>A750857</td>\n",
       "      <td>*Cinder</td>\n",
       "      <td>07/28/2017 10:37:00 PM</td>\n",
       "      <td>07/28/2017 10:37:00 PM</td>\n",
       "      <td>6/1/2017</td>\n",
       "      <td>Adoption</td>\n",
       "      <td>Foster</td>\n",
       "      <td>Spayed</td>\n",
       "      <td>Female</td>\n",
       "      <td>1</td>\n",
       "      <td>month</td>\n",
       "      <td>1.0</td>\n",
       "      <td>Great Pyrenees/American Bulldog</td>\n",
       "      <td>Black/White</td>\n",
       "    </tr>\n",
       "    <tr>\n",
       "      <th>259</th>\n",
       "      <td>A762939</td>\n",
       "      <td>NaN</td>\n",
       "      <td>11/30/2017 12:00:00 AM</td>\n",
       "      <td>11/30/2017 12:00:00 AM</td>\n",
       "      <td>09/30/2017</td>\n",
       "      <td>Transfer</td>\n",
       "      <td>Partner</td>\n",
       "      <td>Intact</td>\n",
       "      <td>Female</td>\n",
       "      <td>1</td>\n",
       "      <td>month</td>\n",
       "      <td>1.0</td>\n",
       "      <td>Pit Bull Mix</td>\n",
       "      <td>Brown/White</td>\n",
       "    </tr>\n",
       "    <tr>\n",
       "      <th>260</th>\n",
       "      <td>A706606</td>\n",
       "      <td>Boyd</td>\n",
       "      <td>07/23/2015 02:09:00 PM</td>\n",
       "      <td>07/23/2015 02:09:00 PM</td>\n",
       "      <td>05/27/2015</td>\n",
       "      <td>Adoption</td>\n",
       "      <td>NaN</td>\n",
       "      <td>Intact</td>\n",
       "      <td>Male</td>\n",
       "      <td>1</td>\n",
       "      <td>month</td>\n",
       "      <td>1.0</td>\n",
       "      <td>Australian Shepherd Mix</td>\n",
       "      <td>Buff/White</td>\n",
       "    </tr>\n",
       "  </tbody>\n",
       "</table>\n",
       "</div>"
      ],
      "text/plain": [
       "    AnimalID        Name                DateTime               MonthYear  \\\n",
       "250  A809527    *Cricket        12/11/2019 16:17        12/11/2019 16:17   \n",
       "251  A797472         NaN  06/13/2019 06:59:00 PM  06/13/2019 06:59:00 PM   \n",
       "252  A742456      *Arrow  02/14/2017 06:27:00 PM  02/14/2017 06:27:00 PM   \n",
       "253  A721330       *Glen          3/5/2016 17:40          3/5/2016 17:40   \n",
       "254  A697339         NaN  02/23/2015 06:36:00 PM  02/23/2015 06:36:00 PM   \n",
       "255  A695918  Clementine  01/29/2015 05:59:00 PM  01/29/2015 05:59:00 PM   \n",
       "256  A809888         NaN         12/4/2019 12:05         12/4/2019 12:05   \n",
       "257  A774855         NaN         7/10/2018 19:10         7/10/2018 19:10   \n",
       "258  A750857     *Cinder  07/28/2017 10:37:00 PM  07/28/2017 10:37:00 PM   \n",
       "259  A762939         NaN  11/30/2017 12:00:00 AM  11/30/2017 12:00:00 AM   \n",
       "260  A706606        Boyd  07/23/2015 02:09:00 PM  07/23/2015 02:09:00 PM   \n",
       "\n",
       "    DateofBirth OutcomeType OutcomeSubtype     Fixed     Sex  Age_numeric  \\\n",
       "250  10/18/2019    Adoption         Foster    Spayed  Female            1   \n",
       "251  04/24/2019    Transfer        Partner    Intact  Female            1   \n",
       "252  12/22/2016    Adoption         Foster    Spayed  Female            1   \n",
       "253    1/9/2016    Adoption         Foster  Neutered    Male            1   \n",
       "254  12/30/2014    Adoption            NaN    Spayed  Female            1   \n",
       "255  11/30/2014    Adoption            NaN    Spayed  Female            1   \n",
       "256  10/19/2019    Transfer        Partner    Intact  Female            1   \n",
       "257  05/21/2018    Transfer        Partner    Intact    Male            1   \n",
       "258    6/1/2017    Adoption         Foster    Spayed  Female            1   \n",
       "259  09/30/2017    Transfer        Partner    Intact  Female            1   \n",
       "260  05/27/2015    Adoption            NaN    Intact    Male            1   \n",
       "\n",
       "    Age_time  AgeMonth                               Breed        Color  \n",
       "250    month       1.0              Labrador Retriever Mix  Black/White  \n",
       "251    month       1.0              Chihuahua Longhair Mix    Black/Tan  \n",
       "252    month       1.0                        Pit Bull Mix  Brown/Black  \n",
       "253    month       1.0                 German Shepherd Mix          Tan  \n",
       "254    month       1.0            German Shepherd/Pit Bull        Brown  \n",
       "255    month       1.0       Dachshund/Chihuahua Shorthair  Black/White  \n",
       "256    month       1.0  Labrador Retriever/German Shepherd  Brown/White  \n",
       "257    month       1.0               Australian Kelpie Mix  Brown/White  \n",
       "258    month       1.0     Great Pyrenees/American Bulldog  Black/White  \n",
       "259    month       1.0                        Pit Bull Mix  Brown/White  \n",
       "260    month       1.0             Australian Shepherd Mix   Buff/White  "
      ]
     },
     "execution_count": 5,
     "metadata": {},
     "output_type": "execute_result"
    }
   ],
   "source": [
    "df.loc[250:260, :]"
   ]
  },
  {
   "cell_type": "code",
   "execution_count": 6,
   "metadata": {},
   "outputs": [
    {
     "data": {
      "text/plain": [
       "(66804, 14)"
      ]
     },
     "execution_count": 6,
     "metadata": {},
     "output_type": "execute_result"
    }
   ],
   "source": [
    "df.shape"
   ]
  },
  {
   "cell_type": "markdown",
   "metadata": {},
   "source": [
    "## Cleaning\n",
    "1. Drop unnessary columns\n",
    "2. Drop rows where \"Outcome_Type\" is null\n",
    "3. Drop rows where \"Outcome_Type\" is Return_To_Owner"
   ]
  },
  {
   "cell_type": "code",
   "execution_count": 7,
   "metadata": {},
   "outputs": [
    {
     "data": {
      "text/plain": [
       "AnimalID          0.000000\n",
       "Name              0.169496\n",
       "DateTime          0.000000\n",
       "MonthYear         0.000000\n",
       "DateofBirth       0.000000\n",
       "OutcomeType       0.000000\n",
       "OutcomeSubtype    0.688567\n",
       "Fixed             0.000015\n",
       "Sex               0.005673\n",
       "Age_numeric       0.000000\n",
       "Age_time          0.000000\n",
       "AgeMonth          0.000000\n",
       "Breed             0.000000\n",
       "Color             0.000000\n",
       "dtype: float64"
      ]
     },
     "execution_count": 7,
     "metadata": {},
     "output_type": "execute_result"
    }
   ],
   "source": [
    "# Quick check for missing values\n",
    "df.apply(lambda x: sum(x.isnull()/len(df)))"
   ]
  },
  {
   "cell_type": "code",
   "execution_count": 8,
   "metadata": {},
   "outputs": [],
   "source": [
    "# Drop unnessary columns\n",
    "df2 = df.drop(columns=['AnimalID', 'Name', 'DateTime', 'MonthYear', 'DateofBirth', 'OutcomeSubtype', \n",
    "                       'Age_numeric', 'Age_time' ])"
   ]
  },
  {
   "cell_type": "code",
   "execution_count": 9,
   "metadata": {},
   "outputs": [
    {
     "data": {
      "text/plain": [
       "(66804, 6)"
      ]
     },
     "execution_count": 9,
     "metadata": {},
     "output_type": "execute_result"
    }
   ],
   "source": [
    "df2.shape\n",
    "# df2.head()"
   ]
  },
  {
   "cell_type": "code",
   "execution_count": 10,
   "metadata": {},
   "outputs": [],
   "source": [
    "# Drop rows where Outcome_Type is null\n",
    "\n",
    "df2 = df2.loc[df2.OutcomeType.notna(), [\"OutcomeType\", \"Sex\", \"AgeMonth\", \"Breed\" ,\"Color\"]]"
   ]
  },
  {
   "cell_type": "code",
   "execution_count": 11,
   "metadata": {},
   "outputs": [
    {
     "data": {
      "text/plain": [
       "(66804, 5)"
      ]
     },
     "execution_count": 11,
     "metadata": {},
     "output_type": "execute_result"
    }
   ],
   "source": [
    "# Check for more nulls\n",
    "df2.head()\n",
    "df2.apply(lambda x: sum(x.isnull()/len(df2)))\n",
    "df2.shape"
   ]
  },
  {
   "cell_type": "code",
   "execution_count": 12,
   "metadata": {},
   "outputs": [],
   "source": [
    "# Have to fix the following columns \"Sex\"\n",
    "df2 = df2.dropna(axis=0, subset=[\"Sex\"])"
   ]
  },
  {
   "cell_type": "code",
   "execution_count": 13,
   "metadata": {},
   "outputs": [
    {
     "data": {
      "text/plain": [
       "(66425, 5)"
      ]
     },
     "execution_count": 13,
     "metadata": {},
     "output_type": "execute_result"
    }
   ],
   "source": [
    "# Verify that nulls from \"Fixed\" and \"Sex\" have been dropped\n",
    "df2.apply(lambda x: sum(x.isnull()/len(df2)))\n",
    "df2.shape"
   ]
  },
  {
   "cell_type": "code",
   "execution_count": 14,
   "metadata": {},
   "outputs": [],
   "source": [
    "# # df2.groupby('Outcome_Type').count()\n",
    "# df2.groupby('Color').count().sort_values('Outcome_Type', ascending=False)"
   ]
  },
  {
   "cell_type": "code",
   "execution_count": 15,
   "metadata": {},
   "outputs": [],
   "source": [
    "# Drop all rows 'Return to Owner' ???  Assuming that chip is checked at intake\n",
    "\n",
    "df3 = df2.drop(df2[df2.OutcomeType == \"Return to Owner\"].index)"
   ]
  },
  {
   "cell_type": "code",
   "execution_count": 16,
   "metadata": {},
   "outputs": [
    {
     "data": {
      "text/plain": [
       "(48025, 5)"
      ]
     },
     "execution_count": 16,
     "metadata": {},
     "output_type": "execute_result"
    }
   ],
   "source": [
    "# Verify shape\n",
    "df3.shape"
   ]
  },
  {
   "cell_type": "code",
   "execution_count": 17,
   "metadata": {},
   "outputs": [
    {
     "data": {
      "text/html": [
       "<div>\n",
       "<style scoped>\n",
       "    .dataframe tbody tr th:only-of-type {\n",
       "        vertical-align: middle;\n",
       "    }\n",
       "\n",
       "    .dataframe tbody tr th {\n",
       "        vertical-align: top;\n",
       "    }\n",
       "\n",
       "    .dataframe thead th {\n",
       "        text-align: right;\n",
       "    }\n",
       "</style>\n",
       "<table border=\"1\" class=\"dataframe\">\n",
       "  <thead>\n",
       "    <tr style=\"text-align: right;\">\n",
       "      <th></th>\n",
       "      <th>Sex</th>\n",
       "      <th>AgeMonth</th>\n",
       "      <th>Breed</th>\n",
       "      <th>Color</th>\n",
       "    </tr>\n",
       "    <tr>\n",
       "      <th>OutcomeType</th>\n",
       "      <th></th>\n",
       "      <th></th>\n",
       "      <th></th>\n",
       "      <th></th>\n",
       "    </tr>\n",
       "  </thead>\n",
       "  <tbody>\n",
       "    <tr>\n",
       "      <th>Adoption</th>\n",
       "      <td>31395</td>\n",
       "      <td>31395</td>\n",
       "      <td>31395</td>\n",
       "      <td>31395</td>\n",
       "    </tr>\n",
       "    <tr>\n",
       "      <th>Died</th>\n",
       "      <td>209</td>\n",
       "      <td>209</td>\n",
       "      <td>209</td>\n",
       "      <td>209</td>\n",
       "    </tr>\n",
       "    <tr>\n",
       "      <th>Disposal</th>\n",
       "      <td>22</td>\n",
       "      <td>22</td>\n",
       "      <td>22</td>\n",
       "      <td>22</td>\n",
       "    </tr>\n",
       "    <tr>\n",
       "      <th>Euthanasia</th>\n",
       "      <td>1694</td>\n",
       "      <td>1694</td>\n",
       "      <td>1694</td>\n",
       "      <td>1694</td>\n",
       "    </tr>\n",
       "    <tr>\n",
       "      <th>Missing</th>\n",
       "      <td>29</td>\n",
       "      <td>29</td>\n",
       "      <td>29</td>\n",
       "      <td>29</td>\n",
       "    </tr>\n",
       "    <tr>\n",
       "      <th>Rto-Adopt</th>\n",
       "      <td>498</td>\n",
       "      <td>498</td>\n",
       "      <td>498</td>\n",
       "      <td>498</td>\n",
       "    </tr>\n",
       "    <tr>\n",
       "      <th>Transfer</th>\n",
       "      <td>14178</td>\n",
       "      <td>14178</td>\n",
       "      <td>14178</td>\n",
       "      <td>14178</td>\n",
       "    </tr>\n",
       "  </tbody>\n",
       "</table>\n",
       "</div>"
      ],
      "text/plain": [
       "               Sex  AgeMonth  Breed  Color\n",
       "OutcomeType                               \n",
       "Adoption     31395     31395  31395  31395\n",
       "Died           209       209    209    209\n",
       "Disposal        22        22     22     22\n",
       "Euthanasia    1694      1694   1694   1694\n",
       "Missing         29        29     29     29\n",
       "Rto-Adopt      498       498    498    498\n",
       "Transfer     14178     14178  14178  14178"
      ]
     },
     "execution_count": 17,
     "metadata": {},
     "output_type": "execute_result"
    }
   ],
   "source": [
    "# Verify group by counts (Return to Owner should be gone)\n",
    "df3.groupby('OutcomeType').count()"
   ]
  },
  {
   "cell_type": "code",
   "execution_count": 18,
   "metadata": {},
   "outputs": [
    {
     "data": {
      "text/plain": [
       "OutcomeType    0.0\n",
       "Sex            0.0\n",
       "AgeMonth       0.0\n",
       "Breed          0.0\n",
       "Color          0.0\n",
       "dtype: float64"
      ]
     },
     "execution_count": 18,
     "metadata": {},
     "output_type": "execute_result"
    }
   ],
   "source": [
    "# Anymore missing values before we move on?  If zero, then we are good.\n",
    "df3.apply(lambda x: sum(x.isnull()/len(df3)))"
   ]
  },
  {
   "cell_type": "code",
   "execution_count": 19,
   "metadata": {},
   "outputs": [
    {
     "data": {
      "text/plain": [
       "(48025, 5)"
      ]
     },
     "execution_count": 19,
     "metadata": {},
     "output_type": "execute_result"
    }
   ],
   "source": [
    "df3.shape"
   ]
  },
  {
   "cell_type": "markdown",
   "metadata": {},
   "source": [
    "## Add new features?\n",
    "1. New feature? - Mixed/Pure Breed? - COMPLETED!! \n",
    "2. Split breeds - COMPLETED!!\n",
    "3. Color -  We have 333 unique color combinations. Hot encoding \"Color\" will create additional X features if we didn't do anything.  This would be unlikely to create a good performing model.\n",
    "    *  Option 1 - We take any values occurring fewer than 300 times and places them into the “other” label. We use this to create a new feature called “Top_colors”.  Doing this would reduce 333 unique colors to 30 unique values - COMPLETED!\n",
    "    *  Option 2 - Split to primary color vs secondary color? - COMPLETED!\n",
    "4. Creating age groups - COMPLETED!!\n",
    "5. Breeds - Hot encoding \"Breed\" will create additional 1,380 new features if we didn't do anything.  \n",
    "6. New feature? - Single color/Multi color?"
   ]
  },
  {
   "cell_type": "markdown",
   "metadata": {},
   "source": [
    "#### Creating a Mix/Pure Breed column - As of May 20 9pm, MIX doesn't do anything cause assuming all breeds are mixed.\n",
    "#### As of May 21 - Creating Kelly's 3 breed categories: 0 = mix, secondary not listed ; 1 = secondary breed listed; 2 = purebred\n",
    "\n",
    "1. Create new MIX column (Kelly's 3 categories)\n",
    "2. Split breed into breed_primary and breed_second\n"
   ]
  },
  {
   "cell_type": "markdown",
   "metadata": {},
   "source": [
    "#### solution - Creating a Breed_category column AND Split into Breed_primary/Breed_second\n",
    "* 0 = Breed has the word \"Mix\"\n",
    "* 1 = If there are 2 breeds listed\n",
    "* 2 = Only 1 breed in the primary (i.e. None in secondary OR Pure)"
   ]
  },
  {
   "cell_type": "code",
   "execution_count": 20,
   "metadata": {},
   "outputs": [
    {
     "data": {
      "text/html": [
       "<div>\n",
       "<style scoped>\n",
       "    .dataframe tbody tr th:only-of-type {\n",
       "        vertical-align: middle;\n",
       "    }\n",
       "\n",
       "    .dataframe tbody tr th {\n",
       "        vertical-align: top;\n",
       "    }\n",
       "\n",
       "    .dataframe thead th {\n",
       "        text-align: right;\n",
       "    }\n",
       "</style>\n",
       "<table border=\"1\" class=\"dataframe\">\n",
       "  <thead>\n",
       "    <tr style=\"text-align: right;\">\n",
       "      <th></th>\n",
       "      <th>OutcomeType</th>\n",
       "      <th>Sex</th>\n",
       "      <th>AgeMonth</th>\n",
       "      <th>Breed</th>\n",
       "      <th>Color</th>\n",
       "      <th>BreedCategory</th>\n",
       "    </tr>\n",
       "  </thead>\n",
       "  <tbody>\n",
       "    <tr>\n",
       "      <th>0</th>\n",
       "      <td>Adoption</td>\n",
       "      <td>Female</td>\n",
       "      <td>1.000000</td>\n",
       "      <td>Border Collie Mix</td>\n",
       "      <td>Chocolate/White</td>\n",
       "      <td>Pure</td>\n",
       "    </tr>\n",
       "    <tr>\n",
       "      <th>1</th>\n",
       "      <td>Transfer</td>\n",
       "      <td>Male</td>\n",
       "      <td>0.066667</td>\n",
       "      <td>German Shepherd Mix</td>\n",
       "      <td>Brown</td>\n",
       "      <td>Pure</td>\n",
       "    </tr>\n",
       "    <tr>\n",
       "      <th>2</th>\n",
       "      <td>Transfer</td>\n",
       "      <td>Male</td>\n",
       "      <td>0.066667</td>\n",
       "      <td>Labrador Retriever Mix</td>\n",
       "      <td>Black/White</td>\n",
       "      <td>Pure</td>\n",
       "    </tr>\n",
       "    <tr>\n",
       "      <th>4</th>\n",
       "      <td>Transfer</td>\n",
       "      <td>Female</td>\n",
       "      <td>0.066667</td>\n",
       "      <td>Dachshund Mix</td>\n",
       "      <td>Brown</td>\n",
       "      <td>Pure</td>\n",
       "    </tr>\n",
       "    <tr>\n",
       "      <th>6</th>\n",
       "      <td>Transfer</td>\n",
       "      <td>Female</td>\n",
       "      <td>0.066667</td>\n",
       "      <td>Pit Bull Mix</td>\n",
       "      <td>Chocolate/White</td>\n",
       "      <td>Pure</td>\n",
       "    </tr>\n",
       "  </tbody>\n",
       "</table>\n",
       "</div>"
      ],
      "text/plain": [
       "  OutcomeType     Sex  AgeMonth                   Breed            Color  \\\n",
       "0    Adoption  Female  1.000000       Border Collie Mix  Chocolate/White   \n",
       "1    Transfer    Male  0.066667     German Shepherd Mix            Brown   \n",
       "2    Transfer    Male  0.066667  Labrador Retriever Mix      Black/White   \n",
       "4    Transfer  Female  0.066667           Dachshund Mix            Brown   \n",
       "6    Transfer  Female  0.066667            Pit Bull Mix  Chocolate/White   \n",
       "\n",
       "  BreedCategory  \n",
       "0          Pure  \n",
       "1          Pure  \n",
       "2          Pure  \n",
       "4          Pure  \n",
       "6          Pure  "
      ]
     },
     "execution_count": 20,
     "metadata": {},
     "output_type": "execute_result"
    }
   ],
   "source": [
    "# Make a copy and add new column called Breed_category, set all to PURE\n",
    "df4 = df3.copy()\n",
    "df4[\"BreedCategory\"]= \"Pure\"\n",
    "df4.head()"
   ]
  },
  {
   "cell_type": "code",
   "execution_count": 21,
   "metadata": {},
   "outputs": [
    {
     "data": {
      "text/html": [
       "<div>\n",
       "<style scoped>\n",
       "    .dataframe tbody tr th:only-of-type {\n",
       "        vertical-align: middle;\n",
       "    }\n",
       "\n",
       "    .dataframe tbody tr th {\n",
       "        vertical-align: top;\n",
       "    }\n",
       "\n",
       "    .dataframe thead th {\n",
       "        text-align: right;\n",
       "    }\n",
       "</style>\n",
       "<table border=\"1\" class=\"dataframe\">\n",
       "  <thead>\n",
       "    <tr style=\"text-align: right;\">\n",
       "      <th></th>\n",
       "      <th>OutcomeType</th>\n",
       "      <th>Sex</th>\n",
       "      <th>AgeMonth</th>\n",
       "      <th>Breed</th>\n",
       "      <th>Color</th>\n",
       "      <th>BreedCategory</th>\n",
       "    </tr>\n",
       "  </thead>\n",
       "  <tbody>\n",
       "    <tr>\n",
       "      <th>0</th>\n",
       "      <td>Adoption</td>\n",
       "      <td>Female</td>\n",
       "      <td>1.000000</td>\n",
       "      <td>Border Collie Mix</td>\n",
       "      <td>Chocolate/White</td>\n",
       "      <td>Pure</td>\n",
       "    </tr>\n",
       "    <tr>\n",
       "      <th>1</th>\n",
       "      <td>Transfer</td>\n",
       "      <td>Male</td>\n",
       "      <td>0.066667</td>\n",
       "      <td>German Shepherd Mix</td>\n",
       "      <td>Brown</td>\n",
       "      <td>Pure</td>\n",
       "    </tr>\n",
       "    <tr>\n",
       "      <th>2</th>\n",
       "      <td>Transfer</td>\n",
       "      <td>Male</td>\n",
       "      <td>0.066667</td>\n",
       "      <td>Labrador Retriever Mix</td>\n",
       "      <td>Black/White</td>\n",
       "      <td>Pure</td>\n",
       "    </tr>\n",
       "    <tr>\n",
       "      <th>4</th>\n",
       "      <td>Transfer</td>\n",
       "      <td>Female</td>\n",
       "      <td>0.066667</td>\n",
       "      <td>Dachshund Mix</td>\n",
       "      <td>Brown</td>\n",
       "      <td>Pure</td>\n",
       "    </tr>\n",
       "    <tr>\n",
       "      <th>6</th>\n",
       "      <td>Transfer</td>\n",
       "      <td>Female</td>\n",
       "      <td>0.066667</td>\n",
       "      <td>Pit Bull Mix</td>\n",
       "      <td>Chocolate/White</td>\n",
       "      <td>Pure</td>\n",
       "    </tr>\n",
       "  </tbody>\n",
       "</table>\n",
       "</div>"
      ],
      "text/plain": [
       "  OutcomeType     Sex  AgeMonth                   Breed            Color  \\\n",
       "0    Adoption  Female  1.000000       Border Collie Mix  Chocolate/White   \n",
       "1    Transfer    Male  0.066667     German Shepherd Mix            Brown   \n",
       "2    Transfer    Male  0.066667  Labrador Retriever Mix      Black/White   \n",
       "4    Transfer  Female  0.066667           Dachshund Mix            Brown   \n",
       "6    Transfer  Female  0.066667            Pit Bull Mix  Chocolate/White   \n",
       "\n",
       "  BreedCategory  \n",
       "0          Pure  \n",
       "1          Pure  \n",
       "2          Pure  \n",
       "4          Pure  \n",
       "6          Pure  "
      ]
     },
     "execution_count": 21,
     "metadata": {},
     "output_type": "execute_result"
    }
   ],
   "source": [
    "df4.head()"
   ]
  },
  {
   "cell_type": "code",
   "execution_count": 22,
   "metadata": {},
   "outputs": [
    {
     "data": {
      "text/html": [
       "<div>\n",
       "<style scoped>\n",
       "    .dataframe tbody tr th:only-of-type {\n",
       "        vertical-align: middle;\n",
       "    }\n",
       "\n",
       "    .dataframe tbody tr th {\n",
       "        vertical-align: top;\n",
       "    }\n",
       "\n",
       "    .dataframe thead th {\n",
       "        text-align: right;\n",
       "    }\n",
       "</style>\n",
       "<table border=\"1\" class=\"dataframe\">\n",
       "  <thead>\n",
       "    <tr style=\"text-align: right;\">\n",
       "      <th></th>\n",
       "      <th>OutcomeType</th>\n",
       "      <th>Sex</th>\n",
       "      <th>AgeMonth</th>\n",
       "      <th>Breed</th>\n",
       "      <th>Color</th>\n",
       "      <th>BreedCategory</th>\n",
       "    </tr>\n",
       "  </thead>\n",
       "  <tbody>\n",
       "    <tr>\n",
       "      <th>200</th>\n",
       "      <td>Transfer</td>\n",
       "      <td>Female</td>\n",
       "      <td>0.2</td>\n",
       "      <td>Dachshund</td>\n",
       "      <td>Tan</td>\n",
       "      <td>Pure</td>\n",
       "    </tr>\n",
       "    <tr>\n",
       "      <th>201</th>\n",
       "      <td>Transfer</td>\n",
       "      <td>Male</td>\n",
       "      <td>0.2</td>\n",
       "      <td>Dachshund</td>\n",
       "      <td>Tan</td>\n",
       "      <td>Pure</td>\n",
       "    </tr>\n",
       "    <tr>\n",
       "      <th>205</th>\n",
       "      <td>Transfer</td>\n",
       "      <td>Female</td>\n",
       "      <td>0.2</td>\n",
       "      <td>German Shepherd/Rottweiler</td>\n",
       "      <td>Brown/Black</td>\n",
       "      <td>Pure</td>\n",
       "    </tr>\n",
       "    <tr>\n",
       "      <th>206</th>\n",
       "      <td>Transfer</td>\n",
       "      <td>Female</td>\n",
       "      <td>0.2</td>\n",
       "      <td>Labrador Retriever/Pit Bull</td>\n",
       "      <td>Brown Brindle</td>\n",
       "      <td>Pure</td>\n",
       "    </tr>\n",
       "    <tr>\n",
       "      <th>208</th>\n",
       "      <td>Transfer</td>\n",
       "      <td>Female</td>\n",
       "      <td>0.2</td>\n",
       "      <td>Rat Terrier Mix</td>\n",
       "      <td>White</td>\n",
       "      <td>Pure</td>\n",
       "    </tr>\n",
       "    <tr>\n",
       "      <th>209</th>\n",
       "      <td>Transfer</td>\n",
       "      <td>Female</td>\n",
       "      <td>0.2</td>\n",
       "      <td>Labrador Retriever/Pit Bull</td>\n",
       "      <td>Brown Brindle/White</td>\n",
       "      <td>Pure</td>\n",
       "    </tr>\n",
       "    <tr>\n",
       "      <th>210</th>\n",
       "      <td>Transfer</td>\n",
       "      <td>Male</td>\n",
       "      <td>0.2</td>\n",
       "      <td>Rat Terrier Mix</td>\n",
       "      <td>White</td>\n",
       "      <td>Pure</td>\n",
       "    </tr>\n",
       "  </tbody>\n",
       "</table>\n",
       "</div>"
      ],
      "text/plain": [
       "    OutcomeType     Sex  AgeMonth                        Breed  \\\n",
       "200    Transfer  Female       0.2                    Dachshund   \n",
       "201    Transfer    Male       0.2                    Dachshund   \n",
       "205    Transfer  Female       0.2   German Shepherd/Rottweiler   \n",
       "206    Transfer  Female       0.2  Labrador Retriever/Pit Bull   \n",
       "208    Transfer  Female       0.2              Rat Terrier Mix   \n",
       "209    Transfer  Female       0.2  Labrador Retriever/Pit Bull   \n",
       "210    Transfer    Male       0.2              Rat Terrier Mix   \n",
       "\n",
       "                   Color BreedCategory  \n",
       "200                  Tan          Pure  \n",
       "201                  Tan          Pure  \n",
       "205          Brown/Black          Pure  \n",
       "206        Brown Brindle          Pure  \n",
       "208                White          Pure  \n",
       "209  Brown Brindle/White          Pure  \n",
       "210                White          Pure  "
      ]
     },
     "execution_count": 22,
     "metadata": {},
     "output_type": "execute_result"
    }
   ],
   "source": [
    "df4.loc[200:210, :]"
   ]
  },
  {
   "cell_type": "code",
   "execution_count": 23,
   "metadata": {},
   "outputs": [],
   "source": [
    "# Split Primary and Secondary\n",
    "df4[['BreedPrimary','BreedSecond']] = df4.Breed.str.split(\"/\", n=1, expand=True) "
   ]
  },
  {
   "cell_type": "code",
   "execution_count": 24,
   "metadata": {},
   "outputs": [
    {
     "data": {
      "text/html": [
       "<div>\n",
       "<style scoped>\n",
       "    .dataframe tbody tr th:only-of-type {\n",
       "        vertical-align: middle;\n",
       "    }\n",
       "\n",
       "    .dataframe tbody tr th {\n",
       "        vertical-align: top;\n",
       "    }\n",
       "\n",
       "    .dataframe thead th {\n",
       "        text-align: right;\n",
       "    }\n",
       "</style>\n",
       "<table border=\"1\" class=\"dataframe\">\n",
       "  <thead>\n",
       "    <tr style=\"text-align: right;\">\n",
       "      <th></th>\n",
       "      <th>OutcomeType</th>\n",
       "      <th>Sex</th>\n",
       "      <th>AgeMonth</th>\n",
       "      <th>Breed</th>\n",
       "      <th>Color</th>\n",
       "      <th>BreedCategory</th>\n",
       "      <th>BreedPrimary</th>\n",
       "      <th>BreedSecond</th>\n",
       "    </tr>\n",
       "  </thead>\n",
       "  <tbody>\n",
       "    <tr>\n",
       "      <th>200</th>\n",
       "      <td>Transfer</td>\n",
       "      <td>Female</td>\n",
       "      <td>0.2</td>\n",
       "      <td>Dachshund</td>\n",
       "      <td>Tan</td>\n",
       "      <td>Pure</td>\n",
       "      <td>Dachshund</td>\n",
       "      <td>None</td>\n",
       "    </tr>\n",
       "    <tr>\n",
       "      <th>201</th>\n",
       "      <td>Transfer</td>\n",
       "      <td>Male</td>\n",
       "      <td>0.2</td>\n",
       "      <td>Dachshund</td>\n",
       "      <td>Tan</td>\n",
       "      <td>Pure</td>\n",
       "      <td>Dachshund</td>\n",
       "      <td>None</td>\n",
       "    </tr>\n",
       "    <tr>\n",
       "      <th>205</th>\n",
       "      <td>Transfer</td>\n",
       "      <td>Female</td>\n",
       "      <td>0.2</td>\n",
       "      <td>German Shepherd/Rottweiler</td>\n",
       "      <td>Brown/Black</td>\n",
       "      <td>Pure</td>\n",
       "      <td>German Shepherd</td>\n",
       "      <td>Rottweiler</td>\n",
       "    </tr>\n",
       "    <tr>\n",
       "      <th>206</th>\n",
       "      <td>Transfer</td>\n",
       "      <td>Female</td>\n",
       "      <td>0.2</td>\n",
       "      <td>Labrador Retriever/Pit Bull</td>\n",
       "      <td>Brown Brindle</td>\n",
       "      <td>Pure</td>\n",
       "      <td>Labrador Retriever</td>\n",
       "      <td>Pit Bull</td>\n",
       "    </tr>\n",
       "    <tr>\n",
       "      <th>208</th>\n",
       "      <td>Transfer</td>\n",
       "      <td>Female</td>\n",
       "      <td>0.2</td>\n",
       "      <td>Rat Terrier Mix</td>\n",
       "      <td>White</td>\n",
       "      <td>Pure</td>\n",
       "      <td>Rat Terrier Mix</td>\n",
       "      <td>None</td>\n",
       "    </tr>\n",
       "    <tr>\n",
       "      <th>209</th>\n",
       "      <td>Transfer</td>\n",
       "      <td>Female</td>\n",
       "      <td>0.2</td>\n",
       "      <td>Labrador Retriever/Pit Bull</td>\n",
       "      <td>Brown Brindle/White</td>\n",
       "      <td>Pure</td>\n",
       "      <td>Labrador Retriever</td>\n",
       "      <td>Pit Bull</td>\n",
       "    </tr>\n",
       "    <tr>\n",
       "      <th>210</th>\n",
       "      <td>Transfer</td>\n",
       "      <td>Male</td>\n",
       "      <td>0.2</td>\n",
       "      <td>Rat Terrier Mix</td>\n",
       "      <td>White</td>\n",
       "      <td>Pure</td>\n",
       "      <td>Rat Terrier Mix</td>\n",
       "      <td>None</td>\n",
       "    </tr>\n",
       "  </tbody>\n",
       "</table>\n",
       "</div>"
      ],
      "text/plain": [
       "    OutcomeType     Sex  AgeMonth                        Breed  \\\n",
       "200    Transfer  Female       0.2                    Dachshund   \n",
       "201    Transfer    Male       0.2                    Dachshund   \n",
       "205    Transfer  Female       0.2   German Shepherd/Rottweiler   \n",
       "206    Transfer  Female       0.2  Labrador Retriever/Pit Bull   \n",
       "208    Transfer  Female       0.2              Rat Terrier Mix   \n",
       "209    Transfer  Female       0.2  Labrador Retriever/Pit Bull   \n",
       "210    Transfer    Male       0.2              Rat Terrier Mix   \n",
       "\n",
       "                   Color BreedCategory        BreedPrimary BreedSecond  \n",
       "200                  Tan          Pure           Dachshund        None  \n",
       "201                  Tan          Pure           Dachshund        None  \n",
       "205          Brown/Black          Pure     German Shepherd  Rottweiler  \n",
       "206        Brown Brindle          Pure  Labrador Retriever    Pit Bull  \n",
       "208                White          Pure     Rat Terrier Mix        None  \n",
       "209  Brown Brindle/White          Pure  Labrador Retriever    Pit Bull  \n",
       "210                White          Pure     Rat Terrier Mix        None  "
      ]
     },
     "execution_count": 24,
     "metadata": {},
     "output_type": "execute_result"
    }
   ],
   "source": [
    "df4.loc[200:210, :]"
   ]
  },
  {
   "cell_type": "code",
   "execution_count": 25,
   "metadata": {},
   "outputs": [],
   "source": [
    "# Find rows containing word \"Mix\" and set to 0\n",
    "df4.loc[df4[\"Breed\"].str.contains(\"Mix\"), \"BreedCategory\"] = \"Mix\""
   ]
  },
  {
   "cell_type": "code",
   "execution_count": 26,
   "metadata": {},
   "outputs": [
    {
     "data": {
      "text/html": [
       "<div>\n",
       "<style scoped>\n",
       "    .dataframe tbody tr th:only-of-type {\n",
       "        vertical-align: middle;\n",
       "    }\n",
       "\n",
       "    .dataframe tbody tr th {\n",
       "        vertical-align: top;\n",
       "    }\n",
       "\n",
       "    .dataframe thead th {\n",
       "        text-align: right;\n",
       "    }\n",
       "</style>\n",
       "<table border=\"1\" class=\"dataframe\">\n",
       "  <thead>\n",
       "    <tr style=\"text-align: right;\">\n",
       "      <th></th>\n",
       "      <th>OutcomeType</th>\n",
       "      <th>Sex</th>\n",
       "      <th>AgeMonth</th>\n",
       "      <th>Breed</th>\n",
       "      <th>Color</th>\n",
       "      <th>BreedCategory</th>\n",
       "      <th>BreedPrimary</th>\n",
       "      <th>BreedSecond</th>\n",
       "    </tr>\n",
       "  </thead>\n",
       "  <tbody>\n",
       "    <tr>\n",
       "      <th>200</th>\n",
       "      <td>Transfer</td>\n",
       "      <td>Female</td>\n",
       "      <td>0.2</td>\n",
       "      <td>Dachshund</td>\n",
       "      <td>Tan</td>\n",
       "      <td>Pure</td>\n",
       "      <td>Dachshund</td>\n",
       "      <td>None</td>\n",
       "    </tr>\n",
       "    <tr>\n",
       "      <th>201</th>\n",
       "      <td>Transfer</td>\n",
       "      <td>Male</td>\n",
       "      <td>0.2</td>\n",
       "      <td>Dachshund</td>\n",
       "      <td>Tan</td>\n",
       "      <td>Pure</td>\n",
       "      <td>Dachshund</td>\n",
       "      <td>None</td>\n",
       "    </tr>\n",
       "    <tr>\n",
       "      <th>205</th>\n",
       "      <td>Transfer</td>\n",
       "      <td>Female</td>\n",
       "      <td>0.2</td>\n",
       "      <td>German Shepherd/Rottweiler</td>\n",
       "      <td>Brown/Black</td>\n",
       "      <td>Pure</td>\n",
       "      <td>German Shepherd</td>\n",
       "      <td>Rottweiler</td>\n",
       "    </tr>\n",
       "    <tr>\n",
       "      <th>206</th>\n",
       "      <td>Transfer</td>\n",
       "      <td>Female</td>\n",
       "      <td>0.2</td>\n",
       "      <td>Labrador Retriever/Pit Bull</td>\n",
       "      <td>Brown Brindle</td>\n",
       "      <td>Pure</td>\n",
       "      <td>Labrador Retriever</td>\n",
       "      <td>Pit Bull</td>\n",
       "    </tr>\n",
       "    <tr>\n",
       "      <th>208</th>\n",
       "      <td>Transfer</td>\n",
       "      <td>Female</td>\n",
       "      <td>0.2</td>\n",
       "      <td>Rat Terrier Mix</td>\n",
       "      <td>White</td>\n",
       "      <td>Mix</td>\n",
       "      <td>Rat Terrier Mix</td>\n",
       "      <td>None</td>\n",
       "    </tr>\n",
       "    <tr>\n",
       "      <th>209</th>\n",
       "      <td>Transfer</td>\n",
       "      <td>Female</td>\n",
       "      <td>0.2</td>\n",
       "      <td>Labrador Retriever/Pit Bull</td>\n",
       "      <td>Brown Brindle/White</td>\n",
       "      <td>Pure</td>\n",
       "      <td>Labrador Retriever</td>\n",
       "      <td>Pit Bull</td>\n",
       "    </tr>\n",
       "    <tr>\n",
       "      <th>210</th>\n",
       "      <td>Transfer</td>\n",
       "      <td>Male</td>\n",
       "      <td>0.2</td>\n",
       "      <td>Rat Terrier Mix</td>\n",
       "      <td>White</td>\n",
       "      <td>Mix</td>\n",
       "      <td>Rat Terrier Mix</td>\n",
       "      <td>None</td>\n",
       "    </tr>\n",
       "  </tbody>\n",
       "</table>\n",
       "</div>"
      ],
      "text/plain": [
       "    OutcomeType     Sex  AgeMonth                        Breed  \\\n",
       "200    Transfer  Female       0.2                    Dachshund   \n",
       "201    Transfer    Male       0.2                    Dachshund   \n",
       "205    Transfer  Female       0.2   German Shepherd/Rottweiler   \n",
       "206    Transfer  Female       0.2  Labrador Retriever/Pit Bull   \n",
       "208    Transfer  Female       0.2              Rat Terrier Mix   \n",
       "209    Transfer  Female       0.2  Labrador Retriever/Pit Bull   \n",
       "210    Transfer    Male       0.2              Rat Terrier Mix   \n",
       "\n",
       "                   Color BreedCategory        BreedPrimary BreedSecond  \n",
       "200                  Tan          Pure           Dachshund        None  \n",
       "201                  Tan          Pure           Dachshund        None  \n",
       "205          Brown/Black          Pure     German Shepherd  Rottweiler  \n",
       "206        Brown Brindle          Pure  Labrador Retriever    Pit Bull  \n",
       "208                White           Mix     Rat Terrier Mix        None  \n",
       "209  Brown Brindle/White          Pure  Labrador Retriever    Pit Bull  \n",
       "210                White           Mix     Rat Terrier Mix        None  "
      ]
     },
     "execution_count": 26,
     "metadata": {},
     "output_type": "execute_result"
    }
   ],
   "source": [
    "df4.loc[200:210, :]"
   ]
  },
  {
   "cell_type": "code",
   "execution_count": 27,
   "metadata": {},
   "outputs": [],
   "source": [
    "# Find rows containing word \"/\" and set to 1\n",
    "df4.loc[df4[\"Breed\"].str.contains(\"\\/\"), \"BreedCategory\"] = \"Two\""
   ]
  },
  {
   "cell_type": "code",
   "execution_count": 28,
   "metadata": {},
   "outputs": [
    {
     "data": {
      "text/html": [
       "<div>\n",
       "<style scoped>\n",
       "    .dataframe tbody tr th:only-of-type {\n",
       "        vertical-align: middle;\n",
       "    }\n",
       "\n",
       "    .dataframe tbody tr th {\n",
       "        vertical-align: top;\n",
       "    }\n",
       "\n",
       "    .dataframe thead th {\n",
       "        text-align: right;\n",
       "    }\n",
       "</style>\n",
       "<table border=\"1\" class=\"dataframe\">\n",
       "  <thead>\n",
       "    <tr style=\"text-align: right;\">\n",
       "      <th></th>\n",
       "      <th>OutcomeType</th>\n",
       "      <th>Sex</th>\n",
       "      <th>AgeMonth</th>\n",
       "      <th>Breed</th>\n",
       "      <th>Color</th>\n",
       "      <th>BreedCategory</th>\n",
       "      <th>BreedPrimary</th>\n",
       "      <th>BreedSecond</th>\n",
       "    </tr>\n",
       "  </thead>\n",
       "  <tbody>\n",
       "    <tr>\n",
       "      <th>200</th>\n",
       "      <td>Transfer</td>\n",
       "      <td>Female</td>\n",
       "      <td>0.2</td>\n",
       "      <td>Dachshund</td>\n",
       "      <td>Tan</td>\n",
       "      <td>Pure</td>\n",
       "      <td>Dachshund</td>\n",
       "      <td>None</td>\n",
       "    </tr>\n",
       "    <tr>\n",
       "      <th>201</th>\n",
       "      <td>Transfer</td>\n",
       "      <td>Male</td>\n",
       "      <td>0.2</td>\n",
       "      <td>Dachshund</td>\n",
       "      <td>Tan</td>\n",
       "      <td>Pure</td>\n",
       "      <td>Dachshund</td>\n",
       "      <td>None</td>\n",
       "    </tr>\n",
       "    <tr>\n",
       "      <th>205</th>\n",
       "      <td>Transfer</td>\n",
       "      <td>Female</td>\n",
       "      <td>0.2</td>\n",
       "      <td>German Shepherd/Rottweiler</td>\n",
       "      <td>Brown/Black</td>\n",
       "      <td>Two</td>\n",
       "      <td>German Shepherd</td>\n",
       "      <td>Rottweiler</td>\n",
       "    </tr>\n",
       "    <tr>\n",
       "      <th>206</th>\n",
       "      <td>Transfer</td>\n",
       "      <td>Female</td>\n",
       "      <td>0.2</td>\n",
       "      <td>Labrador Retriever/Pit Bull</td>\n",
       "      <td>Brown Brindle</td>\n",
       "      <td>Two</td>\n",
       "      <td>Labrador Retriever</td>\n",
       "      <td>Pit Bull</td>\n",
       "    </tr>\n",
       "    <tr>\n",
       "      <th>208</th>\n",
       "      <td>Transfer</td>\n",
       "      <td>Female</td>\n",
       "      <td>0.2</td>\n",
       "      <td>Rat Terrier Mix</td>\n",
       "      <td>White</td>\n",
       "      <td>Mix</td>\n",
       "      <td>Rat Terrier Mix</td>\n",
       "      <td>None</td>\n",
       "    </tr>\n",
       "    <tr>\n",
       "      <th>209</th>\n",
       "      <td>Transfer</td>\n",
       "      <td>Female</td>\n",
       "      <td>0.2</td>\n",
       "      <td>Labrador Retriever/Pit Bull</td>\n",
       "      <td>Brown Brindle/White</td>\n",
       "      <td>Two</td>\n",
       "      <td>Labrador Retriever</td>\n",
       "      <td>Pit Bull</td>\n",
       "    </tr>\n",
       "    <tr>\n",
       "      <th>210</th>\n",
       "      <td>Transfer</td>\n",
       "      <td>Male</td>\n",
       "      <td>0.2</td>\n",
       "      <td>Rat Terrier Mix</td>\n",
       "      <td>White</td>\n",
       "      <td>Mix</td>\n",
       "      <td>Rat Terrier Mix</td>\n",
       "      <td>None</td>\n",
       "    </tr>\n",
       "  </tbody>\n",
       "</table>\n",
       "</div>"
      ],
      "text/plain": [
       "    OutcomeType     Sex  AgeMonth                        Breed  \\\n",
       "200    Transfer  Female       0.2                    Dachshund   \n",
       "201    Transfer    Male       0.2                    Dachshund   \n",
       "205    Transfer  Female       0.2   German Shepherd/Rottweiler   \n",
       "206    Transfer  Female       0.2  Labrador Retriever/Pit Bull   \n",
       "208    Transfer  Female       0.2              Rat Terrier Mix   \n",
       "209    Transfer  Female       0.2  Labrador Retriever/Pit Bull   \n",
       "210    Transfer    Male       0.2              Rat Terrier Mix   \n",
       "\n",
       "                   Color BreedCategory        BreedPrimary BreedSecond  \n",
       "200                  Tan          Pure           Dachshund        None  \n",
       "201                  Tan          Pure           Dachshund        None  \n",
       "205          Brown/Black           Two     German Shepherd  Rottweiler  \n",
       "206        Brown Brindle           Two  Labrador Retriever    Pit Bull  \n",
       "208                White           Mix     Rat Terrier Mix        None  \n",
       "209  Brown Brindle/White           Two  Labrador Retriever    Pit Bull  \n",
       "210                White           Mix     Rat Terrier Mix        None  "
      ]
     },
     "execution_count": 28,
     "metadata": {},
     "output_type": "execute_result"
    }
   ],
   "source": [
    "df4.loc[200:210, :]"
   ]
  },
  {
   "cell_type": "code",
   "execution_count": 29,
   "metadata": {},
   "outputs": [],
   "source": [
    "# df4.groupby(['Mix']).count().sort_values(\"Breed\", ascending=False).head(10)\n",
    "# df4['Breed'].str.count('\\/').sum()"
   ]
  },
  {
   "cell_type": "code",
   "execution_count": 30,
   "metadata": {},
   "outputs": [],
   "source": [
    "# Double checking slashes with isalpha() - About the same number.  Off by 2 \n",
    "# removing white spaces \n",
    "# df4[\"Breed\"]= df4[\"Breed\"].str.replace(\" \", \"\") \n",
    "# df4.loc[180:190, :]\n"
   ]
  },
  {
   "cell_type": "code",
   "execution_count": 31,
   "metadata": {},
   "outputs": [],
   "source": [
    "# creating bool series with new column \n",
    "# df4[\"bool_series2\"]= df4[\"Breed\"].str.isalpha()\n",
    "# df4.loc[180:190, :]\n",
    "# df4.groupby(['bool_series2']).count()"
   ]
  },
  {
   "cell_type": "code",
   "execution_count": 32,
   "metadata": {},
   "outputs": [],
   "source": [
    "# print(f'Pure breed: {48025-34048-8480}')"
   ]
  },
  {
   "cell_type": "code",
   "execution_count": 33,
   "metadata": {},
   "outputs": [],
   "source": [
    "# # Rename the breed WITHOUT the word MIX\n",
    "# df4.loc[df4['Breed'].str.contains('Mix'), 'Breed'] = df4.loc[df4['Breed'].str.contains('Mix'), 'Breed'].str.replace(' Mix', '')"
   ]
  },
  {
   "cell_type": "code",
   "execution_count": 34,
   "metadata": {},
   "outputs": [],
   "source": [
    "# How many unique breed combinations before split?\n",
    "# Breed column - 1854\n",
    "\n",
    "# How many unique breed combinations AFTER split?\n",
    "# Breed_primary - 371\n",
    "# Breed_second - 163\n",
    "\n",
    "# len(df4.Breed_second.value_counts())"
   ]
  },
  {
   "cell_type": "code",
   "execution_count": 35,
   "metadata": {},
   "outputs": [],
   "source": [
    "# breed_top10primary = [x for x in df4.Breed_primary.value_counts().sort_values(ascending=False).head(15).index]\n",
    "# breed_top10primary\n",
    "\n",
    "# df4.Breed_primary.value_counts().sort_values(ascending=False).head(15)"
   ]
  },
  {
   "cell_type": "code",
   "execution_count": 36,
   "metadata": {},
   "outputs": [],
   "source": [
    "# breed_top10second = [x for x in df4.Breed_second.value_counts().sort_values(ascending=False).tail(10).index]\n",
    "# breed_top10second\n",
    "\n",
    "# df4.Breed_second.value_counts().sort_values(ascending=False).head(10)"
   ]
  },
  {
   "cell_type": "markdown",
   "metadata": {},
   "source": [
    "#### Handling Color - Selecting colors > 1200\n",
    "* How does option1 effect RF/LogReg models?\n"
   ]
  },
  {
   "cell_type": "code",
   "execution_count": 37,
   "metadata": {},
   "outputs": [
    {
     "data": {
      "text/html": [
       "<div>\n",
       "<style scoped>\n",
       "    .dataframe tbody tr th:only-of-type {\n",
       "        vertical-align: middle;\n",
       "    }\n",
       "\n",
       "    .dataframe tbody tr th {\n",
       "        vertical-align: top;\n",
       "    }\n",
       "\n",
       "    .dataframe thead th {\n",
       "        text-align: right;\n",
       "    }\n",
       "</style>\n",
       "<table border=\"1\" class=\"dataframe\">\n",
       "  <thead>\n",
       "    <tr style=\"text-align: right;\">\n",
       "      <th></th>\n",
       "      <th>OutcomeType</th>\n",
       "      <th>Sex</th>\n",
       "      <th>AgeMonth</th>\n",
       "      <th>Breed</th>\n",
       "      <th>Color</th>\n",
       "      <th>BreedCategory</th>\n",
       "      <th>BreedPrimary</th>\n",
       "      <th>BreedSecond</th>\n",
       "    </tr>\n",
       "  </thead>\n",
       "  <tbody>\n",
       "    <tr>\n",
       "      <th>0</th>\n",
       "      <td>Adoption</td>\n",
       "      <td>Female</td>\n",
       "      <td>1.000000</td>\n",
       "      <td>Border Collie Mix</td>\n",
       "      <td>Chocolate/White</td>\n",
       "      <td>Mix</td>\n",
       "      <td>Border Collie Mix</td>\n",
       "      <td>None</td>\n",
       "    </tr>\n",
       "    <tr>\n",
       "      <th>1</th>\n",
       "      <td>Transfer</td>\n",
       "      <td>Male</td>\n",
       "      <td>0.066667</td>\n",
       "      <td>German Shepherd Mix</td>\n",
       "      <td>Brown</td>\n",
       "      <td>Mix</td>\n",
       "      <td>German Shepherd Mix</td>\n",
       "      <td>None</td>\n",
       "    </tr>\n",
       "    <tr>\n",
       "      <th>2</th>\n",
       "      <td>Transfer</td>\n",
       "      <td>Male</td>\n",
       "      <td>0.066667</td>\n",
       "      <td>Labrador Retriever Mix</td>\n",
       "      <td>Black/White</td>\n",
       "      <td>Mix</td>\n",
       "      <td>Labrador Retriever Mix</td>\n",
       "      <td>None</td>\n",
       "    </tr>\n",
       "    <tr>\n",
       "      <th>4</th>\n",
       "      <td>Transfer</td>\n",
       "      <td>Female</td>\n",
       "      <td>0.066667</td>\n",
       "      <td>Dachshund Mix</td>\n",
       "      <td>Brown</td>\n",
       "      <td>Mix</td>\n",
       "      <td>Dachshund Mix</td>\n",
       "      <td>None</td>\n",
       "    </tr>\n",
       "    <tr>\n",
       "      <th>6</th>\n",
       "      <td>Transfer</td>\n",
       "      <td>Female</td>\n",
       "      <td>0.066667</td>\n",
       "      <td>Pit Bull Mix</td>\n",
       "      <td>Chocolate/White</td>\n",
       "      <td>Mix</td>\n",
       "      <td>Pit Bull Mix</td>\n",
       "      <td>None</td>\n",
       "    </tr>\n",
       "  </tbody>\n",
       "</table>\n",
       "</div>"
      ],
      "text/plain": [
       "  OutcomeType     Sex  AgeMonth                   Breed            Color  \\\n",
       "0    Adoption  Female  1.000000       Border Collie Mix  Chocolate/White   \n",
       "1    Transfer    Male  0.066667     German Shepherd Mix            Brown   \n",
       "2    Transfer    Male  0.066667  Labrador Retriever Mix      Black/White   \n",
       "4    Transfer  Female  0.066667           Dachshund Mix            Brown   \n",
       "6    Transfer  Female  0.066667            Pit Bull Mix  Chocolate/White   \n",
       "\n",
       "  BreedCategory            BreedPrimary BreedSecond  \n",
       "0           Mix       Border Collie Mix        None  \n",
       "1           Mix     German Shepherd Mix        None  \n",
       "2           Mix  Labrador Retriever Mix        None  \n",
       "4           Mix           Dachshund Mix        None  \n",
       "6           Mix            Pit Bull Mix        None  "
      ]
     },
     "execution_count": 37,
     "metadata": {},
     "output_type": "execute_result"
    }
   ],
   "source": [
    "df4.head()"
   ]
  },
  {
   "cell_type": "code",
   "execution_count": 38,
   "metadata": {},
   "outputs": [
    {
     "name": "stdout",
     "output_type": "stream",
     "text": [
      "333\n"
     ]
    },
    {
     "data": {
      "text/plain": [
       "Black/White            5911\n",
       "Tan/White              2695\n",
       "Brown/White            2655\n",
       "Black                  2504\n",
       "White                  2345\n",
       "Tan                    2231\n",
       "Tricolor               1957\n",
       "Black/Tan              1903\n",
       "Brown                  1877\n",
       "White/Black            1721\n",
       "Black/Brown            1645\n",
       "White/Brown            1549\n",
       "Brown Brindle/White    1426\n",
       "Blue/White             1329\n",
       "White/Tan              1296\n",
       "Brown/Black            1256\n",
       "Red                     914\n",
       "Red/White               876\n",
       "Tan/Black               788\n",
       "Brown Brindle           757\n",
       "Name: Color, dtype: int64"
      ]
     },
     "execution_count": 38,
     "metadata": {},
     "output_type": "execute_result"
    }
   ],
   "source": [
    "# How many unique color combinations?  - 333\n",
    "color_counts = df4['Color'].value_counts()\n",
    "# len(color_counts)\n",
    "print(df4['Color'].nunique())\n",
    "color_counts.head(20)"
   ]
  },
  {
   "cell_type": "code",
   "execution_count": 39,
   "metadata": {},
   "outputs": [
    {
     "name": "stdout",
     "output_type": "stream",
     "text": [
      "17\n"
     ]
    }
   ],
   "source": [
    "# # Handling \"Color\" Option 1\n",
    "color_others = set(color_counts[color_counts < 1200].index)\n",
    "df4['Top_colors'] = df4['Color'].replace(list(color_others), 'Others')\n",
    "print(df4['Top_colors'].nunique())"
   ]
  },
  {
   "cell_type": "code",
   "execution_count": 40,
   "metadata": {},
   "outputs": [
    {
     "data": {
      "text/html": [
       "<div>\n",
       "<style scoped>\n",
       "    .dataframe tbody tr th:only-of-type {\n",
       "        vertical-align: middle;\n",
       "    }\n",
       "\n",
       "    .dataframe tbody tr th {\n",
       "        vertical-align: top;\n",
       "    }\n",
       "\n",
       "    .dataframe thead th {\n",
       "        text-align: right;\n",
       "    }\n",
       "</style>\n",
       "<table border=\"1\" class=\"dataframe\">\n",
       "  <thead>\n",
       "    <tr style=\"text-align: right;\">\n",
       "      <th></th>\n",
       "      <th>OutcomeType</th>\n",
       "      <th>Sex</th>\n",
       "      <th>AgeMonth</th>\n",
       "      <th>Breed</th>\n",
       "      <th>Color</th>\n",
       "      <th>BreedCategory</th>\n",
       "      <th>BreedPrimary</th>\n",
       "      <th>BreedSecond</th>\n",
       "      <th>Top_colors</th>\n",
       "    </tr>\n",
       "  </thead>\n",
       "  <tbody>\n",
       "    <tr>\n",
       "      <th>0</th>\n",
       "      <td>Adoption</td>\n",
       "      <td>Female</td>\n",
       "      <td>1.000000</td>\n",
       "      <td>Border Collie Mix</td>\n",
       "      <td>Chocolate/White</td>\n",
       "      <td>Mix</td>\n",
       "      <td>Border Collie Mix</td>\n",
       "      <td>None</td>\n",
       "      <td>Others</td>\n",
       "    </tr>\n",
       "    <tr>\n",
       "      <th>1</th>\n",
       "      <td>Transfer</td>\n",
       "      <td>Male</td>\n",
       "      <td>0.066667</td>\n",
       "      <td>German Shepherd Mix</td>\n",
       "      <td>Brown</td>\n",
       "      <td>Mix</td>\n",
       "      <td>German Shepherd Mix</td>\n",
       "      <td>None</td>\n",
       "      <td>Brown</td>\n",
       "    </tr>\n",
       "    <tr>\n",
       "      <th>2</th>\n",
       "      <td>Transfer</td>\n",
       "      <td>Male</td>\n",
       "      <td>0.066667</td>\n",
       "      <td>Labrador Retriever Mix</td>\n",
       "      <td>Black/White</td>\n",
       "      <td>Mix</td>\n",
       "      <td>Labrador Retriever Mix</td>\n",
       "      <td>None</td>\n",
       "      <td>Black/White</td>\n",
       "    </tr>\n",
       "    <tr>\n",
       "      <th>4</th>\n",
       "      <td>Transfer</td>\n",
       "      <td>Female</td>\n",
       "      <td>0.066667</td>\n",
       "      <td>Dachshund Mix</td>\n",
       "      <td>Brown</td>\n",
       "      <td>Mix</td>\n",
       "      <td>Dachshund Mix</td>\n",
       "      <td>None</td>\n",
       "      <td>Brown</td>\n",
       "    </tr>\n",
       "    <tr>\n",
       "      <th>6</th>\n",
       "      <td>Transfer</td>\n",
       "      <td>Female</td>\n",
       "      <td>0.066667</td>\n",
       "      <td>Pit Bull Mix</td>\n",
       "      <td>Chocolate/White</td>\n",
       "      <td>Mix</td>\n",
       "      <td>Pit Bull Mix</td>\n",
       "      <td>None</td>\n",
       "      <td>Others</td>\n",
       "    </tr>\n",
       "  </tbody>\n",
       "</table>\n",
       "</div>"
      ],
      "text/plain": [
       "  OutcomeType     Sex  AgeMonth                   Breed            Color  \\\n",
       "0    Adoption  Female  1.000000       Border Collie Mix  Chocolate/White   \n",
       "1    Transfer    Male  0.066667     German Shepherd Mix            Brown   \n",
       "2    Transfer    Male  0.066667  Labrador Retriever Mix      Black/White   \n",
       "4    Transfer  Female  0.066667           Dachshund Mix            Brown   \n",
       "6    Transfer  Female  0.066667            Pit Bull Mix  Chocolate/White   \n",
       "\n",
       "  BreedCategory            BreedPrimary BreedSecond   Top_colors  \n",
       "0           Mix       Border Collie Mix        None       Others  \n",
       "1           Mix     German Shepherd Mix        None        Brown  \n",
       "2           Mix  Labrador Retriever Mix        None  Black/White  \n",
       "4           Mix           Dachshund Mix        None        Brown  \n",
       "6           Mix            Pit Bull Mix        None       Others  "
      ]
     },
     "execution_count": 40,
     "metadata": {},
     "output_type": "execute_result"
    }
   ],
   "source": [
    "df4.head()\n"
   ]
  },
  {
   "cell_type": "code",
   "execution_count": 41,
   "metadata": {},
   "outputs": [],
   "source": [
    "# # Add new column called Color_new and set to Color\n",
    "# df5 = df4.copy()\n",
    "# df5[\"Color_new\"]=df4[\"Color\"]\n",
    "# df5.head()\n",
    "# df5.loc[320:330, :]"
   ]
  },
  {
   "cell_type": "code",
   "execution_count": 42,
   "metadata": {},
   "outputs": [],
   "source": [
    "# Can't do this code here.  It takes COMBI tan/white and changes that to tan!  WRONG!!  I only want tan column\n",
    "\n",
    "\n",
    "# Find rows containing colors: Gold/Yellow/Tan/Fawn/Buff/Apricot/Cream and set all to YELLOW\n",
    "# df5.loc[df5[\"Color\"].str.contains('Gold|Yellow|Tan|Fawn|Buff|Apricot|Cream'), \"Color_new\"] = \"Tan\"\n",
    "# df5.loc[264:267, :]"
   ]
  },
  {
   "cell_type": "markdown",
   "metadata": {},
   "source": [
    "#### Handling Color - Option 2 (Split and have intaker check all colors that apply) - As of May 22, NOT doing color split\n",
    "* How does option2 effect RF/LogReg models?"
   ]
  },
  {
   "cell_type": "code",
   "execution_count": 43,
   "metadata": {},
   "outputs": [],
   "source": [
    "# Split Top_color column into color1, color2\n",
    "# df3[['Color1','Color2']] = df3.Color.str.split(\"/\", n=1, expand=True) "
   ]
  },
  {
   "cell_type": "code",
   "execution_count": 44,
   "metadata": {},
   "outputs": [],
   "source": [
    "# df3.loc[150:160, :]"
   ]
  },
  {
   "cell_type": "code",
   "execution_count": 45,
   "metadata": {},
   "outputs": [],
   "source": [
    "# How many unique colors? - 333 unique color combinations\n",
    "# df4.Color.value_counts().sort_values(ascending=False).head(20)\n",
    "# len(df3.Color.value_counts())\n",
    "\n",
    "# # How many unique colors in COLOR1? - 37\n",
    "# len(df3.Color1.value_counts())\n",
    "\n",
    "# How many unique colors in COLOR2? - 34\n",
    "# len(df3.Color2.value_counts())"
   ]
  },
  {
   "cell_type": "code",
   "execution_count": 46,
   "metadata": {},
   "outputs": [],
   "source": [
    "# color_top10Color1 = [x for x in df3.Color1.value_counts().sort_values(ascending=False).head(30).index]\n",
    "# color_top10Color1\n",
    "\n",
    "# df3.Color1.value_counts().sort_values(ascending=False).head(40)"
   ]
  },
  {
   "cell_type": "code",
   "execution_count": 47,
   "metadata": {},
   "outputs": [],
   "source": [
    "# color_top10Color2 = [x for x in df3.Color2.value_counts().sort_values(ascending=False).head(10).index]\n",
    "# color_top10Color2\n",
    "\n",
    "# df3.Color2.value_counts().sort_values(ascending=False).head(40)"
   ]
  },
  {
   "cell_type": "markdown",
   "metadata": {},
   "source": [
    "#### Creating age categories\n",
    "* Baby: <=6months\n",
    "* Young: 7months-24 months\n",
    "* Adult: 2 years-7years\n",
    "* Senior: 7+"
   ]
  },
  {
   "cell_type": "code",
   "execution_count": 48,
   "metadata": {},
   "outputs": [],
   "source": [
    "df4['PetAgeCategory'] = pd.cut(x=df4['AgeMonth'], bins=[0, 6, 24, 84,240], labels=['Baby', 'Young', 'Adult', 'Senior'])"
   ]
  },
  {
   "cell_type": "code",
   "execution_count": 49,
   "metadata": {},
   "outputs": [
    {
     "data": {
      "text/html": [
       "<div>\n",
       "<style scoped>\n",
       "    .dataframe tbody tr th:only-of-type {\n",
       "        vertical-align: middle;\n",
       "    }\n",
       "\n",
       "    .dataframe tbody tr th {\n",
       "        vertical-align: top;\n",
       "    }\n",
       "\n",
       "    .dataframe thead th {\n",
       "        text-align: right;\n",
       "    }\n",
       "</style>\n",
       "<table border=\"1\" class=\"dataframe\">\n",
       "  <thead>\n",
       "    <tr style=\"text-align: right;\">\n",
       "      <th></th>\n",
       "      <th>OutcomeType</th>\n",
       "      <th>Sex</th>\n",
       "      <th>AgeMonth</th>\n",
       "      <th>Breed</th>\n",
       "      <th>Color</th>\n",
       "      <th>BreedCategory</th>\n",
       "      <th>BreedPrimary</th>\n",
       "      <th>BreedSecond</th>\n",
       "      <th>Top_colors</th>\n",
       "      <th>PetAgeCategory</th>\n",
       "    </tr>\n",
       "  </thead>\n",
       "  <tbody>\n",
       "    <tr>\n",
       "      <th>66772</th>\n",
       "      <td>Euthanasia</td>\n",
       "      <td>Male</td>\n",
       "      <td>216.0</td>\n",
       "      <td>Miniature Schnauzer Mix</td>\n",
       "      <td>Gray</td>\n",
       "      <td>Mix</td>\n",
       "      <td>Miniature Schnauzer Mix</td>\n",
       "      <td>None</td>\n",
       "      <td>Others</td>\n",
       "      <td>Senior</td>\n",
       "    </tr>\n",
       "    <tr>\n",
       "      <th>66774</th>\n",
       "      <td>Adoption</td>\n",
       "      <td>Male</td>\n",
       "      <td>216.0</td>\n",
       "      <td>Chihuahua Longhair Mix</td>\n",
       "      <td>White/Tan</td>\n",
       "      <td>Mix</td>\n",
       "      <td>Chihuahua Longhair Mix</td>\n",
       "      <td>None</td>\n",
       "      <td>White/Tan</td>\n",
       "      <td>Senior</td>\n",
       "    </tr>\n",
       "    <tr>\n",
       "      <th>66786</th>\n",
       "      <td>Euthanasia</td>\n",
       "      <td>Female</td>\n",
       "      <td>228.0</td>\n",
       "      <td>Miniature Poodle</td>\n",
       "      <td>White</td>\n",
       "      <td>Pure</td>\n",
       "      <td>Miniature Poodle</td>\n",
       "      <td>None</td>\n",
       "      <td>White</td>\n",
       "      <td>Senior</td>\n",
       "    </tr>\n",
       "    <tr>\n",
       "      <th>66787</th>\n",
       "      <td>Transfer</td>\n",
       "      <td>Male</td>\n",
       "      <td>228.0</td>\n",
       "      <td>Chihuahua Shorthair Mix</td>\n",
       "      <td>Brown</td>\n",
       "      <td>Mix</td>\n",
       "      <td>Chihuahua Shorthair Mix</td>\n",
       "      <td>None</td>\n",
       "      <td>Brown</td>\n",
       "      <td>Senior</td>\n",
       "    </tr>\n",
       "    <tr>\n",
       "      <th>66790</th>\n",
       "      <td>Euthanasia</td>\n",
       "      <td>Female</td>\n",
       "      <td>228.0</td>\n",
       "      <td>Chihuahua Longhair/Miniature Poodle</td>\n",
       "      <td>White</td>\n",
       "      <td>Two</td>\n",
       "      <td>Chihuahua Longhair</td>\n",
       "      <td>Miniature Poodle</td>\n",
       "      <td>White</td>\n",
       "      <td>Senior</td>\n",
       "    </tr>\n",
       "  </tbody>\n",
       "</table>\n",
       "</div>"
      ],
      "text/plain": [
       "      OutcomeType     Sex  AgeMonth                                Breed  \\\n",
       "66772  Euthanasia    Male     216.0              Miniature Schnauzer Mix   \n",
       "66774    Adoption    Male     216.0               Chihuahua Longhair Mix   \n",
       "66786  Euthanasia  Female     228.0                     Miniature Poodle   \n",
       "66787    Transfer    Male     228.0              Chihuahua Shorthair Mix   \n",
       "66790  Euthanasia  Female     228.0  Chihuahua Longhair/Miniature Poodle   \n",
       "\n",
       "           Color BreedCategory             BreedPrimary       BreedSecond  \\\n",
       "66772       Gray           Mix  Miniature Schnauzer Mix              None   \n",
       "66774  White/Tan           Mix   Chihuahua Longhair Mix              None   \n",
       "66786      White          Pure         Miniature Poodle              None   \n",
       "66787      Brown           Mix  Chihuahua Shorthair Mix              None   \n",
       "66790      White           Two       Chihuahua Longhair  Miniature Poodle   \n",
       "\n",
       "      Top_colors PetAgeCategory  \n",
       "66772     Others         Senior  \n",
       "66774  White/Tan         Senior  \n",
       "66786      White         Senior  \n",
       "66787      Brown         Senior  \n",
       "66790      White         Senior  "
      ]
     },
     "execution_count": 49,
     "metadata": {},
     "output_type": "execute_result"
    }
   ],
   "source": [
    "df4.loc[50000:50020, :]\n",
    "df4.tail()"
   ]
  },
  {
   "cell_type": "code",
   "execution_count": 50,
   "metadata": {},
   "outputs": [
    {
     "data": {
      "text/plain": [
       "Young     22342\n",
       "Baby      13355\n",
       "Adult      9249\n",
       "Senior     3077\n",
       "Name: PetAgeCategory, dtype: int64"
      ]
     },
     "execution_count": 50,
     "metadata": {},
     "output_type": "execute_result"
    }
   ],
   "source": [
    "# What's the breakdown by Pet_age_category after binning??\n",
    "df4.PetAgeCategory.value_counts().sort_values(ascending=False).head(10)"
   ]
  },
  {
   "cell_type": "markdown",
   "metadata": {},
   "source": [
    "## Changing to Binary Outcome - Take the dog or Don't take the dog?\n",
    "* Positive Outcome is Adoption - Take in the dog\n",
    "* Negative Outcome is a combination of Transfer, Euthanized and Death categories - Don't take in the dog"
   ]
  },
  {
   "cell_type": "code",
   "execution_count": 51,
   "metadata": {},
   "outputs": [
    {
     "data": {
      "text/html": [
       "<div>\n",
       "<style scoped>\n",
       "    .dataframe tbody tr th:only-of-type {\n",
       "        vertical-align: middle;\n",
       "    }\n",
       "\n",
       "    .dataframe tbody tr th {\n",
       "        vertical-align: top;\n",
       "    }\n",
       "\n",
       "    .dataframe thead th {\n",
       "        text-align: right;\n",
       "    }\n",
       "</style>\n",
       "<table border=\"1\" class=\"dataframe\">\n",
       "  <thead>\n",
       "    <tr style=\"text-align: right;\">\n",
       "      <th></th>\n",
       "      <th>OutcomeType</th>\n",
       "      <th>Sex</th>\n",
       "      <th>AgeMonth</th>\n",
       "      <th>Breed</th>\n",
       "      <th>Color</th>\n",
       "      <th>BreedCategory</th>\n",
       "      <th>BreedPrimary</th>\n",
       "      <th>BreedSecond</th>\n",
       "      <th>Top_colors</th>\n",
       "      <th>PetAgeCategory</th>\n",
       "      <th>BinaryOutcome</th>\n",
       "    </tr>\n",
       "  </thead>\n",
       "  <tbody>\n",
       "    <tr>\n",
       "      <th>0</th>\n",
       "      <td>Adoption</td>\n",
       "      <td>Female</td>\n",
       "      <td>1.000000</td>\n",
       "      <td>Border Collie Mix</td>\n",
       "      <td>Chocolate/White</td>\n",
       "      <td>Mix</td>\n",
       "      <td>Border Collie Mix</td>\n",
       "      <td>None</td>\n",
       "      <td>Others</td>\n",
       "      <td>Baby</td>\n",
       "      <td>No</td>\n",
       "    </tr>\n",
       "    <tr>\n",
       "      <th>1</th>\n",
       "      <td>Transfer</td>\n",
       "      <td>Male</td>\n",
       "      <td>0.066667</td>\n",
       "      <td>German Shepherd Mix</td>\n",
       "      <td>Brown</td>\n",
       "      <td>Mix</td>\n",
       "      <td>German Shepherd Mix</td>\n",
       "      <td>None</td>\n",
       "      <td>Brown</td>\n",
       "      <td>Baby</td>\n",
       "      <td>No</td>\n",
       "    </tr>\n",
       "    <tr>\n",
       "      <th>2</th>\n",
       "      <td>Transfer</td>\n",
       "      <td>Male</td>\n",
       "      <td>0.066667</td>\n",
       "      <td>Labrador Retriever Mix</td>\n",
       "      <td>Black/White</td>\n",
       "      <td>Mix</td>\n",
       "      <td>Labrador Retriever Mix</td>\n",
       "      <td>None</td>\n",
       "      <td>Black/White</td>\n",
       "      <td>Baby</td>\n",
       "      <td>No</td>\n",
       "    </tr>\n",
       "    <tr>\n",
       "      <th>4</th>\n",
       "      <td>Transfer</td>\n",
       "      <td>Female</td>\n",
       "      <td>0.066667</td>\n",
       "      <td>Dachshund Mix</td>\n",
       "      <td>Brown</td>\n",
       "      <td>Mix</td>\n",
       "      <td>Dachshund Mix</td>\n",
       "      <td>None</td>\n",
       "      <td>Brown</td>\n",
       "      <td>Baby</td>\n",
       "      <td>No</td>\n",
       "    </tr>\n",
       "    <tr>\n",
       "      <th>6</th>\n",
       "      <td>Transfer</td>\n",
       "      <td>Female</td>\n",
       "      <td>0.066667</td>\n",
       "      <td>Pit Bull Mix</td>\n",
       "      <td>Chocolate/White</td>\n",
       "      <td>Mix</td>\n",
       "      <td>Pit Bull Mix</td>\n",
       "      <td>None</td>\n",
       "      <td>Others</td>\n",
       "      <td>Baby</td>\n",
       "      <td>No</td>\n",
       "    </tr>\n",
       "  </tbody>\n",
       "</table>\n",
       "</div>"
      ],
      "text/plain": [
       "  OutcomeType     Sex  AgeMonth                   Breed            Color  \\\n",
       "0    Adoption  Female  1.000000       Border Collie Mix  Chocolate/White   \n",
       "1    Transfer    Male  0.066667     German Shepherd Mix            Brown   \n",
       "2    Transfer    Male  0.066667  Labrador Retriever Mix      Black/White   \n",
       "4    Transfer  Female  0.066667           Dachshund Mix            Brown   \n",
       "6    Transfer  Female  0.066667            Pit Bull Mix  Chocolate/White   \n",
       "\n",
       "  BreedCategory            BreedPrimary BreedSecond   Top_colors  \\\n",
       "0           Mix       Border Collie Mix        None       Others   \n",
       "1           Mix     German Shepherd Mix        None        Brown   \n",
       "2           Mix  Labrador Retriever Mix        None  Black/White   \n",
       "4           Mix           Dachshund Mix        None        Brown   \n",
       "6           Mix            Pit Bull Mix        None       Others   \n",
       "\n",
       "  PetAgeCategory BinaryOutcome  \n",
       "0           Baby            No  \n",
       "1           Baby            No  \n",
       "2           Baby            No  \n",
       "4           Baby            No  \n",
       "6           Baby            No  "
      ]
     },
     "execution_count": 51,
     "metadata": {},
     "output_type": "execute_result"
    }
   ],
   "source": [
    "# Create new BINARY_OUTCOME column and set to 0\n",
    "\n",
    "df4[\"BinaryOutcome\"]= \"No\"\n",
    "df4.head()"
   ]
  },
  {
   "cell_type": "code",
   "execution_count": 52,
   "metadata": {},
   "outputs": [],
   "source": [
    "# Find rows containing word \"Adoption\" and set to 1 (for Positive Outcome)\n",
    "# All other rows will be 0 (for Negative Outcome)\n",
    "\n",
    "df4.loc[df4[\"OutcomeType\"].str.contains(\"Adoption\"), \"BinaryOutcome\"] = \"Yes\""
   ]
  },
  {
   "cell_type": "code",
   "execution_count": 53,
   "metadata": {},
   "outputs": [
    {
     "data": {
      "text/html": [
       "<div>\n",
       "<style scoped>\n",
       "    .dataframe tbody tr th:only-of-type {\n",
       "        vertical-align: middle;\n",
       "    }\n",
       "\n",
       "    .dataframe tbody tr th {\n",
       "        vertical-align: top;\n",
       "    }\n",
       "\n",
       "    .dataframe thead th {\n",
       "        text-align: right;\n",
       "    }\n",
       "</style>\n",
       "<table border=\"1\" class=\"dataframe\">\n",
       "  <thead>\n",
       "    <tr style=\"text-align: right;\">\n",
       "      <th></th>\n",
       "      <th>OutcomeType</th>\n",
       "      <th>Sex</th>\n",
       "      <th>AgeMonth</th>\n",
       "      <th>Breed</th>\n",
       "      <th>Color</th>\n",
       "      <th>BreedCategory</th>\n",
       "      <th>BreedPrimary</th>\n",
       "      <th>BreedSecond</th>\n",
       "      <th>Top_colors</th>\n",
       "      <th>PetAgeCategory</th>\n",
       "      <th>BinaryOutcome</th>\n",
       "    </tr>\n",
       "  </thead>\n",
       "  <tbody>\n",
       "    <tr>\n",
       "      <th>200</th>\n",
       "      <td>Transfer</td>\n",
       "      <td>Female</td>\n",
       "      <td>0.2</td>\n",
       "      <td>Dachshund</td>\n",
       "      <td>Tan</td>\n",
       "      <td>Pure</td>\n",
       "      <td>Dachshund</td>\n",
       "      <td>None</td>\n",
       "      <td>Tan</td>\n",
       "      <td>Baby</td>\n",
       "      <td>No</td>\n",
       "    </tr>\n",
       "    <tr>\n",
       "      <th>201</th>\n",
       "      <td>Transfer</td>\n",
       "      <td>Male</td>\n",
       "      <td>0.2</td>\n",
       "      <td>Dachshund</td>\n",
       "      <td>Tan</td>\n",
       "      <td>Pure</td>\n",
       "      <td>Dachshund</td>\n",
       "      <td>None</td>\n",
       "      <td>Tan</td>\n",
       "      <td>Baby</td>\n",
       "      <td>No</td>\n",
       "    </tr>\n",
       "    <tr>\n",
       "      <th>205</th>\n",
       "      <td>Transfer</td>\n",
       "      <td>Female</td>\n",
       "      <td>0.2</td>\n",
       "      <td>German Shepherd/Rottweiler</td>\n",
       "      <td>Brown/Black</td>\n",
       "      <td>Two</td>\n",
       "      <td>German Shepherd</td>\n",
       "      <td>Rottweiler</td>\n",
       "      <td>Brown/Black</td>\n",
       "      <td>Baby</td>\n",
       "      <td>No</td>\n",
       "    </tr>\n",
       "    <tr>\n",
       "      <th>206</th>\n",
       "      <td>Transfer</td>\n",
       "      <td>Female</td>\n",
       "      <td>0.2</td>\n",
       "      <td>Labrador Retriever/Pit Bull</td>\n",
       "      <td>Brown Brindle</td>\n",
       "      <td>Two</td>\n",
       "      <td>Labrador Retriever</td>\n",
       "      <td>Pit Bull</td>\n",
       "      <td>Others</td>\n",
       "      <td>Baby</td>\n",
       "      <td>No</td>\n",
       "    </tr>\n",
       "    <tr>\n",
       "      <th>208</th>\n",
       "      <td>Transfer</td>\n",
       "      <td>Female</td>\n",
       "      <td>0.2</td>\n",
       "      <td>Rat Terrier Mix</td>\n",
       "      <td>White</td>\n",
       "      <td>Mix</td>\n",
       "      <td>Rat Terrier Mix</td>\n",
       "      <td>None</td>\n",
       "      <td>White</td>\n",
       "      <td>Baby</td>\n",
       "      <td>No</td>\n",
       "    </tr>\n",
       "    <tr>\n",
       "      <th>...</th>\n",
       "      <td>...</td>\n",
       "      <td>...</td>\n",
       "      <td>...</td>\n",
       "      <td>...</td>\n",
       "      <td>...</td>\n",
       "      <td>...</td>\n",
       "      <td>...</td>\n",
       "      <td>...</td>\n",
       "      <td>...</td>\n",
       "      <td>...</td>\n",
       "      <td>...</td>\n",
       "    </tr>\n",
       "    <tr>\n",
       "      <th>296</th>\n",
       "      <td>Transfer</td>\n",
       "      <td>Female</td>\n",
       "      <td>1.0</td>\n",
       "      <td>German Shepherd Mix</td>\n",
       "      <td>Brown</td>\n",
       "      <td>Mix</td>\n",
       "      <td>German Shepherd Mix</td>\n",
       "      <td>None</td>\n",
       "      <td>Brown</td>\n",
       "      <td>Baby</td>\n",
       "      <td>No</td>\n",
       "    </tr>\n",
       "    <tr>\n",
       "      <th>297</th>\n",
       "      <td>Transfer</td>\n",
       "      <td>Male</td>\n",
       "      <td>1.0</td>\n",
       "      <td>Australian Cattle Dog Mix</td>\n",
       "      <td>Cream/Brown Merle</td>\n",
       "      <td>Mix</td>\n",
       "      <td>Australian Cattle Dog Mix</td>\n",
       "      <td>None</td>\n",
       "      <td>Others</td>\n",
       "      <td>Baby</td>\n",
       "      <td>No</td>\n",
       "    </tr>\n",
       "    <tr>\n",
       "      <th>298</th>\n",
       "      <td>Adoption</td>\n",
       "      <td>Female</td>\n",
       "      <td>1.0</td>\n",
       "      <td>Labrador Retriever Mix</td>\n",
       "      <td>Tan</td>\n",
       "      <td>Mix</td>\n",
       "      <td>Labrador Retriever Mix</td>\n",
       "      <td>None</td>\n",
       "      <td>Tan</td>\n",
       "      <td>Baby</td>\n",
       "      <td>Yes</td>\n",
       "    </tr>\n",
       "    <tr>\n",
       "      <th>299</th>\n",
       "      <td>Transfer</td>\n",
       "      <td>Male</td>\n",
       "      <td>1.0</td>\n",
       "      <td>Jack Russell Terrier Mix</td>\n",
       "      <td>Sable</td>\n",
       "      <td>Mix</td>\n",
       "      <td>Jack Russell Terrier Mix</td>\n",
       "      <td>None</td>\n",
       "      <td>Others</td>\n",
       "      <td>Baby</td>\n",
       "      <td>No</td>\n",
       "    </tr>\n",
       "    <tr>\n",
       "      <th>300</th>\n",
       "      <td>Adoption</td>\n",
       "      <td>Male</td>\n",
       "      <td>1.0</td>\n",
       "      <td>Labrador Retriever/Blue Lacy</td>\n",
       "      <td>Tan/White</td>\n",
       "      <td>Two</td>\n",
       "      <td>Labrador Retriever</td>\n",
       "      <td>Blue Lacy</td>\n",
       "      <td>Tan/White</td>\n",
       "      <td>Baby</td>\n",
       "      <td>Yes</td>\n",
       "    </tr>\n",
       "  </tbody>\n",
       "</table>\n",
       "<p>90 rows × 11 columns</p>\n",
       "</div>"
      ],
      "text/plain": [
       "    OutcomeType     Sex  AgeMonth                         Breed  \\\n",
       "200    Transfer  Female       0.2                     Dachshund   \n",
       "201    Transfer    Male       0.2                     Dachshund   \n",
       "205    Transfer  Female       0.2    German Shepherd/Rottweiler   \n",
       "206    Transfer  Female       0.2   Labrador Retriever/Pit Bull   \n",
       "208    Transfer  Female       0.2               Rat Terrier Mix   \n",
       "..          ...     ...       ...                           ...   \n",
       "296    Transfer  Female       1.0           German Shepherd Mix   \n",
       "297    Transfer    Male       1.0     Australian Cattle Dog Mix   \n",
       "298    Adoption  Female       1.0        Labrador Retriever Mix   \n",
       "299    Transfer    Male       1.0      Jack Russell Terrier Mix   \n",
       "300    Adoption    Male       1.0  Labrador Retriever/Blue Lacy   \n",
       "\n",
       "                 Color BreedCategory               BreedPrimary BreedSecond  \\\n",
       "200                Tan          Pure                  Dachshund        None   \n",
       "201                Tan          Pure                  Dachshund        None   \n",
       "205        Brown/Black           Two            German Shepherd  Rottweiler   \n",
       "206      Brown Brindle           Two         Labrador Retriever    Pit Bull   \n",
       "208              White           Mix            Rat Terrier Mix        None   \n",
       "..                 ...           ...                        ...         ...   \n",
       "296              Brown           Mix        German Shepherd Mix        None   \n",
       "297  Cream/Brown Merle           Mix  Australian Cattle Dog Mix        None   \n",
       "298                Tan           Mix     Labrador Retriever Mix        None   \n",
       "299              Sable           Mix   Jack Russell Terrier Mix        None   \n",
       "300          Tan/White           Two         Labrador Retriever   Blue Lacy   \n",
       "\n",
       "      Top_colors PetAgeCategory BinaryOutcome  \n",
       "200          Tan           Baby            No  \n",
       "201          Tan           Baby            No  \n",
       "205  Brown/Black           Baby            No  \n",
       "206       Others           Baby            No  \n",
       "208        White           Baby            No  \n",
       "..           ...            ...           ...  \n",
       "296        Brown           Baby            No  \n",
       "297       Others           Baby            No  \n",
       "298          Tan           Baby           Yes  \n",
       "299       Others           Baby            No  \n",
       "300    Tan/White           Baby           Yes  \n",
       "\n",
       "[90 rows x 11 columns]"
      ]
     },
     "execution_count": 53,
     "metadata": {},
     "output_type": "execute_result"
    }
   ],
   "source": [
    "df4.loc[200:300, :]"
   ]
  },
  {
   "cell_type": "markdown",
   "metadata": {},
   "source": [
    "## OneHot Encoding"
   ]
  },
  {
   "cell_type": "code",
   "execution_count": 54,
   "metadata": {},
   "outputs": [
    {
     "data": {
      "text/html": [
       "<div>\n",
       "<style scoped>\n",
       "    .dataframe tbody tr th:only-of-type {\n",
       "        vertical-align: middle;\n",
       "    }\n",
       "\n",
       "    .dataframe tbody tr th {\n",
       "        vertical-align: top;\n",
       "    }\n",
       "\n",
       "    .dataframe thead th {\n",
       "        text-align: right;\n",
       "    }\n",
       "</style>\n",
       "<table border=\"1\" class=\"dataframe\">\n",
       "  <thead>\n",
       "    <tr style=\"text-align: right;\">\n",
       "      <th></th>\n",
       "      <th>OutcomeType</th>\n",
       "      <th>Sex</th>\n",
       "      <th>AgeMonth</th>\n",
       "      <th>Breed</th>\n",
       "      <th>Color</th>\n",
       "      <th>BreedCategory</th>\n",
       "      <th>BreedPrimary</th>\n",
       "      <th>BreedSecond</th>\n",
       "      <th>Top_colors</th>\n",
       "      <th>PetAgeCategory</th>\n",
       "      <th>BinaryOutcome</th>\n",
       "    </tr>\n",
       "  </thead>\n",
       "  <tbody>\n",
       "    <tr>\n",
       "      <th>0</th>\n",
       "      <td>Adoption</td>\n",
       "      <td>Female</td>\n",
       "      <td>1.000000</td>\n",
       "      <td>Border Collie Mix</td>\n",
       "      <td>Chocolate/White</td>\n",
       "      <td>Mix</td>\n",
       "      <td>Border Collie Mix</td>\n",
       "      <td>None</td>\n",
       "      <td>Others</td>\n",
       "      <td>Baby</td>\n",
       "      <td>Yes</td>\n",
       "    </tr>\n",
       "    <tr>\n",
       "      <th>1</th>\n",
       "      <td>Transfer</td>\n",
       "      <td>Male</td>\n",
       "      <td>0.066667</td>\n",
       "      <td>German Shepherd Mix</td>\n",
       "      <td>Brown</td>\n",
       "      <td>Mix</td>\n",
       "      <td>German Shepherd Mix</td>\n",
       "      <td>None</td>\n",
       "      <td>Brown</td>\n",
       "      <td>Baby</td>\n",
       "      <td>No</td>\n",
       "    </tr>\n",
       "    <tr>\n",
       "      <th>2</th>\n",
       "      <td>Transfer</td>\n",
       "      <td>Male</td>\n",
       "      <td>0.066667</td>\n",
       "      <td>Labrador Retriever Mix</td>\n",
       "      <td>Black/White</td>\n",
       "      <td>Mix</td>\n",
       "      <td>Labrador Retriever Mix</td>\n",
       "      <td>None</td>\n",
       "      <td>Black/White</td>\n",
       "      <td>Baby</td>\n",
       "      <td>No</td>\n",
       "    </tr>\n",
       "    <tr>\n",
       "      <th>4</th>\n",
       "      <td>Transfer</td>\n",
       "      <td>Female</td>\n",
       "      <td>0.066667</td>\n",
       "      <td>Dachshund Mix</td>\n",
       "      <td>Brown</td>\n",
       "      <td>Mix</td>\n",
       "      <td>Dachshund Mix</td>\n",
       "      <td>None</td>\n",
       "      <td>Brown</td>\n",
       "      <td>Baby</td>\n",
       "      <td>No</td>\n",
       "    </tr>\n",
       "    <tr>\n",
       "      <th>6</th>\n",
       "      <td>Transfer</td>\n",
       "      <td>Female</td>\n",
       "      <td>0.066667</td>\n",
       "      <td>Pit Bull Mix</td>\n",
       "      <td>Chocolate/White</td>\n",
       "      <td>Mix</td>\n",
       "      <td>Pit Bull Mix</td>\n",
       "      <td>None</td>\n",
       "      <td>Others</td>\n",
       "      <td>Baby</td>\n",
       "      <td>No</td>\n",
       "    </tr>\n",
       "  </tbody>\n",
       "</table>\n",
       "</div>"
      ],
      "text/plain": [
       "  OutcomeType     Sex  AgeMonth                   Breed            Color  \\\n",
       "0    Adoption  Female  1.000000       Border Collie Mix  Chocolate/White   \n",
       "1    Transfer    Male  0.066667     German Shepherd Mix            Brown   \n",
       "2    Transfer    Male  0.066667  Labrador Retriever Mix      Black/White   \n",
       "4    Transfer  Female  0.066667           Dachshund Mix            Brown   \n",
       "6    Transfer  Female  0.066667            Pit Bull Mix  Chocolate/White   \n",
       "\n",
       "  BreedCategory            BreedPrimary BreedSecond   Top_colors  \\\n",
       "0           Mix       Border Collie Mix        None       Others   \n",
       "1           Mix     German Shepherd Mix        None        Brown   \n",
       "2           Mix  Labrador Retriever Mix        None  Black/White   \n",
       "4           Mix           Dachshund Mix        None        Brown   \n",
       "6           Mix            Pit Bull Mix        None       Others   \n",
       "\n",
       "  PetAgeCategory BinaryOutcome  \n",
       "0           Baby           Yes  \n",
       "1           Baby            No  \n",
       "2           Baby            No  \n",
       "4           Baby            No  \n",
       "6           Baby            No  "
      ]
     },
     "execution_count": 54,
     "metadata": {},
     "output_type": "execute_result"
    }
   ],
   "source": [
    "df4.head()"
   ]
  },
  {
   "cell_type": "code",
   "execution_count": 55,
   "metadata": {},
   "outputs": [],
   "source": [
    "# Drop these columns:\n",
    "# Outcome_Type column since we now have Binary_outcome \n",
    "# Age_month since we have Pet_age_category\n",
    "# Breed since we have Breed_primary, Breed_second     - SHOULD BE DROP BREED_SECOND??\n",
    "# Color since we have Color1, Color2\n",
    "\n",
    "df5 = df4.drop(columns=['OutcomeType','AgeMonth', 'Breed', 'Color','BreedSecond' ])"
   ]
  },
  {
   "cell_type": "code",
   "execution_count": 56,
   "metadata": {},
   "outputs": [
    {
     "data": {
      "text/plain": [
       "Sex               0.000000\n",
       "BreedCategory     0.000000\n",
       "BreedPrimary      0.000000\n",
       "Top_colors        0.000000\n",
       "PetAgeCategory    0.000042\n",
       "BinaryOutcome     0.000000\n",
       "dtype: float64"
      ]
     },
     "execution_count": 56,
     "metadata": {},
     "output_type": "execute_result"
    }
   ],
   "source": [
    "# Check null values\n",
    "\n",
    "df5.apply(lambda x: sum(x.isnull()/len(df5)))"
   ]
  },
  {
   "cell_type": "code",
   "execution_count": 57,
   "metadata": {},
   "outputs": [],
   "source": [
    "# Fixing issues by dropping rows with null values\n",
    "df5 = df5.dropna(axis=0, subset=[\"PetAgeCategory\"])"
   ]
  },
  {
   "cell_type": "code",
   "execution_count": 58,
   "metadata": {},
   "outputs": [
    {
     "data": {
      "text/plain": [
       "Sex               0.0\n",
       "BreedCategory     0.0\n",
       "BreedPrimary      0.0\n",
       "Top_colors        0.0\n",
       "PetAgeCategory    0.0\n",
       "BinaryOutcome     0.0\n",
       "dtype: float64"
      ]
     },
     "execution_count": 58,
     "metadata": {},
     "output_type": "execute_result"
    }
   ],
   "source": [
    "\n",
    "df5.apply(lambda x: sum(x.isnull()/len(df5)))"
   ]
  },
  {
   "cell_type": "code",
   "execution_count": 59,
   "metadata": {},
   "outputs": [
    {
     "data": {
      "text/html": [
       "<div>\n",
       "<style scoped>\n",
       "    .dataframe tbody tr th:only-of-type {\n",
       "        vertical-align: middle;\n",
       "    }\n",
       "\n",
       "    .dataframe tbody tr th {\n",
       "        vertical-align: top;\n",
       "    }\n",
       "\n",
       "    .dataframe thead th {\n",
       "        text-align: right;\n",
       "    }\n",
       "</style>\n",
       "<table border=\"1\" class=\"dataframe\">\n",
       "  <thead>\n",
       "    <tr style=\"text-align: right;\">\n",
       "      <th></th>\n",
       "      <th>Sex</th>\n",
       "      <th>BreedCategory</th>\n",
       "      <th>BreedPrimary</th>\n",
       "      <th>Top_colors</th>\n",
       "      <th>PetAgeCategory</th>\n",
       "      <th>BinaryOutcome</th>\n",
       "    </tr>\n",
       "  </thead>\n",
       "  <tbody>\n",
       "    <tr>\n",
       "      <th>0</th>\n",
       "      <td>Female</td>\n",
       "      <td>Mix</td>\n",
       "      <td>Border Collie Mix</td>\n",
       "      <td>Others</td>\n",
       "      <td>Baby</td>\n",
       "      <td>Yes</td>\n",
       "    </tr>\n",
       "    <tr>\n",
       "      <th>1</th>\n",
       "      <td>Male</td>\n",
       "      <td>Mix</td>\n",
       "      <td>German Shepherd Mix</td>\n",
       "      <td>Brown</td>\n",
       "      <td>Baby</td>\n",
       "      <td>No</td>\n",
       "    </tr>\n",
       "    <tr>\n",
       "      <th>2</th>\n",
       "      <td>Male</td>\n",
       "      <td>Mix</td>\n",
       "      <td>Labrador Retriever Mix</td>\n",
       "      <td>Black/White</td>\n",
       "      <td>Baby</td>\n",
       "      <td>No</td>\n",
       "    </tr>\n",
       "    <tr>\n",
       "      <th>4</th>\n",
       "      <td>Female</td>\n",
       "      <td>Mix</td>\n",
       "      <td>Dachshund Mix</td>\n",
       "      <td>Brown</td>\n",
       "      <td>Baby</td>\n",
       "      <td>No</td>\n",
       "    </tr>\n",
       "    <tr>\n",
       "      <th>6</th>\n",
       "      <td>Female</td>\n",
       "      <td>Mix</td>\n",
       "      <td>Pit Bull Mix</td>\n",
       "      <td>Others</td>\n",
       "      <td>Baby</td>\n",
       "      <td>No</td>\n",
       "    </tr>\n",
       "  </tbody>\n",
       "</table>\n",
       "</div>"
      ],
      "text/plain": [
       "      Sex BreedCategory            BreedPrimary   Top_colors PetAgeCategory  \\\n",
       "0  Female           Mix       Border Collie Mix       Others           Baby   \n",
       "1    Male           Mix     German Shepherd Mix        Brown           Baby   \n",
       "2    Male           Mix  Labrador Retriever Mix  Black/White           Baby   \n",
       "4  Female           Mix           Dachshund Mix        Brown           Baby   \n",
       "6  Female           Mix            Pit Bull Mix       Others           Baby   \n",
       "\n",
       "  BinaryOutcome  \n",
       "0           Yes  \n",
       "1            No  \n",
       "2            No  \n",
       "4            No  \n",
       "6            No  "
      ]
     },
     "execution_count": 59,
     "metadata": {},
     "output_type": "execute_result"
    }
   ],
   "source": [
    "df5.head()"
   ]
  },
  {
   "cell_type": "code",
   "execution_count": 60,
   "metadata": {},
   "outputs": [],
   "source": [
    "#  encoding of categorical features\n",
    "from sklearn.preprocessing import OneHotEncoder\n",
    "ohe = OneHotEncoder(sparse=False)\n"
   ]
  },
  {
   "cell_type": "code",
   "execution_count": 61,
   "metadata": {},
   "outputs": [],
   "source": [
    "X = df5.drop(['BinaryOutcome' ], axis='columns')"
   ]
  },
  {
   "cell_type": "code",
   "execution_count": 62,
   "metadata": {},
   "outputs": [
    {
     "data": {
      "text/html": [
       "<div>\n",
       "<style scoped>\n",
       "    .dataframe tbody tr th:only-of-type {\n",
       "        vertical-align: middle;\n",
       "    }\n",
       "\n",
       "    .dataframe tbody tr th {\n",
       "        vertical-align: top;\n",
       "    }\n",
       "\n",
       "    .dataframe thead th {\n",
       "        text-align: right;\n",
       "    }\n",
       "</style>\n",
       "<table border=\"1\" class=\"dataframe\">\n",
       "  <thead>\n",
       "    <tr style=\"text-align: right;\">\n",
       "      <th></th>\n",
       "      <th>Sex</th>\n",
       "      <th>BreedCategory</th>\n",
       "      <th>BreedPrimary</th>\n",
       "      <th>Top_colors</th>\n",
       "      <th>PetAgeCategory</th>\n",
       "    </tr>\n",
       "  </thead>\n",
       "  <tbody>\n",
       "    <tr>\n",
       "      <th>0</th>\n",
       "      <td>Female</td>\n",
       "      <td>Mix</td>\n",
       "      <td>Border Collie Mix</td>\n",
       "      <td>Others</td>\n",
       "      <td>Baby</td>\n",
       "    </tr>\n",
       "    <tr>\n",
       "      <th>1</th>\n",
       "      <td>Male</td>\n",
       "      <td>Mix</td>\n",
       "      <td>German Shepherd Mix</td>\n",
       "      <td>Brown</td>\n",
       "      <td>Baby</td>\n",
       "    </tr>\n",
       "    <tr>\n",
       "      <th>2</th>\n",
       "      <td>Male</td>\n",
       "      <td>Mix</td>\n",
       "      <td>Labrador Retriever Mix</td>\n",
       "      <td>Black/White</td>\n",
       "      <td>Baby</td>\n",
       "    </tr>\n",
       "    <tr>\n",
       "      <th>4</th>\n",
       "      <td>Female</td>\n",
       "      <td>Mix</td>\n",
       "      <td>Dachshund Mix</td>\n",
       "      <td>Brown</td>\n",
       "      <td>Baby</td>\n",
       "    </tr>\n",
       "    <tr>\n",
       "      <th>6</th>\n",
       "      <td>Female</td>\n",
       "      <td>Mix</td>\n",
       "      <td>Pit Bull Mix</td>\n",
       "      <td>Others</td>\n",
       "      <td>Baby</td>\n",
       "    </tr>\n",
       "  </tbody>\n",
       "</table>\n",
       "</div>"
      ],
      "text/plain": [
       "      Sex BreedCategory            BreedPrimary   Top_colors PetAgeCategory\n",
       "0  Female           Mix       Border Collie Mix       Others           Baby\n",
       "1    Male           Mix     German Shepherd Mix        Brown           Baby\n",
       "2    Male           Mix  Labrador Retriever Mix  Black/White           Baby\n",
       "4  Female           Mix           Dachshund Mix        Brown           Baby\n",
       "6  Female           Mix            Pit Bull Mix       Others           Baby"
      ]
     },
     "execution_count": 62,
     "metadata": {},
     "output_type": "execute_result"
    }
   ],
   "source": [
    "X.head()"
   ]
  },
  {
   "cell_type": "code",
   "execution_count": 63,
   "metadata": {},
   "outputs": [],
   "source": [
    "# use when different features need different preprocessing\n",
    "from sklearn.compose import make_column_transformer\n",
    "#  encoding of categorical features\n",
    "from sklearn.preprocessing import OneHotEncoder\n",
    "ohe = OneHotEncoder(sparse=False)"
   ]
  },
  {
   "cell_type": "code",
   "execution_count": 64,
   "metadata": {},
   "outputs": [],
   "source": [
    "column_trans = make_column_transformer(\n",
    "    (OneHotEncoder(), ['Sex', 'BreedCategory','BreedPrimary', 'PetAgeCategory','Top_colors']),\n",
    "    remainder='passthrough')"
   ]
  },
  {
   "cell_type": "code",
   "execution_count": 65,
   "metadata": {},
   "outputs": [],
   "source": [
    "X = column_trans.fit_transform(X)"
   ]
  },
  {
   "cell_type": "code",
   "execution_count": 66,
   "metadata": {},
   "outputs": [
    {
     "data": {
      "text/plain": [
       "0        False\n",
       "1        False\n",
       "2        False\n",
       "4        False\n",
       "6        False\n",
       "         ...  \n",
       "66772    False\n",
       "66774    False\n",
       "66786    False\n",
       "66787    False\n",
       "66790    False\n",
       "Name: BinaryOutcome, Length: 48023, dtype: bool"
      ]
     },
     "execution_count": 66,
     "metadata": {},
     "output_type": "execute_result"
    }
   ],
   "source": [
    "df5[\"BinaryOutcome\"].isnull()"
   ]
  },
  {
   "cell_type": "code",
   "execution_count": 67,
   "metadata": {},
   "outputs": [],
   "source": [
    "y = ohe.fit_transform(df5[['BinaryOutcome']])\n",
    "# print(y)\n",
    "# y = df5[['Binary_outcome']]\n"
   ]
  },
  {
   "cell_type": "markdown",
   "metadata": {},
   "source": [
    "## Neural Network"
   ]
  },
  {
   "cell_type": "markdown",
   "metadata": {},
   "source": [
    "#### 1 layer\n"
   ]
  },
  {
   "cell_type": "code",
   "execution_count": 68,
   "metadata": {},
   "outputs": [
    {
     "data": {
      "text/plain": [
       "'2.2.4-tf'"
      ]
     },
     "execution_count": 68,
     "metadata": {},
     "output_type": "execute_result"
    }
   ],
   "source": [
    "import tensorflow\n",
    "tensorflow.keras.__version__"
   ]
  },
  {
   "cell_type": "code",
   "execution_count": 69,
   "metadata": {},
   "outputs": [],
   "source": [
    "import tensorflow\n",
    "tensorflow.keras.__version__\n",
    "from tensorflow.keras.models import Sequential\n",
    "from tensorflow.keras.layers import Dense\n",
    "from sklearn.model_selection import train_test_split"
   ]
  },
  {
   "cell_type": "code",
   "execution_count": 70,
   "metadata": {},
   "outputs": [],
   "source": [
    " X_train, X_test, y_train, y_test = train_test_split(\n",
    "    X, y, random_state=1)"
   ]
  },
  {
   "cell_type": "code",
   "execution_count": 71,
   "metadata": {},
   "outputs": [],
   "source": [
    "# Create model and add layers\n",
    "model = Sequential()\n",
    "model.add(Dense(units=200, activation='relu', input_dim=397))\n",
    "model.add(Dense(units=100, activation='relu'))\n",
    "model.add(Dense(units=50, activation='relu'))\n",
    "model.add(Dense(units=2, activation='softmax'))"
   ]
  },
  {
   "cell_type": "code",
   "execution_count": 72,
   "metadata": {},
   "outputs": [],
   "source": [
    " # Compile and fit the model\n",
    "model.compile(optimizer='adam',\n",
    "              loss='binary_crossentropy',\n",
    "              metrics=['accuracy'])"
   ]
  },
  {
   "cell_type": "code",
   "execution_count": 73,
   "metadata": {},
   "outputs": [
    {
     "name": "stdout",
     "output_type": "stream",
     "text": [
      "Model: \"sequential\"\n",
      "_________________________________________________________________\n",
      "Layer (type)                 Output Shape              Param #   \n",
      "=================================================================\n",
      "dense (Dense)                (None, 200)               79600     \n",
      "_________________________________________________________________\n",
      "dense_1 (Dense)              (None, 100)               20100     \n",
      "_________________________________________________________________\n",
      "dense_2 (Dense)              (None, 50)                5050      \n",
      "_________________________________________________________________\n",
      "dense_3 (Dense)              (None, 2)                 102       \n",
      "=================================================================\n",
      "Total params: 104,852\n",
      "Trainable params: 104,852\n",
      "Non-trainable params: 0\n",
      "_________________________________________________________________\n"
     ]
    }
   ],
   "source": [
    " model.summary()"
   ]
  },
  {
   "cell_type": "code",
   "execution_count": 74,
   "metadata": {},
   "outputs": [],
   "source": [
    "X_train.shape\n",
    "X_train = X_train.toarray()"
   ]
  },
  {
   "cell_type": "code",
   "execution_count": 75,
   "metadata": {},
   "outputs": [
    {
     "data": {
      "text/plain": [
       "(36017, 2)"
      ]
     },
     "execution_count": 75,
     "metadata": {},
     "output_type": "execute_result"
    }
   ],
   "source": [
    "y_train.shape"
   ]
  },
  {
   "cell_type": "code",
   "execution_count": 76,
   "metadata": {},
   "outputs": [
    {
     "name": "stdout",
     "output_type": "stream",
     "text": [
      "Train on 36017 samples\n",
      "Epoch 1/60\n",
      "36017/36017 - 5s - loss: 0.6329 - accuracy: 0.6596\n",
      "Epoch 2/60\n",
      "36017/36017 - 3s - loss: 0.6223 - accuracy: 0.6678\n",
      "Epoch 3/60\n",
      "36017/36017 - 3s - loss: 0.6152 - accuracy: 0.6741\n",
      "Epoch 4/60\n",
      "36017/36017 - 4s - loss: 0.6082 - accuracy: 0.6778\n",
      "Epoch 5/60\n",
      "36017/36017 - 5s - loss: 0.5999 - accuracy: 0.6832\n",
      "Epoch 6/60\n",
      "36017/36017 - 5s - loss: 0.5909 - accuracy: 0.6902\n",
      "Epoch 7/60\n",
      "36017/36017 - 4s - loss: 0.5826 - accuracy: 0.6964\n",
      "Epoch 8/60\n",
      "36017/36017 - 4s - loss: 0.5739 - accuracy: 0.7003\n",
      "Epoch 9/60\n",
      "36017/36017 - 3s - loss: 0.5655 - accuracy: 0.7041\n",
      "Epoch 10/60\n",
      "36017/36017 - 4s - loss: 0.5586 - accuracy: 0.7088\n",
      "Epoch 11/60\n",
      "36017/36017 - 3s - loss: 0.5520 - accuracy: 0.7121\n",
      "Epoch 12/60\n",
      "36017/36017 - 3s - loss: 0.5452 - accuracy: 0.7146\n",
      "Epoch 13/60\n",
      "36017/36017 - 4s - loss: 0.5408 - accuracy: 0.7161\n",
      "Epoch 14/60\n",
      "36017/36017 - 4s - loss: 0.5358 - accuracy: 0.7166\n",
      "Epoch 15/60\n",
      "36017/36017 - 3s - loss: 0.5313 - accuracy: 0.7196\n",
      "Epoch 16/60\n",
      "36017/36017 - 5s - loss: 0.5281 - accuracy: 0.7198\n",
      "Epoch 17/60\n",
      "36017/36017 - 5s - loss: 0.5253 - accuracy: 0.7225\n",
      "Epoch 18/60\n",
      "36017/36017 - 4s - loss: 0.5213 - accuracy: 0.7244\n",
      "Epoch 19/60\n",
      "36017/36017 - 4s - loss: 0.5193 - accuracy: 0.7252\n",
      "Epoch 20/60\n",
      "36017/36017 - 5s - loss: 0.5176 - accuracy: 0.7255\n",
      "Epoch 21/60\n",
      "36017/36017 - 7s - loss: 0.5141 - accuracy: 0.7267\n",
      "Epoch 22/60\n",
      "36017/36017 - 7s - loss: 0.5137 - accuracy: 0.7284\n",
      "Epoch 23/60\n",
      "36017/36017 - 5s - loss: 0.5107 - accuracy: 0.7288\n",
      "Epoch 24/60\n",
      "36017/36017 - 3s - loss: 0.5108 - accuracy: 0.7283\n",
      "Epoch 25/60\n",
      "36017/36017 - 4s - loss: 0.5076 - accuracy: 0.7289\n",
      "Epoch 26/60\n",
      "36017/36017 - 4s - loss: 0.5074 - accuracy: 0.7301\n",
      "Epoch 27/60\n",
      "36017/36017 - 4s - loss: 0.5060 - accuracy: 0.7298\n",
      "Epoch 28/60\n",
      "36017/36017 - 4s - loss: 0.5052 - accuracy: 0.7308\n",
      "Epoch 29/60\n",
      "36017/36017 - 4s - loss: 0.5042 - accuracy: 0.7315\n",
      "Epoch 30/60\n",
      "36017/36017 - 4s - loss: 0.5030 - accuracy: 0.7329\n",
      "Epoch 31/60\n",
      "36017/36017 - 3s - loss: 0.5018 - accuracy: 0.7312\n",
      "Epoch 32/60\n",
      "36017/36017 - 4s - loss: 0.5018 - accuracy: 0.7324\n",
      "Epoch 33/60\n",
      "36017/36017 - 4s - loss: 0.4989 - accuracy: 0.7326\n",
      "Epoch 34/60\n",
      "36017/36017 - 4s - loss: 0.5001 - accuracy: 0.7334\n",
      "Epoch 35/60\n",
      "36017/36017 - 4s - loss: 0.4992 - accuracy: 0.7335\n",
      "Epoch 36/60\n",
      "36017/36017 - 4s - loss: 0.4985 - accuracy: 0.7345\n",
      "Epoch 37/60\n",
      "36017/36017 - 4s - loss: 0.4980 - accuracy: 0.7338\n",
      "Epoch 38/60\n",
      "36017/36017 - 4s - loss: 0.4970 - accuracy: 0.7347\n",
      "Epoch 39/60\n",
      "36017/36017 - 3s - loss: 0.4980 - accuracy: 0.7349\n",
      "Epoch 40/60\n",
      "36017/36017 - 4s - loss: 0.4959 - accuracy: 0.7356\n",
      "Epoch 41/60\n",
      "36017/36017 - 3s - loss: 0.4953 - accuracy: 0.7350\n",
      "Epoch 42/60\n",
      "36017/36017 - 5s - loss: 0.4943 - accuracy: 0.7361\n",
      "Epoch 43/60\n",
      "36017/36017 - 14s - loss: 0.4952 - accuracy: 0.7357\n",
      "Epoch 44/60\n",
      "36017/36017 - 5s - loss: 0.4938 - accuracy: 0.7361\n",
      "Epoch 45/60\n",
      "36017/36017 - 4s - loss: 0.4949 - accuracy: 0.7349\n",
      "Epoch 46/60\n",
      "36017/36017 - 4s - loss: 0.4940 - accuracy: 0.7368\n",
      "Epoch 47/60\n",
      "36017/36017 - 4s - loss: 0.4938 - accuracy: 0.7364\n",
      "Epoch 48/60\n",
      "36017/36017 - 4s - loss: 0.4925 - accuracy: 0.7366\n",
      "Epoch 49/60\n",
      "36017/36017 - 4s - loss: 0.4924 - accuracy: 0.7373\n",
      "Epoch 50/60\n",
      "36017/36017 - 4s - loss: 0.4922 - accuracy: 0.7351\n",
      "Epoch 51/60\n",
      "36017/36017 - 4s - loss: 0.4921 - accuracy: 0.7366\n",
      "Epoch 52/60\n",
      "36017/36017 - 4s - loss: 0.4915 - accuracy: 0.7364\n",
      "Epoch 53/60\n",
      "36017/36017 - 4s - loss: 0.4912 - accuracy: 0.7378\n",
      "Epoch 54/60\n",
      "36017/36017 - 4s - loss: 0.4923 - accuracy: 0.7360\n",
      "Epoch 55/60\n",
      "36017/36017 - 4s - loss: 0.4904 - accuracy: 0.7383\n",
      "Epoch 56/60\n",
      "36017/36017 - 4s - loss: 0.4906 - accuracy: 0.7379\n",
      "Epoch 57/60\n",
      "36017/36017 - 4s - loss: 0.4907 - accuracy: 0.7380\n",
      "Epoch 58/60\n",
      "36017/36017 - 4s - loss: 0.4909 - accuracy: 0.7378\n",
      "Epoch 59/60\n",
      "36017/36017 - 4s - loss: 0.4904 - accuracy: 0.7375\n",
      "Epoch 60/60\n",
      "36017/36017 - 4s - loss: 0.4903 - accuracy: 0.7384\n"
     ]
    },
    {
     "data": {
      "text/plain": [
       "<tensorflow.python.keras.callbacks.History at 0x143dc5eff48>"
      ]
     },
     "execution_count": 76,
     "metadata": {},
     "output_type": "execute_result"
    }
   ],
   "source": [
    " model.fit(\n",
    "    X_train,\n",
    "    y_train,\n",
    "    epochs=60,\n",
    "    shuffle=True,\n",
    "    verbose = 2\n",
    ")"
   ]
  },
  {
   "cell_type": "code",
   "execution_count": null,
   "metadata": {},
   "outputs": [],
   "source": []
  },
  {
   "cell_type": "markdown",
   "metadata": {},
   "source": [
    "#### Quantify model with 1 layer"
   ]
  },
  {
   "cell_type": "code",
   "execution_count": 77,
   "metadata": {},
   "outputs": [],
   "source": [
    "# X_test = X_test.toarray()\n"
   ]
  },
  {
   "cell_type": "code",
   "execution_count": 78,
   "metadata": {},
   "outputs": [],
   "source": [
    "\n",
    "# model_loss, model_accuracy = model.evaluate(\n",
    "#     X_test, y_test, verbose=2)\n",
    "# print(\n",
    "#     f\"Normal Neural Network - Loss: {model_loss}, Accuracy: {model_accuracy}\")"
   ]
  },
  {
   "cell_type": "markdown",
   "metadata": {},
   "source": [
    "#### Adding 2nd layer"
   ]
  },
  {
   "cell_type": "code",
   "execution_count": 79,
   "metadata": {},
   "outputs": [],
   "source": [
    "# # Create model and add layers\n",
    "# model2 = Sequential()\n",
    "# model2.add(Dense(units=100, activation='relu', input_dim=397))\n",
    "# model2.add(Dense(units=100, activation='relu'))\n",
    "# model2.add(Dense(units=2, activation='softmax'))\n",
    "\n",
    "#  # Compile and fit the model\n",
    "# model2.compile(optimizer='adam',\n",
    "#               loss='categorical_crossentropy',\n",
    "#               metrics=['accuracy'])"
   ]
  },
  {
   "cell_type": "code",
   "execution_count": 80,
   "metadata": {},
   "outputs": [],
   "source": [
    "#  model2.summary()"
   ]
  },
  {
   "cell_type": "code",
   "execution_count": 81,
   "metadata": {},
   "outputs": [],
   "source": [
    "#  model2.fit(\n",
    "#     X_train,\n",
    "#     y_train,\n",
    "#     epochs=60,\n",
    "#     shuffle=True\n",
    "# )"
   ]
  },
  {
   "cell_type": "code",
   "execution_count": 82,
   "metadata": {},
   "outputs": [],
   "source": [
    "# model_loss, model_accuracy = model2.evaluate(\n",
    "#     X_test, y_test, verbose=2)\n",
    "# print(\n",
    "#     f\"Normal Neural Network - Loss: {model_loss}, Accuracy: {model_accuracy}\")"
   ]
  },
  {
   "cell_type": "markdown",
   "metadata": {},
   "source": [
    "#### Adding 3rd layer"
   ]
  },
  {
   "cell_type": "code",
   "execution_count": 83,
   "metadata": {},
   "outputs": [],
   "source": [
    "# # Create model and add layers\n",
    "# model3 = Sequential()\n",
    "# model3.add(Dense(units=100, activation='relu', input_dim=397))\n",
    "# model3.add(Dense(units=100, activation='relu'))\n",
    "# model3.add(Dense(units=100, activation='relu'))\n",
    "# model3.add(Dense(units=2, activation='softmax'))\n",
    "\n",
    "#  # Compile and fit the model\n",
    "# model3.compile(optimizer='adam',\n",
    "#               loss='categorical_crossentropy',\n",
    "#               metrics=['accuracy'])"
   ]
  },
  {
   "cell_type": "code",
   "execution_count": 84,
   "metadata": {},
   "outputs": [],
   "source": [
    "#  model3.summary()"
   ]
  },
  {
   "cell_type": "code",
   "execution_count": 85,
   "metadata": {},
   "outputs": [],
   "source": [
    "#  model3.fit(\n",
    "#     X_train,\n",
    "#     y_train,\n",
    "#     epochs=60,\n",
    "#     shuffle=True\n",
    "# )"
   ]
  },
  {
   "cell_type": "code",
   "execution_count": 87,
   "metadata": {},
   "outputs": [],
   "source": [
    "X_test = X_test.toarray()"
   ]
  },
  {
   "cell_type": "code",
   "execution_count": 88,
   "metadata": {},
   "outputs": [
    {
     "name": "stdout",
     "output_type": "stream",
     "text": [
      "12006/12006 - 1s - loss: 1.1613 - accuracy: 0.6479\n",
      "Normal Neural Network - Loss: 1.1612745796901354, Accuracy: 0.6479260325431824\n"
     ]
    }
   ],
   "source": [
    "\n",
    "model_loss, model_accuracy = model.evaluate(\n",
    "    X_test, y_test, verbose=2)\n",
    "print(\n",
    "    f\"Normal Neural Network - Loss: {model_loss}, Accuracy: {model_accuracy}\")"
   ]
  },
  {
   "cell_type": "code",
   "execution_count": null,
   "metadata": {},
   "outputs": [],
   "source": []
  }
 ],
 "metadata": {
  "kernelspec": {
   "display_name": "Python 3",
   "language": "python",
   "name": "python3"
  },
  "language_info": {
   "codemirror_mode": {
    "name": "ipython",
    "version": 3
   },
   "file_extension": ".py",
   "mimetype": "text/x-python",
   "name": "python",
   "nbconvert_exporter": "python",
   "pygments_lexer": "ipython3",
   "version": "3.7.6"
  }
 },
 "nbformat": 4,
 "nbformat_minor": 2
}
