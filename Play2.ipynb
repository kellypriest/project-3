{
 "cells": [
  {
   "cell_type": "markdown",
   "metadata": {},
   "source": [
    "#### Note: Latest May 21 (7.30pm) - OneHot Encoding (not...still get_dummies). Creating Kelly's 3 breed categories\n",
    "\n"
   ]
  },
  {
   "cell_type": "markdown",
   "metadata": {},
   "source": [
    "## Reading in data and taking a quick look at some charts"
   ]
  },
  {
   "cell_type": "code",
   "execution_count": 1,
   "metadata": {},
   "outputs": [],
   "source": [
    "import pandas as pd\n",
    "import numpy as np\n",
    "from matplotlib import pyplot as plt\n",
    "import datetime as dt"
   ]
  },
  {
   "cell_type": "code",
   "execution_count": 2,
   "metadata": {},
   "outputs": [
    {
     "data": {
      "text/plain": [
       "Name             object\n",
       "Breed            object\n",
       "Color            object\n",
       "Sex              object\n",
       "Size             object\n",
       "DateOfBirth      object\n",
       "IntakeDate       object\n",
       "OutcomeDate      object\n",
       "DaysinShelter     int64\n",
       "IntakeType       object\n",
       "OutcomeType      object\n",
       "dtype: object"
      ]
     },
     "execution_count": 2,
     "metadata": {},
     "output_type": "execute_result"
    }
   ],
   "source": [
    "# Read in csv\n",
    "df = pd.read_csv(\"Animal_Shelter_Intake_and_Outcome_SoCo2.csv\")\n",
    "df.head()\n",
    "df.dtypes"
   ]
  },
  {
   "cell_type": "code",
   "execution_count": 3,
   "metadata": {},
   "outputs": [
    {
     "data": {
      "text/plain": [
       "<matplotlib.axes._subplots.AxesSubplot at 0x14afd423588>"
      ]
     },
     "execution_count": 3,
     "metadata": {},
     "output_type": "execute_result"
    },
    {
     "data": {
      "image/png": "[encoded data removed]",
      "text/plain": [
       "<Figure size 432x288 with 1 Axes>"
      ]
     },
     "metadata": {
      "needs_background": "light"
     },
     "output_type": "display_data"
    }
   ],
   "source": [
    "# Take a quick peak at charts\n",
    "\n",
    "# Top Breeds\n",
    "# df['Breed'].value_counts().head(20).plot.bar()\n",
    "\n",
    "# Top Outcome_Types\n",
    "# df['Breed'].value_counts().head(20).plot.bar()\n",
    "\n",
    "# Sex split?\n",
    "# df['Sex'].value_counts().head(20).plot.bar()\n",
    "\n",
    "# Fixed?\n",
    "df['Breed'].value_counts().head(20).plot.bar()\n",
    "\n",
    "# Age chart\n",
    "# bins= [0,24,72,120]\n",
    "# plt.hist(df.Age_month, bins=bins, edgecolor=\"k\")\n",
    "# plt.xticks(bins)\n",
    "# plt.show()"
   ]
  },
  {
   "cell_type": "code",
   "execution_count": 4,
   "metadata": {},
   "outputs": [],
   "source": [
    "df[\"DateOfBirth\"] = pd.to_datetime(df[\"DateOfBirth\"])\n",
    "df[\"IntakeDate\"] = pd.to_datetime(df[\"IntakeDate\"])\n",
    "df[\"OutcomeDate\"] = pd.to_datetime(df[\"OutcomeDate\"])"
   ]
  },
  {
   "cell_type": "code",
   "execution_count": 5,
   "metadata": {},
   "outputs": [
    {
     "data": {
      "text/plain": [
       "Name                     object\n",
       "Breed                    object\n",
       "Color                    object\n",
       "Sex                      object\n",
       "Size                     object\n",
       "DateOfBirth      datetime64[ns]\n",
       "IntakeDate       datetime64[ns]\n",
       "OutcomeDate      datetime64[ns]\n",
       "DaysinShelter             int64\n",
       "IntakeType               object\n",
       "OutcomeType              object\n",
       "dtype: object"
      ]
     },
     "execution_count": 5,
     "metadata": {},
     "output_type": "execute_result"
    }
   ],
   "source": [
    "df.dtypes"
   ]
  },
  {
   "cell_type": "code",
   "execution_count": 6,
   "metadata": {},
   "outputs": [
    {
     "data": {
      "text/html": [
       "<div>\n",
       "<style scoped>\n",
       "    .dataframe tbody tr th:only-of-type {\n",
       "        vertical-align: middle;\n",
       "    }\n",
       "\n",
       "    .dataframe tbody tr th {\n",
       "        vertical-align: top;\n",
       "    }\n",
       "\n",
       "    .dataframe thead th {\n",
       "        text-align: right;\n",
       "    }\n",
       "</style>\n",
       "<table border=\"1\" class=\"dataframe\">\n",
       "  <thead>\n",
       "    <tr style=\"text-align: right;\">\n",
       "      <th></th>\n",
       "      <th>Name</th>\n",
       "      <th>Breed</th>\n",
       "      <th>Color</th>\n",
       "      <th>Sex</th>\n",
       "      <th>Size</th>\n",
       "      <th>DateOfBirth</th>\n",
       "      <th>IntakeDate</th>\n",
       "      <th>OutcomeDate</th>\n",
       "      <th>DaysinShelter</th>\n",
       "      <th>IntakeType</th>\n",
       "      <th>OutcomeType</th>\n",
       "      <th>AgeMonth</th>\n",
       "    </tr>\n",
       "  </thead>\n",
       "  <tbody>\n",
       "    <tr>\n",
       "      <th>0</th>\n",
       "      <td>SKY</td>\n",
       "      <td>GERM SHEPHERD</td>\n",
       "      <td>BLACK/TAN</td>\n",
       "      <td>Female</td>\n",
       "      <td>MED</td>\n",
       "      <td>NaT</td>\n",
       "      <td>2020-01-19</td>\n",
       "      <td>2020-01-23</td>\n",
       "      <td>4</td>\n",
       "      <td>STRAY</td>\n",
       "      <td>RETURN TO OWNER</td>\n",
       "      <td>NaN</td>\n",
       "    </tr>\n",
       "    <tr>\n",
       "      <th>1</th>\n",
       "      <td>COCO</td>\n",
       "      <td>BEAGLE</td>\n",
       "      <td>TRICOLOR</td>\n",
       "      <td>Neutered</td>\n",
       "      <td>SMALL</td>\n",
       "      <td>2015-06-04</td>\n",
       "      <td>2017-08-30</td>\n",
       "      <td>2017-04-10</td>\n",
       "      <td>35</td>\n",
       "      <td>STRAY</td>\n",
       "      <td>TRANSFER</td>\n",
       "      <td>27.27</td>\n",
       "    </tr>\n",
       "    <tr>\n",
       "      <th>2</th>\n",
       "      <td>SUZIE</td>\n",
       "      <td>LABRADOR RETR/MIX</td>\n",
       "      <td>BLACK</td>\n",
       "      <td>Spayed</td>\n",
       "      <td>LARGE</td>\n",
       "      <td>2011-01-23</td>\n",
       "      <td>2015-07-01</td>\n",
       "      <td>2015-01-24</td>\n",
       "      <td>17</td>\n",
       "      <td>STRAY</td>\n",
       "      <td>ADOPTION</td>\n",
       "      <td>54.00</td>\n",
       "    </tr>\n",
       "    <tr>\n",
       "      <th>3</th>\n",
       "      <td>BUBBLES</td>\n",
       "      <td>FOX TERR SMOOTH/MIX</td>\n",
       "      <td>TAN</td>\n",
       "      <td>Male</td>\n",
       "      <td>SMALL</td>\n",
       "      <td>2017-04-28</td>\n",
       "      <td>2020-03-20</td>\n",
       "      <td>2020-03-20</td>\n",
       "      <td>0</td>\n",
       "      <td>OWNER SURRENDER</td>\n",
       "      <td>TRANSFER</td>\n",
       "      <td>35.23</td>\n",
       "    </tr>\n",
       "    <tr>\n",
       "      <th>4</th>\n",
       "      <td>OSO</td>\n",
       "      <td>GERM SHEPHERD</td>\n",
       "      <td>BROWN/BLACK</td>\n",
       "      <td>Male</td>\n",
       "      <td>LARGE</td>\n",
       "      <td>2017-01-22</td>\n",
       "      <td>2020-01-22</td>\n",
       "      <td>2020-01-23</td>\n",
       "      <td>1</td>\n",
       "      <td>STRAY</td>\n",
       "      <td>RETURN TO OWNER</td>\n",
       "      <td>36.50</td>\n",
       "    </tr>\n",
       "  </tbody>\n",
       "</table>\n",
       "</div>"
      ],
      "text/plain": [
       "      Name                Breed        Color       Sex   Size DateOfBirth  \\\n",
       "0      SKY        GERM SHEPHERD    BLACK/TAN    Female    MED         NaT   \n",
       "1     COCO               BEAGLE     TRICOLOR  Neutered  SMALL  2015-06-04   \n",
       "2    SUZIE    LABRADOR RETR/MIX        BLACK    Spayed  LARGE  2011-01-23   \n",
       "3  BUBBLES  FOX TERR SMOOTH/MIX          TAN      Male  SMALL  2017-04-28   \n",
       "4      OSO        GERM SHEPHERD  BROWN/BLACK      Male  LARGE  2017-01-22   \n",
       "\n",
       "  IntakeDate OutcomeDate  DaysinShelter       IntakeType      OutcomeType  \\\n",
       "0 2020-01-19  2020-01-23              4            STRAY  RETURN TO OWNER   \n",
       "1 2017-08-30  2017-04-10             35            STRAY         TRANSFER   \n",
       "2 2015-07-01  2015-01-24             17            STRAY         ADOPTION   \n",
       "3 2020-03-20  2020-03-20              0  OWNER SURRENDER         TRANSFER   \n",
       "4 2020-01-22  2020-01-23              1            STRAY  RETURN TO OWNER   \n",
       "\n",
       "   AgeMonth  \n",
       "0       NaN  \n",
       "1     27.27  \n",
       "2     54.00  \n",
       "3     35.23  \n",
       "4     36.50  "
      ]
     },
     "execution_count": 6,
     "metadata": {},
     "output_type": "execute_result"
    }
   ],
   "source": [
    "df['AgeMonth'] = round(((df['IntakeDate'] - df['DateOfBirth']).dt.days)/30, 2)\n",
    "\n",
    "df.head()\n",
    "# print(df)"
   ]
  },
  {
   "cell_type": "markdown",
   "metadata": {},
   "source": [
    "## Cleaning\n",
    "1. Drop unnessary columns\n",
    "2. Drop rows where \"Outcome_Type\" is null\n",
    "3. Drop rows where \"Outcome_Type\" is Return_To_Owner"
   ]
  },
  {
   "cell_type": "code",
   "execution_count": 7,
   "metadata": {},
   "outputs": [
    {
     "data": {
      "text/plain": [
       "Name             0.096322\n",
       "Breed            0.000000\n",
       "Color            0.000000\n",
       "Sex              0.000000\n",
       "Size             0.002640\n",
       "DateOfBirth      0.161599\n",
       "IntakeDate       0.000000\n",
       "OutcomeDate      0.003277\n",
       "DaysinShelter    0.000000\n",
       "IntakeType       0.000000\n",
       "OutcomeType      0.003277\n",
       "AgeMonth         0.161599\n",
       "dtype: float64"
      ]
     },
     "execution_count": 7,
     "metadata": {},
     "output_type": "execute_result"
    }
   ],
   "source": [
    "# Quick check for missing values\n",
    "df.apply(lambda x: sum(x.isnull()/len(df)))"
   ]
  },
  {
   "cell_type": "code",
   "execution_count": 8,
   "metadata": {},
   "outputs": [
    {
     "data": {
      "text/html": [
       "<div>\n",
       "<style scoped>\n",
       "    .dataframe tbody tr th:only-of-type {\n",
       "        vertical-align: middle;\n",
       "    }\n",
       "\n",
       "    .dataframe tbody tr th {\n",
       "        vertical-align: top;\n",
       "    }\n",
       "\n",
       "    .dataframe thead th {\n",
       "        text-align: right;\n",
       "    }\n",
       "</style>\n",
       "<table border=\"1\" class=\"dataframe\">\n",
       "  <thead>\n",
       "    <tr style=\"text-align: right;\">\n",
       "      <th></th>\n",
       "      <th>Name</th>\n",
       "      <th>Breed</th>\n",
       "      <th>Color</th>\n",
       "      <th>Sex</th>\n",
       "      <th>Size</th>\n",
       "      <th>DateOfBirth</th>\n",
       "      <th>IntakeDate</th>\n",
       "      <th>OutcomeDate</th>\n",
       "      <th>DaysinShelter</th>\n",
       "      <th>IntakeType</th>\n",
       "      <th>OutcomeType</th>\n",
       "      <th>AgeMonth</th>\n",
       "    </tr>\n",
       "  </thead>\n",
       "  <tbody>\n",
       "    <tr>\n",
       "      <th>0</th>\n",
       "      <td>SKY</td>\n",
       "      <td>GERM SHEPHERD</td>\n",
       "      <td>BLACK/TAN</td>\n",
       "      <td>Female</td>\n",
       "      <td>MED</td>\n",
       "      <td>NaT</td>\n",
       "      <td>2020-01-19</td>\n",
       "      <td>2020-01-23</td>\n",
       "      <td>4</td>\n",
       "      <td>STRAY</td>\n",
       "      <td>RETURN TO OWNER</td>\n",
       "      <td>NaN</td>\n",
       "    </tr>\n",
       "    <tr>\n",
       "      <th>1</th>\n",
       "      <td>COCO</td>\n",
       "      <td>BEAGLE</td>\n",
       "      <td>TRICOLOR</td>\n",
       "      <td>Neutered</td>\n",
       "      <td>SMALL</td>\n",
       "      <td>2015-06-04</td>\n",
       "      <td>2017-08-30</td>\n",
       "      <td>2017-04-10</td>\n",
       "      <td>35</td>\n",
       "      <td>STRAY</td>\n",
       "      <td>TRANSFER</td>\n",
       "      <td>27.27</td>\n",
       "    </tr>\n",
       "    <tr>\n",
       "      <th>2</th>\n",
       "      <td>SUZIE</td>\n",
       "      <td>LABRADOR RETR/MIX</td>\n",
       "      <td>BLACK</td>\n",
       "      <td>Spayed</td>\n",
       "      <td>LARGE</td>\n",
       "      <td>2011-01-23</td>\n",
       "      <td>2015-07-01</td>\n",
       "      <td>2015-01-24</td>\n",
       "      <td>17</td>\n",
       "      <td>STRAY</td>\n",
       "      <td>ADOPTION</td>\n",
       "      <td>54.00</td>\n",
       "    </tr>\n",
       "    <tr>\n",
       "      <th>3</th>\n",
       "      <td>BUBBLES</td>\n",
       "      <td>FOX TERR SMOOTH/MIX</td>\n",
       "      <td>TAN</td>\n",
       "      <td>Male</td>\n",
       "      <td>SMALL</td>\n",
       "      <td>2017-04-28</td>\n",
       "      <td>2020-03-20</td>\n",
       "      <td>2020-03-20</td>\n",
       "      <td>0</td>\n",
       "      <td>OWNER SURRENDER</td>\n",
       "      <td>TRANSFER</td>\n",
       "      <td>35.23</td>\n",
       "    </tr>\n",
       "    <tr>\n",
       "      <th>4</th>\n",
       "      <td>OSO</td>\n",
       "      <td>GERM SHEPHERD</td>\n",
       "      <td>BROWN/BLACK</td>\n",
       "      <td>Male</td>\n",
       "      <td>LARGE</td>\n",
       "      <td>2017-01-22</td>\n",
       "      <td>2020-01-22</td>\n",
       "      <td>2020-01-23</td>\n",
       "      <td>1</td>\n",
       "      <td>STRAY</td>\n",
       "      <td>RETURN TO OWNER</td>\n",
       "      <td>36.50</td>\n",
       "    </tr>\n",
       "  </tbody>\n",
       "</table>\n",
       "</div>"
      ],
      "text/plain": [
       "      Name                Breed        Color       Sex   Size DateOfBirth  \\\n",
       "0      SKY        GERM SHEPHERD    BLACK/TAN    Female    MED         NaT   \n",
       "1     COCO               BEAGLE     TRICOLOR  Neutered  SMALL  2015-06-04   \n",
       "2    SUZIE    LABRADOR RETR/MIX        BLACK    Spayed  LARGE  2011-01-23   \n",
       "3  BUBBLES  FOX TERR SMOOTH/MIX          TAN      Male  SMALL  2017-04-28   \n",
       "4      OSO        GERM SHEPHERD  BROWN/BLACK      Male  LARGE  2017-01-22   \n",
       "\n",
       "  IntakeDate OutcomeDate  DaysinShelter       IntakeType      OutcomeType  \\\n",
       "0 2020-01-19  2020-01-23              4            STRAY  RETURN TO OWNER   \n",
       "1 2017-08-30  2017-04-10             35            STRAY         TRANSFER   \n",
       "2 2015-07-01  2015-01-24             17            STRAY         ADOPTION   \n",
       "3 2020-03-20  2020-03-20              0  OWNER SURRENDER         TRANSFER   \n",
       "4 2020-01-22  2020-01-23              1            STRAY  RETURN TO OWNER   \n",
       "\n",
       "   AgeMonth  \n",
       "0       NaN  \n",
       "1     27.27  \n",
       "2     54.00  \n",
       "3     35.23  \n",
       "4     36.50  "
      ]
     },
     "execution_count": 8,
     "metadata": {},
     "output_type": "execute_result"
    }
   ],
   "source": [
    "df.head()"
   ]
  },
  {
   "cell_type": "code",
   "execution_count": 9,
   "metadata": {},
   "outputs": [],
   "source": [
    "# Drop unnessary columns\n",
    "df2 = df.drop(columns=['Name','DateOfBirth', 'IntakeDate', 'OutcomeDate', 'DaysinShelter'])"
   ]
  },
  {
   "cell_type": "code",
   "execution_count": 10,
   "metadata": {},
   "outputs": [
    {
     "data": {
      "text/plain": [
       "(10984, 7)"
      ]
     },
     "execution_count": 10,
     "metadata": {},
     "output_type": "execute_result"
    }
   ],
   "source": [
    "\n",
    "# df2.head()\n",
    "df2.shape"
   ]
  },
  {
   "cell_type": "code",
   "execution_count": 11,
   "metadata": {},
   "outputs": [],
   "source": [
    "# Drop rows where Outcome_Type is null\n",
    "\n",
    "df2 = df2.loc[df2.OutcomeType.notna(), [\"OutcomeType\", \"Breed\", \"Color\", \"Sex\" ,\"Size\", 'IntakeType', 'AgeMonth']]"
   ]
  },
  {
   "cell_type": "code",
   "execution_count": 12,
   "metadata": {},
   "outputs": [
    {
     "data": {
      "text/plain": [
       "OutcomeType    0.000000\n",
       "Breed          0.000000\n",
       "Color          0.000000\n",
       "Sex            0.000000\n",
       "Size           0.002649\n",
       "IntakeType     0.000000\n",
       "AgeMonth       0.161034\n",
       "dtype: float64"
      ]
     },
     "execution_count": 12,
     "metadata": {},
     "output_type": "execute_result"
    }
   ],
   "source": [
    "# Check for more nulls\n",
    "\n",
    "df2.apply(lambda x: sum(x.isnull()/len(df2)))\n",
    "\n"
   ]
  },
  {
   "cell_type": "code",
   "execution_count": 13,
   "metadata": {},
   "outputs": [],
   "source": [
    "# Have to fix the following columns \"Size\"\n",
    "df2 = df2.dropna(axis=0, subset=[\"Size\", \"AgeMonth\"])"
   ]
  },
  {
   "cell_type": "code",
   "execution_count": 14,
   "metadata": {},
   "outputs": [
    {
     "data": {
      "text/plain": [
       "OutcomeType    0.0\n",
       "Breed          0.0\n",
       "Color          0.0\n",
       "Sex            0.0\n",
       "Size           0.0\n",
       "IntakeType     0.0\n",
       "AgeMonth       0.0\n",
       "dtype: float64"
      ]
     },
     "execution_count": 14,
     "metadata": {},
     "output_type": "execute_result"
    }
   ],
   "source": [
    "# Verify that nulls from \"Fixed\" and \"Sex\" have been dropped\n",
    "df2.apply(lambda x: sum(x.isnull()/len(df2)))\n"
   ]
  },
  {
   "cell_type": "code",
   "execution_count": 15,
   "metadata": {},
   "outputs": [
    {
     "data": {
      "text/plain": [
       "(9164, 7)"
      ]
     },
     "execution_count": 15,
     "metadata": {},
     "output_type": "execute_result"
    }
   ],
   "source": [
    "df2.shape"
   ]
  },
  {
   "cell_type": "code",
   "execution_count": 16,
   "metadata": {},
   "outputs": [
    {
     "data": {
      "text/html": [
       "<div>\n",
       "<style scoped>\n",
       "    .dataframe tbody tr th:only-of-type {\n",
       "        vertical-align: middle;\n",
       "    }\n",
       "\n",
       "    .dataframe tbody tr th {\n",
       "        vertical-align: top;\n",
       "    }\n",
       "\n",
       "    .dataframe thead th {\n",
       "        text-align: right;\n",
       "    }\n",
       "</style>\n",
       "<table border=\"1\" class=\"dataframe\">\n",
       "  <thead>\n",
       "    <tr style=\"text-align: right;\">\n",
       "      <th></th>\n",
       "      <th>Breed</th>\n",
       "      <th>Color</th>\n",
       "      <th>Sex</th>\n",
       "      <th>Size</th>\n",
       "      <th>IntakeType</th>\n",
       "      <th>AgeMonth</th>\n",
       "    </tr>\n",
       "    <tr>\n",
       "      <th>OutcomeType</th>\n",
       "      <th></th>\n",
       "      <th></th>\n",
       "      <th></th>\n",
       "      <th></th>\n",
       "      <th></th>\n",
       "      <th></th>\n",
       "    </tr>\n",
       "  </thead>\n",
       "  <tbody>\n",
       "    <tr>\n",
       "      <th>ADOPTION</th>\n",
       "      <td>2839</td>\n",
       "      <td>2839</td>\n",
       "      <td>2839</td>\n",
       "      <td>2839</td>\n",
       "      <td>2839</td>\n",
       "      <td>2839</td>\n",
       "    </tr>\n",
       "    <tr>\n",
       "      <th>DIED</th>\n",
       "      <td>14</td>\n",
       "      <td>14</td>\n",
       "      <td>14</td>\n",
       "      <td>14</td>\n",
       "      <td>14</td>\n",
       "      <td>14</td>\n",
       "    </tr>\n",
       "    <tr>\n",
       "      <th>DISPOSAL</th>\n",
       "      <td>10</td>\n",
       "      <td>10</td>\n",
       "      <td>10</td>\n",
       "      <td>10</td>\n",
       "      <td>10</td>\n",
       "      <td>10</td>\n",
       "    </tr>\n",
       "    <tr>\n",
       "      <th>ESCAPED/STOLEN</th>\n",
       "      <td>2</td>\n",
       "      <td>2</td>\n",
       "      <td>2</td>\n",
       "      <td>2</td>\n",
       "      <td>2</td>\n",
       "      <td>2</td>\n",
       "    </tr>\n",
       "    <tr>\n",
       "      <th>EUTHANIZE</th>\n",
       "      <td>805</td>\n",
       "      <td>805</td>\n",
       "      <td>805</td>\n",
       "      <td>805</td>\n",
       "      <td>805</td>\n",
       "      <td>805</td>\n",
       "    </tr>\n",
       "    <tr>\n",
       "      <th>RETURN TO OWNER</th>\n",
       "      <td>4330</td>\n",
       "      <td>4330</td>\n",
       "      <td>4330</td>\n",
       "      <td>4330</td>\n",
       "      <td>4330</td>\n",
       "      <td>4330</td>\n",
       "    </tr>\n",
       "    <tr>\n",
       "      <th>RTOS</th>\n",
       "      <td>5</td>\n",
       "      <td>5</td>\n",
       "      <td>5</td>\n",
       "      <td>5</td>\n",
       "      <td>5</td>\n",
       "      <td>5</td>\n",
       "    </tr>\n",
       "    <tr>\n",
       "      <th>TRANSFER</th>\n",
       "      <td>1159</td>\n",
       "      <td>1159</td>\n",
       "      <td>1159</td>\n",
       "      <td>1159</td>\n",
       "      <td>1159</td>\n",
       "      <td>1159</td>\n",
       "    </tr>\n",
       "  </tbody>\n",
       "</table>\n",
       "</div>"
      ],
      "text/plain": [
       "                 Breed  Color   Sex  Size  IntakeType  AgeMonth\n",
       "OutcomeType                                                    \n",
       "ADOPTION          2839   2839  2839  2839        2839      2839\n",
       "DIED                14     14    14    14          14        14\n",
       "DISPOSAL            10     10    10    10          10        10\n",
       "ESCAPED/STOLEN       2      2     2     2           2         2\n",
       "EUTHANIZE          805    805   805   805         805       805\n",
       "RETURN TO OWNER   4330   4330  4330  4330        4330      4330\n",
       "RTOS                 5      5     5     5           5         5\n",
       "TRANSFER          1159   1159  1159  1159        1159      1159"
      ]
     },
     "execution_count": 16,
     "metadata": {},
     "output_type": "execute_result"
    }
   ],
   "source": [
    "# # df2.groupby('Outcome_Type').count()\n",
    "# df2.groupby('Color').count().sort_values('Outcome_Type', ascending=False)\n",
    "df2.groupby('OutcomeType').count()"
   ]
  },
  {
   "cell_type": "code",
   "execution_count": 17,
   "metadata": {},
   "outputs": [],
   "source": [
    "# Drop all rows 'Return to Owner' ???  Assuming that chip is checked at intake\n",
    "\n",
    "df3 = df2.drop(df2[df2.OutcomeType == \"RETURN TO OWNER\"].index)"
   ]
  },
  {
   "cell_type": "code",
   "execution_count": 18,
   "metadata": {},
   "outputs": [
    {
     "data": {
      "text/html": [
       "<div>\n",
       "<style scoped>\n",
       "    .dataframe tbody tr th:only-of-type {\n",
       "        vertical-align: middle;\n",
       "    }\n",
       "\n",
       "    .dataframe tbody tr th {\n",
       "        vertical-align: top;\n",
       "    }\n",
       "\n",
       "    .dataframe thead th {\n",
       "        text-align: right;\n",
       "    }\n",
       "</style>\n",
       "<table border=\"1\" class=\"dataframe\">\n",
       "  <thead>\n",
       "    <tr style=\"text-align: right;\">\n",
       "      <th></th>\n",
       "      <th>OutcomeType</th>\n",
       "      <th>Breed</th>\n",
       "      <th>Color</th>\n",
       "      <th>Sex</th>\n",
       "      <th>Size</th>\n",
       "      <th>IntakeType</th>\n",
       "      <th>AgeMonth</th>\n",
       "    </tr>\n",
       "  </thead>\n",
       "  <tbody>\n",
       "    <tr>\n",
       "      <th>1</th>\n",
       "      <td>TRANSFER</td>\n",
       "      <td>BEAGLE</td>\n",
       "      <td>TRICOLOR</td>\n",
       "      <td>Neutered</td>\n",
       "      <td>SMALL</td>\n",
       "      <td>STRAY</td>\n",
       "      <td>27.27</td>\n",
       "    </tr>\n",
       "    <tr>\n",
       "      <th>2</th>\n",
       "      <td>ADOPTION</td>\n",
       "      <td>LABRADOR RETR/MIX</td>\n",
       "      <td>BLACK</td>\n",
       "      <td>Spayed</td>\n",
       "      <td>LARGE</td>\n",
       "      <td>STRAY</td>\n",
       "      <td>54.00</td>\n",
       "    </tr>\n",
       "    <tr>\n",
       "      <th>3</th>\n",
       "      <td>TRANSFER</td>\n",
       "      <td>FOX TERR SMOOTH/MIX</td>\n",
       "      <td>TAN</td>\n",
       "      <td>Male</td>\n",
       "      <td>SMALL</td>\n",
       "      <td>OWNER SURRENDER</td>\n",
       "      <td>35.23</td>\n",
       "    </tr>\n",
       "    <tr>\n",
       "      <th>7</th>\n",
       "      <td>TRANSFER</td>\n",
       "      <td>GERM SHEPHERD</td>\n",
       "      <td>BLACK/TAN</td>\n",
       "      <td>Neutered</td>\n",
       "      <td>LARGE</td>\n",
       "      <td>STRAY</td>\n",
       "      <td>146.10</td>\n",
       "    </tr>\n",
       "    <tr>\n",
       "      <th>11</th>\n",
       "      <td>TRANSFER</td>\n",
       "      <td>PIT BULL/BORDER COLLIE</td>\n",
       "      <td>BLACK/WHITE</td>\n",
       "      <td>Neutered</td>\n",
       "      <td>SMALL</td>\n",
       "      <td>OWNER SURRENDER</td>\n",
       "      <td>22.80</td>\n",
       "    </tr>\n",
       "  </tbody>\n",
       "</table>\n",
       "</div>"
      ],
      "text/plain": [
       "   OutcomeType                   Breed        Color       Sex   Size  \\\n",
       "1     TRANSFER                  BEAGLE     TRICOLOR  Neutered  SMALL   \n",
       "2     ADOPTION       LABRADOR RETR/MIX        BLACK    Spayed  LARGE   \n",
       "3     TRANSFER     FOX TERR SMOOTH/MIX          TAN      Male  SMALL   \n",
       "7     TRANSFER           GERM SHEPHERD    BLACK/TAN  Neutered  LARGE   \n",
       "11    TRANSFER  PIT BULL/BORDER COLLIE  BLACK/WHITE  Neutered  SMALL   \n",
       "\n",
       "         IntakeType  AgeMonth  \n",
       "1             STRAY     27.27  \n",
       "2             STRAY     54.00  \n",
       "3   OWNER SURRENDER     35.23  \n",
       "7             STRAY    146.10  \n",
       "11  OWNER SURRENDER     22.80  "
      ]
     },
     "execution_count": 18,
     "metadata": {},
     "output_type": "execute_result"
    }
   ],
   "source": [
    "# Verify shape\n",
    "df3.head()"
   ]
  },
  {
   "cell_type": "markdown",
   "metadata": {},
   "source": [
    "## Add new features?\n",
    "1. New feature? - Mixed/Pure Breed? - COMPLETED!! \n",
    "2. Split breeds - COMPLETED!!\n",
    "3. Color -  We have 333 unique color combinations. Hot encoding \"Color\" will create additional X features if we didn't do anything.  This would be unlikely to create a good performing model.\n",
    "    *  Option 1 - We take any values occurring fewer than 300 times and places them into the “other” label. We use this to create a new feature called “Top_colors”.  Doing this would reduce 333 unique colors to 30 unique values - COMPLETED!\n",
    "    *  Option 2 - Split to primary color vs secondary color? - COMPLETED!\n",
    "4. Creating age groups - COMPLETED!!\n",
    "5. Breeds - Hot encoding \"Breed\" will create additional 1,380 new features if we didn't do anything.  \n",
    "6. New feature? - Single color/Multi color?"
   ]
  },
  {
   "cell_type": "markdown",
   "metadata": {},
   "source": [
    "#### Creating a Mix/Pure Breed column - As of May 20 9pm, MIX doesn't do anything cause assuming all breeds are mixed.\n",
    "#### Creating Kelly's 3 breed categories: 0 = mix, secondary not listed ; 1 = secondary breed listed; 2 = purebred\n",
    "\n",
    "1. Create new MIX column (Kelly's 3 categories)\n",
    "2. Split breed into breed_primary and breed_second\n"
   ]
  },
  {
   "cell_type": "markdown",
   "metadata": {},
   "source": [
    "#### solution - Creating a Breed_category column AND Split into Breed_primary/Breed_second\n",
    "* 0 = Breed has the word \"Mix\"\n",
    "* 1 = If there are 2 breeds listed\n",
    "* 2 = Only 1 breed in the primary (i.e. None in secondary OR Pure)"
   ]
  },
  {
   "cell_type": "code",
   "execution_count": 19,
   "metadata": {},
   "outputs": [],
   "source": [
    "# # Make a copy and add new column called Breed_category, set all to PURE\n",
    "# df4 = df3.copy()\n",
    "# df4[\"Breed_category\"]= \"Prob_pure\"\n",
    "# df4.head()"
   ]
  },
  {
   "cell_type": "code",
   "execution_count": 20,
   "metadata": {},
   "outputs": [],
   "source": [
    "# # Split Primary and Secondary\n",
    "# df4[['Breed_primary','Breed_second']] = df4.Breed.str.split(\"/\", n=1, expand=True) "
   ]
  },
  {
   "cell_type": "code",
   "execution_count": 21,
   "metadata": {},
   "outputs": [],
   "source": [
    "# # Find rows containing word \"Mix\" and set to 0\n",
    "# df4.loc[df4[\"Breed\"].str.contains(\"Mix\"), \"Breed_category\"] = \"Mix\""
   ]
  },
  {
   "cell_type": "code",
   "execution_count": 22,
   "metadata": {},
   "outputs": [],
   "source": [
    "# # Find rows containing word \"/\" and set to 1\n",
    "# df4.loc[df4[\"Breed\"].str.contains(\"\\/\"), \"Breed_category\"] = \"Two\""
   ]
  },
  {
   "cell_type": "code",
   "execution_count": 23,
   "metadata": {},
   "outputs": [],
   "source": [
    "# df4.groupby(['Mix']).count().sort_values(\"Breed\", ascending=False).head(10)\n",
    "# df4['Breed'].str.count('\\/').sum()"
   ]
  },
  {
   "cell_type": "code",
   "execution_count": 24,
   "metadata": {},
   "outputs": [],
   "source": [
    "# Double checking slashes with isalpha() - About the same number.  Off by 2 \n",
    "# removing white spaces \n",
    "# df4[\"Breed\"]= df4[\"Breed\"].str.replace(\" \", \"\") \n",
    "# df4.loc[180:190, :]\n"
   ]
  },
  {
   "cell_type": "code",
   "execution_count": 25,
   "metadata": {},
   "outputs": [],
   "source": [
    "# creating bool series with new column \n",
    "# df4[\"bool_series2\"]= df4[\"Breed\"].str.isalpha()\n",
    "# df4.loc[180:190, :]\n",
    "# df4.groupby(['bool_series2']).count()"
   ]
  },
  {
   "cell_type": "code",
   "execution_count": 26,
   "metadata": {},
   "outputs": [],
   "source": [
    "# print(f'Pure breed: {48025-34048-8480}')"
   ]
  },
  {
   "cell_type": "code",
   "execution_count": 27,
   "metadata": {},
   "outputs": [],
   "source": [
    "# # Rename the breed WITHOUT the word MIX\n",
    "# df4.loc[df4['Breed'].str.contains('Mix'), 'Breed'] = df4.loc[df4['Breed'].str.contains('Mix'), 'Breed'].str.replace(' Mix', '')"
   ]
  },
  {
   "cell_type": "code",
   "execution_count": 28,
   "metadata": {},
   "outputs": [],
   "source": [
    "# How many unique breed combinations before split?\n",
    "# Breed column - 1854\n",
    "\n",
    "# How many unique breed combinations AFTER split?\n",
    "# Breed_primary - 371\n",
    "# Breed_second - 163\n"
   ]
  },
  {
   "cell_type": "code",
   "execution_count": 29,
   "metadata": {},
   "outputs": [],
   "source": [
    "# # breed_top10primary = [x for x in df4.Breed_primary.value_counts().sort_values(ascending=False).head(15).index]\n",
    "# # breed_top10primary\n",
    "\n",
    "# df4.Breed_primary.value_counts().sort_values(ascending=False).head(20)"
   ]
  },
  {
   "cell_type": "code",
   "execution_count": 30,
   "metadata": {},
   "outputs": [],
   "source": [
    "# breed_counts = df4['Breed_primary'].value_counts()\n",
    "# breed_counts"
   ]
  },
  {
   "cell_type": "code",
   "execution_count": 31,
   "metadata": {},
   "outputs": [],
   "source": [
    "# breed_others = set(breed_counts[breed_counts < 500].index)\n",
    "# df4['Top_breed'] = df4['Breed_primary'].replace(list(breed_others), 'Others')\n",
    "# # print(df4['Top_breed'].nunique())\n"
   ]
  },
  {
   "cell_type": "code",
   "execution_count": 32,
   "metadata": {},
   "outputs": [],
   "source": [
    "# breed_top10second = [x for x in df4.Breed_second.value_counts().sort_values(ascending=False).tail(10).index]\n",
    "# breed_top10second\n",
    "\n",
    "# df4.Breed_second.value_counts().sort_values(ascending=False).head(10)"
   ]
  },
  {
   "cell_type": "markdown",
   "metadata": {},
   "source": [
    "# QUESTION!  Should you not use breed_second?"
   ]
  },
  {
   "cell_type": "markdown",
   "metadata": {},
   "source": [
    "#### Handling Color - Option 1 (Grouping colors)\n",
    "* How does option1 effect RF/LogReg models?\n"
   ]
  },
  {
   "cell_type": "code",
   "execution_count": 33,
   "metadata": {},
   "outputs": [],
   "source": [
    "# # How many unique color combinations?  - 333\n",
    "# color_counts = df4['Color'].value_counts()\n",
    "# # len(color_counts)\n",
    "# print(df4['Color'].nunique())\n",
    "# color_counts.head(20)"
   ]
  },
  {
   "cell_type": "code",
   "execution_count": 34,
   "metadata": {},
   "outputs": [],
   "source": [
    "# # # Handling \"Color\" Option 1\n",
    "# color_others = set(color_counts[color_counts < 1200].index)\n",
    "# df4['Top_colors'] = df4['Color'].replace(list(color_others), 'Others')\n",
    "# print(df4['Top_colors'].nunique())"
   ]
  },
  {
   "cell_type": "code",
   "execution_count": 35,
   "metadata": {},
   "outputs": [],
   "source": [
    "# # Add new column called Color_new and set to Color\n",
    "# df5 = df4.copy()\n",
    "# df5[\"Color_new\"]=df4[\"Color\"]\n",
    "# df5.head()\n",
    "# df5.loc[320:330, :]"
   ]
  },
  {
   "cell_type": "code",
   "execution_count": 36,
   "metadata": {},
   "outputs": [],
   "source": [
    "# Can't do this code here.  It takes COMBI tan/white and changes that to tan!  WRONG!!  I only want tan column\n",
    "\n",
    "\n",
    "# Find rows containing colors: Gold/Yellow/Tan/Fawn/Buff/Apricot/Cream and set all to YELLOW\n",
    "# df5.loc[df5[\"Color\"].str.contains('Gold|Yellow|Tan|Fawn|Buff|Apricot|Cream'), \"Color_new\"] = \"Tan\"\n",
    "# df5.loc[264:267, :]"
   ]
  },
  {
   "cell_type": "markdown",
   "metadata": {},
   "source": [
    "#### Handling Color - Option 2 (Split and have intaker check all colors that apply)\n",
    "* How does option2 effect RF/LogReg models?"
   ]
  },
  {
   "cell_type": "code",
   "execution_count": 37,
   "metadata": {},
   "outputs": [],
   "source": [
    "# Split Top_color column into color1, color2\n",
    "# df3[['Color1','Color2']] = df3.Color.str.split(\"/\", n=1, expand=True) "
   ]
  },
  {
   "cell_type": "code",
   "execution_count": 38,
   "metadata": {},
   "outputs": [],
   "source": [
    "# df3.loc[150:160, :]"
   ]
  },
  {
   "cell_type": "code",
   "execution_count": 39,
   "metadata": {},
   "outputs": [],
   "source": [
    "# How many unique colors? - 333 unique color combinations\n",
    "# df4.Color.value_counts().sort_values(ascending=False).head(20)\n",
    "# len(df3.Color.value_counts())\n",
    "\n",
    "# # How many unique colors in COLOR1? - 37\n",
    "# len(df3.Color1.value_counts())\n",
    "\n",
    "# How many unique colors in COLOR2? - 34\n",
    "# len(df3.Color2.value_counts())"
   ]
  },
  {
   "cell_type": "code",
   "execution_count": 40,
   "metadata": {},
   "outputs": [],
   "source": [
    "# color_top10Color1 = [x for x in df3.Color1.value_counts().sort_values(ascending=False).head(30).index]\n",
    "# color_top10Color1\n",
    "\n",
    "# df3.Color1.value_counts().sort_values(ascending=False).head(40)"
   ]
  },
  {
   "cell_type": "code",
   "execution_count": 41,
   "metadata": {},
   "outputs": [],
   "source": [
    "# color_top10Color2 = [x for x in df3.Color2.value_counts().sort_values(ascending=False).head(10).index]\n",
    "# color_top10Color2\n",
    "\n",
    "# df3.Color2.value_counts().sort_values(ascending=False).head(40)"
   ]
  },
  {
   "cell_type": "markdown",
   "metadata": {},
   "source": [
    "#### Creating age categories\n",
    "* Baby: <=6months\n",
    "* Young: 7months-24 months\n",
    "* Adult: 2 years-7years\n",
    "* Senior: 7+"
   ]
  },
  {
   "cell_type": "code",
   "execution_count": 42,
   "metadata": {},
   "outputs": [],
   "source": [
    "# df4['Pet_age_category'] = pd.cut(x=df4['Age_month'], bins=[0, 6, 24, 84,240], labels=['Baby', 'Young', 'Adult', 'Senior'])"
   ]
  },
  {
   "cell_type": "code",
   "execution_count": 43,
   "metadata": {},
   "outputs": [],
   "source": [
    "# df4.loc[50000:50020, :]\n",
    "# df4.tail()"
   ]
  },
  {
   "cell_type": "code",
   "execution_count": 44,
   "metadata": {},
   "outputs": [],
   "source": [
    "# # What's the breakdown by Pet_age_category after binning??\n",
    "# df4.Pet_age_category.value_counts().sort_values(ascending=False).head(10)"
   ]
  },
  {
   "cell_type": "markdown",
   "metadata": {},
   "source": [
    "## Changing to Binary Outcome - Take the dog or Don't take the dog?\n",
    "* Positive Outcome is Adoption - Take in the dog\n",
    "* Negative Outcome is a combination of Transfer, Euthanized and Death categories - Don't take in the dog"
   ]
  },
  {
   "cell_type": "code",
   "execution_count": 45,
   "metadata": {},
   "outputs": [
    {
     "data": {
      "text/html": [
       "<div>\n",
       "<style scoped>\n",
       "    .dataframe tbody tr th:only-of-type {\n",
       "        vertical-align: middle;\n",
       "    }\n",
       "\n",
       "    .dataframe tbody tr th {\n",
       "        vertical-align: top;\n",
       "    }\n",
       "\n",
       "    .dataframe thead th {\n",
       "        text-align: right;\n",
       "    }\n",
       "</style>\n",
       "<table border=\"1\" class=\"dataframe\">\n",
       "  <thead>\n",
       "    <tr style=\"text-align: right;\">\n",
       "      <th></th>\n",
       "      <th>OutcomeType</th>\n",
       "      <th>Breed</th>\n",
       "      <th>Color</th>\n",
       "      <th>Sex</th>\n",
       "      <th>Size</th>\n",
       "      <th>IntakeType</th>\n",
       "      <th>AgeMonth</th>\n",
       "      <th>Binary_outcome</th>\n",
       "    </tr>\n",
       "  </thead>\n",
       "  <tbody>\n",
       "    <tr>\n",
       "      <th>1</th>\n",
       "      <td>TRANSFER</td>\n",
       "      <td>BEAGLE</td>\n",
       "      <td>TRICOLOR</td>\n",
       "      <td>Neutered</td>\n",
       "      <td>SMALL</td>\n",
       "      <td>STRAY</td>\n",
       "      <td>27.27</td>\n",
       "      <td>0</td>\n",
       "    </tr>\n",
       "    <tr>\n",
       "      <th>2</th>\n",
       "      <td>ADOPTION</td>\n",
       "      <td>LABRADOR RETR/MIX</td>\n",
       "      <td>BLACK</td>\n",
       "      <td>Spayed</td>\n",
       "      <td>LARGE</td>\n",
       "      <td>STRAY</td>\n",
       "      <td>54.00</td>\n",
       "      <td>0</td>\n",
       "    </tr>\n",
       "    <tr>\n",
       "      <th>3</th>\n",
       "      <td>TRANSFER</td>\n",
       "      <td>FOX TERR SMOOTH/MIX</td>\n",
       "      <td>TAN</td>\n",
       "      <td>Male</td>\n",
       "      <td>SMALL</td>\n",
       "      <td>OWNER SURRENDER</td>\n",
       "      <td>35.23</td>\n",
       "      <td>0</td>\n",
       "    </tr>\n",
       "    <tr>\n",
       "      <th>7</th>\n",
       "      <td>TRANSFER</td>\n",
       "      <td>GERM SHEPHERD</td>\n",
       "      <td>BLACK/TAN</td>\n",
       "      <td>Neutered</td>\n",
       "      <td>LARGE</td>\n",
       "      <td>STRAY</td>\n",
       "      <td>146.10</td>\n",
       "      <td>0</td>\n",
       "    </tr>\n",
       "    <tr>\n",
       "      <th>11</th>\n",
       "      <td>TRANSFER</td>\n",
       "      <td>PIT BULL/BORDER COLLIE</td>\n",
       "      <td>BLACK/WHITE</td>\n",
       "      <td>Neutered</td>\n",
       "      <td>SMALL</td>\n",
       "      <td>OWNER SURRENDER</td>\n",
       "      <td>22.80</td>\n",
       "      <td>0</td>\n",
       "    </tr>\n",
       "  </tbody>\n",
       "</table>\n",
       "</div>"
      ],
      "text/plain": [
       "   OutcomeType                   Breed        Color       Sex   Size  \\\n",
       "1     TRANSFER                  BEAGLE     TRICOLOR  Neutered  SMALL   \n",
       "2     ADOPTION       LABRADOR RETR/MIX        BLACK    Spayed  LARGE   \n",
       "3     TRANSFER     FOX TERR SMOOTH/MIX          TAN      Male  SMALL   \n",
       "7     TRANSFER           GERM SHEPHERD    BLACK/TAN  Neutered  LARGE   \n",
       "11    TRANSFER  PIT BULL/BORDER COLLIE  BLACK/WHITE  Neutered  SMALL   \n",
       "\n",
       "         IntakeType  AgeMonth  Binary_outcome  \n",
       "1             STRAY     27.27               0  \n",
       "2             STRAY     54.00               0  \n",
       "3   OWNER SURRENDER     35.23               0  \n",
       "7             STRAY    146.10               0  \n",
       "11  OWNER SURRENDER     22.80               0  "
      ]
     },
     "execution_count": 45,
     "metadata": {},
     "output_type": "execute_result"
    }
   ],
   "source": [
    "# Create new BINARY_OUTCOME column and set to 0\n",
    "\n",
    "df3[\"Binary_outcome\"]=0\n",
    "df3.head()"
   ]
  },
  {
   "cell_type": "code",
   "execution_count": 46,
   "metadata": {},
   "outputs": [],
   "source": [
    "# Find rows containing word \"Adoption\" and set to 1 (for Positive Outcome)\n",
    "# All other rows will be 0 (for Negative Outcome)\n",
    "\n",
    "df3.loc[df3[\"OutcomeType\"].str.contains(\"ADOPTION\"), \"Binary_outcome\"] = 1"
   ]
  },
  {
   "cell_type": "code",
   "execution_count": 47,
   "metadata": {},
   "outputs": [
    {
     "data": {
      "text/html": [
       "<div>\n",
       "<style scoped>\n",
       "    .dataframe tbody tr th:only-of-type {\n",
       "        vertical-align: middle;\n",
       "    }\n",
       "\n",
       "    .dataframe tbody tr th {\n",
       "        vertical-align: top;\n",
       "    }\n",
       "\n",
       "    .dataframe thead th {\n",
       "        text-align: right;\n",
       "    }\n",
       "</style>\n",
       "<table border=\"1\" class=\"dataframe\">\n",
       "  <thead>\n",
       "    <tr style=\"text-align: right;\">\n",
       "      <th></th>\n",
       "      <th>OutcomeType</th>\n",
       "      <th>Breed</th>\n",
       "      <th>Color</th>\n",
       "      <th>Sex</th>\n",
       "      <th>Size</th>\n",
       "      <th>IntakeType</th>\n",
       "      <th>AgeMonth</th>\n",
       "      <th>Binary_outcome</th>\n",
       "    </tr>\n",
       "  </thead>\n",
       "  <tbody>\n",
       "    <tr>\n",
       "      <th>1</th>\n",
       "      <td>TRANSFER</td>\n",
       "      <td>BEAGLE</td>\n",
       "      <td>TRICOLOR</td>\n",
       "      <td>Neutered</td>\n",
       "      <td>SMALL</td>\n",
       "      <td>STRAY</td>\n",
       "      <td>27.27</td>\n",
       "      <td>0</td>\n",
       "    </tr>\n",
       "    <tr>\n",
       "      <th>2</th>\n",
       "      <td>ADOPTION</td>\n",
       "      <td>LABRADOR RETR/MIX</td>\n",
       "      <td>BLACK</td>\n",
       "      <td>Spayed</td>\n",
       "      <td>LARGE</td>\n",
       "      <td>STRAY</td>\n",
       "      <td>54.00</td>\n",
       "      <td>1</td>\n",
       "    </tr>\n",
       "    <tr>\n",
       "      <th>3</th>\n",
       "      <td>TRANSFER</td>\n",
       "      <td>FOX TERR SMOOTH/MIX</td>\n",
       "      <td>TAN</td>\n",
       "      <td>Male</td>\n",
       "      <td>SMALL</td>\n",
       "      <td>OWNER SURRENDER</td>\n",
       "      <td>35.23</td>\n",
       "      <td>0</td>\n",
       "    </tr>\n",
       "    <tr>\n",
       "      <th>7</th>\n",
       "      <td>TRANSFER</td>\n",
       "      <td>GERM SHEPHERD</td>\n",
       "      <td>BLACK/TAN</td>\n",
       "      <td>Neutered</td>\n",
       "      <td>LARGE</td>\n",
       "      <td>STRAY</td>\n",
       "      <td>146.10</td>\n",
       "      <td>0</td>\n",
       "    </tr>\n",
       "    <tr>\n",
       "      <th>11</th>\n",
       "      <td>TRANSFER</td>\n",
       "      <td>PIT BULL/BORDER COLLIE</td>\n",
       "      <td>BLACK/WHITE</td>\n",
       "      <td>Neutered</td>\n",
       "      <td>SMALL</td>\n",
       "      <td>OWNER SURRENDER</td>\n",
       "      <td>22.80</td>\n",
       "      <td>0</td>\n",
       "    </tr>\n",
       "  </tbody>\n",
       "</table>\n",
       "</div>"
      ],
      "text/plain": [
       "   OutcomeType                   Breed        Color       Sex   Size  \\\n",
       "1     TRANSFER                  BEAGLE     TRICOLOR  Neutered  SMALL   \n",
       "2     ADOPTION       LABRADOR RETR/MIX        BLACK    Spayed  LARGE   \n",
       "3     TRANSFER     FOX TERR SMOOTH/MIX          TAN      Male  SMALL   \n",
       "7     TRANSFER           GERM SHEPHERD    BLACK/TAN  Neutered  LARGE   \n",
       "11    TRANSFER  PIT BULL/BORDER COLLIE  BLACK/WHITE  Neutered  SMALL   \n",
       "\n",
       "         IntakeType  AgeMonth  Binary_outcome  \n",
       "1             STRAY     27.27               0  \n",
       "2             STRAY     54.00               1  \n",
       "3   OWNER SURRENDER     35.23               0  \n",
       "7             STRAY    146.10               0  \n",
       "11  OWNER SURRENDER     22.80               0  "
      ]
     },
     "execution_count": 47,
     "metadata": {},
     "output_type": "execute_result"
    }
   ],
   "source": [
    "df3.head()"
   ]
  },
  {
   "cell_type": "markdown",
   "metadata": {},
   "source": [
    "## Still get_dummies"
   ]
  },
  {
   "cell_type": "code",
   "execution_count": 48,
   "metadata": {},
   "outputs": [],
   "source": [
    "# Drop these columns:\n",
    "# Outcome_Type column since we now have Binary_outcome \n",
    "# Age_month since we have Pet_age_category\n",
    "# Breed since we have Breed_primary, Breed_second     - SHOULD BE DROP BREED_SECOND??\n",
    "# Color since we have Color1, Color2\n",
    "df4 = df3.drop(columns=['OutcomeType','Breed', 'Color', 'Sex','IntakeType', 'AgeMonth'])"
   ]
  },
  {
   "cell_type": "markdown",
   "metadata": {},
   "source": [
    "# QUESTION!  \n",
    "1. Should be take out BREED_SECOND? - Dont get_dummy Breed_second\n",
    "2. Should be take out COLOR2?"
   ]
  },
  {
   "cell_type": "code",
   "execution_count": 49,
   "metadata": {},
   "outputs": [
    {
     "data": {
      "text/html": [
       "<div>\n",
       "<style scoped>\n",
       "    .dataframe tbody tr th:only-of-type {\n",
       "        vertical-align: middle;\n",
       "    }\n",
       "\n",
       "    .dataframe tbody tr th {\n",
       "        vertical-align: top;\n",
       "    }\n",
       "\n",
       "    .dataframe thead th {\n",
       "        text-align: right;\n",
       "    }\n",
       "</style>\n",
       "<table border=\"1\" class=\"dataframe\">\n",
       "  <thead>\n",
       "    <tr style=\"text-align: right;\">\n",
       "      <th></th>\n",
       "      <th>Size</th>\n",
       "      <th>Binary_outcome</th>\n",
       "    </tr>\n",
       "  </thead>\n",
       "  <tbody>\n",
       "    <tr>\n",
       "      <th>1</th>\n",
       "      <td>SMALL</td>\n",
       "      <td>0</td>\n",
       "    </tr>\n",
       "    <tr>\n",
       "      <th>2</th>\n",
       "      <td>LARGE</td>\n",
       "      <td>1</td>\n",
       "    </tr>\n",
       "    <tr>\n",
       "      <th>3</th>\n",
       "      <td>SMALL</td>\n",
       "      <td>0</td>\n",
       "    </tr>\n",
       "    <tr>\n",
       "      <th>7</th>\n",
       "      <td>LARGE</td>\n",
       "      <td>0</td>\n",
       "    </tr>\n",
       "    <tr>\n",
       "      <th>11</th>\n",
       "      <td>SMALL</td>\n",
       "      <td>0</td>\n",
       "    </tr>\n",
       "  </tbody>\n",
       "</table>\n",
       "</div>"
      ],
      "text/plain": [
       "     Size  Binary_outcome\n",
       "1   SMALL               0\n",
       "2   LARGE               1\n",
       "3   SMALL               0\n",
       "7   LARGE               0\n",
       "11  SMALL               0"
      ]
     },
     "execution_count": 49,
     "metadata": {},
     "output_type": "execute_result"
    }
   ],
   "source": [
    "df4.head()"
   ]
  },
  {
   "cell_type": "code",
   "execution_count": 50,
   "metadata": {},
   "outputs": [],
   "source": [
    "# # import preprocessing from sklearn\n",
    "# from sklearn.preprocessing import LabelEncoder"
   ]
  },
  {
   "cell_type": "code",
   "execution_count": 51,
   "metadata": {},
   "outputs": [],
   "source": [
    "df5 = pd.get_dummies(df4[['Size', 'Binary_outcome']])"
   ]
  },
  {
   "cell_type": "code",
   "execution_count": 52,
   "metadata": {},
   "outputs": [
    {
     "data": {
      "text/plain": [
       "Index(['Binary_outcome', 'Size_LARGE', 'Size_MED', 'Size_PUPPY', 'Size_SMALL',\n",
       "       'Size_TOY', 'Size_X-LRG'],\n",
       "      dtype='object')"
      ]
     },
     "execution_count": 52,
     "metadata": {},
     "output_type": "execute_result"
    }
   ],
   "source": [
    "df5.columns"
   ]
  },
  {
   "cell_type": "code",
   "execution_count": 53,
   "metadata": {},
   "outputs": [],
   "source": [
    "# Define X and y\n",
    "X = df5.drop(['Binary_outcome', 'Size_LARGE'], axis=\"columns\")\n",
    "y = df5[['Binary_outcome']]"
   ]
  },
  {
   "cell_type": "code",
   "execution_count": 54,
   "metadata": {},
   "outputs": [
    {
     "data": {
      "text/html": [
       "<div>\n",
       "<style scoped>\n",
       "    .dataframe tbody tr th:only-of-type {\n",
       "        vertical-align: middle;\n",
       "    }\n",
       "\n",
       "    .dataframe tbody tr th {\n",
       "        vertical-align: top;\n",
       "    }\n",
       "\n",
       "    .dataframe thead th {\n",
       "        text-align: right;\n",
       "    }\n",
       "</style>\n",
       "<table border=\"1\" class=\"dataframe\">\n",
       "  <thead>\n",
       "    <tr style=\"text-align: right;\">\n",
       "      <th></th>\n",
       "      <th>Size_MED</th>\n",
       "      <th>Size_PUPPY</th>\n",
       "      <th>Size_SMALL</th>\n",
       "      <th>Size_TOY</th>\n",
       "      <th>Size_X-LRG</th>\n",
       "    </tr>\n",
       "  </thead>\n",
       "  <tbody>\n",
       "    <tr>\n",
       "      <th>1</th>\n",
       "      <td>0</td>\n",
       "      <td>0</td>\n",
       "      <td>1</td>\n",
       "      <td>0</td>\n",
       "      <td>0</td>\n",
       "    </tr>\n",
       "    <tr>\n",
       "      <th>2</th>\n",
       "      <td>0</td>\n",
       "      <td>0</td>\n",
       "      <td>0</td>\n",
       "      <td>0</td>\n",
       "      <td>0</td>\n",
       "    </tr>\n",
       "    <tr>\n",
       "      <th>3</th>\n",
       "      <td>0</td>\n",
       "      <td>0</td>\n",
       "      <td>1</td>\n",
       "      <td>0</td>\n",
       "      <td>0</td>\n",
       "    </tr>\n",
       "    <tr>\n",
       "      <th>7</th>\n",
       "      <td>0</td>\n",
       "      <td>0</td>\n",
       "      <td>0</td>\n",
       "      <td>0</td>\n",
       "      <td>0</td>\n",
       "    </tr>\n",
       "    <tr>\n",
       "      <th>11</th>\n",
       "      <td>0</td>\n",
       "      <td>0</td>\n",
       "      <td>1</td>\n",
       "      <td>0</td>\n",
       "      <td>0</td>\n",
       "    </tr>\n",
       "    <tr>\n",
       "      <th>...</th>\n",
       "      <td>...</td>\n",
       "      <td>...</td>\n",
       "      <td>...</td>\n",
       "      <td>...</td>\n",
       "      <td>...</td>\n",
       "    </tr>\n",
       "    <tr>\n",
       "      <th>10971</th>\n",
       "      <td>0</td>\n",
       "      <td>0</td>\n",
       "      <td>0</td>\n",
       "      <td>0</td>\n",
       "      <td>0</td>\n",
       "    </tr>\n",
       "    <tr>\n",
       "      <th>10973</th>\n",
       "      <td>0</td>\n",
       "      <td>0</td>\n",
       "      <td>0</td>\n",
       "      <td>0</td>\n",
       "      <td>0</td>\n",
       "    </tr>\n",
       "    <tr>\n",
       "      <th>10975</th>\n",
       "      <td>1</td>\n",
       "      <td>0</td>\n",
       "      <td>0</td>\n",
       "      <td>0</td>\n",
       "      <td>0</td>\n",
       "    </tr>\n",
       "    <tr>\n",
       "      <th>10977</th>\n",
       "      <td>0</td>\n",
       "      <td>0</td>\n",
       "      <td>0</td>\n",
       "      <td>0</td>\n",
       "      <td>0</td>\n",
       "    </tr>\n",
       "    <tr>\n",
       "      <th>10979</th>\n",
       "      <td>0</td>\n",
       "      <td>0</td>\n",
       "      <td>0</td>\n",
       "      <td>0</td>\n",
       "      <td>0</td>\n",
       "    </tr>\n",
       "  </tbody>\n",
       "</table>\n",
       "<p>4834 rows × 5 columns</p>\n",
       "</div>"
      ],
      "text/plain": [
       "       Size_MED  Size_PUPPY  Size_SMALL  Size_TOY  Size_X-LRG\n",
       "1             0           0           1         0           0\n",
       "2             0           0           0         0           0\n",
       "3             0           0           1         0           0\n",
       "7             0           0           0         0           0\n",
       "11            0           0           1         0           0\n",
       "...         ...         ...         ...       ...         ...\n",
       "10971         0           0           0         0           0\n",
       "10973         0           0           0         0           0\n",
       "10975         1           0           0         0           0\n",
       "10977         0           0           0         0           0\n",
       "10979         0           0           0         0           0\n",
       "\n",
       "[4834 rows x 5 columns]"
      ]
     },
     "execution_count": 54,
     "metadata": {},
     "output_type": "execute_result"
    }
   ],
   "source": [
    "X"
   ]
  },
  {
   "cell_type": "code",
   "execution_count": 55,
   "metadata": {},
   "outputs": [
    {
     "data": {
      "text/html": [
       "<div>\n",
       "<style scoped>\n",
       "    .dataframe tbody tr th:only-of-type {\n",
       "        vertical-align: middle;\n",
       "    }\n",
       "\n",
       "    .dataframe tbody tr th {\n",
       "        vertical-align: top;\n",
       "    }\n",
       "\n",
       "    .dataframe thead th {\n",
       "        text-align: right;\n",
       "    }\n",
       "</style>\n",
       "<table border=\"1\" class=\"dataframe\">\n",
       "  <thead>\n",
       "    <tr style=\"text-align: right;\">\n",
       "      <th></th>\n",
       "      <th>Binary_outcome</th>\n",
       "    </tr>\n",
       "  </thead>\n",
       "  <tbody>\n",
       "    <tr>\n",
       "      <th>1</th>\n",
       "      <td>0</td>\n",
       "    </tr>\n",
       "    <tr>\n",
       "      <th>2</th>\n",
       "      <td>1</td>\n",
       "    </tr>\n",
       "    <tr>\n",
       "      <th>3</th>\n",
       "      <td>0</td>\n",
       "    </tr>\n",
       "    <tr>\n",
       "      <th>7</th>\n",
       "      <td>0</td>\n",
       "    </tr>\n",
       "    <tr>\n",
       "      <th>11</th>\n",
       "      <td>0</td>\n",
       "    </tr>\n",
       "    <tr>\n",
       "      <th>...</th>\n",
       "      <td>...</td>\n",
       "    </tr>\n",
       "    <tr>\n",
       "      <th>10971</th>\n",
       "      <td>0</td>\n",
       "    </tr>\n",
       "    <tr>\n",
       "      <th>10973</th>\n",
       "      <td>0</td>\n",
       "    </tr>\n",
       "    <tr>\n",
       "      <th>10975</th>\n",
       "      <td>0</td>\n",
       "    </tr>\n",
       "    <tr>\n",
       "      <th>10977</th>\n",
       "      <td>0</td>\n",
       "    </tr>\n",
       "    <tr>\n",
       "      <th>10979</th>\n",
       "      <td>1</td>\n",
       "    </tr>\n",
       "  </tbody>\n",
       "</table>\n",
       "<p>4834 rows × 1 columns</p>\n",
       "</div>"
      ],
      "text/plain": [
       "       Binary_outcome\n",
       "1                   0\n",
       "2                   1\n",
       "3                   0\n",
       "7                   0\n",
       "11                  0\n",
       "...               ...\n",
       "10971               0\n",
       "10973               0\n",
       "10975               0\n",
       "10977               0\n",
       "10979               1\n",
       "\n",
       "[4834 rows x 1 columns]"
      ]
     },
     "execution_count": 55,
     "metadata": {},
     "output_type": "execute_result"
    }
   ],
   "source": [
    "y"
   ]
  },
  {
   "cell_type": "markdown",
   "metadata": {},
   "source": [
    "## Random Forest model\n"
   ]
  },
  {
   "cell_type": "code",
   "execution_count": 56,
   "metadata": {},
   "outputs": [],
   "source": [
    "# Split\n",
    "from sklearn.model_selection import train_test_split\n",
    "X_train, X_test, y_train, y_test = train_test_split(X, y, random_state=42)"
   ]
  },
  {
   "cell_type": "code",
   "execution_count": 57,
   "metadata": {},
   "outputs": [
    {
     "name": "stderr",
     "output_type": "stream",
     "text": [
      "C:\\Users\\Lenovo\\Anaconda3\\envs\\pythondata\\lib\\site-packages\\ipykernel_launcher.py:4: DataConversionWarning: A column-vector y was passed when a 1d array was expected. Please change the shape of y to (n_samples,), for example using ravel().\n",
      "  after removing the cwd from sys.path.\n"
     ]
    }
   ],
   "source": [
    "# Import, initialize, fit and predict\n",
    "from sklearn.ensemble import RandomForestClassifier\n",
    "rf_model = RandomForestClassifier(n_estimators = 100, random_state = 10) \n",
    "rf_model.fit(X_train, y_train)\n",
    "predict_y_test = rf_model.predict(X_test)"
   ]
  },
  {
   "cell_type": "code",
   "execution_count": 58,
   "metadata": {},
   "outputs": [
    {
     "name": "stdout",
     "output_type": "stream",
     "text": [
      "Accuracy score:  0.5831265508684863\n"
     ]
    }
   ],
   "source": [
    "# Validate - run accuracy score\n",
    "from sklearn import metrics\n",
    "print(\"Accuracy score: \", metrics.accuracy_score(y_test, predict_y_test))"
   ]
  },
  {
   "cell_type": "code",
   "execution_count": 59,
   "metadata": {},
   "outputs": [
    {
     "name": "stdout",
     "output_type": "stream",
     "text": [
      "Size_PUPPY    0.407175\n",
      "Size_SMALL    0.276870\n",
      "Size_TOY      0.223330\n",
      "Size_MED      0.082243\n",
      "Size_X-LRG    0.010381\n",
      "dtype: float64\n"
     ]
    }
   ],
   "source": [
    "# RF Feature importance?\n",
    "feature_list = list(X.columns)\n",
    "feature_importance = pd.Series(rf_model.feature_importances_, index=feature_list).sort_values(ascending=False) \n",
    "print(feature_importance[0:10])"
   ]
  },
  {
   "cell_type": "code",
   "execution_count": 60,
   "metadata": {},
   "outputs": [
    {
     "name": "stderr",
     "output_type": "stream",
     "text": [
      "C:\\Users\\Lenovo\\Anaconda3\\envs\\pythondata\\lib\\site-packages\\sklearn\\model_selection\\_validation.py:515: DataConversionWarning: A column-vector y was passed when a 1d array was expected. Please change the shape of y to (n_samples,), for example using ravel().\n",
      "  estimator.fit(X_train, y_train, **fit_params)\n",
      "C:\\Users\\Lenovo\\Anaconda3\\envs\\pythondata\\lib\\site-packages\\sklearn\\model_selection\\_validation.py:515: DataConversionWarning: A column-vector y was passed when a 1d array was expected. Please change the shape of y to (n_samples,), for example using ravel().\n",
      "  estimator.fit(X_train, y_train, **fit_params)\n",
      "C:\\Users\\Lenovo\\Anaconda3\\envs\\pythondata\\lib\\site-packages\\sklearn\\model_selection\\_validation.py:515: DataConversionWarning: A column-vector y was passed when a 1d array was expected. Please change the shape of y to (n_samples,), for example using ravel().\n",
      "  estimator.fit(X_train, y_train, **fit_params)\n",
      "C:\\Users\\Lenovo\\Anaconda3\\envs\\pythondata\\lib\\site-packages\\sklearn\\model_selection\\_validation.py:515: DataConversionWarning: A column-vector y was passed when a 1d array was expected. Please change the shape of y to (n_samples,), for example using ravel().\n",
      "  estimator.fit(X_train, y_train, **fit_params)\n",
      "C:\\Users\\Lenovo\\Anaconda3\\envs\\pythondata\\lib\\site-packages\\sklearn\\model_selection\\_validation.py:515: DataConversionWarning: A column-vector y was passed when a 1d array was expected. Please change the shape of y to (n_samples,), for example using ravel().\n",
      "  estimator.fit(X_train, y_train, **fit_params)\n",
      "C:\\Users\\Lenovo\\Anaconda3\\envs\\pythondata\\lib\\site-packages\\sklearn\\model_selection\\_validation.py:515: DataConversionWarning: A column-vector y was passed when a 1d array was expected. Please change the shape of y to (n_samples,), for example using ravel().\n",
      "  estimator.fit(X_train, y_train, **fit_params)\n",
      "C:\\Users\\Lenovo\\Anaconda3\\envs\\pythondata\\lib\\site-packages\\sklearn\\model_selection\\_validation.py:515: DataConversionWarning: A column-vector y was passed when a 1d array was expected. Please change the shape of y to (n_samples,), for example using ravel().\n",
      "  estimator.fit(X_train, y_train, **fit_params)\n",
      "C:\\Users\\Lenovo\\Anaconda3\\envs\\pythondata\\lib\\site-packages\\sklearn\\model_selection\\_validation.py:515: DataConversionWarning: A column-vector y was passed when a 1d array was expected. Please change the shape of y to (n_samples,), for example using ravel().\n",
      "  estimator.fit(X_train, y_train, **fit_params)\n",
      "C:\\Users\\Lenovo\\Anaconda3\\envs\\pythondata\\lib\\site-packages\\sklearn\\model_selection\\_validation.py:515: DataConversionWarning: A column-vector y was passed when a 1d array was expected. Please change the shape of y to (n_samples,), for example using ravel().\n",
      "  estimator.fit(X_train, y_train, **fit_params)\n",
      "C:\\Users\\Lenovo\\Anaconda3\\envs\\pythondata\\lib\\site-packages\\sklearn\\model_selection\\_validation.py:515: DataConversionWarning: A column-vector y was passed when a 1d array was expected. Please change the shape of y to (n_samples,), for example using ravel().\n",
      "  estimator.fit(X_train, y_train, **fit_params)\n"
     ]
    },
    {
     "name": "stdout",
     "output_type": "stream",
     "text": [
      "[0.59917355 0.57024793 0.56818182 0.63842975 0.61283644 0.58592133\n",
      " 0.60869565 0.62318841 0.63354037 0.61904762]\n"
     ]
    }
   ],
   "source": [
    "# Validate with cross validation\n",
    "\n",
    "from sklearn.model_selection import cross_val_score\n",
    "\n",
    "scores = cross_val_score(rf_model, X, y, cv=10, scoring=\"accuracy\")\n",
    "print(scores)"
   ]
  },
  {
   "cell_type": "code",
   "execution_count": 61,
   "metadata": {},
   "outputs": [
    {
     "data": {
      "text/plain": [
       "0.6059262871515836"
      ]
     },
     "execution_count": 61,
     "metadata": {},
     "output_type": "execute_result"
    }
   ],
   "source": [
    "scores.mean()"
   ]
  },
  {
   "cell_type": "markdown",
   "metadata": {},
   "source": [
    "## Logistic Regression"
   ]
  },
  {
   "cell_type": "code",
   "execution_count": 62,
   "metadata": {},
   "outputs": [],
   "source": [
    "from sklearn.model_selection import train_test_split\n",
    "\n",
    "X_train, X_test, y_train, y_test = train_test_split(X, y, random_state=42)"
   ]
  },
  {
   "cell_type": "code",
   "execution_count": 63,
   "metadata": {},
   "outputs": [
    {
     "name": "stderr",
     "output_type": "stream",
     "text": [
      "C:\\Users\\Lenovo\\Anaconda3\\envs\\pythondata\\lib\\site-packages\\sklearn\\utils\\validation.py:760: DataConversionWarning: A column-vector y was passed when a 1d array was expected. Please change the shape of y to (n_samples, ), for example using ravel().\n",
      "  y = column_or_1d(y, warn=True)\n"
     ]
    },
    {
     "data": {
      "text/plain": [
       "LogisticRegression(C=1.0, class_weight=None, dual=False, fit_intercept=True,\n",
       "                   intercept_scaling=1, l1_ratio=None, max_iter=100,\n",
       "                   multi_class='auto', n_jobs=None, penalty='l2',\n",
       "                   random_state=None, solver='lbfgs', tol=0.0001, verbose=0,\n",
       "                   warm_start=False)"
      ]
     },
     "execution_count": 63,
     "metadata": {},
     "output_type": "execute_result"
    }
   ],
   "source": [
    "from sklearn.linear_model import LogisticRegression\n",
    "logReg = LogisticRegression()\n",
    "logReg.fit(X_train, y_train)"
   ]
  },
  {
   "cell_type": "code",
   "execution_count": 64,
   "metadata": {},
   "outputs": [
    {
     "name": "stdout",
     "output_type": "stream",
     "text": [
      "Training Data Score: 0.6135172413793103\n",
      "Testing Data Score: 0.5831265508684863\n"
     ]
    }
   ],
   "source": [
    "print(f\"Training Data Score: {logReg.score(X_train, y_train)}\")\n",
    "print(f\"Testing Data Score: {logReg.score(X_test, y_test)}\")"
   ]
  },
  {
   "cell_type": "markdown",
   "metadata": {},
   "source": [
    "## Naive Bayes model\n"
   ]
  },
  {
   "cell_type": "code",
   "execution_count": 65,
   "metadata": {},
   "outputs": [],
   "source": [
    "from sklearn.model_selection import train_test_split\n",
    "\n",
    "X_train, X_test, y_train, y_test = train_test_split(X, y, random_state=42)"
   ]
  },
  {
   "cell_type": "code",
   "execution_count": 66,
   "metadata": {},
   "outputs": [
    {
     "name": "stderr",
     "output_type": "stream",
     "text": [
      "C:\\Users\\Lenovo\\Anaconda3\\envs\\pythondata\\lib\\site-packages\\sklearn\\naive_bayes.py:206: DataConversionWarning: A column-vector y was passed when a 1d array was expected. Please change the shape of y to (n_samples, ), for example using ravel().\n",
      "  y = column_or_1d(y, warn=True)\n"
     ]
    }
   ],
   "source": [
    "from sklearn.naive_bayes import GaussianNB\n",
    "\n",
    "#Create a Gaussian Classifier\n",
    "nb_model = GaussianNB()\n",
    "\n",
    "# Train the model using the training sets\n",
    "nb_model.fit(X_train, y_train)\n",
    "\n",
    "#Predict Output\n",
    "y_predicted= nb_model.predict(X_test)\n"
   ]
  },
  {
   "cell_type": "code",
   "execution_count": 67,
   "metadata": {},
   "outputs": [
    {
     "name": "stdout",
     "output_type": "stream",
     "text": [
      "[0 0 0 ... 0 0 1]\n"
     ]
    }
   ],
   "source": [
    "print(y_predicted)"
   ]
  },
  {
   "cell_type": "code",
   "execution_count": 68,
   "metadata": {},
   "outputs": [
    {
     "name": "stdout",
     "output_type": "stream",
     "text": [
      "Accuracy: 0.544251447477254\n"
     ]
    }
   ],
   "source": [
    "from sklearn import metrics\n",
    "\n",
    "# Model Accuracy, how often is the classifier correct?\n",
    "print(\"Accuracy:\",metrics.accuracy_score(y_test, y_predicted))"
   ]
  },
  {
   "cell_type": "markdown",
   "metadata": {},
   "source": [
    "## SVM\n"
   ]
  },
  {
   "cell_type": "code",
   "execution_count": 69,
   "metadata": {},
   "outputs": [
    {
     "ename": "NameError",
     "evalue": "name 'df6' is not defined",
     "output_type": "error",
     "traceback": [
      "\u001b[1;31m---------------------------------------------------------------------------\u001b[0m",
      "\u001b[1;31mNameError\u001b[0m                                 Traceback (most recent call last)",
      "\u001b[1;32m<ipython-input-69-7e5b165dd83b>\u001b[0m in \u001b[0;36m<module>\u001b[1;34m\u001b[0m\n\u001b[0;32m      2\u001b[0m \u001b[0mX_train\u001b[0m\u001b[1;33m,\u001b[0m \u001b[0mX_test\u001b[0m\u001b[1;33m,\u001b[0m \u001b[0my_train\u001b[0m\u001b[1;33m,\u001b[0m \u001b[0my_test\u001b[0m \u001b[1;33m=\u001b[0m \u001b[0mtrain_test_split\u001b[0m\u001b[1;33m(\u001b[0m\u001b[0mX\u001b[0m\u001b[1;33m,\u001b[0m\u001b[0my\u001b[0m\u001b[1;33m,\u001b[0m\u001b[0mrandom_state\u001b[0m\u001b[1;33m=\u001b[0m\u001b[1;36m42\u001b[0m\u001b[1;33m)\u001b[0m\u001b[1;33m\u001b[0m\u001b[1;33m\u001b[0m\u001b[0m\n\u001b[0;32m      3\u001b[0m \u001b[1;33m\u001b[0m\u001b[0m\n\u001b[1;32m----> 4\u001b[1;33m \u001b[0mtarget\u001b[0m \u001b[1;33m=\u001b[0m \u001b[0mdf6\u001b[0m\u001b[1;33m[\u001b[0m\u001b[1;34m\"Binary_outcome_Positive\"\u001b[0m\u001b[1;33m]\u001b[0m\u001b[1;33m\u001b[0m\u001b[1;33m\u001b[0m\u001b[0m\n\u001b[0m\u001b[0;32m      5\u001b[0m \u001b[1;33m\u001b[0m\u001b[0m\n",
      "\u001b[1;31mNameError\u001b[0m: name 'df6' is not defined"
     ]
    }
   ],
   "source": [
    "from sklearn.model_selection import train_test_split\n",
    "X_train, X_test, y_train, y_test = train_test_split(X,y,random_state=42)  \n",
    "\n",
    "target = df6[\"Binary_outcome_Positive\"]\n",
    "\n"
   ]
  },
  {
   "cell_type": "code",
   "execution_count": null,
   "metadata": {},
   "outputs": [],
   "source": [
    "from sklearn.svm import SVC \n",
    "model = SVC(kernel='linear')\n",
    "model.fit(X_train, y_train)"
   ]
  },
  {
   "cell_type": "code",
   "execution_count": null,
   "metadata": {},
   "outputs": [],
   "source": [
    "SVC(C=1.0, cache_size=200, class_weight=None, coef0=0.0,\n",
    "  decision_function_shape='ovr', degree=3, gamma='auto', kernel='linear',\n",
    "  max_iter=-1, probability=False, random_state=None, shrinking=True,\n",
    "  tol=0.001, verbose=False)"
   ]
  },
  {
   "cell_type": "code",
   "execution_count": null,
   "metadata": {},
   "outputs": [],
   "source": [
    "# Model Accuracy\n",
    "print('Test Acc: %.3f' % model.score(X_test, y_test))"
   ]
  },
  {
   "cell_type": "code",
   "execution_count": null,
   "metadata": {},
   "outputs": [],
   "source": [
    " # Calculate classification report\n",
    "from sklearn.metrics import classification_report\n",
    "predictions = model.predict(X_test)\n",
    "print(classification_report(y_test, predictions))"
   ]
  },
  {
   "cell_type": "code",
   "execution_count": null,
   "metadata": {},
   "outputs": [],
   "source": []
  }
 ],
 "metadata": {
  "kernelspec": {
   "display_name": "Python 3",
   "language": "python",
   "name": "python3"
  },
  "language_info": {
   "codemirror_mode": {
    "name": "ipython",
    "version": 3
   },
   "file_extension": ".py",
   "mimetype": "text/x-python",
   "name": "python",
   "nbconvert_exporter": "python",
   "pygments_lexer": "ipython3",
   "version": "3.7.6"
  }
 },
 "nbformat": 4,
 "nbformat_minor": 2
}
