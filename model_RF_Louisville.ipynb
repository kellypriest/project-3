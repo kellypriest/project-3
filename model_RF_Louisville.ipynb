{
 "cells": [
  {
   "cell_type": "markdown",
   "metadata": {},
   "source": [
    "#### Note: Latest May 21 (7.30pm) - OneHot Encoding (not...still get_dummies). Creating Kelly's 3 breed categories\n",
    "\n"
   ]
  },
  {
   "cell_type": "markdown",
   "metadata": {},
   "source": [
    "## Reading in data and MAJOR CLEANING\n"
   ]
  },
  {
   "cell_type": "code",
   "execution_count": 1,
   "metadata": {},
   "outputs": [],
   "source": [
    "import pandas as pd\n",
    "import numpy as np\n",
    "from matplotlib import pyplot as plt\n",
    "import datetime as dt"
   ]
  },
  {
   "cell_type": "code",
   "execution_count": 3,
   "metadata": {},
   "outputs": [
    {
     "data": {
      "text/html": [
       "<div>\n",
       "<style scoped>\n",
       "    .dataframe tbody tr th:only-of-type {\n",
       "        vertical-align: middle;\n",
       "    }\n",
       "\n",
       "    .dataframe tbody tr th {\n",
       "        vertical-align: top;\n",
       "    }\n",
       "\n",
       "    .dataframe thead th {\n",
       "        text-align: right;\n",
       "    }\n",
       "</style>\n",
       "<table border=\"1\" class=\"dataframe\">\n",
       "  <thead>\n",
       "    <tr style=\"text-align: right;\">\n",
       "      <th></th>\n",
       "      <th>AnimalID</th>\n",
       "      <th>AnimalType</th>\n",
       "      <th>IntakeDate</th>\n",
       "      <th>IntakeType</th>\n",
       "      <th>IntakeSubtype</th>\n",
       "      <th>PrimaryColor</th>\n",
       "      <th>PrimaryBreed</th>\n",
       "      <th>SecondaryBreed</th>\n",
       "      <th>Gender</th>\n",
       "      <th>SecondaryColor</th>\n",
       "      <th>...</th>\n",
       "      <th>IntakeInternalStatus</th>\n",
       "      <th>IntakeAsilomarStatus</th>\n",
       "      <th>ReproductiveStatusAtIntake</th>\n",
       "      <th>OutcomeDate</th>\n",
       "      <th>OutcomeType</th>\n",
       "      <th>OutcomeSubtype</th>\n",
       "      <th>OutcomeReason</th>\n",
       "      <th>OutcomeInternalStatus</th>\n",
       "      <th>OutcomeAsilomarStatus</th>\n",
       "      <th>ReproductiveStatusAtOutcome</th>\n",
       "    </tr>\n",
       "  </thead>\n",
       "  <tbody>\n",
       "    <tr>\n",
       "      <th>0</th>\n",
       "      <td>A366370</td>\n",
       "      <td>CAT</td>\n",
       "      <td>7/11/2008 10:50</td>\n",
       "      <td>STRAY</td>\n",
       "      <td>OTC</td>\n",
       "      <td>WHITE</td>\n",
       "      <td>DOMESTIC SHORTHAIR</td>\n",
       "      <td>NaN</td>\n",
       "      <td>NEUTERED MALE</td>\n",
       "      <td>BROWN</td>\n",
       "      <td>...</td>\n",
       "      <td>FEARFUL</td>\n",
       "      <td>HEALTHY</td>\n",
       "      <td>ALTERED</td>\n",
       "      <td>12/11/2008 15:46</td>\n",
       "      <td>EUTH</td>\n",
       "      <td>FERAL</td>\n",
       "      <td>NaN</td>\n",
       "      <td>NaN</td>\n",
       "      <td>UNHEALTHY/UNTREATABLE</td>\n",
       "      <td>ALTERED</td>\n",
       "    </tr>\n",
       "    <tr>\n",
       "      <th>1</th>\n",
       "      <td>A366531</td>\n",
       "      <td>CAT</td>\n",
       "      <td>10/11/2008 10:20</td>\n",
       "      <td>STRAY</td>\n",
       "      <td>OTC</td>\n",
       "      <td>BLACK</td>\n",
       "      <td>DOMESTIC SHORTHAIR</td>\n",
       "      <td>DOMESTIC SHORTHAIR</td>\n",
       "      <td>UNKNOWN</td>\n",
       "      <td>NaN</td>\n",
       "      <td>...</td>\n",
       "      <td>NORMAL</td>\n",
       "      <td>HEALTHY</td>\n",
       "      <td>UNKNOWN</td>\n",
       "      <td>19/11/2008 20:10</td>\n",
       "      <td>EUTH</td>\n",
       "      <td>CONTAG DIS</td>\n",
       "      <td>NaN</td>\n",
       "      <td>SICK</td>\n",
       "      <td>HEALTHY</td>\n",
       "      <td>UNKNOWN</td>\n",
       "    </tr>\n",
       "    <tr>\n",
       "      <th>2</th>\n",
       "      <td>A532367</td>\n",
       "      <td>BIRD</td>\n",
       "      <td>23/7/2014 23:21</td>\n",
       "      <td>CONFISCATE</td>\n",
       "      <td>CRUELTY</td>\n",
       "      <td>RED</td>\n",
       "      <td>CHICKEN</td>\n",
       "      <td>NaN</td>\n",
       "      <td>MALE</td>\n",
       "      <td>BLACK</td>\n",
       "      <td>...</td>\n",
       "      <td>OTHER</td>\n",
       "      <td>HEALTHY</td>\n",
       "      <td>FERTILE</td>\n",
       "      <td>5/11/2014 15:49</td>\n",
       "      <td>TRANSFER</td>\n",
       "      <td>NaN</td>\n",
       "      <td>NaN</td>\n",
       "      <td>NaN</td>\n",
       "      <td>HEALTHY</td>\n",
       "      <td>FERTILE</td>\n",
       "    </tr>\n",
       "    <tr>\n",
       "      <th>3</th>\n",
       "      <td>A532474</td>\n",
       "      <td>OTHER</td>\n",
       "      <td>24/7/2014 18:29</td>\n",
       "      <td>ET REQUEST</td>\n",
       "      <td>NaN</td>\n",
       "      <td>BROWN</td>\n",
       "      <td>BAT</td>\n",
       "      <td>NaN</td>\n",
       "      <td>UNKNOWN</td>\n",
       "      <td>NaN</td>\n",
       "      <td>...</td>\n",
       "      <td>OTHER</td>\n",
       "      <td>HEALTHY</td>\n",
       "      <td>UNKNOWN</td>\n",
       "      <td>24/7/2014 23:59</td>\n",
       "      <td>EUTH</td>\n",
       "      <td>MEDICAL</td>\n",
       "      <td>NaN</td>\n",
       "      <td>OTHER</td>\n",
       "      <td>HEALTHY</td>\n",
       "      <td>UNKNOWN</td>\n",
       "    </tr>\n",
       "    <tr>\n",
       "      <th>4</th>\n",
       "      <td>A281756</td>\n",
       "      <td>DOG</td>\n",
       "      <td>11/9/2006 18:10</td>\n",
       "      <td>OWNER SUR</td>\n",
       "      <td>OTC</td>\n",
       "      <td>WHITE</td>\n",
       "      <td>PIT BULL TERRIER</td>\n",
       "      <td>NaN</td>\n",
       "      <td>MALE</td>\n",
       "      <td>BROWN</td>\n",
       "      <td>...</td>\n",
       "      <td>NORMAL</td>\n",
       "      <td>HEALTHY</td>\n",
       "      <td>FERTILE</td>\n",
       "      <td>12/9/2006 13:44</td>\n",
       "      <td>EUTH</td>\n",
       "      <td>TIME/SPACE</td>\n",
       "      <td>NaN</td>\n",
       "      <td>NaN</td>\n",
       "      <td>HEALTHY</td>\n",
       "      <td>FERTILE</td>\n",
       "    </tr>\n",
       "    <tr>\n",
       "      <th>5</th>\n",
       "      <td>A451184</td>\n",
       "      <td>BIRD</td>\n",
       "      <td>29/1/2012 15:25</td>\n",
       "      <td>OWNER SUR</td>\n",
       "      <td>FIELD</td>\n",
       "      <td>BLACK</td>\n",
       "      <td>CHICKEN</td>\n",
       "      <td>NaN</td>\n",
       "      <td>UNKNOWN</td>\n",
       "      <td>WHITE</td>\n",
       "      <td>...</td>\n",
       "      <td>NORMAL</td>\n",
       "      <td>HEALTHY</td>\n",
       "      <td>UNKNOWN</td>\n",
       "      <td>22/2/2012 23:59</td>\n",
       "      <td>TRANSFER</td>\n",
       "      <td>RESCUE GRP</td>\n",
       "      <td>NaN</td>\n",
       "      <td>NORMAL</td>\n",
       "      <td>HEALTHY</td>\n",
       "      <td>UNKNOWN</td>\n",
       "    </tr>\n",
       "    <tr>\n",
       "      <th>6</th>\n",
       "      <td>A256128</td>\n",
       "      <td>DOG</td>\n",
       "      <td>26/11/2005 12:35</td>\n",
       "      <td>STRAY</td>\n",
       "      <td>FIELD</td>\n",
       "      <td>BROWN</td>\n",
       "      <td>AMERICAN PIT BULL TERRIER</td>\n",
       "      <td>MIX</td>\n",
       "      <td>MALE</td>\n",
       "      <td>WHITE</td>\n",
       "      <td>...</td>\n",
       "      <td>NORMAL</td>\n",
       "      <td>HEALTHY</td>\n",
       "      <td>FERTILE</td>\n",
       "      <td>8/12/2005 23:59</td>\n",
       "      <td>EUTH</td>\n",
       "      <td>MEDICAL</td>\n",
       "      <td>NaN</td>\n",
       "      <td>NaN</td>\n",
       "      <td>HEALTHY</td>\n",
       "      <td>FERTILE</td>\n",
       "    </tr>\n",
       "    <tr>\n",
       "      <th>7</th>\n",
       "      <td>A314432</td>\n",
       "      <td>CAT</td>\n",
       "      <td>15/6/2007 17:13</td>\n",
       "      <td>OWNER SUR</td>\n",
       "      <td>OTC</td>\n",
       "      <td>BROWN TABBY</td>\n",
       "      <td>DOMESTIC SHORTHAIR</td>\n",
       "      <td>NaN</td>\n",
       "      <td>UNKNOWN</td>\n",
       "      <td>NaN</td>\n",
       "      <td>...</td>\n",
       "      <td>NORMAL</td>\n",
       "      <td>HEALTHY</td>\n",
       "      <td>UNKNOWN</td>\n",
       "      <td>15/6/2007 18:07</td>\n",
       "      <td>EUTH</td>\n",
       "      <td>TIME/SPACE</td>\n",
       "      <td>NaN</td>\n",
       "      <td>NaN</td>\n",
       "      <td>HEALTHY</td>\n",
       "      <td>UNKNOWN</td>\n",
       "    </tr>\n",
       "    <tr>\n",
       "      <th>8</th>\n",
       "      <td>A316619</td>\n",
       "      <td>DOG</td>\n",
       "      <td>29/6/2007 20:10</td>\n",
       "      <td>STRAY</td>\n",
       "      <td>FIELD</td>\n",
       "      <td>WHITE</td>\n",
       "      <td>LABRADOR RETRIEVER</td>\n",
       "      <td>MIX</td>\n",
       "      <td>MALE</td>\n",
       "      <td>TAN</td>\n",
       "      <td>...</td>\n",
       "      <td>FEARFUL</td>\n",
       "      <td>HEALTHY</td>\n",
       "      <td>FERTILE</td>\n",
       "      <td>4/7/2007 13:12</td>\n",
       "      <td>EUTH</td>\n",
       "      <td>TIME/SPACE</td>\n",
       "      <td>NaN</td>\n",
       "      <td>NaN</td>\n",
       "      <td>HEALTHY</td>\n",
       "      <td>FERTILE</td>\n",
       "    </tr>\n",
       "    <tr>\n",
       "      <th>9</th>\n",
       "      <td>A317335</td>\n",
       "      <td>CAT</td>\n",
       "      <td>5/7/2007 21:30</td>\n",
       "      <td>STRAY</td>\n",
       "      <td>OTC</td>\n",
       "      <td>GRAY</td>\n",
       "      <td>DOMESTIC SHORTHAIR</td>\n",
       "      <td>NaN</td>\n",
       "      <td>UNKNOWN</td>\n",
       "      <td>NaN</td>\n",
       "      <td>...</td>\n",
       "      <td>NORMAL</td>\n",
       "      <td>HEALTHY</td>\n",
       "      <td>UNKNOWN</td>\n",
       "      <td>11/7/2007 9:19</td>\n",
       "      <td>EUTH</td>\n",
       "      <td>TIME/SPACE</td>\n",
       "      <td>NaN</td>\n",
       "      <td>NaN</td>\n",
       "      <td>HEALTHY</td>\n",
       "      <td>UNKNOWN</td>\n",
       "    </tr>\n",
       "  </tbody>\n",
       "</table>\n",
       "<p>10 rows × 22 columns</p>\n",
       "</div>"
      ],
      "text/plain": [
       "  AnimalID AnimalType        IntakeDate  IntakeType IntakeSubtype  \\\n",
       "0  A366370        CAT   7/11/2008 10:50       STRAY           OTC   \n",
       "1  A366531        CAT  10/11/2008 10:20       STRAY           OTC   \n",
       "2  A532367       BIRD   23/7/2014 23:21  CONFISCATE       CRUELTY   \n",
       "3  A532474      OTHER   24/7/2014 18:29  ET REQUEST           NaN   \n",
       "4  A281756        DOG   11/9/2006 18:10   OWNER SUR           OTC   \n",
       "5  A451184       BIRD   29/1/2012 15:25   OWNER SUR         FIELD   \n",
       "6  A256128        DOG  26/11/2005 12:35       STRAY         FIELD   \n",
       "7  A314432        CAT   15/6/2007 17:13   OWNER SUR           OTC   \n",
       "8  A316619        DOG   29/6/2007 20:10       STRAY         FIELD   \n",
       "9  A317335        CAT    5/7/2007 21:30       STRAY           OTC   \n",
       "\n",
       "  PrimaryColor               PrimaryBreed      SecondaryBreed         Gender  \\\n",
       "0        WHITE         DOMESTIC SHORTHAIR                 NaN  NEUTERED MALE   \n",
       "1        BLACK         DOMESTIC SHORTHAIR  DOMESTIC SHORTHAIR        UNKNOWN   \n",
       "2          RED                    CHICKEN                 NaN           MALE   \n",
       "3        BROWN                        BAT                 NaN        UNKNOWN   \n",
       "4        WHITE           PIT BULL TERRIER                 NaN           MALE   \n",
       "5        BLACK                    CHICKEN                 NaN        UNKNOWN   \n",
       "6        BROWN  AMERICAN PIT BULL TERRIER                 MIX           MALE   \n",
       "7  BROWN TABBY         DOMESTIC SHORTHAIR                 NaN        UNKNOWN   \n",
       "8        WHITE         LABRADOR RETRIEVER                 MIX           MALE   \n",
       "9         GRAY         DOMESTIC SHORTHAIR                 NaN        UNKNOWN   \n",
       "\n",
       "  SecondaryColor  ... IntakeInternalStatus IntakeAsilomarStatus  \\\n",
       "0          BROWN  ...              FEARFUL              HEALTHY   \n",
       "1            NaN  ...               NORMAL              HEALTHY   \n",
       "2          BLACK  ...                OTHER              HEALTHY   \n",
       "3            NaN  ...                OTHER              HEALTHY   \n",
       "4          BROWN  ...               NORMAL              HEALTHY   \n",
       "5          WHITE  ...               NORMAL              HEALTHY   \n",
       "6          WHITE  ...               NORMAL              HEALTHY   \n",
       "7            NaN  ...               NORMAL              HEALTHY   \n",
       "8            TAN  ...              FEARFUL              HEALTHY   \n",
       "9            NaN  ...               NORMAL              HEALTHY   \n",
       "\n",
       "  ReproductiveStatusAtIntake       OutcomeDate OutcomeType OutcomeSubtype  \\\n",
       "0                    ALTERED  12/11/2008 15:46        EUTH          FERAL   \n",
       "1                    UNKNOWN  19/11/2008 20:10        EUTH     CONTAG DIS   \n",
       "2                    FERTILE   5/11/2014 15:49    TRANSFER            NaN   \n",
       "3                    UNKNOWN   24/7/2014 23:59        EUTH        MEDICAL   \n",
       "4                    FERTILE   12/9/2006 13:44        EUTH     TIME/SPACE   \n",
       "5                    UNKNOWN   22/2/2012 23:59    TRANSFER     RESCUE GRP   \n",
       "6                    FERTILE   8/12/2005 23:59        EUTH        MEDICAL   \n",
       "7                    UNKNOWN   15/6/2007 18:07        EUTH     TIME/SPACE   \n",
       "8                    FERTILE    4/7/2007 13:12        EUTH     TIME/SPACE   \n",
       "9                    UNKNOWN    11/7/2007 9:19        EUTH     TIME/SPACE   \n",
       "\n",
       "  OutcomeReason OutcomeInternalStatus  OutcomeAsilomarStatus  \\\n",
       "0           NaN                   NaN  UNHEALTHY/UNTREATABLE   \n",
       "1           NaN                  SICK                HEALTHY   \n",
       "2           NaN                   NaN                HEALTHY   \n",
       "3           NaN                 OTHER                HEALTHY   \n",
       "4           NaN                   NaN                HEALTHY   \n",
       "5           NaN                NORMAL                HEALTHY   \n",
       "6           NaN                   NaN                HEALTHY   \n",
       "7           NaN                   NaN                HEALTHY   \n",
       "8           NaN                   NaN                HEALTHY   \n",
       "9           NaN                   NaN                HEALTHY   \n",
       "\n",
       "  ReproductiveStatusAtOutcome  \n",
       "0                     ALTERED  \n",
       "1                     UNKNOWN  \n",
       "2                     FERTILE  \n",
       "3                     UNKNOWN  \n",
       "4                     FERTILE  \n",
       "5                     UNKNOWN  \n",
       "6                     FERTILE  \n",
       "7                     UNKNOWN  \n",
       "8                     FERTILE  \n",
       "9                     UNKNOWN  \n",
       "\n",
       "[10 rows x 22 columns]"
      ]
     },
     "execution_count": 3,
     "metadata": {},
     "output_type": "execute_result"
    }
   ],
   "source": [
    "# Read in csv\n",
    "df = pd.read_csv(\"Resources/Animal_Shelter_Louisville.csv\")\n",
    "df.head(10)\n"
   ]
  },
  {
   "cell_type": "code",
   "execution_count": null,
   "metadata": {},
   "outputs": [],
   "source": [
    "df.isna().sum()"
   ]
  },
  {
   "cell_type": "code",
   "execution_count": null,
   "metadata": {},
   "outputs": [],
   "source": [
    "df.columns"
   ]
  },
  {
   "cell_type": "code",
   "execution_count": null,
   "metadata": {},
   "outputs": [],
   "source": [
    "# Drop unnecessary columns\n",
    "df2 = df.drop(columns=['AnimalID',\n",
    "                       'IntakeType', \n",
    "                       'IntakeSubtype', \n",
    "                       'OutcomeSubtype',\n",
    "                      'SecondaryColor',\n",
    "                       'IntakeReason',\n",
    "                      'ReproductiveStatusAtOutcome',\n",
    "                       'OutcomeReason',\n",
    "                      'OutcomeInternalStatus',\n",
    "                      'OutcomeAsilomarStatus'])"
   ]
  },
  {
   "cell_type": "code",
   "execution_count": null,
   "metadata": {},
   "outputs": [],
   "source": [
    "df2.head()\n"
   ]
  },
  {
   "cell_type": "code",
   "execution_count": null,
   "metadata": {},
   "outputs": [],
   "source": [
    "# Change object to datetime so we can calculate AgeInMonth and DurationInShelter\n",
    "df2[\"IntakeDate\"] = pd.to_datetime(df2[\"IntakeDate\"])\n",
    "df2[\"DOB\"] = pd.to_datetime(df2[\"DOB\"])\n",
    "df2[\"OutcomeDate\"] = pd.to_datetime(df2[\"OutcomeDate\"])"
   ]
  },
  {
   "cell_type": "code",
   "execution_count": null,
   "metadata": {},
   "outputs": [],
   "source": [
    "df2.dtypes"
   ]
  },
  {
   "cell_type": "code",
   "execution_count": null,
   "metadata": {},
   "outputs": [],
   "source": [
    "df2.head()"
   ]
  },
  {
   "cell_type": "code",
   "execution_count": null,
   "metadata": {},
   "outputs": [],
   "source": [
    "df2.groupby(\"AnimalType\").count()"
   ]
  },
  {
   "cell_type": "code",
   "execution_count": null,
   "metadata": {},
   "outputs": [],
   "source": [
    "# Drop all rows NOT dog!\n",
    "df3 = df2.drop(df2[(df2['AnimalType'] == \"BIRD\") | \n",
    "                   (df2['AnimalType'] == \"CAT\") |\n",
    "                   (df2['AnimalType'] == \"FERRET\") |\n",
    "                   (df2['AnimalType'] == \"LIVESTOCK\") |\n",
    "                   (df2['AnimalType'] == \"OTHER\") |\n",
    "                   (df2['AnimalType'] == \"RABBIT\") |\n",
    "                   (df2['AnimalType'] == \"REPTILE\") |\n",
    "                   (df2['AnimalType'] == \"RODENT\")].index)"
   ]
  },
  {
   "cell_type": "code",
   "execution_count": null,
   "metadata": {},
   "outputs": [],
   "source": [
    "df3.groupby(\"AnimalType\").count()"
   ]
  },
  {
   "cell_type": "markdown",
   "metadata": {},
   "source": [
    "## Cleaning WITHIN dog\n",
    "1. Drop unnessary columns\n",
    "2. Drop rows where \"Outcome_Type\" is null\n",
    "3. Drop rows where \"Outcome_Type\" is Return_To_Owner"
   ]
  },
  {
   "cell_type": "code",
   "execution_count": null,
   "metadata": {},
   "outputs": [],
   "source": [
    "df3 = df3.drop(columns=['AnimalType'])"
   ]
  },
  {
   "cell_type": "code",
   "execution_count": null,
   "metadata": {},
   "outputs": [],
   "source": [
    "# Quick check for missing values\n",
    "df3.isna().sum()"
   ]
  },
  {
   "cell_type": "code",
   "execution_count": null,
   "metadata": {},
   "outputs": [],
   "source": [
    "df3.columns"
   ]
  },
  {
   "cell_type": "code",
   "execution_count": null,
   "metadata": {},
   "outputs": [],
   "source": [
    "# Drop rows where Outcome_Type is null\n",
    "\n",
    "df3 = df3.loc[df3.OutcomeType.notna(), [\"IntakeDate\", \n",
    "                                        'PrimaryColor',\n",
    "                                        \"PrimaryBreed\", \n",
    "                                        \"SecondaryBreed\", \n",
    "                                        \"Gender\",\n",
    "                                        'DOB',\n",
    "                                        \"IntakeInternalStatus\", \n",
    "                                        'IntakeAsilomarStatus', \n",
    "                                        'ReproductiveStatusAtIntake', \n",
    "                                        'OutcomeDate',\n",
    "                                        'OutcomeType']]\n"
   ]
  },
  {
   "cell_type": "code",
   "execution_count": null,
   "metadata": {},
   "outputs": [],
   "source": [
    "df3.shape"
   ]
  },
  {
   "cell_type": "code",
   "execution_count": null,
   "metadata": {},
   "outputs": [],
   "source": [
    "# Check for more nulls\n",
    "\n",
    "# df3.apply(lambda x: sum(x.isnull()/len(df3)))\n",
    "df3.isna().sum()"
   ]
  },
  {
   "cell_type": "code",
   "execution_count": null,
   "metadata": {},
   "outputs": [],
   "source": [
    "# # df2.groupby('Outcome_Type').count()\n",
    "# df2.groupby('Color').count().sort_values('Outcome_Type', ascending=False)\n",
    "df3.groupby('OutcomeType').count()"
   ]
  },
  {
   "cell_type": "code",
   "execution_count": null,
   "metadata": {},
   "outputs": [],
   "source": [
    "# Drop all rows 'RTO'. Assuming that chip is checked at intake\n",
    "\n",
    "df3 = df3.drop(df3[df3.OutcomeType == \"RTO\"].index)"
   ]
  },
  {
   "cell_type": "code",
   "execution_count": null,
   "metadata": {},
   "outputs": [],
   "source": [
    "df3.shape"
   ]
  },
  {
   "cell_type": "code",
   "execution_count": null,
   "metadata": {},
   "outputs": [],
   "source": [
    "# More nulls?  Keeping secondary breed for now\n",
    "# df3.apply(lambda x: sum(x.isnull()/len(df3)))\n",
    "df3.isna().sum()"
   ]
  },
  {
   "cell_type": "code",
   "execution_count": null,
   "metadata": {},
   "outputs": [],
   "source": [
    "# Drop NA values in DOB (can't have nulls to calculate AgeInMonths)\n",
    "df3 = df3.dropna(axis=0, subset=[\"DOB\", 'PrimaryColor', 'OutcomeDate'])\n",
    "df3.shape\n"
   ]
  },
  {
   "cell_type": "code",
   "execution_count": null,
   "metadata": {},
   "outputs": [],
   "source": [
    "df3.isna().sum()"
   ]
  },
  {
   "cell_type": "code",
   "execution_count": null,
   "metadata": {},
   "outputs": [],
   "source": [
    "# Create AgeInMonth column since data is cleaner now\n",
    "df3['AgeInMonths'] = round(((df3['IntakeDate'] - df3['DOB']).dt.days)/30, 2)\n",
    "df3.head()"
   ]
  },
  {
   "cell_type": "code",
   "execution_count": null,
   "metadata": {},
   "outputs": [],
   "source": [
    "# Create DurationInShelter column\n",
    "df3['DurationInShelter'] = round(((df3['OutcomeDate'] - df3['IntakeDate']).dt.days), 2)\n",
    "df3.head()"
   ]
  },
  {
   "cell_type": "code",
   "execution_count": null,
   "metadata": {},
   "outputs": [],
   "source": [
    "df4 = df3.drop(columns=['IntakeDate',\n",
    "                       'DOB', \n",
    "                       'OutcomeDate'])"
   ]
  },
  {
   "cell_type": "code",
   "execution_count": null,
   "metadata": {},
   "outputs": [],
   "source": [
    "# More nulls?  Keeping secondary breed for now\n",
    "df4.isna().sum()"
   ]
  },
  {
   "cell_type": "code",
   "execution_count": null,
   "metadata": {},
   "outputs": [],
   "source": [
    "df4.shape"
   ]
  },
  {
   "cell_type": "markdown",
   "metadata": {},
   "source": [
    "## Add new features? Feature Engineering\n",
    "1. New feature? - Mixed/Pure Breed? - COMPLETED!! \n",
    "2. Split breeds - COMPLETED!!\n",
    "3. Color -  We have 333 unique color combinations. Hot encoding \"Color\" will create additional X features if we didn't do anything.  This would be unlikely to create a good performing model.\n",
    "    *  Option 1 - We take any values occurring fewer than 300 times and places them into the “other” label. We use this to create a new feature called “Top_colors”.  Doing this would reduce 333 unique colors to 30 unique values - COMPLETED!\n",
    "    *  Option 2 - Split to primary color vs secondary color? - COMPLETED!\n",
    "4. Creating age groups - COMPLETED!!\n",
    "5. Breeds - Hot encoding \"Breed\" will create additional 1,380 new features if we didn't do anything.  \n",
    "6. New feature? - Single color/Multi color?"
   ]
  },
  {
   "cell_type": "markdown",
   "metadata": {},
   "source": [
    "#### Creating a Mix/Pure Breed column - As of May 20 9pm, MIX doesn't do anything cause assuming all breeds are mixed.\n",
    "#### Creating Kelly's 3 breed categories: 0 = mix, secondary not listed ; 1 = secondary breed listed; 2 = purebred\n",
    "\n",
    "1. Create new MIX column (Kelly's 3 categories)\n",
    "2. Split breed into breed_primary and breed_second\n"
   ]
  },
  {
   "cell_type": "markdown",
   "metadata": {},
   "source": [
    "#### solution - Creating a Breed_category column AND Split into Breed_primary/Breed_second\n",
    "* 0 = Breed has the word \"Mix\"\n",
    "* 1 = If there are 2 breeds listed\n",
    "* 2 = Only 1 breed in the primary (i.e. None in secondary OR Pure)"
   ]
  },
  {
   "cell_type": "code",
   "execution_count": null,
   "metadata": {},
   "outputs": [],
   "source": [
    "df4.loc[500:1000, :]"
   ]
  },
  {
   "cell_type": "code",
   "execution_count": null,
   "metadata": {},
   "outputs": [],
   "source": [
    "df4.isna().sum()"
   ]
  },
  {
   "cell_type": "code",
   "execution_count": null,
   "metadata": {},
   "outputs": [],
   "source": [
    "# df3.SecondaryBreed.value_counts().sort_values(ascending=False).head(20)\n",
    "# df3.SecondaryBreed.count()"
   ]
  },
  {
   "cell_type": "code",
   "execution_count": null,
   "metadata": {},
   "outputs": [],
   "source": [
    "# Add new column called BreedCategory, set all to Mix\n",
    "\n",
    "df4[\"BreedCategory\"]= \"Two\"\n",
    "df4.loc[500:1000, :]"
   ]
  },
  {
   "cell_type": "code",
   "execution_count": null,
   "metadata": {},
   "outputs": [],
   "source": [
    "# Find rows containing word \"Nan\" in SecondaryBreed and set to Pure\n",
    "\n",
    "df4.loc[df4['SecondaryBreed'].isnull(),'BreedCategory'] = \"Pure\"\n",
    "df4.loc[500:1000, :]\n",
    "\n"
   ]
  },
  {
   "cell_type": "code",
   "execution_count": null,
   "metadata": {},
   "outputs": [],
   "source": [
    "# Find rows containing word \"Mix\"\n",
    "df4.loc[df4[\"SecondaryBreed\"].str.contains(\"MIX\",  na=False), \"BreedCategory\"] = \"Mix\"\n",
    "df4.loc[500:1000, :]"
   ]
  },
  {
   "cell_type": "code",
   "execution_count": null,
   "metadata": {},
   "outputs": [],
   "source": [
    "# Drop SeondaryBreed column since Breed Category is available\n",
    "df4 = df4.drop(columns=['SecondaryBreed'])\n",
    "df4.shape"
   ]
  },
  {
   "cell_type": "code",
   "execution_count": null,
   "metadata": {},
   "outputs": [],
   "source": [
    "df4.head()"
   ]
  },
  {
   "cell_type": "code",
   "execution_count": null,
   "metadata": {},
   "outputs": [],
   "source": [
    "df4.isna().sum()"
   ]
  },
  {
   "cell_type": "markdown",
   "metadata": {},
   "source": [
    "### Trying to Group \"IntakeInternalStatus\""
   ]
  },
  {
   "cell_type": "code",
   "execution_count": null,
   "metadata": {},
   "outputs": [],
   "source": [
    "df4.groupby('IntakeInternalStatus').count()"
   ]
  },
  {
   "cell_type": "code",
   "execution_count": null,
   "metadata": {},
   "outputs": [],
   "source": [
    "# df5.groupby(\"IntakeInternalStatus\").count()\n",
    "# df5.IntakeInternalStatus.value_counts().to_dict()\n",
    "\n",
    "df4['IntakeStatus'] = \"Sick\""
   ]
  },
  {
   "cell_type": "code",
   "execution_count": null,
   "metadata": {},
   "outputs": [],
   "source": [
    "# Group all AGG together\n",
    "df4.loc[df4[\"IntakeInternalStatus\"].str.contains(\"AGG\"), \"IntakeStatus\"] = \"Aggressive\""
   ]
  },
  {
   "cell_type": "code",
   "execution_count": null,
   "metadata": {},
   "outputs": [],
   "source": [
    "# Group all Normal together\n",
    "df4.loc[df4[\"IntakeInternalStatus\"].str.contains(\"NORMAL\"), \"IntakeStatus\"] = \"Normal\""
   ]
  },
  {
   "cell_type": "code",
   "execution_count": null,
   "metadata": {},
   "outputs": [],
   "source": [
    "df4.loc[df4[\"IntakeInternalStatus\"] == \"NORMAL\"]"
   ]
  },
  {
   "cell_type": "code",
   "execution_count": null,
   "metadata": {},
   "outputs": [],
   "source": [
    "# Add these to Aggresive\n",
    "df4.loc[df4[\"IntakeInternalStatus\"].str.contains(\"TERITORIAL\"), \"IntakeStatus\"] = \"Aggressive\"\n",
    "df4.loc[df4[\"IntakeInternalStatus\"].str.contains(\"FERAL\"), \"IntakeStatus\"] = \"Aggressive\"\n",
    "df4.loc[df4[\"IntakeInternalStatus\"].str.contains(\"FEARFUL\"), \"IntakeStatus\"] = \"Aggressive\"\n",
    "\n",
    "# Group these to Pregnant\n",
    "df4.loc[df4[\"IntakeInternalStatus\"].str.contains(\"NURSING\"), \"IntakeStatus\"] = \"Pregnant\"\n",
    "df4.loc[df4[\"IntakeInternalStatus\"].str.contains(\"PREGNANT\"), \"IntakeStatus\"] = \"Pregnant\"\n",
    "\n",
    "# Group these to Other\n",
    "df4.loc[df4[\"IntakeInternalStatus\"].str.contains(\"AGED\"), \"IntakeStatus\"] = \"Other\"\n",
    "df4.loc[df4[\"IntakeInternalStatus\"].str.contains(\"DEAD\"), \"IntakeStatus\"] = \"Other\"\n",
    "df4.loc[df4[\"IntakeInternalStatus\"].str.contains(\"OTHER\"), \"IntakeStatus\"] = \"Other\"\n",
    "df4.loc[df4[\"IntakeInternalStatus\"].str.contains(\"OBESE\"), \"IntakeStatus\"] = \"Other\"\n",
    "\n",
    " \n",
    "\n",
    "\n"
   ]
  },
  {
   "cell_type": "code",
   "execution_count": null,
   "metadata": {},
   "outputs": [],
   "source": [
    "df4.groupby('IntakeStatus').count()"
   ]
  },
  {
   "cell_type": "code",
   "execution_count": null,
   "metadata": {},
   "outputs": [],
   "source": [
    "df4.head()"
   ]
  },
  {
   "cell_type": "markdown",
   "metadata": {},
   "source": [
    "#### Handling Color - Option 1 (Grouping colors)\n",
    "* How does option1 effect RF/LogReg models?\n"
   ]
  },
  {
   "cell_type": "code",
   "execution_count": null,
   "metadata": {},
   "outputs": [],
   "source": [
    "# # How many unique color combinations?  - 333\n",
    "# color_counts = df4['Color'].value_counts()\n",
    "# # len(color_counts)\n",
    "# print(df4['Color'].nunique())\n",
    "# color_counts.head(20)"
   ]
  },
  {
   "cell_type": "code",
   "execution_count": null,
   "metadata": {},
   "outputs": [],
   "source": [
    "# # # Handling \"Color\" Option 1\n",
    "# color_others = set(color_counts[color_counts < 1200].index)\n",
    "# df4['Top_colors'] = df4['Color'].replace(list(color_others), 'Others')\n",
    "# print(df4['Top_colors'].nunique())"
   ]
  },
  {
   "cell_type": "code",
   "execution_count": null,
   "metadata": {},
   "outputs": [],
   "source": [
    "# # Add new column called Color_new and set to Color\n",
    "# df5 = df4.copy()\n",
    "# df5[\"Color_new\"]=df4[\"Color\"]\n",
    "# df5.head()\n",
    "# df5.loc[320:330, :]"
   ]
  },
  {
   "cell_type": "code",
   "execution_count": null,
   "metadata": {},
   "outputs": [],
   "source": [
    "# Can't do this code here.  It takes COMBI tan/white and changes that to tan!  WRONG!!  I only want tan column\n",
    "\n",
    "\n",
    "# Find rows containing colors: Gold/Yellow/Tan/Fawn/Buff/Apricot/Cream and set all to YELLOW\n",
    "# df5.loc[df5[\"Color\"].str.contains('Gold|Yellow|Tan|Fawn|Buff|Apricot|Cream'), \"Color_new\"] = \"Tan\"\n",
    "# df5.loc[264:267, :]"
   ]
  },
  {
   "cell_type": "markdown",
   "metadata": {},
   "source": [
    "#### Creating age categories\n",
    "* Baby: <=6months\n",
    "* Young: 7months-24 months\n",
    "* Adult: 2 years-7years\n",
    "* Senior: 7+"
   ]
  },
  {
   "cell_type": "code",
   "execution_count": null,
   "metadata": {},
   "outputs": [],
   "source": [
    "df4['Pet_age_category'] = pd.cut(x=df4['AgeInMonths'], bins=[0, 6, 24, 84,240], labels=['Baby', 'Young', 'Adult', 'Senior'])"
   ]
  },
  {
   "cell_type": "code",
   "execution_count": null,
   "metadata": {},
   "outputs": [],
   "source": [
    "df4.head(10)\n"
   ]
  },
  {
   "cell_type": "code",
   "execution_count": null,
   "metadata": {},
   "outputs": [],
   "source": [
    "# Drop AgeInMonths column since you have Pet_age_category\n"
   ]
  },
  {
   "cell_type": "markdown",
   "metadata": {},
   "source": [
    "## Changing to Binary Outcome - Take the dog or Don't take the dog?\n",
    "* Positive Outcome is Adoption - Take in the dog\n",
    "* Negative Outcome is a combination of Transfer, Euthanized and Death categories - Don't take in the dog"
   ]
  },
  {
   "cell_type": "code",
   "execution_count": null,
   "metadata": {},
   "outputs": [],
   "source": [
    "# Create new BINARY_OUTCOME column and set to 0\n",
    "\n",
    "df4[\"BinaryOutcome\"]=\"Deny\"\n",
    "df4.head()"
   ]
  },
  {
   "cell_type": "code",
   "execution_count": null,
   "metadata": {},
   "outputs": [],
   "source": [
    "# Find rows containing word \"Adoption\" and set to 1 (for Positive Outcome)\n",
    "# All other rows will be 0 (for Negative Outcome)\n",
    "\n",
    "df4.loc[df4[\"OutcomeType\"].str.contains(\"ADOPTION\"), \"BinaryOutcome\"] = \"Take\""
   ]
  },
  {
   "cell_type": "code",
   "execution_count": null,
   "metadata": {},
   "outputs": [],
   "source": [
    "df4.head()"
   ]
  },
  {
   "cell_type": "code",
   "execution_count": null,
   "metadata": {},
   "outputs": [],
   "source": [
    "# Split gender because ReproductiveStatusAtIntake is similar to Gender\n",
    "df4[\"Sex\"] = \"Male\""
   ]
  },
  {
   "cell_type": "code",
   "execution_count": null,
   "metadata": {},
   "outputs": [],
   "source": [
    "df4.head()"
   ]
  },
  {
   "cell_type": "code",
   "execution_count": null,
   "metadata": {},
   "outputs": [],
   "source": [
    "# Find rows containing word \"FEMALE\" and set to Female\n",
    "df4.loc[df4[\"Gender\"].str.contains(\"FEMALE\"), \"Sex\"] = \"Female\""
   ]
  },
  {
   "cell_type": "code",
   "execution_count": null,
   "metadata": {},
   "outputs": [],
   "source": [
    "df4.head()"
   ]
  },
  {
   "cell_type": "code",
   "execution_count": null,
   "metadata": {},
   "outputs": [],
   "source": [
    "# df3.to_csv('LouisvilleClean.csv')"
   ]
  },
  {
   "cell_type": "code",
   "execution_count": null,
   "metadata": {},
   "outputs": [],
   "source": [
    "df4.columns"
   ]
  },
  {
   "cell_type": "code",
   "execution_count": null,
   "metadata": {},
   "outputs": [],
   "source": [
    "# Final dropping of duplicated columns\n",
    "df5 = df4.drop(columns=[ 'Gender', 'IntakeInternalStatus','IntakeAsilomarStatus','ReproductiveStatusAtIntake','OutcomeType','AgeInMonths','DurationInShelter'])"
   ]
  },
  {
   "cell_type": "markdown",
   "metadata": {},
   "source": [
    "## Still get_dummies"
   ]
  },
  {
   "cell_type": "code",
   "execution_count": null,
   "metadata": {},
   "outputs": [],
   "source": [
    "df5.head(15)"
   ]
  },
  {
   "cell_type": "code",
   "execution_count": null,
   "metadata": {},
   "outputs": [],
   "source": [
    "df6 = pd.get_dummies(df5[['PrimaryColor',\n",
    "                          'PrimaryBreed', \n",
    "                          'IntakeStatus', \n",
    "                          'BreedCategory',\n",
    "                          'Pet_age_category',\n",
    "                          'BinaryOutcome',\n",
    "                          \"Sex\"]], drop_first=True)"
   ]
  },
  {
   "cell_type": "code",
   "execution_count": null,
   "metadata": {},
   "outputs": [],
   "source": [
    "df6.columns\n"
   ]
  },
  {
   "cell_type": "code",
   "execution_count": null,
   "metadata": {},
   "outputs": [],
   "source": [
    "# Define X and y\n",
    "X = df6.drop(['BinaryOutcome_Take'], axis=\"columns\")\n",
    "y = df6[['BinaryOutcome_Take']]"
   ]
  },
  {
   "cell_type": "code",
   "execution_count": null,
   "metadata": {},
   "outputs": [],
   "source": [
    "X.shape"
   ]
  },
  {
   "cell_type": "code",
   "execution_count": null,
   "metadata": {},
   "outputs": [],
   "source": [
    "y.shape"
   ]
  },
  {
   "cell_type": "markdown",
   "metadata": {},
   "source": [
    "## Random Forest model\n"
   ]
  },
  {
   "cell_type": "code",
   "execution_count": null,
   "metadata": {},
   "outputs": [],
   "source": [
    "# Split\n",
    "from sklearn.model_selection import train_test_split\n",
    "X_train, X_test, y_train, y_test = train_test_split(X, y, random_state=42)"
   ]
  },
  {
   "cell_type": "code",
   "execution_count": null,
   "metadata": {},
   "outputs": [],
   "source": [
    "# Import, initialize, fit and predict\n",
    "from sklearn.ensemble import RandomForestClassifier\n",
    "rf_model = RandomForestClassifier(n_estimators = 100, random_state = 42) \n",
    "rf_model.fit(X_train, y_train)"
   ]
  },
  {
   "cell_type": "code",
   "execution_count": null,
   "metadata": {},
   "outputs": [],
   "source": [
    "predict_y_test = rf_model.predict(X_test)"
   ]
  },
  {
   "cell_type": "code",
   "execution_count": null,
   "metadata": {},
   "outputs": [],
   "source": [
    "# Validate - run accuracy score\n",
    "from sklearn import metrics\n",
    "print(\"Accuracy score: \", metrics.accuracy_score(y_test, predict_y_test))"
   ]
  },
  {
   "cell_type": "code",
   "execution_count": null,
   "metadata": {},
   "outputs": [],
   "source": [
    "from rfpimp import *"
   ]
  },
  {
   "cell_type": "code",
   "execution_count": null,
   "metadata": {},
   "outputs": [],
   "source": [
    "# total number of nodes in all decision trees of the forest and the height (in nodes) of the typical tree.\n",
    "# The tree height matters because that is the path taken by the RF prediction mechanism and so tree height effects prediction speed.\n",
    "print(f\"{rfnnodes(rf_model):,d} tree nodes and {np.median(rfmaxdepths(rf_model))} median tree height\")"
   ]
  },
  {
   "cell_type": "code",
   "execution_count": null,
   "metadata": {},
   "outputs": [],
   "source": [
    "# RF Feature importance?\n",
    "feature_list = list(X.columns)\n",
    "feature_importance = pd.Series(rf_model.feature_importances_, index=feature_list).sort_values(ascending=False) \n",
    "print(feature_importance[0:10])"
   ]
  },
  {
   "cell_type": "code",
   "execution_count": null,
   "metadata": {},
   "outputs": [],
   "source": [
    "# Validate with cross validation\n",
    "\n",
    "from sklearn.model_selection import cross_val_score\n",
    "\n",
    "scores = cross_val_score(rf_model, X, y, cv=10, scoring=\"accuracy\")\n",
    "print(scores)"
   ]
  },
  {
   "cell_type": "code",
   "execution_count": null,
   "metadata": {},
   "outputs": [],
   "source": [
    "scores.mean()"
   ]
  },
  {
   "cell_type": "markdown",
   "metadata": {},
   "source": [
    "## SVM\n"
   ]
  },
  {
   "cell_type": "code",
   "execution_count": null,
   "metadata": {},
   "outputs": [],
   "source": [
    "from sklearn.model_selection import train_test_split\n",
    "X_train, X_test, y_train, y_test = train_test_split(X,y,random_state=42)  \n",
    "\n",
    "target = df6[\"BinaryOutcome_Take\"]\n",
    "\n"
   ]
  },
  {
   "cell_type": "code",
   "execution_count": null,
   "metadata": {},
   "outputs": [],
   "source": [
    "from sklearn.svm import SVC \n",
    "svm_model = SVC(kernel='rbf')\n",
    "svm_model.fit(X_train, y_train)"
   ]
  },
  {
   "cell_type": "code",
   "execution_count": null,
   "metadata": {},
   "outputs": [],
   "source": [
    "# SVC(C=1.0, cache_size=200, class_weight=None, coef0=0.0,\n",
    "#   decision_function_shape='ovr', degree=3, gamma='auto', kernel='rbf',\n",
    "#   max_iter=-1, probability=False, random_state=None, shrinking=True,\n",
    "#   tol=0.001, verbose=False)"
   ]
  },
  {
   "cell_type": "code",
   "execution_count": null,
   "metadata": {},
   "outputs": [],
   "source": [
    "# Model Accuracy\n",
    "print('Test Acc: %.3f' % svm_model.score(X_test, y_test))"
   ]
  },
  {
   "cell_type": "code",
   "execution_count": null,
   "metadata": {},
   "outputs": [],
   "source": [
    " # Calculate classification report\n",
    "from sklearn.metrics import classification_report\n",
    "predictions = svm_model.predict(X_test)\n",
    "print(classification_report(y_test, predictions))"
   ]
  },
  {
   "cell_type": "code",
   "execution_count": null,
   "metadata": {},
   "outputs": [],
   "source": []
  }
 ],
 "metadata": {
  "kernelspec": {
   "display_name": "Python 3",
   "language": "python",
   "name": "python3"
  },
  "language_info": {
   "codemirror_mode": {
    "name": "ipython",
    "version": 3
   },
   "file_extension": ".py",
   "mimetype": "text/x-python",
   "name": "python",
   "nbconvert_exporter": "python",
   "pygments_lexer": "ipython3",
   "version": "3.7.6"
  }
 },
 "nbformat": 4,
 "nbformat_minor": 2
}
